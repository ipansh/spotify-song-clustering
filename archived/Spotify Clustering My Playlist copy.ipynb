{
 "cells": [
  {
   "cell_type": "code",
   "execution_count": 8,
   "metadata": {},
   "outputs": [],
   "source": [
    "import requests\n",
    "import spotipy\n",
    "from spotipy.oauth2 import SpotifyClientCredentials\n",
    "\n",
    "import pandas as pd\n",
    "import numpy as np"
   ]
  },
  {
   "cell_type": "code",
   "execution_count": 1,
   "metadata": {},
   "outputs": [],
   "source": [
    "PLAYLIST_ID = '3rOYrpv2z54RROlcRnBZZp'"
   ]
  },
  {
   "cell_type": "code",
   "execution_count": 3,
   "metadata": {},
   "outputs": [],
   "source": [
    "# API Login\n",
    "client_credentials_manager = SpotifyClientCredentials(client_id=CLIENT_ID, client_secret=CLIENT_SECRET)\n",
    "sp = spotipy.Spotify(client_credentials_manager=client_credentials_manager) #spotify object to access API"
   ]
  },
  {
   "cell_type": "code",
   "execution_count": 148,
   "metadata": {},
   "outputs": [],
   "source": [
    "#get_playlist_tracks('spotify', playlist_id = PLAYLIST_ID)"
   ]
  },
  {
   "cell_type": "code",
   "execution_count": 4,
   "metadata": {},
   "outputs": [],
   "source": [
    "# Getting tracks of the playlist\n",
    "tracks = sp.user_playlist_tracks(user = 'spotify', playlist_id = PLAYLIST_ID, limit = 100)"
   ]
  },
  {
   "cell_type": "code",
   "execution_count": 70,
   "metadata": {},
   "outputs": [],
   "source": [
    "tracks2 = sp.user_playlist_tracks(user = 'spotify', playlist_id = PLAYLIST_ID, offset = 100, limit = 100)"
   ]
  },
  {
   "cell_type": "code",
   "execution_count": 74,
   "metadata": {},
   "outputs": [],
   "source": [
    "tracks_uri_list = [x['track']['uri'] for x in tracks['items']]"
   ]
  },
  {
   "cell_type": "code",
   "execution_count": 75,
   "metadata": {},
   "outputs": [],
   "source": [
    "tracks_uri_list2 = [x['track']['uri'] for x in tracks2['items']]"
   ]
  },
  {
   "cell_type": "code",
   "execution_count": 130,
   "metadata": {},
   "outputs": [],
   "source": [
    "row_track_name_df = pd.DataFrame(columns = ['track_uri','track_name'])"
   ]
  },
  {
   "cell_type": "code",
   "execution_count": 132,
   "metadata": {},
   "outputs": [],
   "source": [
    "track_name_df.loc[0] = [1,2]"
   ]
  },
  {
   "cell_type": "code",
   "execution_count": 135,
   "metadata": {},
   "outputs": [],
   "source": []
  },
  {
   "cell_type": "code",
   "execution_count": 136,
   "metadata": {},
   "outputs": [
    {
     "data": {
      "text/html": [
       "<div>\n",
       "<style scoped>\n",
       "    .dataframe tbody tr th:only-of-type {\n",
       "        vertical-align: middle;\n",
       "    }\n",
       "\n",
       "    .dataframe tbody tr th {\n",
       "        vertical-align: top;\n",
       "    }\n",
       "\n",
       "    .dataframe thead th {\n",
       "        text-align: right;\n",
       "    }\n",
       "</style>\n",
       "<table border=\"1\" class=\"dataframe\">\n",
       "  <thead>\n",
       "    <tr style=\"text-align: right;\">\n",
       "      <th></th>\n",
       "      <th>track_uri</th>\n",
       "      <th>track_name</th>\n",
       "    </tr>\n",
       "  </thead>\n",
       "  <tbody>\n",
       "  </tbody>\n",
       "</table>\n",
       "</div>"
      ],
      "text/plain": [
       "Empty DataFrame\n",
       "Columns: [track_uri, track_name]\n",
       "Index: []"
      ]
     },
     "execution_count": 136,
     "metadata": {},
     "output_type": "execute_result"
    }
   ],
   "source": [
    "track_name_df"
   ]
  },
  {
   "cell_type": "code",
   "execution_count": 160,
   "metadata": {},
   "outputs": [],
   "source": [
    "track_name_df = pd.DataFrame(columns = ['track_uri','track_name'])\n",
    "\n",
    "for x in tracks['items']:\n",
    "    row_track_name_df = pd.DataFrame(columns = ['track_uri','track_name'])\n",
    "    row_track_name_df.loc[0] = [x['track']['uri'], x['track']['name']]\n",
    "    track_name_df = track_name_df.append(row_track_name_df)\n",
    "\n",
    "for x in tracks2['items']:\n",
    "    row_track_name_df = pd.DataFrame(columns = ['track_uri','track_name'])\n",
    "    row_track_name_df.loc[0] = [x['track']['uri'], x['track']['name']]\n",
    "    track_name_df = track_name_df.append(row_track_name_df)"
   ]
  },
  {
   "cell_type": "code",
   "execution_count": 161,
   "metadata": {},
   "outputs": [
    {
     "data": {
      "text/html": [
       "<div>\n",
       "<style scoped>\n",
       "    .dataframe tbody tr th:only-of-type {\n",
       "        vertical-align: middle;\n",
       "    }\n",
       "\n",
       "    .dataframe tbody tr th {\n",
       "        vertical-align: top;\n",
       "    }\n",
       "\n",
       "    .dataframe thead th {\n",
       "        text-align: right;\n",
       "    }\n",
       "</style>\n",
       "<table border=\"1\" class=\"dataframe\">\n",
       "  <thead>\n",
       "    <tr style=\"text-align: right;\">\n",
       "      <th></th>\n",
       "      <th>track_uri</th>\n",
       "      <th>track_name</th>\n",
       "    </tr>\n",
       "  </thead>\n",
       "  <tbody>\n",
       "    <tr>\n",
       "      <th>0</th>\n",
       "      <td>spotify:track:5Q0uilamiVtrGSeqVPN9Dn</td>\n",
       "      <td>Freedom</td>\n",
       "    </tr>\n",
       "    <tr>\n",
       "      <th>0</th>\n",
       "      <td>spotify:track:0pjCsB0XNSyqM9UazlTODC</td>\n",
       "      <td>Jazz Suite No. 2: VI. Waltz 2</td>\n",
       "    </tr>\n",
       "    <tr>\n",
       "      <th>0</th>\n",
       "      <td>spotify:track:4Fook83HYnB77YeERLExXB</td>\n",
       "      <td>Unchained Melody</td>\n",
       "    </tr>\n",
       "    <tr>\n",
       "      <th>0</th>\n",
       "      <td>spotify:track:6s9LhJVqxnTjmUJHOeawnU</td>\n",
       "      <td>City Of Stars - From \"La La Land\" Soundtrack</td>\n",
       "    </tr>\n",
       "    <tr>\n",
       "      <th>0</th>\n",
       "      <td>spotify:track:6qlcjGJPTZEwR8nf2nSe9C</td>\n",
       "      <td>Wildflower</td>\n",
       "    </tr>\n",
       "    <tr>\n",
       "      <th>...</th>\n",
       "      <td>...</td>\n",
       "      <td>...</td>\n",
       "    </tr>\n",
       "    <tr>\n",
       "      <th>0</th>\n",
       "      <td>spotify:track:6O5GH78mvqGHGatJCI5nVM</td>\n",
       "      <td>Elenore</td>\n",
       "    </tr>\n",
       "    <tr>\n",
       "      <th>0</th>\n",
       "      <td>spotify:track:04SU9LZQel0dTMjJJtBmkK</td>\n",
       "      <td>The First Cut Is The Deepest</td>\n",
       "    </tr>\n",
       "    <tr>\n",
       "      <th>0</th>\n",
       "      <td>spotify:track:2NPgLm7I9ltBDXE4oigXi6</td>\n",
       "      <td>Shiver - Demo</td>\n",
       "    </tr>\n",
       "    <tr>\n",
       "      <th>0</th>\n",
       "      <td>spotify:track:4PNn9pMYbErIXMHmE0w4a2</td>\n",
       "      <td>This Love - Demo</td>\n",
       "    </tr>\n",
       "    <tr>\n",
       "      <th>0</th>\n",
       "      <td>spotify:track:47GAwoC7QtBMVqrixfLVUo</td>\n",
       "      <td>Not Coming Home</td>\n",
       "    </tr>\n",
       "  </tbody>\n",
       "</table>\n",
       "<p>200 rows × 2 columns</p>\n",
       "</div>"
      ],
      "text/plain": [
       "                               track_uri  \\\n",
       "0   spotify:track:5Q0uilamiVtrGSeqVPN9Dn   \n",
       "0   spotify:track:0pjCsB0XNSyqM9UazlTODC   \n",
       "0   spotify:track:4Fook83HYnB77YeERLExXB   \n",
       "0   spotify:track:6s9LhJVqxnTjmUJHOeawnU   \n",
       "0   spotify:track:6qlcjGJPTZEwR8nf2nSe9C   \n",
       "..                                   ...   \n",
       "0   spotify:track:6O5GH78mvqGHGatJCI5nVM   \n",
       "0   spotify:track:04SU9LZQel0dTMjJJtBmkK   \n",
       "0   spotify:track:2NPgLm7I9ltBDXE4oigXi6   \n",
       "0   spotify:track:4PNn9pMYbErIXMHmE0w4a2   \n",
       "0   spotify:track:47GAwoC7QtBMVqrixfLVUo   \n",
       "\n",
       "                                      track_name  \n",
       "0                                        Freedom  \n",
       "0                  Jazz Suite No. 2: VI. Waltz 2  \n",
       "0                               Unchained Melody  \n",
       "0   City Of Stars - From \"La La Land\" Soundtrack  \n",
       "0                                     Wildflower  \n",
       "..                                           ...  \n",
       "0                                        Elenore  \n",
       "0                   The First Cut Is The Deepest  \n",
       "0                                  Shiver - Demo  \n",
       "0                               This Love - Demo  \n",
       "0                                Not Coming Home  \n",
       "\n",
       "[200 rows x 2 columns]"
      ]
     },
     "execution_count": 161,
     "metadata": {},
     "output_type": "execute_result"
    }
   ],
   "source": [
    "track_name_df"
   ]
  },
  {
   "cell_type": "code",
   "execution_count": 76,
   "metadata": {},
   "outputs": [],
   "source": [
    "all_uri_list = tracks_uri_list+tracks_uri_list2"
   ]
  },
  {
   "cell_type": "code",
   "execution_count": 79,
   "metadata": {},
   "outputs": [
    {
     "data": {
      "text/plain": [
       "200"
      ]
     },
     "execution_count": 79,
     "metadata": {},
     "output_type": "execute_result"
    }
   ],
   "source": [
    "len(set(all_uri_list))"
   ]
  },
  {
   "cell_type": "code",
   "execution_count": 83,
   "metadata": {},
   "outputs": [],
   "source": [
    "#tracks_uri_list = [x['track']['uri'] for x in tracks['items']]\n",
    "\n",
    "# Getting features of tracks\n",
    "features = []   \n",
    "for i in all_uri_list:\n",
    "    features = features + sp.audio_features(i)"
   ]
  },
  {
   "cell_type": "code",
   "execution_count": 84,
   "metadata": {},
   "outputs": [
    {
     "data": {
      "text/html": [
       "<div>\n",
       "<style scoped>\n",
       "    .dataframe tbody tr th:only-of-type {\n",
       "        vertical-align: middle;\n",
       "    }\n",
       "\n",
       "    .dataframe tbody tr th {\n",
       "        vertical-align: top;\n",
       "    }\n",
       "\n",
       "    .dataframe thead th {\n",
       "        text-align: right;\n",
       "    }\n",
       "</style>\n",
       "<table border=\"1\" class=\"dataframe\">\n",
       "  <thead>\n",
       "    <tr style=\"text-align: right;\">\n",
       "      <th></th>\n",
       "      <th>danceability</th>\n",
       "      <th>energy</th>\n",
       "      <th>key</th>\n",
       "      <th>loudness</th>\n",
       "      <th>mode</th>\n",
       "      <th>speechiness</th>\n",
       "      <th>acousticness</th>\n",
       "      <th>instrumentalness</th>\n",
       "      <th>liveness</th>\n",
       "      <th>valence</th>\n",
       "      <th>tempo</th>\n",
       "      <th>type</th>\n",
       "      <th>id</th>\n",
       "      <th>uri</th>\n",
       "      <th>track_href</th>\n",
       "      <th>analysis_url</th>\n",
       "      <th>duration_ms</th>\n",
       "      <th>time_signature</th>\n",
       "    </tr>\n",
       "  </thead>\n",
       "  <tbody>\n",
       "    <tr>\n",
       "      <th>0</th>\n",
       "      <td>0.619</td>\n",
       "      <td>0.362</td>\n",
       "      <td>1</td>\n",
       "      <td>-7.647</td>\n",
       "      <td>0</td>\n",
       "      <td>0.0264</td>\n",
       "      <td>0.5550</td>\n",
       "      <td>0.000001</td>\n",
       "      <td>0.1140</td>\n",
       "      <td>0.144</td>\n",
       "      <td>103.028</td>\n",
       "      <td>audio_features</td>\n",
       "      <td>5Q0uilamiVtrGSeqVPN9Dn</td>\n",
       "      <td>spotify:track:5Q0uilamiVtrGSeqVPN9Dn</td>\n",
       "      <td>https://api.spotify.com/v1/tracks/5Q0uilamiVtr...</td>\n",
       "      <td>https://api.spotify.com/v1/audio-analysis/5Q0u...</td>\n",
       "      <td>260884</td>\n",
       "      <td>4</td>\n",
       "    </tr>\n",
       "    <tr>\n",
       "      <th>1</th>\n",
       "      <td>0.322</td>\n",
       "      <td>0.184</td>\n",
       "      <td>0</td>\n",
       "      <td>-18.312</td>\n",
       "      <td>0</td>\n",
       "      <td>0.0338</td>\n",
       "      <td>0.9840</td>\n",
       "      <td>0.902000</td>\n",
       "      <td>0.0813</td>\n",
       "      <td>0.356</td>\n",
       "      <td>107.847</td>\n",
       "      <td>audio_features</td>\n",
       "      <td>0pjCsB0XNSyqM9UazlTODC</td>\n",
       "      <td>spotify:track:0pjCsB0XNSyqM9UazlTODC</td>\n",
       "      <td>https://api.spotify.com/v1/tracks/0pjCsB0XNSyq...</td>\n",
       "      <td>https://api.spotify.com/v1/audio-analysis/0pjC...</td>\n",
       "      <td>193600</td>\n",
       "      <td>4</td>\n",
       "    </tr>\n",
       "    <tr>\n",
       "      <th>2</th>\n",
       "      <td>0.422</td>\n",
       "      <td>0.262</td>\n",
       "      <td>2</td>\n",
       "      <td>-12.404</td>\n",
       "      <td>1</td>\n",
       "      <td>0.0309</td>\n",
       "      <td>0.8870</td>\n",
       "      <td>0.794000</td>\n",
       "      <td>0.1680</td>\n",
       "      <td>0.201</td>\n",
       "      <td>102.480</td>\n",
       "      <td>audio_features</td>\n",
       "      <td>4Fook83HYnB77YeERLExXB</td>\n",
       "      <td>spotify:track:4Fook83HYnB77YeERLExXB</td>\n",
       "      <td>https://api.spotify.com/v1/tracks/4Fook83HYnB7...</td>\n",
       "      <td>https://api.spotify.com/v1/audio-analysis/4Foo...</td>\n",
       "      <td>172773</td>\n",
       "      <td>3</td>\n",
       "    </tr>\n",
       "    <tr>\n",
       "      <th>3</th>\n",
       "      <td>0.454</td>\n",
       "      <td>0.117</td>\n",
       "      <td>2</td>\n",
       "      <td>-15.121</td>\n",
       "      <td>0</td>\n",
       "      <td>0.0354</td>\n",
       "      <td>0.9060</td>\n",
       "      <td>0.000000</td>\n",
       "      <td>0.0888</td>\n",
       "      <td>0.428</td>\n",
       "      <td>97.692</td>\n",
       "      <td>audio_features</td>\n",
       "      <td>6s9LhJVqxnTjmUJHOeawnU</td>\n",
       "      <td>spotify:track:6s9LhJVqxnTjmUJHOeawnU</td>\n",
       "      <td>https://api.spotify.com/v1/tracks/6s9LhJVqxnTj...</td>\n",
       "      <td>https://api.spotify.com/v1/audio-analysis/6s9L...</td>\n",
       "      <td>149707</td>\n",
       "      <td>4</td>\n",
       "    </tr>\n",
       "    <tr>\n",
       "      <th>4</th>\n",
       "      <td>0.644</td>\n",
       "      <td>0.768</td>\n",
       "      <td>6</td>\n",
       "      <td>-4.316</td>\n",
       "      <td>1</td>\n",
       "      <td>0.0455</td>\n",
       "      <td>0.1740</td>\n",
       "      <td>0.000000</td>\n",
       "      <td>0.4690</td>\n",
       "      <td>0.598</td>\n",
       "      <td>108.992</td>\n",
       "      <td>audio_features</td>\n",
       "      <td>6qlcjGJPTZEwR8nf2nSe9C</td>\n",
       "      <td>spotify:track:6qlcjGJPTZEwR8nf2nSe9C</td>\n",
       "      <td>https://api.spotify.com/v1/tracks/6qlcjGJPTZEw...</td>\n",
       "      <td>https://api.spotify.com/v1/audio-analysis/6qlc...</td>\n",
       "      <td>220536</td>\n",
       "      <td>4</td>\n",
       "    </tr>\n",
       "    <tr>\n",
       "      <th>...</th>\n",
       "      <td>...</td>\n",
       "      <td>...</td>\n",
       "      <td>...</td>\n",
       "      <td>...</td>\n",
       "      <td>...</td>\n",
       "      <td>...</td>\n",
       "      <td>...</td>\n",
       "      <td>...</td>\n",
       "      <td>...</td>\n",
       "      <td>...</td>\n",
       "      <td>...</td>\n",
       "      <td>...</td>\n",
       "      <td>...</td>\n",
       "      <td>...</td>\n",
       "      <td>...</td>\n",
       "      <td>...</td>\n",
       "      <td>...</td>\n",
       "      <td>...</td>\n",
       "    </tr>\n",
       "    <tr>\n",
       "      <th>195</th>\n",
       "      <td>0.627</td>\n",
       "      <td>0.666</td>\n",
       "      <td>4</td>\n",
       "      <td>-6.684</td>\n",
       "      <td>1</td>\n",
       "      <td>0.0378</td>\n",
       "      <td>0.6240</td>\n",
       "      <td>0.000039</td>\n",
       "      <td>0.2750</td>\n",
       "      <td>0.886</td>\n",
       "      <td>122.895</td>\n",
       "      <td>audio_features</td>\n",
       "      <td>6O5GH78mvqGHGatJCI5nVM</td>\n",
       "      <td>spotify:track:6O5GH78mvqGHGatJCI5nVM</td>\n",
       "      <td>https://api.spotify.com/v1/tracks/6O5GH78mvqGH...</td>\n",
       "      <td>https://api.spotify.com/v1/audio-analysis/6O5G...</td>\n",
       "      <td>150773</td>\n",
       "      <td>4</td>\n",
       "    </tr>\n",
       "    <tr>\n",
       "      <th>196</th>\n",
       "      <td>0.578</td>\n",
       "      <td>0.786</td>\n",
       "      <td>7</td>\n",
       "      <td>-6.549</td>\n",
       "      <td>1</td>\n",
       "      <td>0.0314</td>\n",
       "      <td>0.0953</td>\n",
       "      <td>0.003030</td>\n",
       "      <td>0.0683</td>\n",
       "      <td>0.697</td>\n",
       "      <td>96.326</td>\n",
       "      <td>audio_features</td>\n",
       "      <td>04SU9LZQel0dTMjJJtBmkK</td>\n",
       "      <td>spotify:track:04SU9LZQel0dTMjJJtBmkK</td>\n",
       "      <td>https://api.spotify.com/v1/tracks/04SU9LZQel0d...</td>\n",
       "      <td>https://api.spotify.com/v1/audio-analysis/04SU...</td>\n",
       "      <td>183133</td>\n",
       "      <td>4</td>\n",
       "    </tr>\n",
       "    <tr>\n",
       "      <th>197</th>\n",
       "      <td>0.762</td>\n",
       "      <td>0.613</td>\n",
       "      <td>4</td>\n",
       "      <td>-5.590</td>\n",
       "      <td>0</td>\n",
       "      <td>0.1320</td>\n",
       "      <td>0.0134</td>\n",
       "      <td>0.000008</td>\n",
       "      <td>0.0910</td>\n",
       "      <td>0.704</td>\n",
       "      <td>171.906</td>\n",
       "      <td>audio_features</td>\n",
       "      <td>2NPgLm7I9ltBDXE4oigXi6</td>\n",
       "      <td>spotify:track:2NPgLm7I9ltBDXE4oigXi6</td>\n",
       "      <td>https://api.spotify.com/v1/tracks/2NPgLm7I9ltB...</td>\n",
       "      <td>https://api.spotify.com/v1/audio-analysis/2NPg...</td>\n",
       "      <td>188773</td>\n",
       "      <td>4</td>\n",
       "    </tr>\n",
       "    <tr>\n",
       "      <th>198</th>\n",
       "      <td>0.686</td>\n",
       "      <td>0.576</td>\n",
       "      <td>0</td>\n",
       "      <td>-6.775</td>\n",
       "      <td>0</td>\n",
       "      <td>0.0376</td>\n",
       "      <td>0.1820</td>\n",
       "      <td>0.000000</td>\n",
       "      <td>0.1060</td>\n",
       "      <td>0.642</td>\n",
       "      <td>95.940</td>\n",
       "      <td>audio_features</td>\n",
       "      <td>4PNn9pMYbErIXMHmE0w4a2</td>\n",
       "      <td>spotify:track:4PNn9pMYbErIXMHmE0w4a2</td>\n",
       "      <td>https://api.spotify.com/v1/tracks/4PNn9pMYbErI...</td>\n",
       "      <td>https://api.spotify.com/v1/audio-analysis/4PNn...</td>\n",
       "      <td>201867</td>\n",
       "      <td>4</td>\n",
       "    </tr>\n",
       "    <tr>\n",
       "      <th>199</th>\n",
       "      <td>0.667</td>\n",
       "      <td>0.921</td>\n",
       "      <td>1</td>\n",
       "      <td>-5.223</td>\n",
       "      <td>0</td>\n",
       "      <td>0.0909</td>\n",
       "      <td>0.1230</td>\n",
       "      <td>0.000007</td>\n",
       "      <td>0.9820</td>\n",
       "      <td>0.378</td>\n",
       "      <td>120.040</td>\n",
       "      <td>audio_features</td>\n",
       "      <td>47GAwoC7QtBMVqrixfLVUo</td>\n",
       "      <td>spotify:track:47GAwoC7QtBMVqrixfLVUo</td>\n",
       "      <td>https://api.spotify.com/v1/tracks/47GAwoC7QtBM...</td>\n",
       "      <td>https://api.spotify.com/v1/audio-analysis/47GA...</td>\n",
       "      <td>261227</td>\n",
       "      <td>4</td>\n",
       "    </tr>\n",
       "  </tbody>\n",
       "</table>\n",
       "<p>200 rows × 18 columns</p>\n",
       "</div>"
      ],
      "text/plain": [
       "     danceability  energy  key  loudness  mode  speechiness  acousticness  \\\n",
       "0           0.619   0.362    1    -7.647     0       0.0264        0.5550   \n",
       "1           0.322   0.184    0   -18.312     0       0.0338        0.9840   \n",
       "2           0.422   0.262    2   -12.404     1       0.0309        0.8870   \n",
       "3           0.454   0.117    2   -15.121     0       0.0354        0.9060   \n",
       "4           0.644   0.768    6    -4.316     1       0.0455        0.1740   \n",
       "..            ...     ...  ...       ...   ...          ...           ...   \n",
       "195         0.627   0.666    4    -6.684     1       0.0378        0.6240   \n",
       "196         0.578   0.786    7    -6.549     1       0.0314        0.0953   \n",
       "197         0.762   0.613    4    -5.590     0       0.1320        0.0134   \n",
       "198         0.686   0.576    0    -6.775     0       0.0376        0.1820   \n",
       "199         0.667   0.921    1    -5.223     0       0.0909        0.1230   \n",
       "\n",
       "     instrumentalness  liveness  valence    tempo            type  \\\n",
       "0            0.000001    0.1140    0.144  103.028  audio_features   \n",
       "1            0.902000    0.0813    0.356  107.847  audio_features   \n",
       "2            0.794000    0.1680    0.201  102.480  audio_features   \n",
       "3            0.000000    0.0888    0.428   97.692  audio_features   \n",
       "4            0.000000    0.4690    0.598  108.992  audio_features   \n",
       "..                ...       ...      ...      ...             ...   \n",
       "195          0.000039    0.2750    0.886  122.895  audio_features   \n",
       "196          0.003030    0.0683    0.697   96.326  audio_features   \n",
       "197          0.000008    0.0910    0.704  171.906  audio_features   \n",
       "198          0.000000    0.1060    0.642   95.940  audio_features   \n",
       "199          0.000007    0.9820    0.378  120.040  audio_features   \n",
       "\n",
       "                         id                                   uri  \\\n",
       "0    5Q0uilamiVtrGSeqVPN9Dn  spotify:track:5Q0uilamiVtrGSeqVPN9Dn   \n",
       "1    0pjCsB0XNSyqM9UazlTODC  spotify:track:0pjCsB0XNSyqM9UazlTODC   \n",
       "2    4Fook83HYnB77YeERLExXB  spotify:track:4Fook83HYnB77YeERLExXB   \n",
       "3    6s9LhJVqxnTjmUJHOeawnU  spotify:track:6s9LhJVqxnTjmUJHOeawnU   \n",
       "4    6qlcjGJPTZEwR8nf2nSe9C  spotify:track:6qlcjGJPTZEwR8nf2nSe9C   \n",
       "..                      ...                                   ...   \n",
       "195  6O5GH78mvqGHGatJCI5nVM  spotify:track:6O5GH78mvqGHGatJCI5nVM   \n",
       "196  04SU9LZQel0dTMjJJtBmkK  spotify:track:04SU9LZQel0dTMjJJtBmkK   \n",
       "197  2NPgLm7I9ltBDXE4oigXi6  spotify:track:2NPgLm7I9ltBDXE4oigXi6   \n",
       "198  4PNn9pMYbErIXMHmE0w4a2  spotify:track:4PNn9pMYbErIXMHmE0w4a2   \n",
       "199  47GAwoC7QtBMVqrixfLVUo  spotify:track:47GAwoC7QtBMVqrixfLVUo   \n",
       "\n",
       "                                            track_href  \\\n",
       "0    https://api.spotify.com/v1/tracks/5Q0uilamiVtr...   \n",
       "1    https://api.spotify.com/v1/tracks/0pjCsB0XNSyq...   \n",
       "2    https://api.spotify.com/v1/tracks/4Fook83HYnB7...   \n",
       "3    https://api.spotify.com/v1/tracks/6s9LhJVqxnTj...   \n",
       "4    https://api.spotify.com/v1/tracks/6qlcjGJPTZEw...   \n",
       "..                                                 ...   \n",
       "195  https://api.spotify.com/v1/tracks/6O5GH78mvqGH...   \n",
       "196  https://api.spotify.com/v1/tracks/04SU9LZQel0d...   \n",
       "197  https://api.spotify.com/v1/tracks/2NPgLm7I9ltB...   \n",
       "198  https://api.spotify.com/v1/tracks/4PNn9pMYbErI...   \n",
       "199  https://api.spotify.com/v1/tracks/47GAwoC7QtBM...   \n",
       "\n",
       "                                          analysis_url  duration_ms  \\\n",
       "0    https://api.spotify.com/v1/audio-analysis/5Q0u...       260884   \n",
       "1    https://api.spotify.com/v1/audio-analysis/0pjC...       193600   \n",
       "2    https://api.spotify.com/v1/audio-analysis/4Foo...       172773   \n",
       "3    https://api.spotify.com/v1/audio-analysis/6s9L...       149707   \n",
       "4    https://api.spotify.com/v1/audio-analysis/6qlc...       220536   \n",
       "..                                                 ...          ...   \n",
       "195  https://api.spotify.com/v1/audio-analysis/6O5G...       150773   \n",
       "196  https://api.spotify.com/v1/audio-analysis/04SU...       183133   \n",
       "197  https://api.spotify.com/v1/audio-analysis/2NPg...       188773   \n",
       "198  https://api.spotify.com/v1/audio-analysis/4PNn...       201867   \n",
       "199  https://api.spotify.com/v1/audio-analysis/47GA...       261227   \n",
       "\n",
       "     time_signature  \n",
       "0                 4  \n",
       "1                 4  \n",
       "2                 3  \n",
       "3                 4  \n",
       "4                 4  \n",
       "..              ...  \n",
       "195               4  \n",
       "196               4  \n",
       "197               4  \n",
       "198               4  \n",
       "199               4  \n",
       "\n",
       "[200 rows x 18 columns]"
      ]
     },
     "execution_count": 84,
     "metadata": {},
     "output_type": "execute_result"
    }
   ],
   "source": [
    "features_df = pd.DataFrame(features)\n",
    "features_df"
   ]
  },
  {
   "cell_type": "code",
   "execution_count": 164,
   "metadata": {},
   "outputs": [],
   "source": [
    "dataset = features_df.merge(track_name_df, left_on = 'uri', right_on = 'track_uri')[['danceability','energy','key','loudness','mode','speechiness','acousticness','instrumentalness','liveness','tempo','track_uri','track_name']]"
   ]
  },
  {
   "cell_type": "code",
   "execution_count": 165,
   "metadata": {},
   "outputs": [
    {
     "data": {
      "text/html": [
       "<div>\n",
       "<style scoped>\n",
       "    .dataframe tbody tr th:only-of-type {\n",
       "        vertical-align: middle;\n",
       "    }\n",
       "\n",
       "    .dataframe tbody tr th {\n",
       "        vertical-align: top;\n",
       "    }\n",
       "\n",
       "    .dataframe thead th {\n",
       "        text-align: right;\n",
       "    }\n",
       "</style>\n",
       "<table border=\"1\" class=\"dataframe\">\n",
       "  <thead>\n",
       "    <tr style=\"text-align: right;\">\n",
       "      <th></th>\n",
       "      <th>danceability</th>\n",
       "      <th>energy</th>\n",
       "      <th>key</th>\n",
       "      <th>loudness</th>\n",
       "      <th>mode</th>\n",
       "      <th>speechiness</th>\n",
       "      <th>acousticness</th>\n",
       "      <th>instrumentalness</th>\n",
       "      <th>liveness</th>\n",
       "      <th>tempo</th>\n",
       "      <th>track_uri</th>\n",
       "      <th>track_name</th>\n",
       "    </tr>\n",
       "  </thead>\n",
       "  <tbody>\n",
       "    <tr>\n",
       "      <th>0</th>\n",
       "      <td>0.619</td>\n",
       "      <td>0.362</td>\n",
       "      <td>1</td>\n",
       "      <td>-7.647</td>\n",
       "      <td>0</td>\n",
       "      <td>0.0264</td>\n",
       "      <td>0.5550</td>\n",
       "      <td>0.000001</td>\n",
       "      <td>0.1140</td>\n",
       "      <td>103.028</td>\n",
       "      <td>spotify:track:5Q0uilamiVtrGSeqVPN9Dn</td>\n",
       "      <td>Freedom</td>\n",
       "    </tr>\n",
       "    <tr>\n",
       "      <th>1</th>\n",
       "      <td>0.322</td>\n",
       "      <td>0.184</td>\n",
       "      <td>0</td>\n",
       "      <td>-18.312</td>\n",
       "      <td>0</td>\n",
       "      <td>0.0338</td>\n",
       "      <td>0.9840</td>\n",
       "      <td>0.902000</td>\n",
       "      <td>0.0813</td>\n",
       "      <td>107.847</td>\n",
       "      <td>spotify:track:0pjCsB0XNSyqM9UazlTODC</td>\n",
       "      <td>Jazz Suite No. 2: VI. Waltz 2</td>\n",
       "    </tr>\n",
       "    <tr>\n",
       "      <th>2</th>\n",
       "      <td>0.422</td>\n",
       "      <td>0.262</td>\n",
       "      <td>2</td>\n",
       "      <td>-12.404</td>\n",
       "      <td>1</td>\n",
       "      <td>0.0309</td>\n",
       "      <td>0.8870</td>\n",
       "      <td>0.794000</td>\n",
       "      <td>0.1680</td>\n",
       "      <td>102.480</td>\n",
       "      <td>spotify:track:4Fook83HYnB77YeERLExXB</td>\n",
       "      <td>Unchained Melody</td>\n",
       "    </tr>\n",
       "    <tr>\n",
       "      <th>3</th>\n",
       "      <td>0.454</td>\n",
       "      <td>0.117</td>\n",
       "      <td>2</td>\n",
       "      <td>-15.121</td>\n",
       "      <td>0</td>\n",
       "      <td>0.0354</td>\n",
       "      <td>0.9060</td>\n",
       "      <td>0.000000</td>\n",
       "      <td>0.0888</td>\n",
       "      <td>97.692</td>\n",
       "      <td>spotify:track:6s9LhJVqxnTjmUJHOeawnU</td>\n",
       "      <td>City Of Stars - From \"La La Land\" Soundtrack</td>\n",
       "    </tr>\n",
       "    <tr>\n",
       "      <th>4</th>\n",
       "      <td>0.644</td>\n",
       "      <td>0.768</td>\n",
       "      <td>6</td>\n",
       "      <td>-4.316</td>\n",
       "      <td>1</td>\n",
       "      <td>0.0455</td>\n",
       "      <td>0.1740</td>\n",
       "      <td>0.000000</td>\n",
       "      <td>0.4690</td>\n",
       "      <td>108.992</td>\n",
       "      <td>spotify:track:6qlcjGJPTZEwR8nf2nSe9C</td>\n",
       "      <td>Wildflower</td>\n",
       "    </tr>\n",
       "    <tr>\n",
       "      <th>...</th>\n",
       "      <td>...</td>\n",
       "      <td>...</td>\n",
       "      <td>...</td>\n",
       "      <td>...</td>\n",
       "      <td>...</td>\n",
       "      <td>...</td>\n",
       "      <td>...</td>\n",
       "      <td>...</td>\n",
       "      <td>...</td>\n",
       "      <td>...</td>\n",
       "      <td>...</td>\n",
       "      <td>...</td>\n",
       "    </tr>\n",
       "    <tr>\n",
       "      <th>195</th>\n",
       "      <td>0.627</td>\n",
       "      <td>0.666</td>\n",
       "      <td>4</td>\n",
       "      <td>-6.684</td>\n",
       "      <td>1</td>\n",
       "      <td>0.0378</td>\n",
       "      <td>0.6240</td>\n",
       "      <td>0.000039</td>\n",
       "      <td>0.2750</td>\n",
       "      <td>122.895</td>\n",
       "      <td>spotify:track:6O5GH78mvqGHGatJCI5nVM</td>\n",
       "      <td>Elenore</td>\n",
       "    </tr>\n",
       "    <tr>\n",
       "      <th>196</th>\n",
       "      <td>0.578</td>\n",
       "      <td>0.786</td>\n",
       "      <td>7</td>\n",
       "      <td>-6.549</td>\n",
       "      <td>1</td>\n",
       "      <td>0.0314</td>\n",
       "      <td>0.0953</td>\n",
       "      <td>0.003030</td>\n",
       "      <td>0.0683</td>\n",
       "      <td>96.326</td>\n",
       "      <td>spotify:track:04SU9LZQel0dTMjJJtBmkK</td>\n",
       "      <td>The First Cut Is The Deepest</td>\n",
       "    </tr>\n",
       "    <tr>\n",
       "      <th>197</th>\n",
       "      <td>0.762</td>\n",
       "      <td>0.613</td>\n",
       "      <td>4</td>\n",
       "      <td>-5.590</td>\n",
       "      <td>0</td>\n",
       "      <td>0.1320</td>\n",
       "      <td>0.0134</td>\n",
       "      <td>0.000008</td>\n",
       "      <td>0.0910</td>\n",
       "      <td>171.906</td>\n",
       "      <td>spotify:track:2NPgLm7I9ltBDXE4oigXi6</td>\n",
       "      <td>Shiver - Demo</td>\n",
       "    </tr>\n",
       "    <tr>\n",
       "      <th>198</th>\n",
       "      <td>0.686</td>\n",
       "      <td>0.576</td>\n",
       "      <td>0</td>\n",
       "      <td>-6.775</td>\n",
       "      <td>0</td>\n",
       "      <td>0.0376</td>\n",
       "      <td>0.1820</td>\n",
       "      <td>0.000000</td>\n",
       "      <td>0.1060</td>\n",
       "      <td>95.940</td>\n",
       "      <td>spotify:track:4PNn9pMYbErIXMHmE0w4a2</td>\n",
       "      <td>This Love - Demo</td>\n",
       "    </tr>\n",
       "    <tr>\n",
       "      <th>199</th>\n",
       "      <td>0.667</td>\n",
       "      <td>0.921</td>\n",
       "      <td>1</td>\n",
       "      <td>-5.223</td>\n",
       "      <td>0</td>\n",
       "      <td>0.0909</td>\n",
       "      <td>0.1230</td>\n",
       "      <td>0.000007</td>\n",
       "      <td>0.9820</td>\n",
       "      <td>120.040</td>\n",
       "      <td>spotify:track:47GAwoC7QtBMVqrixfLVUo</td>\n",
       "      <td>Not Coming Home</td>\n",
       "    </tr>\n",
       "  </tbody>\n",
       "</table>\n",
       "<p>200 rows × 12 columns</p>\n",
       "</div>"
      ],
      "text/plain": [
       "     danceability  energy  key  loudness  mode  speechiness  acousticness  \\\n",
       "0           0.619   0.362    1    -7.647     0       0.0264        0.5550   \n",
       "1           0.322   0.184    0   -18.312     0       0.0338        0.9840   \n",
       "2           0.422   0.262    2   -12.404     1       0.0309        0.8870   \n",
       "3           0.454   0.117    2   -15.121     0       0.0354        0.9060   \n",
       "4           0.644   0.768    6    -4.316     1       0.0455        0.1740   \n",
       "..            ...     ...  ...       ...   ...          ...           ...   \n",
       "195         0.627   0.666    4    -6.684     1       0.0378        0.6240   \n",
       "196         0.578   0.786    7    -6.549     1       0.0314        0.0953   \n",
       "197         0.762   0.613    4    -5.590     0       0.1320        0.0134   \n",
       "198         0.686   0.576    0    -6.775     0       0.0376        0.1820   \n",
       "199         0.667   0.921    1    -5.223     0       0.0909        0.1230   \n",
       "\n",
       "     instrumentalness  liveness    tempo  \\\n",
       "0            0.000001    0.1140  103.028   \n",
       "1            0.902000    0.0813  107.847   \n",
       "2            0.794000    0.1680  102.480   \n",
       "3            0.000000    0.0888   97.692   \n",
       "4            0.000000    0.4690  108.992   \n",
       "..                ...       ...      ...   \n",
       "195          0.000039    0.2750  122.895   \n",
       "196          0.003030    0.0683   96.326   \n",
       "197          0.000008    0.0910  171.906   \n",
       "198          0.000000    0.1060   95.940   \n",
       "199          0.000007    0.9820  120.040   \n",
       "\n",
       "                                track_uri  \\\n",
       "0    spotify:track:5Q0uilamiVtrGSeqVPN9Dn   \n",
       "1    spotify:track:0pjCsB0XNSyqM9UazlTODC   \n",
       "2    spotify:track:4Fook83HYnB77YeERLExXB   \n",
       "3    spotify:track:6s9LhJVqxnTjmUJHOeawnU   \n",
       "4    spotify:track:6qlcjGJPTZEwR8nf2nSe9C   \n",
       "..                                    ...   \n",
       "195  spotify:track:6O5GH78mvqGHGatJCI5nVM   \n",
       "196  spotify:track:04SU9LZQel0dTMjJJtBmkK   \n",
       "197  spotify:track:2NPgLm7I9ltBDXE4oigXi6   \n",
       "198  spotify:track:4PNn9pMYbErIXMHmE0w4a2   \n",
       "199  spotify:track:47GAwoC7QtBMVqrixfLVUo   \n",
       "\n",
       "                                       track_name  \n",
       "0                                         Freedom  \n",
       "1                   Jazz Suite No. 2: VI. Waltz 2  \n",
       "2                                Unchained Melody  \n",
       "3    City Of Stars - From \"La La Land\" Soundtrack  \n",
       "4                                      Wildflower  \n",
       "..                                            ...  \n",
       "195                                       Elenore  \n",
       "196                  The First Cut Is The Deepest  \n",
       "197                                 Shiver - Demo  \n",
       "198                              This Love - Demo  \n",
       "199                               Not Coming Home  \n",
       "\n",
       "[200 rows x 12 columns]"
      ]
     },
     "execution_count": 165,
     "metadata": {},
     "output_type": "execute_result"
    }
   ],
   "source": [
    "dataset"
   ]
  },
  {
   "cell_type": "code",
   "execution_count": null,
   "metadata": {},
   "outputs": [],
   "source": [
    "#sp.track('spotify:track:5Q0uilamiVtrGSeqVPN9Dn')"
   ]
  },
  {
   "cell_type": "code",
   "execution_count": 17,
   "metadata": {},
   "outputs": [],
   "source": [
    "#Creating feature dataframe\n",
    "cols_to_drop = ['analysis_url', 'key', 'time_signature', 'track_href', 'type', 'uri', 'mode', 'duration_ms']\n",
    "features_df = pd.DataFrame(features).drop(cols_to_drop, axis=1)"
   ]
  },
  {
   "cell_type": "code",
   "execution_count": 12,
   "metadata": {},
   "outputs": [
    {
     "data": {
      "text/html": [
       "<div>\n",
       "<style scoped>\n",
       "    .dataframe tbody tr th:only-of-type {\n",
       "        vertical-align: middle;\n",
       "    }\n",
       "\n",
       "    .dataframe tbody tr th {\n",
       "        vertical-align: top;\n",
       "    }\n",
       "\n",
       "    .dataframe thead th {\n",
       "        text-align: right;\n",
       "    }\n",
       "</style>\n",
       "<table border=\"1\" class=\"dataframe\">\n",
       "  <thead>\n",
       "    <tr style=\"text-align: right;\">\n",
       "      <th></th>\n",
       "      <th>href</th>\n",
       "      <th>items</th>\n",
       "      <th>limit</th>\n",
       "      <th>next</th>\n",
       "      <th>offset</th>\n",
       "      <th>previous</th>\n",
       "      <th>total</th>\n",
       "    </tr>\n",
       "  </thead>\n",
       "  <tbody>\n",
       "    <tr>\n",
       "      <th>0</th>\n",
       "      <td>https://api.spotify.com/v1/playlists/3rOYrpv2z...</td>\n",
       "      <td>{'added_at': '2021-03-07T04:52:03Z', 'added_by...</td>\n",
       "      <td>100</td>\n",
       "      <td>https://api.spotify.com/v1/playlists/3rOYrpv2z...</td>\n",
       "      <td>0</td>\n",
       "      <td>None</td>\n",
       "      <td>226</td>\n",
       "    </tr>\n",
       "    <tr>\n",
       "      <th>1</th>\n",
       "      <td>https://api.spotify.com/v1/playlists/3rOYrpv2z...</td>\n",
       "      <td>{'added_at': '2021-03-07T04:52:03Z', 'added_by...</td>\n",
       "      <td>100</td>\n",
       "      <td>https://api.spotify.com/v1/playlists/3rOYrpv2z...</td>\n",
       "      <td>0</td>\n",
       "      <td>None</td>\n",
       "      <td>226</td>\n",
       "    </tr>\n",
       "    <tr>\n",
       "      <th>2</th>\n",
       "      <td>https://api.spotify.com/v1/playlists/3rOYrpv2z...</td>\n",
       "      <td>{'added_at': '2021-03-07T04:52:03Z', 'added_by...</td>\n",
       "      <td>100</td>\n",
       "      <td>https://api.spotify.com/v1/playlists/3rOYrpv2z...</td>\n",
       "      <td>0</td>\n",
       "      <td>None</td>\n",
       "      <td>226</td>\n",
       "    </tr>\n",
       "    <tr>\n",
       "      <th>3</th>\n",
       "      <td>https://api.spotify.com/v1/playlists/3rOYrpv2z...</td>\n",
       "      <td>{'added_at': '2021-03-07T04:52:03Z', 'added_by...</td>\n",
       "      <td>100</td>\n",
       "      <td>https://api.spotify.com/v1/playlists/3rOYrpv2z...</td>\n",
       "      <td>0</td>\n",
       "      <td>None</td>\n",
       "      <td>226</td>\n",
       "    </tr>\n",
       "    <tr>\n",
       "      <th>4</th>\n",
       "      <td>https://api.spotify.com/v1/playlists/3rOYrpv2z...</td>\n",
       "      <td>{'added_at': '2021-03-07T04:52:03Z', 'added_by...</td>\n",
       "      <td>100</td>\n",
       "      <td>https://api.spotify.com/v1/playlists/3rOYrpv2z...</td>\n",
       "      <td>0</td>\n",
       "      <td>None</td>\n",
       "      <td>226</td>\n",
       "    </tr>\n",
       "    <tr>\n",
       "      <th>...</th>\n",
       "      <td>...</td>\n",
       "      <td>...</td>\n",
       "      <td>...</td>\n",
       "      <td>...</td>\n",
       "      <td>...</td>\n",
       "      <td>...</td>\n",
       "      <td>...</td>\n",
       "    </tr>\n",
       "    <tr>\n",
       "      <th>95</th>\n",
       "      <td>https://api.spotify.com/v1/playlists/3rOYrpv2z...</td>\n",
       "      <td>{'added_at': '2021-03-07T04:52:03Z', 'added_by...</td>\n",
       "      <td>100</td>\n",
       "      <td>https://api.spotify.com/v1/playlists/3rOYrpv2z...</td>\n",
       "      <td>0</td>\n",
       "      <td>None</td>\n",
       "      <td>226</td>\n",
       "    </tr>\n",
       "    <tr>\n",
       "      <th>96</th>\n",
       "      <td>https://api.spotify.com/v1/playlists/3rOYrpv2z...</td>\n",
       "      <td>{'added_at': '2021-03-07T04:52:03Z', 'added_by...</td>\n",
       "      <td>100</td>\n",
       "      <td>https://api.spotify.com/v1/playlists/3rOYrpv2z...</td>\n",
       "      <td>0</td>\n",
       "      <td>None</td>\n",
       "      <td>226</td>\n",
       "    </tr>\n",
       "    <tr>\n",
       "      <th>97</th>\n",
       "      <td>https://api.spotify.com/v1/playlists/3rOYrpv2z...</td>\n",
       "      <td>{'added_at': '2021-03-07T04:52:03Z', 'added_by...</td>\n",
       "      <td>100</td>\n",
       "      <td>https://api.spotify.com/v1/playlists/3rOYrpv2z...</td>\n",
       "      <td>0</td>\n",
       "      <td>None</td>\n",
       "      <td>226</td>\n",
       "    </tr>\n",
       "    <tr>\n",
       "      <th>98</th>\n",
       "      <td>https://api.spotify.com/v1/playlists/3rOYrpv2z...</td>\n",
       "      <td>{'added_at': '2021-03-07T04:52:03Z', 'added_by...</td>\n",
       "      <td>100</td>\n",
       "      <td>https://api.spotify.com/v1/playlists/3rOYrpv2z...</td>\n",
       "      <td>0</td>\n",
       "      <td>None</td>\n",
       "      <td>226</td>\n",
       "    </tr>\n",
       "    <tr>\n",
       "      <th>99</th>\n",
       "      <td>https://api.spotify.com/v1/playlists/3rOYrpv2z...</td>\n",
       "      <td>{'added_at': '2021-03-07T04:52:03Z', 'added_by...</td>\n",
       "      <td>100</td>\n",
       "      <td>https://api.spotify.com/v1/playlists/3rOYrpv2z...</td>\n",
       "      <td>0</td>\n",
       "      <td>None</td>\n",
       "      <td>226</td>\n",
       "    </tr>\n",
       "  </tbody>\n",
       "</table>\n",
       "<p>100 rows × 7 columns</p>\n",
       "</div>"
      ],
      "text/plain": [
       "                                                 href  \\\n",
       "0   https://api.spotify.com/v1/playlists/3rOYrpv2z...   \n",
       "1   https://api.spotify.com/v1/playlists/3rOYrpv2z...   \n",
       "2   https://api.spotify.com/v1/playlists/3rOYrpv2z...   \n",
       "3   https://api.spotify.com/v1/playlists/3rOYrpv2z...   \n",
       "4   https://api.spotify.com/v1/playlists/3rOYrpv2z...   \n",
       "..                                                ...   \n",
       "95  https://api.spotify.com/v1/playlists/3rOYrpv2z...   \n",
       "96  https://api.spotify.com/v1/playlists/3rOYrpv2z...   \n",
       "97  https://api.spotify.com/v1/playlists/3rOYrpv2z...   \n",
       "98  https://api.spotify.com/v1/playlists/3rOYrpv2z...   \n",
       "99  https://api.spotify.com/v1/playlists/3rOYrpv2z...   \n",
       "\n",
       "                                                items  limit  \\\n",
       "0   {'added_at': '2021-03-07T04:52:03Z', 'added_by...    100   \n",
       "1   {'added_at': '2021-03-07T04:52:03Z', 'added_by...    100   \n",
       "2   {'added_at': '2021-03-07T04:52:03Z', 'added_by...    100   \n",
       "3   {'added_at': '2021-03-07T04:52:03Z', 'added_by...    100   \n",
       "4   {'added_at': '2021-03-07T04:52:03Z', 'added_by...    100   \n",
       "..                                                ...    ...   \n",
       "95  {'added_at': '2021-03-07T04:52:03Z', 'added_by...    100   \n",
       "96  {'added_at': '2021-03-07T04:52:03Z', 'added_by...    100   \n",
       "97  {'added_at': '2021-03-07T04:52:03Z', 'added_by...    100   \n",
       "98  {'added_at': '2021-03-07T04:52:03Z', 'added_by...    100   \n",
       "99  {'added_at': '2021-03-07T04:52:03Z', 'added_by...    100   \n",
       "\n",
       "                                                 next  offset previous  total  \n",
       "0   https://api.spotify.com/v1/playlists/3rOYrpv2z...       0     None    226  \n",
       "1   https://api.spotify.com/v1/playlists/3rOYrpv2z...       0     None    226  \n",
       "2   https://api.spotify.com/v1/playlists/3rOYrpv2z...       0     None    226  \n",
       "3   https://api.spotify.com/v1/playlists/3rOYrpv2z...       0     None    226  \n",
       "4   https://api.spotify.com/v1/playlists/3rOYrpv2z...       0     None    226  \n",
       "..                                                ...     ...      ...    ...  \n",
       "95  https://api.spotify.com/v1/playlists/3rOYrpv2z...       0     None    226  \n",
       "96  https://api.spotify.com/v1/playlists/3rOYrpv2z...       0     None    226  \n",
       "97  https://api.spotify.com/v1/playlists/3rOYrpv2z...       0     None    226  \n",
       "98  https://api.spotify.com/v1/playlists/3rOYrpv2z...       0     None    226  \n",
       "99  https://api.spotify.com/v1/playlists/3rOYrpv2z...       0     None    226  \n",
       "\n",
       "[100 rows x 7 columns]"
      ]
     },
     "execution_count": 12,
     "metadata": {},
     "output_type": "execute_result"
    }
   ],
   "source": [
    "tracks_df = pd.DataFrame(tracks)\n",
    "tracks_df"
   ]
  },
  {
   "cell_type": "code",
   "execution_count": 15,
   "metadata": {},
   "outputs": [],
   "source": [
    "all_features = pd.DataFrame(features)"
   ]
  },
  {
   "cell_type": "code",
   "execution_count": 16,
   "metadata": {},
   "outputs": [
    {
     "data": {
      "text/html": [
       "<div>\n",
       "<style scoped>\n",
       "    .dataframe tbody tr th:only-of-type {\n",
       "        vertical-align: middle;\n",
       "    }\n",
       "\n",
       "    .dataframe tbody tr th {\n",
       "        vertical-align: top;\n",
       "    }\n",
       "\n",
       "    .dataframe thead th {\n",
       "        text-align: right;\n",
       "    }\n",
       "</style>\n",
       "<table border=\"1\" class=\"dataframe\">\n",
       "  <thead>\n",
       "    <tr style=\"text-align: right;\">\n",
       "      <th></th>\n",
       "      <th>danceability</th>\n",
       "      <th>energy</th>\n",
       "      <th>key</th>\n",
       "      <th>loudness</th>\n",
       "      <th>mode</th>\n",
       "      <th>speechiness</th>\n",
       "      <th>acousticness</th>\n",
       "      <th>instrumentalness</th>\n",
       "      <th>liveness</th>\n",
       "      <th>valence</th>\n",
       "      <th>tempo</th>\n",
       "      <th>type</th>\n",
       "      <th>id</th>\n",
       "      <th>uri</th>\n",
       "      <th>track_href</th>\n",
       "      <th>analysis_url</th>\n",
       "      <th>duration_ms</th>\n",
       "      <th>time_signature</th>\n",
       "    </tr>\n",
       "  </thead>\n",
       "  <tbody>\n",
       "    <tr>\n",
       "      <th>0</th>\n",
       "      <td>0.619</td>\n",
       "      <td>0.362</td>\n",
       "      <td>1</td>\n",
       "      <td>-7.647</td>\n",
       "      <td>0</td>\n",
       "      <td>0.0264</td>\n",
       "      <td>0.5550</td>\n",
       "      <td>0.000001</td>\n",
       "      <td>0.1140</td>\n",
       "      <td>0.144</td>\n",
       "      <td>103.028</td>\n",
       "      <td>audio_features</td>\n",
       "      <td>5Q0uilamiVtrGSeqVPN9Dn</td>\n",
       "      <td>spotify:track:5Q0uilamiVtrGSeqVPN9Dn</td>\n",
       "      <td>https://api.spotify.com/v1/tracks/5Q0uilamiVtr...</td>\n",
       "      <td>https://api.spotify.com/v1/audio-analysis/5Q0u...</td>\n",
       "      <td>260884</td>\n",
       "      <td>4</td>\n",
       "    </tr>\n",
       "    <tr>\n",
       "      <th>1</th>\n",
       "      <td>0.322</td>\n",
       "      <td>0.184</td>\n",
       "      <td>0</td>\n",
       "      <td>-18.312</td>\n",
       "      <td>0</td>\n",
       "      <td>0.0338</td>\n",
       "      <td>0.9840</td>\n",
       "      <td>0.902000</td>\n",
       "      <td>0.0813</td>\n",
       "      <td>0.356</td>\n",
       "      <td>107.847</td>\n",
       "      <td>audio_features</td>\n",
       "      <td>0pjCsB0XNSyqM9UazlTODC</td>\n",
       "      <td>spotify:track:0pjCsB0XNSyqM9UazlTODC</td>\n",
       "      <td>https://api.spotify.com/v1/tracks/0pjCsB0XNSyq...</td>\n",
       "      <td>https://api.spotify.com/v1/audio-analysis/0pjC...</td>\n",
       "      <td>193600</td>\n",
       "      <td>4</td>\n",
       "    </tr>\n",
       "    <tr>\n",
       "      <th>2</th>\n",
       "      <td>0.422</td>\n",
       "      <td>0.262</td>\n",
       "      <td>2</td>\n",
       "      <td>-12.404</td>\n",
       "      <td>1</td>\n",
       "      <td>0.0309</td>\n",
       "      <td>0.8870</td>\n",
       "      <td>0.794000</td>\n",
       "      <td>0.1680</td>\n",
       "      <td>0.201</td>\n",
       "      <td>102.480</td>\n",
       "      <td>audio_features</td>\n",
       "      <td>4Fook83HYnB77YeERLExXB</td>\n",
       "      <td>spotify:track:4Fook83HYnB77YeERLExXB</td>\n",
       "      <td>https://api.spotify.com/v1/tracks/4Fook83HYnB7...</td>\n",
       "      <td>https://api.spotify.com/v1/audio-analysis/4Foo...</td>\n",
       "      <td>172773</td>\n",
       "      <td>3</td>\n",
       "    </tr>\n",
       "    <tr>\n",
       "      <th>3</th>\n",
       "      <td>0.454</td>\n",
       "      <td>0.117</td>\n",
       "      <td>2</td>\n",
       "      <td>-15.121</td>\n",
       "      <td>0</td>\n",
       "      <td>0.0354</td>\n",
       "      <td>0.9060</td>\n",
       "      <td>0.000000</td>\n",
       "      <td>0.0888</td>\n",
       "      <td>0.428</td>\n",
       "      <td>97.692</td>\n",
       "      <td>audio_features</td>\n",
       "      <td>6s9LhJVqxnTjmUJHOeawnU</td>\n",
       "      <td>spotify:track:6s9LhJVqxnTjmUJHOeawnU</td>\n",
       "      <td>https://api.spotify.com/v1/tracks/6s9LhJVqxnTj...</td>\n",
       "      <td>https://api.spotify.com/v1/audio-analysis/6s9L...</td>\n",
       "      <td>149707</td>\n",
       "      <td>4</td>\n",
       "    </tr>\n",
       "    <tr>\n",
       "      <th>4</th>\n",
       "      <td>0.644</td>\n",
       "      <td>0.768</td>\n",
       "      <td>6</td>\n",
       "      <td>-4.316</td>\n",
       "      <td>1</td>\n",
       "      <td>0.0455</td>\n",
       "      <td>0.1740</td>\n",
       "      <td>0.000000</td>\n",
       "      <td>0.4690</td>\n",
       "      <td>0.598</td>\n",
       "      <td>108.992</td>\n",
       "      <td>audio_features</td>\n",
       "      <td>6qlcjGJPTZEwR8nf2nSe9C</td>\n",
       "      <td>spotify:track:6qlcjGJPTZEwR8nf2nSe9C</td>\n",
       "      <td>https://api.spotify.com/v1/tracks/6qlcjGJPTZEw...</td>\n",
       "      <td>https://api.spotify.com/v1/audio-analysis/6qlc...</td>\n",
       "      <td>220536</td>\n",
       "      <td>4</td>\n",
       "    </tr>\n",
       "    <tr>\n",
       "      <th>...</th>\n",
       "      <td>...</td>\n",
       "      <td>...</td>\n",
       "      <td>...</td>\n",
       "      <td>...</td>\n",
       "      <td>...</td>\n",
       "      <td>...</td>\n",
       "      <td>...</td>\n",
       "      <td>...</td>\n",
       "      <td>...</td>\n",
       "      <td>...</td>\n",
       "      <td>...</td>\n",
       "      <td>...</td>\n",
       "      <td>...</td>\n",
       "      <td>...</td>\n",
       "      <td>...</td>\n",
       "      <td>...</td>\n",
       "      <td>...</td>\n",
       "      <td>...</td>\n",
       "    </tr>\n",
       "    <tr>\n",
       "      <th>95</th>\n",
       "      <td>0.758</td>\n",
       "      <td>0.749</td>\n",
       "      <td>5</td>\n",
       "      <td>-5.985</td>\n",
       "      <td>1</td>\n",
       "      <td>0.2280</td>\n",
       "      <td>0.1480</td>\n",
       "      <td>0.000001</td>\n",
       "      <td>0.3980</td>\n",
       "      <td>0.959</td>\n",
       "      <td>93.547</td>\n",
       "      <td>audio_features</td>\n",
       "      <td>3p6aZiot849Yxl3g4ZuSxr</td>\n",
       "      <td>spotify:track:3p6aZiot849Yxl3g4ZuSxr</td>\n",
       "      <td>https://api.spotify.com/v1/tracks/3p6aZiot849Y...</td>\n",
       "      <td>https://api.spotify.com/v1/audio-analysis/3p6a...</td>\n",
       "      <td>202707</td>\n",
       "      <td>4</td>\n",
       "    </tr>\n",
       "    <tr>\n",
       "      <th>96</th>\n",
       "      <td>0.531</td>\n",
       "      <td>0.116</td>\n",
       "      <td>6</td>\n",
       "      <td>-11.157</td>\n",
       "      <td>1</td>\n",
       "      <td>0.0548</td>\n",
       "      <td>0.9340</td>\n",
       "      <td>0.000000</td>\n",
       "      <td>0.0981</td>\n",
       "      <td>0.176</td>\n",
       "      <td>117.469</td>\n",
       "      <td>audio_features</td>\n",
       "      <td>0KQnOjW6AP1LECHd18xjFj</td>\n",
       "      <td>spotify:track:0KQnOjW6AP1LECHd18xjFj</td>\n",
       "      <td>https://api.spotify.com/v1/tracks/0KQnOjW6AP1L...</td>\n",
       "      <td>https://api.spotify.com/v1/audio-analysis/0KQn...</td>\n",
       "      <td>154859</td>\n",
       "      <td>3</td>\n",
       "    </tr>\n",
       "    <tr>\n",
       "      <th>97</th>\n",
       "      <td>0.380</td>\n",
       "      <td>0.418</td>\n",
       "      <td>10</td>\n",
       "      <td>-7.179</td>\n",
       "      <td>1</td>\n",
       "      <td>0.0317</td>\n",
       "      <td>0.5690</td>\n",
       "      <td>0.000007</td>\n",
       "      <td>0.3980</td>\n",
       "      <td>0.448</td>\n",
       "      <td>176.427</td>\n",
       "      <td>audio_features</td>\n",
       "      <td>2Vi6ZsNKwx8ASJo7fOZgkJ</td>\n",
       "      <td>spotify:track:2Vi6ZsNKwx8ASJo7fOZgkJ</td>\n",
       "      <td>https://api.spotify.com/v1/tracks/2Vi6ZsNKwx8A...</td>\n",
       "      <td>https://api.spotify.com/v1/audio-analysis/2Vi6...</td>\n",
       "      <td>303227</td>\n",
       "      <td>4</td>\n",
       "    </tr>\n",
       "    <tr>\n",
       "      <th>98</th>\n",
       "      <td>0.457</td>\n",
       "      <td>0.950</td>\n",
       "      <td>2</td>\n",
       "      <td>-6.190</td>\n",
       "      <td>1</td>\n",
       "      <td>0.0648</td>\n",
       "      <td>0.0509</td>\n",
       "      <td>0.000002</td>\n",
       "      <td>0.0844</td>\n",
       "      <td>0.207</td>\n",
       "      <td>131.035</td>\n",
       "      <td>audio_features</td>\n",
       "      <td>3DkdzKBXRc1a3JvwkdFhe3</td>\n",
       "      <td>spotify:track:3DkdzKBXRc1a3JvwkdFhe3</td>\n",
       "      <td>https://api.spotify.com/v1/tracks/3DkdzKBXRc1a...</td>\n",
       "      <td>https://api.spotify.com/v1/audio-analysis/3Dkd...</td>\n",
       "      <td>182973</td>\n",
       "      <td>4</td>\n",
       "    </tr>\n",
       "    <tr>\n",
       "      <th>99</th>\n",
       "      <td>0.336</td>\n",
       "      <td>0.155</td>\n",
       "      <td>2</td>\n",
       "      <td>-18.233</td>\n",
       "      <td>1</td>\n",
       "      <td>0.0423</td>\n",
       "      <td>0.9230</td>\n",
       "      <td>0.104000</td>\n",
       "      <td>0.0837</td>\n",
       "      <td>0.166</td>\n",
       "      <td>95.306</td>\n",
       "      <td>audio_features</td>\n",
       "      <td>1nlty288rWFqyCXebR6JHp</td>\n",
       "      <td>spotify:track:1nlty288rWFqyCXebR6JHp</td>\n",
       "      <td>https://api.spotify.com/v1/tracks/1nlty288rWFq...</td>\n",
       "      <td>https://api.spotify.com/v1/audio-analysis/1nlt...</td>\n",
       "      <td>1102240</td>\n",
       "      <td>4</td>\n",
       "    </tr>\n",
       "  </tbody>\n",
       "</table>\n",
       "<p>100 rows × 18 columns</p>\n",
       "</div>"
      ],
      "text/plain": [
       "    danceability  energy  key  loudness  mode  speechiness  acousticness  \\\n",
       "0          0.619   0.362    1    -7.647     0       0.0264        0.5550   \n",
       "1          0.322   0.184    0   -18.312     0       0.0338        0.9840   \n",
       "2          0.422   0.262    2   -12.404     1       0.0309        0.8870   \n",
       "3          0.454   0.117    2   -15.121     0       0.0354        0.9060   \n",
       "4          0.644   0.768    6    -4.316     1       0.0455        0.1740   \n",
       "..           ...     ...  ...       ...   ...          ...           ...   \n",
       "95         0.758   0.749    5    -5.985     1       0.2280        0.1480   \n",
       "96         0.531   0.116    6   -11.157     1       0.0548        0.9340   \n",
       "97         0.380   0.418   10    -7.179     1       0.0317        0.5690   \n",
       "98         0.457   0.950    2    -6.190     1       0.0648        0.0509   \n",
       "99         0.336   0.155    2   -18.233     1       0.0423        0.9230   \n",
       "\n",
       "    instrumentalness  liveness  valence    tempo            type  \\\n",
       "0           0.000001    0.1140    0.144  103.028  audio_features   \n",
       "1           0.902000    0.0813    0.356  107.847  audio_features   \n",
       "2           0.794000    0.1680    0.201  102.480  audio_features   \n",
       "3           0.000000    0.0888    0.428   97.692  audio_features   \n",
       "4           0.000000    0.4690    0.598  108.992  audio_features   \n",
       "..               ...       ...      ...      ...             ...   \n",
       "95          0.000001    0.3980    0.959   93.547  audio_features   \n",
       "96          0.000000    0.0981    0.176  117.469  audio_features   \n",
       "97          0.000007    0.3980    0.448  176.427  audio_features   \n",
       "98          0.000002    0.0844    0.207  131.035  audio_features   \n",
       "99          0.104000    0.0837    0.166   95.306  audio_features   \n",
       "\n",
       "                        id                                   uri  \\\n",
       "0   5Q0uilamiVtrGSeqVPN9Dn  spotify:track:5Q0uilamiVtrGSeqVPN9Dn   \n",
       "1   0pjCsB0XNSyqM9UazlTODC  spotify:track:0pjCsB0XNSyqM9UazlTODC   \n",
       "2   4Fook83HYnB77YeERLExXB  spotify:track:4Fook83HYnB77YeERLExXB   \n",
       "3   6s9LhJVqxnTjmUJHOeawnU  spotify:track:6s9LhJVqxnTjmUJHOeawnU   \n",
       "4   6qlcjGJPTZEwR8nf2nSe9C  spotify:track:6qlcjGJPTZEwR8nf2nSe9C   \n",
       "..                     ...                                   ...   \n",
       "95  3p6aZiot849Yxl3g4ZuSxr  spotify:track:3p6aZiot849Yxl3g4ZuSxr   \n",
       "96  0KQnOjW6AP1LECHd18xjFj  spotify:track:0KQnOjW6AP1LECHd18xjFj   \n",
       "97  2Vi6ZsNKwx8ASJo7fOZgkJ  spotify:track:2Vi6ZsNKwx8ASJo7fOZgkJ   \n",
       "98  3DkdzKBXRc1a3JvwkdFhe3  spotify:track:3DkdzKBXRc1a3JvwkdFhe3   \n",
       "99  1nlty288rWFqyCXebR6JHp  spotify:track:1nlty288rWFqyCXebR6JHp   \n",
       "\n",
       "                                           track_href  \\\n",
       "0   https://api.spotify.com/v1/tracks/5Q0uilamiVtr...   \n",
       "1   https://api.spotify.com/v1/tracks/0pjCsB0XNSyq...   \n",
       "2   https://api.spotify.com/v1/tracks/4Fook83HYnB7...   \n",
       "3   https://api.spotify.com/v1/tracks/6s9LhJVqxnTj...   \n",
       "4   https://api.spotify.com/v1/tracks/6qlcjGJPTZEw...   \n",
       "..                                                ...   \n",
       "95  https://api.spotify.com/v1/tracks/3p6aZiot849Y...   \n",
       "96  https://api.spotify.com/v1/tracks/0KQnOjW6AP1L...   \n",
       "97  https://api.spotify.com/v1/tracks/2Vi6ZsNKwx8A...   \n",
       "98  https://api.spotify.com/v1/tracks/3DkdzKBXRc1a...   \n",
       "99  https://api.spotify.com/v1/tracks/1nlty288rWFq...   \n",
       "\n",
       "                                         analysis_url  duration_ms  \\\n",
       "0   https://api.spotify.com/v1/audio-analysis/5Q0u...       260884   \n",
       "1   https://api.spotify.com/v1/audio-analysis/0pjC...       193600   \n",
       "2   https://api.spotify.com/v1/audio-analysis/4Foo...       172773   \n",
       "3   https://api.spotify.com/v1/audio-analysis/6s9L...       149707   \n",
       "4   https://api.spotify.com/v1/audio-analysis/6qlc...       220536   \n",
       "..                                                ...          ...   \n",
       "95  https://api.spotify.com/v1/audio-analysis/3p6a...       202707   \n",
       "96  https://api.spotify.com/v1/audio-analysis/0KQn...       154859   \n",
       "97  https://api.spotify.com/v1/audio-analysis/2Vi6...       303227   \n",
       "98  https://api.spotify.com/v1/audio-analysis/3Dkd...       182973   \n",
       "99  https://api.spotify.com/v1/audio-analysis/1nlt...      1102240   \n",
       "\n",
       "    time_signature  \n",
       "0                4  \n",
       "1                4  \n",
       "2                3  \n",
       "3                4  \n",
       "4                4  \n",
       "..             ...  \n",
       "95               4  \n",
       "96               3  \n",
       "97               4  \n",
       "98               4  \n",
       "99               4  \n",
       "\n",
       "[100 rows x 18 columns]"
      ]
     },
     "execution_count": 16,
     "metadata": {},
     "output_type": "execute_result"
    }
   ],
   "source": [
    "all_features"
   ]
  },
  {
   "cell_type": "code",
   "execution_count": 167,
   "metadata": {},
   "outputs": [
    {
     "data": {
      "text/html": [
       "<div>\n",
       "<style scoped>\n",
       "    .dataframe tbody tr th:only-of-type {\n",
       "        vertical-align: middle;\n",
       "    }\n",
       "\n",
       "    .dataframe tbody tr th {\n",
       "        vertical-align: top;\n",
       "    }\n",
       "\n",
       "    .dataframe thead th {\n",
       "        text-align: right;\n",
       "    }\n",
       "</style>\n",
       "<table border=\"1\" class=\"dataframe\">\n",
       "  <thead>\n",
       "    <tr style=\"text-align: right;\">\n",
       "      <th></th>\n",
       "      <th>danceability</th>\n",
       "      <th>energy</th>\n",
       "      <th>key</th>\n",
       "      <th>loudness</th>\n",
       "      <th>mode</th>\n",
       "      <th>speechiness</th>\n",
       "      <th>acousticness</th>\n",
       "      <th>instrumentalness</th>\n",
       "      <th>liveness</th>\n",
       "      <th>tempo</th>\n",
       "    </tr>\n",
       "  </thead>\n",
       "  <tbody>\n",
       "    <tr>\n",
       "      <th>count</th>\n",
       "      <td>200.000000</td>\n",
       "      <td>200.000000</td>\n",
       "      <td>200.00000</td>\n",
       "      <td>200.000000</td>\n",
       "      <td>200.000000</td>\n",
       "      <td>200.000000</td>\n",
       "      <td>200.000000</td>\n",
       "      <td>200.000000</td>\n",
       "      <td>200.000000</td>\n",
       "      <td>200.000000</td>\n",
       "    </tr>\n",
       "    <tr>\n",
       "      <th>mean</th>\n",
       "      <td>0.531918</td>\n",
       "      <td>0.437770</td>\n",
       "      <td>4.65500</td>\n",
       "      <td>-11.394265</td>\n",
       "      <td>0.725000</td>\n",
       "      <td>0.054825</td>\n",
       "      <td>0.557815</td>\n",
       "      <td>0.188812</td>\n",
       "      <td>0.160297</td>\n",
       "      <td>116.270725</td>\n",
       "    </tr>\n",
       "    <tr>\n",
       "      <th>std</th>\n",
       "      <td>0.168731</td>\n",
       "      <td>0.255992</td>\n",
       "      <td>3.42412</td>\n",
       "      <td>6.205449</td>\n",
       "      <td>0.447635</td>\n",
       "      <td>0.041128</td>\n",
       "      <td>0.341124</td>\n",
       "      <td>0.334586</td>\n",
       "      <td>0.129122</td>\n",
       "      <td>30.706467</td>\n",
       "    </tr>\n",
       "    <tr>\n",
       "      <th>min</th>\n",
       "      <td>0.097500</td>\n",
       "      <td>0.002650</td>\n",
       "      <td>0.00000</td>\n",
       "      <td>-36.856000</td>\n",
       "      <td>0.000000</td>\n",
       "      <td>0.025400</td>\n",
       "      <td>0.000233</td>\n",
       "      <td>0.000000</td>\n",
       "      <td>0.049300</td>\n",
       "      <td>61.494000</td>\n",
       "    </tr>\n",
       "    <tr>\n",
       "      <th>25%</th>\n",
       "      <td>0.413750</td>\n",
       "      <td>0.256000</td>\n",
       "      <td>2.00000</td>\n",
       "      <td>-13.880500</td>\n",
       "      <td>0.000000</td>\n",
       "      <td>0.032900</td>\n",
       "      <td>0.215500</td>\n",
       "      <td>0.000000</td>\n",
       "      <td>0.091375</td>\n",
       "      <td>94.048000</td>\n",
       "    </tr>\n",
       "    <tr>\n",
       "      <th>50%</th>\n",
       "      <td>0.526000</td>\n",
       "      <td>0.424000</td>\n",
       "      <td>5.00000</td>\n",
       "      <td>-9.827000</td>\n",
       "      <td>1.000000</td>\n",
       "      <td>0.040600</td>\n",
       "      <td>0.605500</td>\n",
       "      <td>0.000057</td>\n",
       "      <td>0.114000</td>\n",
       "      <td>112.792000</td>\n",
       "    </tr>\n",
       "    <tr>\n",
       "      <th>75%</th>\n",
       "      <td>0.659000</td>\n",
       "      <td>0.665000</td>\n",
       "      <td>7.00000</td>\n",
       "      <td>-6.908000</td>\n",
       "      <td>1.000000</td>\n",
       "      <td>0.055625</td>\n",
       "      <td>0.876500</td>\n",
       "      <td>0.231000</td>\n",
       "      <td>0.172000</td>\n",
       "      <td>133.096750</td>\n",
       "    </tr>\n",
       "    <tr>\n",
       "      <th>max</th>\n",
       "      <td>0.923000</td>\n",
       "      <td>0.974000</td>\n",
       "      <td>11.00000</td>\n",
       "      <td>-3.180000</td>\n",
       "      <td>1.000000</td>\n",
       "      <td>0.311000</td>\n",
       "      <td>0.996000</td>\n",
       "      <td>0.970000</td>\n",
       "      <td>0.982000</td>\n",
       "      <td>204.520000</td>\n",
       "    </tr>\n",
       "  </tbody>\n",
       "</table>\n",
       "</div>"
      ],
      "text/plain": [
       "       danceability      energy        key    loudness        mode  \\\n",
       "count    200.000000  200.000000  200.00000  200.000000  200.000000   \n",
       "mean       0.531918    0.437770    4.65500  -11.394265    0.725000   \n",
       "std        0.168731    0.255992    3.42412    6.205449    0.447635   \n",
       "min        0.097500    0.002650    0.00000  -36.856000    0.000000   \n",
       "25%        0.413750    0.256000    2.00000  -13.880500    0.000000   \n",
       "50%        0.526000    0.424000    5.00000   -9.827000    1.000000   \n",
       "75%        0.659000    0.665000    7.00000   -6.908000    1.000000   \n",
       "max        0.923000    0.974000   11.00000   -3.180000    1.000000   \n",
       "\n",
       "       speechiness  acousticness  instrumentalness    liveness       tempo  \n",
       "count   200.000000    200.000000        200.000000  200.000000  200.000000  \n",
       "mean      0.054825      0.557815          0.188812    0.160297  116.270725  \n",
       "std       0.041128      0.341124          0.334586    0.129122   30.706467  \n",
       "min       0.025400      0.000233          0.000000    0.049300   61.494000  \n",
       "25%       0.032900      0.215500          0.000000    0.091375   94.048000  \n",
       "50%       0.040600      0.605500          0.000057    0.114000  112.792000  \n",
       "75%       0.055625      0.876500          0.231000    0.172000  133.096750  \n",
       "max       0.311000      0.996000          0.970000    0.982000  204.520000  "
      ]
     },
     "execution_count": 167,
     "metadata": {},
     "output_type": "execute_result"
    }
   ],
   "source": [
    "dataset.describe()"
   ]
  },
  {
   "cell_type": "code",
   "execution_count": null,
   "metadata": {},
   "outputs": [],
   "source": [
    "from sklearn import preprocessing\n",
    "\n",
    "scaler = preprocessing.MinMaxScaler()\n",
    "\n",
    "#data[data.columns] = scaler.fit_transform(data[data.columns])"
   ]
  },
  {
   "cell_type": "code",
   "execution_count": 168,
   "metadata": {},
   "outputs": [
    {
     "data": {
      "text/plain": [
       "array([[<matplotlib.axes._subplots.AxesSubplot object at 0x127380450>,\n",
       "        <matplotlib.axes._subplots.AxesSubplot object at 0x127407a10>,\n",
       "        <matplotlib.axes._subplots.AxesSubplot object at 0x1274470d0>],\n",
       "       [<matplotlib.axes._subplots.AxesSubplot object at 0x127477750>,\n",
       "        <matplotlib.axes._subplots.AxesSubplot object at 0x1274a9dd0>,\n",
       "        <matplotlib.axes._subplots.AxesSubplot object at 0x1274e4490>],\n",
       "       [<matplotlib.axes._subplots.AxesSubplot object at 0x127516b90>,\n",
       "        <matplotlib.axes._subplots.AxesSubplot object at 0x127552190>,\n",
       "        <matplotlib.axes._subplots.AxesSubplot object at 0x1275521d0>],\n",
       "       [<matplotlib.axes._subplots.AxesSubplot object at 0x127587950>,\n",
       "        <matplotlib.axes._subplots.AxesSubplot object at 0x127600590>,\n",
       "        <matplotlib.axes._subplots.AxesSubplot object at 0x127632c10>]],\n",
       "      dtype=object)"
      ]
     },
     "execution_count": 168,
     "metadata": {},
     "output_type": "execute_result"
    },
    {
     "data": {
      "image/png": "[encoded data removed]",
      "image/svg+xml": "<?xml version=\"1.0\" encoding=\"utf-8\" standalone=\"no\"?>\n<!DOCTYPE svg PUBLIC \"-//W3C//DTD SVG 1.1//EN\"\n  \"http://www.w3.org/Graphics/SVG/1.1/DTD/svg11.dtd\">\n<!-- Created with matplotlib (https://matplotlib.org/) -->\n<svg height=\"587.860625pt\" version=\"1.1\" viewBox=\"0 0 704.894958 587.860625\" width=\"704.894958pt\" xmlns=\"http://www.w3.org/2000/svg\" xmlns:xlink=\"http://www.w3.org/1999/xlink\">\n <defs>\n  <style type=\"text/css\">\n*{stroke-linecap:butt;stroke-linejoin:round;}\n  </style>\n </defs>\n <g id=\"figure_1\">\n  <g id=\"patch_1\">\n   <path d=\"M 0 587.860625 \nL 704.894958 587.860625 \nL 704.894958 0 \nL 0 0 \nz\n\" style=\"fill:none;\"/>\n  </g>\n  <g id=\"axes_1\">\n   <g id=\"patch_2\">\n    <path d=\"M 26.925 133.256901 \nL 212.925 133.256901 \nL 212.925 22.318125 \nL 26.925 22.318125 \nz\n\" style=\"fill:#ffffff;\"/>\n   </g>\n   <g id=\"patch_3\">\n    <path clip-path=\"url(#p24ceb758eb)\" d=\"M 35.379545 133.256901 \nL 52.288636 133.256901 \nL 52.288636 121.834633 \nL 35.379545 121.834633 \nz\n\" style=\"fill:#1f77b4;\"/>\n   </g>\n   <g id=\"patch_4\">\n    <path clip-path=\"url(#p24ceb758eb)\" d=\"M 52.288636 133.256901 \nL 69.197727 133.256901 \nL 69.197727 110.412365 \nL 52.288636 110.412365 \nz\n\" style=\"fill:#1f77b4;\"/>\n   </g>\n   <g id=\"patch_5\">\n    <path clip-path=\"url(#p24ceb758eb)\" d=\"M 69.197727 133.256901 \nL 86.106818 133.256901 \nL 86.106818 84.712263 \nL 69.197727 84.712263 \nz\n\" style=\"fill:#1f77b4;\"/>\n   </g>\n   <g id=\"patch_6\">\n    <path clip-path=\"url(#p24ceb758eb)\" d=\"M 86.106818 133.256901 \nL 103.015909 133.256901 \nL 103.015909 56.156593 \nL 86.106818 56.156593 \nz\n\" style=\"fill:#1f77b4;\"/>\n   </g>\n   <g id=\"patch_7\">\n    <path clip-path=\"url(#p24ceb758eb)\" d=\"M 103.015909 133.256901 \nL 119.925 133.256901 \nL 119.925 33.312058 \nL 103.015909 33.312058 \nz\n\" style=\"fill:#1f77b4;\"/>\n   </g>\n   <g id=\"patch_8\">\n    <path clip-path=\"url(#p24ceb758eb)\" d=\"M 119.925 133.256901 \nL 136.834091 133.256901 \nL 136.834091 27.600924 \nL 119.925 27.600924 \nz\n\" style=\"fill:#1f77b4;\"/>\n   </g>\n   <g id=\"patch_9\">\n    <path clip-path=\"url(#p24ceb758eb)\" d=\"M 136.834091 133.256901 \nL 153.743182 133.256901 \nL 153.743182 53.301026 \nL 136.834091 53.301026 \nz\n\" style=\"fill:#1f77b4;\"/>\n   </g>\n   <g id=\"patch_10\">\n    <path clip-path=\"url(#p24ceb758eb)\" d=\"M 153.743182 133.256901 \nL 170.652273 133.256901 \nL 170.652273 76.145562 \nL 153.743182 76.145562 \nz\n\" style=\"fill:#1f77b4;\"/>\n   </g>\n   <g id=\"patch_11\">\n    <path clip-path=\"url(#p24ceb758eb)\" d=\"M 170.652273 133.256901 \nL 187.561364 133.256901 \nL 187.561364 73.289995 \nL 170.652273 73.289995 \nz\n\" style=\"fill:#1f77b4;\"/>\n   </g>\n   <g id=\"patch_12\">\n    <path clip-path=\"url(#p24ceb758eb)\" d=\"M 187.561364 133.256901 \nL 204.470455 133.256901 \nL 204.470455 124.6902 \nL 187.561364 124.6902 \nz\n\" style=\"fill:#1f77b4;\"/>\n   </g>\n   <g id=\"matplotlib.axis_1\">\n    <g id=\"xtick_1\">\n     <g id=\"line2d_1\">\n      <path clip-path=\"url(#p24ceb758eb)\" d=\"M 56.375085 133.256901 \nL 56.375085 22.318125 \n\" style=\"fill:none;stroke:#b0b0b0;stroke-linecap:square;stroke-width:0.8;\"/>\n     </g>\n     <g id=\"line2d_2\">\n      <defs>\n       <path d=\"M 0 0 \nL 0 3.5 \n\" id=\"md0084b91dd\" style=\"stroke:#000000;stroke-width:0.8;\"/>\n      </defs>\n      <g>\n       <use style=\"stroke:#000000;stroke-width:0.8;\" x=\"56.375085\" xlink:href=\"#md0084b91dd\" y=\"133.256901\"/>\n      </g>\n     </g>\n     <g id=\"text_1\">\n      <!-- 0.2 -->\n      <defs>\n       <path d=\"M 31.78125 66.40625 \nQ 24.171875 66.40625 20.328125 58.90625 \nQ 16.5 51.421875 16.5 36.375 \nQ 16.5 21.390625 20.328125 13.890625 \nQ 24.171875 6.390625 31.78125 6.390625 \nQ 39.453125 6.390625 43.28125 13.890625 \nQ 47.125 21.390625 47.125 36.375 \nQ 47.125 51.421875 43.28125 58.90625 \nQ 39.453125 66.40625 31.78125 66.40625 \nz\nM 31.78125 74.21875 \nQ 44.046875 74.21875 50.515625 64.515625 \nQ 56.984375 54.828125 56.984375 36.375 \nQ 56.984375 17.96875 50.515625 8.265625 \nQ 44.046875 -1.421875 31.78125 -1.421875 \nQ 19.53125 -1.421875 13.0625 8.265625 \nQ 6.59375 17.96875 6.59375 36.375 \nQ 6.59375 54.828125 13.0625 64.515625 \nQ 19.53125 74.21875 31.78125 74.21875 \nz\n\" id=\"DejaVuSans-48\"/>\n       <path d=\"M 10.6875 12.40625 \nL 21 12.40625 \nL 21 0 \nL 10.6875 0 \nz\n\" id=\"DejaVuSans-46\"/>\n       <path d=\"M 19.1875 8.296875 \nL 53.609375 8.296875 \nL 53.609375 0 \nL 7.328125 0 \nL 7.328125 8.296875 \nQ 12.9375 14.109375 22.625 23.890625 \nQ 32.328125 33.6875 34.8125 36.53125 \nQ 39.546875 41.84375 41.421875 45.53125 \nQ 43.3125 49.21875 43.3125 52.78125 \nQ 43.3125 58.59375 39.234375 62.25 \nQ 35.15625 65.921875 28.609375 65.921875 \nQ 23.96875 65.921875 18.8125 64.3125 \nQ 13.671875 62.703125 7.8125 59.421875 \nL 7.8125 69.390625 \nQ 13.765625 71.78125 18.9375 73 \nQ 24.125 74.21875 28.421875 74.21875 \nQ 39.75 74.21875 46.484375 68.546875 \nQ 53.21875 62.890625 53.21875 53.421875 \nQ 53.21875 48.921875 51.53125 44.890625 \nQ 49.859375 40.875 45.40625 35.40625 \nQ 44.1875 33.984375 37.640625 27.21875 \nQ 31.109375 20.453125 19.1875 8.296875 \nz\n\" id=\"DejaVuSans-50\"/>\n      </defs>\n      <g transform=\"translate(50.013835 146.335651)scale(0.08 -0.08)\">\n       <use xlink:href=\"#DejaVuSans-48\"/>\n       <use x=\"63.623047\" xlink:href=\"#DejaVuSans-46\"/>\n       <use x=\"95.410156\" xlink:href=\"#DejaVuSans-50\"/>\n      </g>\n     </g>\n    </g>\n    <g id=\"xtick_2\">\n     <g id=\"line2d_3\">\n      <path clip-path=\"url(#p24ceb758eb)\" d=\"M 97.341992 133.256901 \nL 97.341992 22.318125 \n\" style=\"fill:none;stroke:#b0b0b0;stroke-linecap:square;stroke-width:0.8;\"/>\n     </g>\n     <g id=\"line2d_4\">\n      <g>\n       <use style=\"stroke:#000000;stroke-width:0.8;\" x=\"97.341992\" xlink:href=\"#md0084b91dd\" y=\"133.256901\"/>\n      </g>\n     </g>\n     <g id=\"text_2\">\n      <!-- 0.4 -->\n      <defs>\n       <path d=\"M 37.796875 64.3125 \nL 12.890625 25.390625 \nL 37.796875 25.390625 \nz\nM 35.203125 72.90625 \nL 47.609375 72.90625 \nL 47.609375 25.390625 \nL 58.015625 25.390625 \nL 58.015625 17.1875 \nL 47.609375 17.1875 \nL 47.609375 0 \nL 37.796875 0 \nL 37.796875 17.1875 \nL 4.890625 17.1875 \nL 4.890625 26.703125 \nz\n\" id=\"DejaVuSans-52\"/>\n      </defs>\n      <g transform=\"translate(90.980742 146.335651)scale(0.08 -0.08)\">\n       <use xlink:href=\"#DejaVuSans-48\"/>\n       <use x=\"63.623047\" xlink:href=\"#DejaVuSans-46\"/>\n       <use x=\"95.410156\" xlink:href=\"#DejaVuSans-52\"/>\n      </g>\n     </g>\n    </g>\n    <g id=\"xtick_3\">\n     <g id=\"line2d_5\">\n      <path clip-path=\"url(#p24ceb758eb)\" d=\"M 138.3089 133.256901 \nL 138.3089 22.318125 \n\" style=\"fill:none;stroke:#b0b0b0;stroke-linecap:square;stroke-width:0.8;\"/>\n     </g>\n     <g id=\"line2d_6\">\n      <g>\n       <use style=\"stroke:#000000;stroke-width:0.8;\" x=\"138.3089\" xlink:href=\"#md0084b91dd\" y=\"133.256901\"/>\n      </g>\n     </g>\n     <g id=\"text_3\">\n      <!-- 0.6 -->\n      <defs>\n       <path d=\"M 33.015625 40.375 \nQ 26.375 40.375 22.484375 35.828125 \nQ 18.609375 31.296875 18.609375 23.390625 \nQ 18.609375 15.53125 22.484375 10.953125 \nQ 26.375 6.390625 33.015625 6.390625 \nQ 39.65625 6.390625 43.53125 10.953125 \nQ 47.40625 15.53125 47.40625 23.390625 \nQ 47.40625 31.296875 43.53125 35.828125 \nQ 39.65625 40.375 33.015625 40.375 \nz\nM 52.59375 71.296875 \nL 52.59375 62.3125 \nQ 48.875 64.0625 45.09375 64.984375 \nQ 41.3125 65.921875 37.59375 65.921875 \nQ 27.828125 65.921875 22.671875 59.328125 \nQ 17.53125 52.734375 16.796875 39.40625 \nQ 19.671875 43.65625 24.015625 45.921875 \nQ 28.375 48.1875 33.59375 48.1875 \nQ 44.578125 48.1875 50.953125 41.515625 \nQ 57.328125 34.859375 57.328125 23.390625 \nQ 57.328125 12.15625 50.6875 5.359375 \nQ 44.046875 -1.421875 33.015625 -1.421875 \nQ 20.359375 -1.421875 13.671875 8.265625 \nQ 6.984375 17.96875 6.984375 36.375 \nQ 6.984375 53.65625 15.1875 63.9375 \nQ 23.390625 74.21875 37.203125 74.21875 \nQ 40.921875 74.21875 44.703125 73.484375 \nQ 48.484375 72.75 52.59375 71.296875 \nz\n\" id=\"DejaVuSans-54\"/>\n      </defs>\n      <g transform=\"translate(131.94765 146.335651)scale(0.08 -0.08)\">\n       <use xlink:href=\"#DejaVuSans-48\"/>\n       <use x=\"63.623047\" xlink:href=\"#DejaVuSans-46\"/>\n       <use x=\"95.410156\" xlink:href=\"#DejaVuSans-54\"/>\n      </g>\n     </g>\n    </g>\n    <g id=\"xtick_4\">\n     <g id=\"line2d_7\">\n      <path clip-path=\"url(#p24ceb758eb)\" d=\"M 179.275807 133.256901 \nL 179.275807 22.318125 \n\" style=\"fill:none;stroke:#b0b0b0;stroke-linecap:square;stroke-width:0.8;\"/>\n     </g>\n     <g id=\"line2d_8\">\n      <g>\n       <use style=\"stroke:#000000;stroke-width:0.8;\" x=\"179.275807\" xlink:href=\"#md0084b91dd\" y=\"133.256901\"/>\n      </g>\n     </g>\n     <g id=\"text_4\">\n      <!-- 0.8 -->\n      <defs>\n       <path d=\"M 31.78125 34.625 \nQ 24.75 34.625 20.71875 30.859375 \nQ 16.703125 27.09375 16.703125 20.515625 \nQ 16.703125 13.921875 20.71875 10.15625 \nQ 24.75 6.390625 31.78125 6.390625 \nQ 38.8125 6.390625 42.859375 10.171875 \nQ 46.921875 13.96875 46.921875 20.515625 \nQ 46.921875 27.09375 42.890625 30.859375 \nQ 38.875 34.625 31.78125 34.625 \nz\nM 21.921875 38.8125 \nQ 15.578125 40.375 12.03125 44.71875 \nQ 8.5 49.078125 8.5 55.328125 \nQ 8.5 64.0625 14.71875 69.140625 \nQ 20.953125 74.21875 31.78125 74.21875 \nQ 42.671875 74.21875 48.875 69.140625 \nQ 55.078125 64.0625 55.078125 55.328125 \nQ 55.078125 49.078125 51.53125 44.71875 \nQ 48 40.375 41.703125 38.8125 \nQ 48.828125 37.15625 52.796875 32.3125 \nQ 56.78125 27.484375 56.78125 20.515625 \nQ 56.78125 9.90625 50.3125 4.234375 \nQ 43.84375 -1.421875 31.78125 -1.421875 \nQ 19.734375 -1.421875 13.25 4.234375 \nQ 6.78125 9.90625 6.78125 20.515625 \nQ 6.78125 27.484375 10.78125 32.3125 \nQ 14.796875 37.15625 21.921875 38.8125 \nz\nM 18.3125 54.390625 \nQ 18.3125 48.734375 21.84375 45.5625 \nQ 25.390625 42.390625 31.78125 42.390625 \nQ 38.140625 42.390625 41.71875 45.5625 \nQ 45.3125 48.734375 45.3125 54.390625 \nQ 45.3125 60.0625 41.71875 63.234375 \nQ 38.140625 66.40625 31.78125 66.40625 \nQ 25.390625 66.40625 21.84375 63.234375 \nQ 18.3125 60.0625 18.3125 54.390625 \nz\n\" id=\"DejaVuSans-56\"/>\n      </defs>\n      <g transform=\"translate(172.914557 146.335651)scale(0.08 -0.08)\">\n       <use xlink:href=\"#DejaVuSans-48\"/>\n       <use x=\"63.623047\" xlink:href=\"#DejaVuSans-46\"/>\n       <use x=\"95.410156\" xlink:href=\"#DejaVuSans-56\"/>\n      </g>\n     </g>\n    </g>\n   </g>\n   <g id=\"matplotlib.axis_2\">\n    <g id=\"ytick_1\">\n     <g id=\"line2d_9\">\n      <path clip-path=\"url(#p24ceb758eb)\" d=\"M 26.925 133.256901 \nL 212.925 133.256901 \n\" style=\"fill:none;stroke:#b0b0b0;stroke-linecap:square;stroke-width:0.8;\"/>\n     </g>\n     <g id=\"line2d_10\">\n      <defs>\n       <path d=\"M 0 0 \nL -3.5 0 \n\" id=\"m352ffda50e\" style=\"stroke:#000000;stroke-width:0.8;\"/>\n      </defs>\n      <g>\n       <use style=\"stroke:#000000;stroke-width:0.8;\" x=\"26.925\" xlink:href=\"#m352ffda50e\" y=\"133.256901\"/>\n      </g>\n     </g>\n     <g id=\"text_5\">\n      <!-- 0 -->\n      <g transform=\"translate(13.5625 137.056119)scale(0.1 -0.1)\">\n       <use xlink:href=\"#DejaVuSans-48\"/>\n      </g>\n     </g>\n    </g>\n    <g id=\"ytick_2\">\n     <g id=\"line2d_11\">\n      <path clip-path=\"url(#p24ceb758eb)\" d=\"M 26.925 104.701231 \nL 212.925 104.701231 \n\" style=\"fill:none;stroke:#b0b0b0;stroke-linecap:square;stroke-width:0.8;\"/>\n     </g>\n     <g id=\"line2d_12\">\n      <g>\n       <use style=\"stroke:#000000;stroke-width:0.8;\" x=\"26.925\" xlink:href=\"#m352ffda50e\" y=\"104.701231\"/>\n      </g>\n     </g>\n     <g id=\"text_6\">\n      <!-- 10 -->\n      <defs>\n       <path d=\"M 12.40625 8.296875 \nL 28.515625 8.296875 \nL 28.515625 63.921875 \nL 10.984375 60.40625 \nL 10.984375 69.390625 \nL 28.421875 72.90625 \nL 38.28125 72.90625 \nL 38.28125 8.296875 \nL 54.390625 8.296875 \nL 54.390625 0 \nL 12.40625 0 \nz\n\" id=\"DejaVuSans-49\"/>\n      </defs>\n      <g transform=\"translate(7.2 108.50045)scale(0.1 -0.1)\">\n       <use xlink:href=\"#DejaVuSans-49\"/>\n       <use x=\"63.623047\" xlink:href=\"#DejaVuSans-48\"/>\n      </g>\n     </g>\n    </g>\n    <g id=\"ytick_3\">\n     <g id=\"line2d_13\">\n      <path clip-path=\"url(#p24ceb758eb)\" d=\"M 26.925 76.145562 \nL 212.925 76.145562 \n\" style=\"fill:none;stroke:#b0b0b0;stroke-linecap:square;stroke-width:0.8;\"/>\n     </g>\n     <g id=\"line2d_14\">\n      <g>\n       <use style=\"stroke:#000000;stroke-width:0.8;\" x=\"26.925\" xlink:href=\"#m352ffda50e\" y=\"76.145562\"/>\n      </g>\n     </g>\n     <g id=\"text_7\">\n      <!-- 20 -->\n      <g transform=\"translate(7.2 79.944781)scale(0.1 -0.1)\">\n       <use xlink:href=\"#DejaVuSans-50\"/>\n       <use x=\"63.623047\" xlink:href=\"#DejaVuSans-48\"/>\n      </g>\n     </g>\n    </g>\n    <g id=\"ytick_4\">\n     <g id=\"line2d_15\">\n      <path clip-path=\"url(#p24ceb758eb)\" d=\"M 26.925 47.589892 \nL 212.925 47.589892 \n\" style=\"fill:none;stroke:#b0b0b0;stroke-linecap:square;stroke-width:0.8;\"/>\n     </g>\n     <g id=\"line2d_16\">\n      <g>\n       <use style=\"stroke:#000000;stroke-width:0.8;\" x=\"26.925\" xlink:href=\"#m352ffda50e\" y=\"47.589892\"/>\n      </g>\n     </g>\n     <g id=\"text_8\">\n      <!-- 30 -->\n      <defs>\n       <path d=\"M 40.578125 39.3125 \nQ 47.65625 37.796875 51.625 33 \nQ 55.609375 28.21875 55.609375 21.1875 \nQ 55.609375 10.40625 48.1875 4.484375 \nQ 40.765625 -1.421875 27.09375 -1.421875 \nQ 22.515625 -1.421875 17.65625 -0.515625 \nQ 12.796875 0.390625 7.625 2.203125 \nL 7.625 11.71875 \nQ 11.71875 9.328125 16.59375 8.109375 \nQ 21.484375 6.890625 26.8125 6.890625 \nQ 36.078125 6.890625 40.9375 10.546875 \nQ 45.796875 14.203125 45.796875 21.1875 \nQ 45.796875 27.640625 41.28125 31.265625 \nQ 36.765625 34.90625 28.71875 34.90625 \nL 20.21875 34.90625 \nL 20.21875 43.015625 \nL 29.109375 43.015625 \nQ 36.375 43.015625 40.234375 45.921875 \nQ 44.09375 48.828125 44.09375 54.296875 \nQ 44.09375 59.90625 40.109375 62.90625 \nQ 36.140625 65.921875 28.71875 65.921875 \nQ 24.65625 65.921875 20.015625 65.03125 \nQ 15.375 64.15625 9.8125 62.3125 \nL 9.8125 71.09375 \nQ 15.4375 72.65625 20.34375 73.4375 \nQ 25.25 74.21875 29.59375 74.21875 \nQ 40.828125 74.21875 47.359375 69.109375 \nQ 53.90625 64.015625 53.90625 55.328125 \nQ 53.90625 49.265625 50.4375 45.09375 \nQ 46.96875 40.921875 40.578125 39.3125 \nz\n\" id=\"DejaVuSans-51\"/>\n      </defs>\n      <g transform=\"translate(7.2 51.389111)scale(0.1 -0.1)\">\n       <use xlink:href=\"#DejaVuSans-51\"/>\n       <use x=\"63.623047\" xlink:href=\"#DejaVuSans-48\"/>\n      </g>\n     </g>\n    </g>\n   </g>\n   <g id=\"patch_13\">\n    <path d=\"M 26.925 133.256901 \nL 26.925 22.318125 \n\" style=\"fill:none;stroke:#000000;stroke-linecap:square;stroke-linejoin:miter;stroke-width:0.8;\"/>\n   </g>\n   <g id=\"patch_14\">\n    <path d=\"M 212.925 133.256901 \nL 212.925 22.318125 \n\" style=\"fill:none;stroke:#000000;stroke-linecap:square;stroke-linejoin:miter;stroke-width:0.8;\"/>\n   </g>\n   <g id=\"patch_15\">\n    <path d=\"M 26.925 133.256901 \nL 212.925 133.256901 \n\" style=\"fill:none;stroke:#000000;stroke-linecap:square;stroke-linejoin:miter;stroke-width:0.8;\"/>\n   </g>\n   <g id=\"patch_16\">\n    <path d=\"M 26.925 22.318125 \nL 212.925 22.318125 \n\" style=\"fill:none;stroke:#000000;stroke-linecap:square;stroke-linejoin:miter;stroke-width:0.8;\"/>\n   </g>\n   <g id=\"text_9\">\n    <!-- danceability -->\n    <defs>\n     <path d=\"M 45.40625 46.390625 \nL 45.40625 75.984375 \nL 54.390625 75.984375 \nL 54.390625 0 \nL 45.40625 0 \nL 45.40625 8.203125 \nQ 42.578125 3.328125 38.25 0.953125 \nQ 33.9375 -1.421875 27.875 -1.421875 \nQ 17.96875 -1.421875 11.734375 6.484375 \nQ 5.515625 14.40625 5.515625 27.296875 \nQ 5.515625 40.1875 11.734375 48.09375 \nQ 17.96875 56 27.875 56 \nQ 33.9375 56 38.25 53.625 \nQ 42.578125 51.265625 45.40625 46.390625 \nz\nM 14.796875 27.296875 \nQ 14.796875 17.390625 18.875 11.75 \nQ 22.953125 6.109375 30.078125 6.109375 \nQ 37.203125 6.109375 41.296875 11.75 \nQ 45.40625 17.390625 45.40625 27.296875 \nQ 45.40625 37.203125 41.296875 42.84375 \nQ 37.203125 48.484375 30.078125 48.484375 \nQ 22.953125 48.484375 18.875 42.84375 \nQ 14.796875 37.203125 14.796875 27.296875 \nz\n\" id=\"DejaVuSans-100\"/>\n     <path d=\"M 34.28125 27.484375 \nQ 23.390625 27.484375 19.1875 25 \nQ 14.984375 22.515625 14.984375 16.5 \nQ 14.984375 11.71875 18.140625 8.90625 \nQ 21.296875 6.109375 26.703125 6.109375 \nQ 34.1875 6.109375 38.703125 11.40625 \nQ 43.21875 16.703125 43.21875 25.484375 \nL 43.21875 27.484375 \nz\nM 52.203125 31.203125 \nL 52.203125 0 \nL 43.21875 0 \nL 43.21875 8.296875 \nQ 40.140625 3.328125 35.546875 0.953125 \nQ 30.953125 -1.421875 24.3125 -1.421875 \nQ 15.921875 -1.421875 10.953125 3.296875 \nQ 6 8.015625 6 15.921875 \nQ 6 25.140625 12.171875 29.828125 \nQ 18.359375 34.515625 30.609375 34.515625 \nL 43.21875 34.515625 \nL 43.21875 35.40625 \nQ 43.21875 41.609375 39.140625 45 \nQ 35.0625 48.390625 27.6875 48.390625 \nQ 23 48.390625 18.546875 47.265625 \nQ 14.109375 46.140625 10.015625 43.890625 \nL 10.015625 52.203125 \nQ 14.9375 54.109375 19.578125 55.046875 \nQ 24.21875 56 28.609375 56 \nQ 40.484375 56 46.34375 49.84375 \nQ 52.203125 43.703125 52.203125 31.203125 \nz\n\" id=\"DejaVuSans-97\"/>\n     <path d=\"M 54.890625 33.015625 \nL 54.890625 0 \nL 45.90625 0 \nL 45.90625 32.71875 \nQ 45.90625 40.484375 42.875 44.328125 \nQ 39.84375 48.1875 33.796875 48.1875 \nQ 26.515625 48.1875 22.3125 43.546875 \nQ 18.109375 38.921875 18.109375 30.90625 \nL 18.109375 0 \nL 9.078125 0 \nL 9.078125 54.6875 \nL 18.109375 54.6875 \nL 18.109375 46.1875 \nQ 21.34375 51.125 25.703125 53.5625 \nQ 30.078125 56 35.796875 56 \nQ 45.21875 56 50.046875 50.171875 \nQ 54.890625 44.34375 54.890625 33.015625 \nz\n\" id=\"DejaVuSans-110\"/>\n     <path d=\"M 48.78125 52.59375 \nL 48.78125 44.1875 \nQ 44.96875 46.296875 41.140625 47.34375 \nQ 37.3125 48.390625 33.40625 48.390625 \nQ 24.65625 48.390625 19.8125 42.84375 \nQ 14.984375 37.3125 14.984375 27.296875 \nQ 14.984375 17.28125 19.8125 11.734375 \nQ 24.65625 6.203125 33.40625 6.203125 \nQ 37.3125 6.203125 41.140625 7.25 \nQ 44.96875 8.296875 48.78125 10.40625 \nL 48.78125 2.09375 \nQ 45.015625 0.34375 40.984375 -0.53125 \nQ 36.96875 -1.421875 32.421875 -1.421875 \nQ 20.0625 -1.421875 12.78125 6.34375 \nQ 5.515625 14.109375 5.515625 27.296875 \nQ 5.515625 40.671875 12.859375 48.328125 \nQ 20.21875 56 33.015625 56 \nQ 37.15625 56 41.109375 55.140625 \nQ 45.0625 54.296875 48.78125 52.59375 \nz\n\" id=\"DejaVuSans-99\"/>\n     <path d=\"M 56.203125 29.59375 \nL 56.203125 25.203125 \nL 14.890625 25.203125 \nQ 15.484375 15.921875 20.484375 11.0625 \nQ 25.484375 6.203125 34.421875 6.203125 \nQ 39.59375 6.203125 44.453125 7.46875 \nQ 49.3125 8.734375 54.109375 11.28125 \nL 54.109375 2.78125 \nQ 49.265625 0.734375 44.1875 -0.34375 \nQ 39.109375 -1.421875 33.890625 -1.421875 \nQ 20.796875 -1.421875 13.15625 6.1875 \nQ 5.515625 13.8125 5.515625 26.8125 \nQ 5.515625 40.234375 12.765625 48.109375 \nQ 20.015625 56 32.328125 56 \nQ 43.359375 56 49.78125 48.890625 \nQ 56.203125 41.796875 56.203125 29.59375 \nz\nM 47.21875 32.234375 \nQ 47.125 39.59375 43.09375 43.984375 \nQ 39.0625 48.390625 32.421875 48.390625 \nQ 24.90625 48.390625 20.390625 44.140625 \nQ 15.875 39.890625 15.1875 32.171875 \nz\n\" id=\"DejaVuSans-101\"/>\n     <path d=\"M 48.6875 27.296875 \nQ 48.6875 37.203125 44.609375 42.84375 \nQ 40.53125 48.484375 33.40625 48.484375 \nQ 26.265625 48.484375 22.1875 42.84375 \nQ 18.109375 37.203125 18.109375 27.296875 \nQ 18.109375 17.390625 22.1875 11.75 \nQ 26.265625 6.109375 33.40625 6.109375 \nQ 40.53125 6.109375 44.609375 11.75 \nQ 48.6875 17.390625 48.6875 27.296875 \nz\nM 18.109375 46.390625 \nQ 20.953125 51.265625 25.265625 53.625 \nQ 29.59375 56 35.59375 56 \nQ 45.5625 56 51.78125 48.09375 \nQ 58.015625 40.1875 58.015625 27.296875 \nQ 58.015625 14.40625 51.78125 6.484375 \nQ 45.5625 -1.421875 35.59375 -1.421875 \nQ 29.59375 -1.421875 25.265625 0.953125 \nQ 20.953125 3.328125 18.109375 8.203125 \nL 18.109375 0 \nL 9.078125 0 \nL 9.078125 75.984375 \nL 18.109375 75.984375 \nz\n\" id=\"DejaVuSans-98\"/>\n     <path d=\"M 9.421875 54.6875 \nL 18.40625 54.6875 \nL 18.40625 0 \nL 9.421875 0 \nz\nM 9.421875 75.984375 \nL 18.40625 75.984375 \nL 18.40625 64.59375 \nL 9.421875 64.59375 \nz\n\" id=\"DejaVuSans-105\"/>\n     <path d=\"M 9.421875 75.984375 \nL 18.40625 75.984375 \nL 18.40625 0 \nL 9.421875 0 \nz\n\" id=\"DejaVuSans-108\"/>\n     <path d=\"M 18.3125 70.21875 \nL 18.3125 54.6875 \nL 36.8125 54.6875 \nL 36.8125 47.703125 \nL 18.3125 47.703125 \nL 18.3125 18.015625 \nQ 18.3125 11.328125 20.140625 9.421875 \nQ 21.96875 7.515625 27.59375 7.515625 \nL 36.8125 7.515625 \nL 36.8125 0 \nL 27.59375 0 \nQ 17.1875 0 13.234375 3.875 \nQ 9.28125 7.765625 9.28125 18.015625 \nL 9.28125 47.703125 \nL 2.6875 47.703125 \nL 2.6875 54.6875 \nL 9.28125 54.6875 \nL 9.28125 70.21875 \nz\n\" id=\"DejaVuSans-116\"/>\n     <path d=\"M 32.171875 -5.078125 \nQ 28.375 -14.84375 24.75 -17.8125 \nQ 21.140625 -20.796875 15.09375 -20.796875 \nL 7.90625 -20.796875 \nL 7.90625 -13.28125 \nL 13.1875 -13.28125 \nQ 16.890625 -13.28125 18.9375 -11.515625 \nQ 21 -9.765625 23.484375 -3.21875 \nL 25.09375 0.875 \nL 2.984375 54.6875 \nL 12.5 54.6875 \nL 29.59375 11.921875 \nL 46.6875 54.6875 \nL 56.203125 54.6875 \nz\n\" id=\"DejaVuSans-121\"/>\n    </defs>\n    <g transform=\"translate(83.255625 16.318125)scale(0.12 -0.12)\">\n     <use xlink:href=\"#DejaVuSans-100\"/>\n     <use x=\"63.476562\" xlink:href=\"#DejaVuSans-97\"/>\n     <use x=\"124.755859\" xlink:href=\"#DejaVuSans-110\"/>\n     <use x=\"188.134766\" xlink:href=\"#DejaVuSans-99\"/>\n     <use x=\"243.115234\" xlink:href=\"#DejaVuSans-101\"/>\n     <use x=\"304.638672\" xlink:href=\"#DejaVuSans-97\"/>\n     <use x=\"365.917969\" xlink:href=\"#DejaVuSans-98\"/>\n     <use x=\"429.394531\" xlink:href=\"#DejaVuSans-105\"/>\n     <use x=\"457.177734\" xlink:href=\"#DejaVuSans-108\"/>\n     <use x=\"484.960938\" xlink:href=\"#DejaVuSans-105\"/>\n     <use x=\"512.744141\" xlink:href=\"#DejaVuSans-116\"/>\n     <use x=\"551.953125\" xlink:href=\"#DejaVuSans-121\"/>\n    </g>\n   </g>\n  </g>\n  <g id=\"axes_2\">\n   <g id=\"patch_17\">\n    <path d=\"M 268.725 133.256901 \nL 454.725 133.256901 \nL 454.725 22.318125 \nL 268.725 22.318125 \nz\n\" style=\"fill:#ffffff;\"/>\n   </g>\n   <g id=\"patch_18\">\n    <path clip-path=\"url(#p3727b43dba)\" d=\"M 277.179545 133.256901 \nL 294.088636 133.256901 \nL 294.088636 51.983072 \nL 277.179545 51.983072 \nz\n\" style=\"fill:#1f77b4;\"/>\n   </g>\n   <g id=\"patch_19\">\n    <path clip-path=\"url(#p3727b43dba)\" d=\"M 294.088636 133.256901 \nL 310.997727 133.256901 \nL 310.997727 35.728307 \nL 294.088636 35.728307 \nz\n\" style=\"fill:#1f77b4;\"/>\n   </g>\n   <g id=\"patch_20\">\n    <path clip-path=\"url(#p3727b43dba)\" d=\"M 310.997727 133.256901 \nL 327.906818 133.256901 \nL 327.906818 31.664615 \nL 310.997727 31.664615 \nz\n\" style=\"fill:#1f77b4;\"/>\n   </g>\n   <g id=\"patch_21\">\n    <path clip-path=\"url(#p3727b43dba)\" d=\"M 327.906818 133.256901 \nL 344.815909 133.256901 \nL 344.815909 47.919381 \nL 327.906818 47.919381 \nz\n\" style=\"fill:#1f77b4;\"/>\n   </g>\n   <g id=\"patch_22\">\n    <path clip-path=\"url(#p3727b43dba)\" d=\"M 344.815909 133.256901 \nL 361.725 133.256901 \nL 361.725 27.600924 \nL 344.815909 27.600924 \nz\n\" style=\"fill:#1f77b4;\"/>\n   </g>\n   <g id=\"patch_23\">\n    <path clip-path=\"url(#p3727b43dba)\" d=\"M 361.725 133.256901 \nL 378.634091 133.256901 \nL 378.634091 35.728307 \nL 361.725 35.728307 \nz\n\" style=\"fill:#1f77b4;\"/>\n   </g>\n   <g id=\"patch_24\">\n    <path clip-path=\"url(#p3727b43dba)\" d=\"M 378.634091 133.256901 \nL 395.543182 133.256901 \nL 395.543182 72.301529 \nL 378.634091 72.301529 \nz\n\" style=\"fill:#1f77b4;\"/>\n   </g>\n   <g id=\"patch_25\">\n    <path clip-path=\"url(#p3727b43dba)\" d=\"M 395.543182 133.256901 \nL 412.452273 133.256901 \nL 412.452273 56.046764 \nL 395.543182 56.046764 \nz\n\" style=\"fill:#1f77b4;\"/>\n   </g>\n   <g id=\"patch_26\">\n    <path clip-path=\"url(#p3727b43dba)\" d=\"M 412.452273 133.256901 \nL 429.361364 133.256901 \nL 429.361364 60.110455 \nL 412.452273 60.110455 \nz\n\" style=\"fill:#1f77b4;\"/>\n   </g>\n   <g id=\"patch_27\">\n    <path clip-path=\"url(#p3727b43dba)\" d=\"M 429.361364 133.256901 \nL 446.270455 133.256901 \nL 446.270455 100.747369 \nL 429.361364 100.747369 \nz\n\" style=\"fill:#1f77b4;\"/>\n   </g>\n   <g id=\"matplotlib.axis_3\">\n    <g id=\"xtick_5\">\n     <g id=\"line2d_17\">\n      <path clip-path=\"url(#p3727b43dba)\" d=\"M 276.718238 133.256901 \nL 276.718238 22.318125 \n\" style=\"fill:none;stroke:#b0b0b0;stroke-linecap:square;stroke-width:0.8;\"/>\n     </g>\n     <g id=\"line2d_18\">\n      <g>\n       <use style=\"stroke:#000000;stroke-width:0.8;\" x=\"276.718238\" xlink:href=\"#md0084b91dd\" y=\"133.256901\"/>\n      </g>\n     </g>\n     <g id=\"text_10\">\n      <!-- 0.0 -->\n      <g transform=\"translate(270.356988 146.335651)scale(0.08 -0.08)\">\n       <use xlink:href=\"#DejaVuSans-48\"/>\n       <use x=\"63.623047\" xlink:href=\"#DejaVuSans-46\"/>\n       <use x=\"95.410156\" xlink:href=\"#DejaVuSans-48\"/>\n      </g>\n     </g>\n    </g>\n    <g id=\"xtick_6\">\n     <g id=\"line2d_19\">\n      <path clip-path=\"url(#p3727b43dba)\" d=\"M 311.533888 133.256901 \nL 311.533888 22.318125 \n\" style=\"fill:none;stroke:#b0b0b0;stroke-linecap:square;stroke-width:0.8;\"/>\n     </g>\n     <g id=\"line2d_20\">\n      <g>\n       <use style=\"stroke:#000000;stroke-width:0.8;\" x=\"311.533888\" xlink:href=\"#md0084b91dd\" y=\"133.256901\"/>\n      </g>\n     </g>\n     <g id=\"text_11\">\n      <!-- 0.2 -->\n      <g transform=\"translate(305.172638 146.335651)scale(0.08 -0.08)\">\n       <use xlink:href=\"#DejaVuSans-48\"/>\n       <use x=\"63.623047\" xlink:href=\"#DejaVuSans-46\"/>\n       <use x=\"95.410156\" xlink:href=\"#DejaVuSans-50\"/>\n      </g>\n     </g>\n    </g>\n    <g id=\"xtick_7\">\n     <g id=\"line2d_21\">\n      <path clip-path=\"url(#p3727b43dba)\" d=\"M 346.349538 133.256901 \nL 346.349538 22.318125 \n\" style=\"fill:none;stroke:#b0b0b0;stroke-linecap:square;stroke-width:0.8;\"/>\n     </g>\n     <g id=\"line2d_22\">\n      <g>\n       <use style=\"stroke:#000000;stroke-width:0.8;\" x=\"346.349538\" xlink:href=\"#md0084b91dd\" y=\"133.256901\"/>\n      </g>\n     </g>\n     <g id=\"text_12\">\n      <!-- 0.4 -->\n      <g transform=\"translate(339.988288 146.335651)scale(0.08 -0.08)\">\n       <use xlink:href=\"#DejaVuSans-48\"/>\n       <use x=\"63.623047\" xlink:href=\"#DejaVuSans-46\"/>\n       <use x=\"95.410156\" xlink:href=\"#DejaVuSans-52\"/>\n      </g>\n     </g>\n    </g>\n    <g id=\"xtick_8\">\n     <g id=\"line2d_23\">\n      <path clip-path=\"url(#p3727b43dba)\" d=\"M 381.165189 133.256901 \nL 381.165189 22.318125 \n\" style=\"fill:none;stroke:#b0b0b0;stroke-linecap:square;stroke-width:0.8;\"/>\n     </g>\n     <g id=\"line2d_24\">\n      <g>\n       <use style=\"stroke:#000000;stroke-width:0.8;\" x=\"381.165189\" xlink:href=\"#md0084b91dd\" y=\"133.256901\"/>\n      </g>\n     </g>\n     <g id=\"text_13\">\n      <!-- 0.6 -->\n      <g transform=\"translate(374.803939 146.335651)scale(0.08 -0.08)\">\n       <use xlink:href=\"#DejaVuSans-48\"/>\n       <use x=\"63.623047\" xlink:href=\"#DejaVuSans-46\"/>\n       <use x=\"95.410156\" xlink:href=\"#DejaVuSans-54\"/>\n      </g>\n     </g>\n    </g>\n    <g id=\"xtick_9\">\n     <g id=\"line2d_25\">\n      <path clip-path=\"url(#p3727b43dba)\" d=\"M 415.980839 133.256901 \nL 415.980839 22.318125 \n\" style=\"fill:none;stroke:#b0b0b0;stroke-linecap:square;stroke-width:0.8;\"/>\n     </g>\n     <g id=\"line2d_26\">\n      <g>\n       <use style=\"stroke:#000000;stroke-width:0.8;\" x=\"415.980839\" xlink:href=\"#md0084b91dd\" y=\"133.256901\"/>\n      </g>\n     </g>\n     <g id=\"text_14\">\n      <!-- 0.8 -->\n      <g transform=\"translate(409.619589 146.335651)scale(0.08 -0.08)\">\n       <use xlink:href=\"#DejaVuSans-48\"/>\n       <use x=\"63.623047\" xlink:href=\"#DejaVuSans-46\"/>\n       <use x=\"95.410156\" xlink:href=\"#DejaVuSans-56\"/>\n      </g>\n     </g>\n    </g>\n    <g id=\"xtick_10\">\n     <g id=\"line2d_27\">\n      <path clip-path=\"url(#p3727b43dba)\" d=\"M 450.796489 133.256901 \nL 450.796489 22.318125 \n\" style=\"fill:none;stroke:#b0b0b0;stroke-linecap:square;stroke-width:0.8;\"/>\n     </g>\n     <g id=\"line2d_28\">\n      <g>\n       <use style=\"stroke:#000000;stroke-width:0.8;\" x=\"450.796489\" xlink:href=\"#md0084b91dd\" y=\"133.256901\"/>\n      </g>\n     </g>\n     <g id=\"text_15\">\n      <!-- 1.0 -->\n      <g transform=\"translate(444.435239 146.335651)scale(0.08 -0.08)\">\n       <use xlink:href=\"#DejaVuSans-49\"/>\n       <use x=\"63.623047\" xlink:href=\"#DejaVuSans-46\"/>\n       <use x=\"95.410156\" xlink:href=\"#DejaVuSans-48\"/>\n      </g>\n     </g>\n    </g>\n   </g>\n   <g id=\"matplotlib.axis_4\">\n    <g id=\"ytick_5\">\n     <g id=\"line2d_29\">\n      <path clip-path=\"url(#p3727b43dba)\" d=\"M 268.725 133.256901 \nL 454.725 133.256901 \n\" style=\"fill:none;stroke:#b0b0b0;stroke-linecap:square;stroke-width:0.8;\"/>\n     </g>\n     <g id=\"line2d_30\">\n      <g>\n       <use style=\"stroke:#000000;stroke-width:0.8;\" x=\"268.725\" xlink:href=\"#m352ffda50e\" y=\"133.256901\"/>\n      </g>\n     </g>\n     <g id=\"text_16\">\n      <!-- 0 -->\n      <g transform=\"translate(255.3625 137.056119)scale(0.1 -0.1)\">\n       <use xlink:href=\"#DejaVuSans-48\"/>\n      </g>\n     </g>\n    </g>\n    <g id=\"ytick_6\">\n     <g id=\"line2d_31\">\n      <path clip-path=\"url(#p3727b43dba)\" d=\"M 268.725 92.619986 \nL 454.725 92.619986 \n\" style=\"fill:none;stroke:#b0b0b0;stroke-linecap:square;stroke-width:0.8;\"/>\n     </g>\n     <g id=\"line2d_32\">\n      <g>\n       <use style=\"stroke:#000000;stroke-width:0.8;\" x=\"268.725\" xlink:href=\"#m352ffda50e\" y=\"92.619986\"/>\n      </g>\n     </g>\n     <g id=\"text_17\">\n      <!-- 10 -->\n      <g transform=\"translate(249 96.419205)scale(0.1 -0.1)\">\n       <use xlink:href=\"#DejaVuSans-49\"/>\n       <use x=\"63.623047\" xlink:href=\"#DejaVuSans-48\"/>\n      </g>\n     </g>\n    </g>\n    <g id=\"ytick_7\">\n     <g id=\"line2d_33\">\n      <path clip-path=\"url(#p3727b43dba)\" d=\"M 268.725 51.983072 \nL 454.725 51.983072 \n\" style=\"fill:none;stroke:#b0b0b0;stroke-linecap:square;stroke-width:0.8;\"/>\n     </g>\n     <g id=\"line2d_34\">\n      <g>\n       <use style=\"stroke:#000000;stroke-width:0.8;\" x=\"268.725\" xlink:href=\"#m352ffda50e\" y=\"51.983072\"/>\n      </g>\n     </g>\n     <g id=\"text_18\">\n      <!-- 20 -->\n      <g transform=\"translate(249 55.782291)scale(0.1 -0.1)\">\n       <use xlink:href=\"#DejaVuSans-50\"/>\n       <use x=\"63.623047\" xlink:href=\"#DejaVuSans-48\"/>\n      </g>\n     </g>\n    </g>\n   </g>\n   <g id=\"patch_28\">\n    <path d=\"M 268.725 133.256901 \nL 268.725 22.318125 \n\" style=\"fill:none;stroke:#000000;stroke-linecap:square;stroke-linejoin:miter;stroke-width:0.8;\"/>\n   </g>\n   <g id=\"patch_29\">\n    <path d=\"M 454.725 133.256901 \nL 454.725 22.318125 \n\" style=\"fill:none;stroke:#000000;stroke-linecap:square;stroke-linejoin:miter;stroke-width:0.8;\"/>\n   </g>\n   <g id=\"patch_30\">\n    <path d=\"M 268.725 133.256901 \nL 454.725 133.256901 \n\" style=\"fill:none;stroke:#000000;stroke-linecap:square;stroke-linejoin:miter;stroke-width:0.8;\"/>\n   </g>\n   <g id=\"patch_31\">\n    <path d=\"M 268.725 22.318125 \nL 454.725 22.318125 \n\" style=\"fill:none;stroke:#000000;stroke-linecap:square;stroke-linejoin:miter;stroke-width:0.8;\"/>\n   </g>\n   <g id=\"text_19\">\n    <!-- energy -->\n    <defs>\n     <path d=\"M 41.109375 46.296875 \nQ 39.59375 47.171875 37.8125 47.578125 \nQ 36.03125 48 33.890625 48 \nQ 26.265625 48 22.1875 43.046875 \nQ 18.109375 38.09375 18.109375 28.8125 \nL 18.109375 0 \nL 9.078125 0 \nL 9.078125 54.6875 \nL 18.109375 54.6875 \nL 18.109375 46.1875 \nQ 20.953125 51.171875 25.484375 53.578125 \nQ 30.03125 56 36.53125 56 \nQ 37.453125 56 38.578125 55.875 \nQ 39.703125 55.765625 41.0625 55.515625 \nz\n\" id=\"DejaVuSans-114\"/>\n     <path d=\"M 45.40625 27.984375 \nQ 45.40625 37.75 41.375 43.109375 \nQ 37.359375 48.484375 30.078125 48.484375 \nQ 22.859375 48.484375 18.828125 43.109375 \nQ 14.796875 37.75 14.796875 27.984375 \nQ 14.796875 18.265625 18.828125 12.890625 \nQ 22.859375 7.515625 30.078125 7.515625 \nQ 37.359375 7.515625 41.375 12.890625 \nQ 45.40625 18.265625 45.40625 27.984375 \nz\nM 54.390625 6.78125 \nQ 54.390625 -7.171875 48.1875 -13.984375 \nQ 42 -20.796875 29.203125 -20.796875 \nQ 24.46875 -20.796875 20.265625 -20.09375 \nQ 16.0625 -19.390625 12.109375 -17.921875 \nL 12.109375 -9.1875 \nQ 16.0625 -11.328125 19.921875 -12.34375 \nQ 23.78125 -13.375 27.78125 -13.375 \nQ 36.625 -13.375 41.015625 -8.765625 \nQ 45.40625 -4.15625 45.40625 5.171875 \nL 45.40625 9.625 \nQ 42.625 4.78125 38.28125 2.390625 \nQ 33.9375 0 27.875 0 \nQ 17.828125 0 11.671875 7.65625 \nQ 5.515625 15.328125 5.515625 27.984375 \nQ 5.515625 40.671875 11.671875 48.328125 \nQ 17.828125 56 27.875 56 \nQ 33.9375 56 38.28125 53.609375 \nQ 42.625 51.21875 45.40625 46.390625 \nL 45.40625 54.6875 \nL 54.390625 54.6875 \nz\n\" id=\"DejaVuSans-103\"/>\n    </defs>\n    <g transform=\"translate(340.816875 16.318125)scale(0.12 -0.12)\">\n     <use xlink:href=\"#DejaVuSans-101\"/>\n     <use x=\"61.523438\" xlink:href=\"#DejaVuSans-110\"/>\n     <use x=\"124.902344\" xlink:href=\"#DejaVuSans-101\"/>\n     <use x=\"186.425781\" xlink:href=\"#DejaVuSans-114\"/>\n     <use x=\"225.789062\" xlink:href=\"#DejaVuSans-103\"/>\n     <use x=\"289.265625\" xlink:href=\"#DejaVuSans-121\"/>\n    </g>\n   </g>\n  </g>\n  <g id=\"axes_3\">\n   <g id=\"patch_32\">\n    <path d=\"M 510.525 133.256901 \nL 696.525 133.256901 \nL 696.525 22.318125 \nL 510.525 22.318125 \nz\n\" style=\"fill:#ffffff;\"/>\n   </g>\n   <g id=\"patch_33\">\n    <path clip-path=\"url(#pd59cddd899)\" d=\"M 518.979545 133.256901 \nL 535.888636 133.256901 \nL 535.888636 27.600924 \nL 518.979545 27.600924 \nz\n\" style=\"fill:#1f77b4;\"/>\n   </g>\n   <g id=\"patch_34\">\n    <path clip-path=\"url(#pd59cddd899)\" d=\"M 535.888636 133.256901 \nL 552.797727 133.256901 \nL 552.797727 89.233577 \nL 535.888636 89.233577 \nz\n\" style=\"fill:#1f77b4;\"/>\n   </g>\n   <g id=\"patch_35\">\n    <path clip-path=\"url(#pd59cddd899)\" d=\"M 552.797727 133.256901 \nL 569.706818 133.256901 \nL 569.706818 109.044073 \nL 552.797727 109.044073 \nz\n\" style=\"fill:#1f77b4;\"/>\n   </g>\n   <g id=\"patch_36\">\n    <path clip-path=\"url(#pd59cddd899)\" d=\"M 569.706818 133.256901 \nL 586.615909 133.256901 \nL 586.615909 93.635909 \nL 569.706818 93.635909 \nz\n\" style=\"fill:#1f77b4;\"/>\n   </g>\n   <g id=\"patch_37\">\n    <path clip-path=\"url(#pd59cddd899)\" d=\"M 586.615909 133.256901 \nL 603.525 133.256901 \nL 603.525 82.630078 \nL 586.615909 82.630078 \nz\n\" style=\"fill:#1f77b4;\"/>\n   </g>\n   <g id=\"patch_38\">\n    <path clip-path=\"url(#pd59cddd899)\" d=\"M 603.525 133.256901 \nL 620.434091 133.256901 \nL 620.434091 104.64174 \nL 603.525 104.64174 \nz\n\" style=\"fill:#1f77b4;\"/>\n   </g>\n   <g id=\"patch_39\">\n    <path clip-path=\"url(#pd59cddd899)\" d=\"M 620.434091 133.256901 \nL 637.343182 133.256901 \nL 637.343182 82.630078 \nL 620.434091 82.630078 \nz\n\" style=\"fill:#1f77b4;\"/>\n   </g>\n   <g id=\"patch_40\">\n    <path clip-path=\"url(#pd59cddd899)\" d=\"M 637.343182 133.256901 \nL 654.252273 133.256901 \nL 654.252273 117.848737 \nL 637.343182 117.848737 \nz\n\" style=\"fill:#1f77b4;\"/>\n   </g>\n   <g id=\"patch_41\">\n    <path clip-path=\"url(#pd59cddd899)\" d=\"M 654.252273 133.256901 \nL 671.161364 133.256901 \nL 671.161364 93.635909 \nL 654.252273 93.635909 \nz\n\" style=\"fill:#1f77b4;\"/>\n   </g>\n   <g id=\"patch_42\">\n    <path clip-path=\"url(#pd59cddd899)\" d=\"M 671.161364 133.256901 \nL 688.070455 133.256901 \nL 688.070455 91.434743 \nL 671.161364 91.434743 \nz\n\" style=\"fill:#1f77b4;\"/>\n   </g>\n   <g id=\"matplotlib.axis_5\">\n    <g id=\"xtick_11\">\n     <g id=\"line2d_35\">\n      <path clip-path=\"url(#pd59cddd899)\" d=\"M 518.979545 133.256901 \nL 518.979545 22.318125 \n\" style=\"fill:none;stroke:#b0b0b0;stroke-linecap:square;stroke-width:0.8;\"/>\n     </g>\n     <g id=\"line2d_36\">\n      <g>\n       <use style=\"stroke:#000000;stroke-width:0.8;\" x=\"518.979545\" xlink:href=\"#md0084b91dd\" y=\"133.256901\"/>\n      </g>\n     </g>\n     <g id=\"text_20\">\n      <!-- 0.0 -->\n      <g transform=\"translate(512.618295 146.335651)scale(0.08 -0.08)\">\n       <use xlink:href=\"#DejaVuSans-48\"/>\n       <use x=\"63.623047\" xlink:href=\"#DejaVuSans-46\"/>\n       <use x=\"95.410156\" xlink:href=\"#DejaVuSans-48\"/>\n      </g>\n     </g>\n    </g>\n    <g id=\"xtick_12\">\n     <g id=\"line2d_37\">\n      <path clip-path=\"url(#pd59cddd899)\" d=\"M 557.409298 133.256901 \nL 557.409298 22.318125 \n\" style=\"fill:none;stroke:#b0b0b0;stroke-linecap:square;stroke-width:0.8;\"/>\n     </g>\n     <g id=\"line2d_38\">\n      <g>\n       <use style=\"stroke:#000000;stroke-width:0.8;\" x=\"557.409298\" xlink:href=\"#md0084b91dd\" y=\"133.256901\"/>\n      </g>\n     </g>\n     <g id=\"text_21\">\n      <!-- 2.5 -->\n      <defs>\n       <path d=\"M 10.796875 72.90625 \nL 49.515625 72.90625 \nL 49.515625 64.59375 \nL 19.828125 64.59375 \nL 19.828125 46.734375 \nQ 21.96875 47.46875 24.109375 47.828125 \nQ 26.265625 48.1875 28.421875 48.1875 \nQ 40.625 48.1875 47.75 41.5 \nQ 54.890625 34.8125 54.890625 23.390625 \nQ 54.890625 11.625 47.5625 5.09375 \nQ 40.234375 -1.421875 26.90625 -1.421875 \nQ 22.3125 -1.421875 17.546875 -0.640625 \nQ 12.796875 0.140625 7.71875 1.703125 \nL 7.71875 11.625 \nQ 12.109375 9.234375 16.796875 8.0625 \nQ 21.484375 6.890625 26.703125 6.890625 \nQ 35.15625 6.890625 40.078125 11.328125 \nQ 45.015625 15.765625 45.015625 23.390625 \nQ 45.015625 31 40.078125 35.4375 \nQ 35.15625 39.890625 26.703125 39.890625 \nQ 22.75 39.890625 18.8125 39.015625 \nQ 14.890625 38.140625 10.796875 36.28125 \nz\n\" id=\"DejaVuSans-53\"/>\n      </defs>\n      <g transform=\"translate(551.048048 146.335651)scale(0.08 -0.08)\">\n       <use xlink:href=\"#DejaVuSans-50\"/>\n       <use x=\"63.623047\" xlink:href=\"#DejaVuSans-46\"/>\n       <use x=\"95.410156\" xlink:href=\"#DejaVuSans-53\"/>\n      </g>\n     </g>\n    </g>\n    <g id=\"xtick_13\">\n     <g id=\"line2d_39\">\n      <path clip-path=\"url(#pd59cddd899)\" d=\"M 595.83905 133.256901 \nL 595.83905 22.318125 \n\" style=\"fill:none;stroke:#b0b0b0;stroke-linecap:square;stroke-width:0.8;\"/>\n     </g>\n     <g id=\"line2d_40\">\n      <g>\n       <use style=\"stroke:#000000;stroke-width:0.8;\" x=\"595.83905\" xlink:href=\"#md0084b91dd\" y=\"133.256901\"/>\n      </g>\n     </g>\n     <g id=\"text_22\">\n      <!-- 5.0 -->\n      <g transform=\"translate(589.4778 146.335651)scale(0.08 -0.08)\">\n       <use xlink:href=\"#DejaVuSans-53\"/>\n       <use x=\"63.623047\" xlink:href=\"#DejaVuSans-46\"/>\n       <use x=\"95.410156\" xlink:href=\"#DejaVuSans-48\"/>\n      </g>\n     </g>\n    </g>\n    <g id=\"xtick_14\">\n     <g id=\"line2d_41\">\n      <path clip-path=\"url(#pd59cddd899)\" d=\"M 634.268802 133.256901 \nL 634.268802 22.318125 \n\" style=\"fill:none;stroke:#b0b0b0;stroke-linecap:square;stroke-width:0.8;\"/>\n     </g>\n     <g id=\"line2d_42\">\n      <g>\n       <use style=\"stroke:#000000;stroke-width:0.8;\" x=\"634.268802\" xlink:href=\"#md0084b91dd\" y=\"133.256901\"/>\n      </g>\n     </g>\n     <g id=\"text_23\">\n      <!-- 7.5 -->\n      <defs>\n       <path d=\"M 8.203125 72.90625 \nL 55.078125 72.90625 \nL 55.078125 68.703125 \nL 28.609375 0 \nL 18.3125 0 \nL 43.21875 64.59375 \nL 8.203125 64.59375 \nz\n\" id=\"DejaVuSans-55\"/>\n      </defs>\n      <g transform=\"translate(627.907552 146.335651)scale(0.08 -0.08)\">\n       <use xlink:href=\"#DejaVuSans-55\"/>\n       <use x=\"63.623047\" xlink:href=\"#DejaVuSans-46\"/>\n       <use x=\"95.410156\" xlink:href=\"#DejaVuSans-53\"/>\n      </g>\n     </g>\n    </g>\n    <g id=\"xtick_15\">\n     <g id=\"line2d_43\">\n      <path clip-path=\"url(#pd59cddd899)\" d=\"M 672.698554 133.256901 \nL 672.698554 22.318125 \n\" style=\"fill:none;stroke:#b0b0b0;stroke-linecap:square;stroke-width:0.8;\"/>\n     </g>\n     <g id=\"line2d_44\">\n      <g>\n       <use style=\"stroke:#000000;stroke-width:0.8;\" x=\"672.698554\" xlink:href=\"#md0084b91dd\" y=\"133.256901\"/>\n      </g>\n     </g>\n     <g id=\"text_24\">\n      <!-- 10.0 -->\n      <g transform=\"translate(663.792304 146.335651)scale(0.08 -0.08)\">\n       <use xlink:href=\"#DejaVuSans-49\"/>\n       <use x=\"63.623047\" xlink:href=\"#DejaVuSans-48\"/>\n       <use x=\"127.246094\" xlink:href=\"#DejaVuSans-46\"/>\n       <use x=\"159.033203\" xlink:href=\"#DejaVuSans-48\"/>\n      </g>\n     </g>\n    </g>\n   </g>\n   <g id=\"matplotlib.axis_6\">\n    <g id=\"ytick_8\">\n     <g id=\"line2d_45\">\n      <path clip-path=\"url(#pd59cddd899)\" d=\"M 510.525 133.256901 \nL 696.525 133.256901 \n\" style=\"fill:none;stroke:#b0b0b0;stroke-linecap:square;stroke-width:0.8;\"/>\n     </g>\n     <g id=\"line2d_46\">\n      <g>\n       <use style=\"stroke:#000000;stroke-width:0.8;\" x=\"510.525\" xlink:href=\"#m352ffda50e\" y=\"133.256901\"/>\n      </g>\n     </g>\n     <g id=\"text_25\">\n      <!-- 0 -->\n      <g transform=\"translate(497.1625 137.056119)scale(0.1 -0.1)\">\n       <use xlink:href=\"#DejaVuSans-48\"/>\n      </g>\n     </g>\n    </g>\n    <g id=\"ytick_9\">\n     <g id=\"line2d_47\">\n      <path clip-path=\"url(#pd59cddd899)\" d=\"M 510.525 89.233577 \nL 696.525 89.233577 \n\" style=\"fill:none;stroke:#b0b0b0;stroke-linecap:square;stroke-width:0.8;\"/>\n     </g>\n     <g id=\"line2d_48\">\n      <g>\n       <use style=\"stroke:#000000;stroke-width:0.8;\" x=\"510.525\" xlink:href=\"#m352ffda50e\" y=\"89.233577\"/>\n      </g>\n     </g>\n     <g id=\"text_26\">\n      <!-- 20 -->\n      <g transform=\"translate(490.8 93.032796)scale(0.1 -0.1)\">\n       <use xlink:href=\"#DejaVuSans-50\"/>\n       <use x=\"63.623047\" xlink:href=\"#DejaVuSans-48\"/>\n      </g>\n     </g>\n    </g>\n    <g id=\"ytick_10\">\n     <g id=\"line2d_49\">\n      <path clip-path=\"url(#pd59cddd899)\" d=\"M 510.525 45.210253 \nL 696.525 45.210253 \n\" style=\"fill:none;stroke:#b0b0b0;stroke-linecap:square;stroke-width:0.8;\"/>\n     </g>\n     <g id=\"line2d_50\">\n      <g>\n       <use style=\"stroke:#000000;stroke-width:0.8;\" x=\"510.525\" xlink:href=\"#m352ffda50e\" y=\"45.210253\"/>\n      </g>\n     </g>\n     <g id=\"text_27\">\n      <!-- 40 -->\n      <g transform=\"translate(490.8 49.009472)scale(0.1 -0.1)\">\n       <use xlink:href=\"#DejaVuSans-52\"/>\n       <use x=\"63.623047\" xlink:href=\"#DejaVuSans-48\"/>\n      </g>\n     </g>\n    </g>\n   </g>\n   <g id=\"patch_43\">\n    <path d=\"M 510.525 133.256901 \nL 510.525 22.318125 \n\" style=\"fill:none;stroke:#000000;stroke-linecap:square;stroke-linejoin:miter;stroke-width:0.8;\"/>\n   </g>\n   <g id=\"patch_44\">\n    <path d=\"M 696.525 133.256901 \nL 696.525 22.318125 \n\" style=\"fill:none;stroke:#000000;stroke-linecap:square;stroke-linejoin:miter;stroke-width:0.8;\"/>\n   </g>\n   <g id=\"patch_45\">\n    <path d=\"M 510.525 133.256901 \nL 696.525 133.256901 \n\" style=\"fill:none;stroke:#000000;stroke-linecap:square;stroke-linejoin:miter;stroke-width:0.8;\"/>\n   </g>\n   <g id=\"patch_46\">\n    <path d=\"M 510.525 22.318125 \nL 696.525 22.318125 \n\" style=\"fill:none;stroke:#000000;stroke-linecap:square;stroke-linejoin:miter;stroke-width:0.8;\"/>\n   </g>\n   <g id=\"text_28\">\n    <!-- key -->\n    <defs>\n     <path d=\"M 9.078125 75.984375 \nL 18.109375 75.984375 \nL 18.109375 31.109375 \nL 44.921875 54.6875 \nL 56.390625 54.6875 \nL 27.390625 29.109375 \nL 57.625 0 \nL 45.90625 0 \nL 18.109375 26.703125 \nL 18.109375 0 \nL 9.078125 0 \nz\n\" id=\"DejaVuSans-107\"/>\n    </defs>\n    <g transform=\"translate(593.025 16.318125)scale(0.12 -0.12)\">\n     <use xlink:href=\"#DejaVuSans-107\"/>\n     <use x=\"54.285156\" xlink:href=\"#DejaVuSans-101\"/>\n     <use x=\"115.808594\" xlink:href=\"#DejaVuSans-121\"/>\n    </g>\n   </g>\n  </g>\n  <g id=\"axes_4\">\n   <g id=\"patch_47\">\n    <path d=\"M 26.925 277.477309 \nL 212.925 277.477309 \nL 212.925 166.538533 \nL 26.925 166.538533 \nz\n\" style=\"fill:#ffffff;\"/>\n   </g>\n   <g id=\"patch_48\">\n    <path clip-path=\"url(#p866a1dbfe6)\" d=\"M 35.379545 277.477309 \nL 52.288636 277.477309 \nL 52.288636 272.364923 \nL 35.379545 272.364923 \nz\n\" style=\"fill:#1f77b4;\"/>\n   </g>\n   <g id=\"patch_49\">\n    <path clip-path=\"url(#p866a1dbfe6)\" d=\"M 52.288636 277.477309 \nL 69.197727 277.477309 \nL 69.197727 274.069051 \nL 52.288636 274.069051 \nz\n\" style=\"fill:#1f77b4;\"/>\n   </g>\n   <g id=\"patch_50\">\n    <path clip-path=\"url(#p866a1dbfe6)\" d=\"M 69.197727 277.477309 \nL 86.106818 277.477309 \nL 86.106818 274.069051 \nL 69.197727 274.069051 \nz\n\" style=\"fill:#1f77b4;\"/>\n   </g>\n   <g id=\"patch_51\">\n    <path clip-path=\"url(#p866a1dbfe6)\" d=\"M 86.106818 277.477309 \nL 103.015909 277.477309 \nL 103.015909 274.069051 \nL 86.106818 274.069051 \nz\n\" style=\"fill:#1f77b4;\"/>\n   </g>\n   <g id=\"patch_52\">\n    <path clip-path=\"url(#p866a1dbfe6)\" d=\"M 103.015909 277.477309 \nL 119.925 277.477309 \nL 119.925 262.140151 \nL 103.015909 262.140151 \nz\n\" style=\"fill:#1f77b4;\"/>\n   </g>\n   <g id=\"patch_53\">\n    <path clip-path=\"url(#p866a1dbfe6)\" d=\"M 119.925 277.477309 \nL 136.834091 277.477309 \nL 136.834091 255.323636 \nL 119.925 255.323636 \nz\n\" style=\"fill:#1f77b4;\"/>\n   </g>\n   <g id=\"patch_54\">\n    <path clip-path=\"url(#p866a1dbfe6)\" d=\"M 136.834091 277.477309 \nL 153.743182 277.477309 \nL 153.743182 234.874092 \nL 136.834091 234.874092 \nz\n\" style=\"fill:#1f77b4;\"/>\n   </g>\n   <g id=\"patch_55\">\n    <path clip-path=\"url(#p866a1dbfe6)\" d=\"M 153.743182 277.477309 \nL 170.652273 277.477309 \nL 170.652273 204.199776 \nL 153.743182 204.199776 \nz\n\" style=\"fill:#1f77b4;\"/>\n   </g>\n   <g id=\"patch_56\">\n    <path clip-path=\"url(#p866a1dbfe6)\" d=\"M 170.652273 277.477309 \nL 187.561364 277.477309 \nL 187.561364 171.821332 \nL 170.652273 171.821332 \nz\n\" style=\"fill:#1f77b4;\"/>\n   </g>\n   <g id=\"patch_57\">\n    <path clip-path=\"url(#p866a1dbfe6)\" d=\"M 187.561364 277.477309 \nL 204.470455 277.477309 \nL 204.470455 211.016291 \nL 187.561364 211.016291 \nz\n\" style=\"fill:#1f77b4;\"/>\n   </g>\n   <g id=\"matplotlib.axis_7\">\n    <g id=\"xtick_16\">\n     <g id=\"line2d_51\">\n      <path clip-path=\"url(#p866a1dbfe6)\" d=\"M 69.804277 277.477309 \nL 69.804277 166.538533 \n\" style=\"fill:none;stroke:#b0b0b0;stroke-linecap:square;stroke-width:0.8;\"/>\n     </g>\n     <g id=\"line2d_52\">\n      <g>\n       <use style=\"stroke:#000000;stroke-width:0.8;\" x=\"69.804277\" xlink:href=\"#md0084b91dd\" y=\"277.477309\"/>\n      </g>\n     </g>\n     <g id=\"text_29\">\n      <!-- −30 -->\n      <defs>\n       <path d=\"M 10.59375 35.5 \nL 73.1875 35.5 \nL 73.1875 27.203125 \nL 10.59375 27.203125 \nz\n\" id=\"DejaVuSans-8722\"/>\n      </defs>\n      <g transform=\"translate(61.362402 290.556059)scale(0.08 -0.08)\">\n       <use xlink:href=\"#DejaVuSans-8722\"/>\n       <use x=\"83.789062\" xlink:href=\"#DejaVuSans-51\"/>\n       <use x=\"147.412109\" xlink:href=\"#DejaVuSans-48\"/>\n      </g>\n     </g>\n    </g>\n    <g id=\"xtick_17\">\n     <g id=\"line2d_53\">\n      <path clip-path=\"url(#p866a1dbfe6)\" d=\"M 120.01538 277.477309 \nL 120.01538 166.538533 \n\" style=\"fill:none;stroke:#b0b0b0;stroke-linecap:square;stroke-width:0.8;\"/>\n     </g>\n     <g id=\"line2d_54\">\n      <g>\n       <use style=\"stroke:#000000;stroke-width:0.8;\" x=\"120.01538\" xlink:href=\"#md0084b91dd\" y=\"277.477309\"/>\n      </g>\n     </g>\n     <g id=\"text_30\">\n      <!-- −20 -->\n      <g transform=\"translate(111.573505 290.556059)scale(0.08 -0.08)\">\n       <use xlink:href=\"#DejaVuSans-8722\"/>\n       <use x=\"83.789062\" xlink:href=\"#DejaVuSans-50\"/>\n       <use x=\"147.412109\" xlink:href=\"#DejaVuSans-48\"/>\n      </g>\n     </g>\n    </g>\n    <g id=\"xtick_18\">\n     <g id=\"line2d_55\">\n      <path clip-path=\"url(#p866a1dbfe6)\" d=\"M 170.226483 277.477309 \nL 170.226483 166.538533 \n\" style=\"fill:none;stroke:#b0b0b0;stroke-linecap:square;stroke-width:0.8;\"/>\n     </g>\n     <g id=\"line2d_56\">\n      <g>\n       <use style=\"stroke:#000000;stroke-width:0.8;\" x=\"170.226483\" xlink:href=\"#md0084b91dd\" y=\"277.477309\"/>\n      </g>\n     </g>\n     <g id=\"text_31\">\n      <!-- −10 -->\n      <g transform=\"translate(161.784608 290.556059)scale(0.08 -0.08)\">\n       <use xlink:href=\"#DejaVuSans-8722\"/>\n       <use x=\"83.789062\" xlink:href=\"#DejaVuSans-49\"/>\n       <use x=\"147.412109\" xlink:href=\"#DejaVuSans-48\"/>\n      </g>\n     </g>\n    </g>\n   </g>\n   <g id=\"matplotlib.axis_8\">\n    <g id=\"ytick_11\">\n     <g id=\"line2d_57\">\n      <path clip-path=\"url(#p866a1dbfe6)\" d=\"M 26.925 277.477309 \nL 212.925 277.477309 \n\" style=\"fill:none;stroke:#b0b0b0;stroke-linecap:square;stroke-width:0.8;\"/>\n     </g>\n     <g id=\"line2d_58\">\n      <g>\n       <use style=\"stroke:#000000;stroke-width:0.8;\" x=\"26.925\" xlink:href=\"#m352ffda50e\" y=\"277.477309\"/>\n      </g>\n     </g>\n     <g id=\"text_32\">\n      <!-- 0 -->\n      <g transform=\"translate(13.5625 281.276527)scale(0.1 -0.1)\">\n       <use xlink:href=\"#DejaVuSans-48\"/>\n      </g>\n     </g>\n    </g>\n    <g id=\"ytick_12\">\n     <g id=\"line2d_59\">\n      <path clip-path=\"url(#p866a1dbfe6)\" d=\"M 26.925 243.394736 \nL 212.925 243.394736 \n\" style=\"fill:none;stroke:#b0b0b0;stroke-linecap:square;stroke-width:0.8;\"/>\n     </g>\n     <g id=\"line2d_60\">\n      <g>\n       <use style=\"stroke:#000000;stroke-width:0.8;\" x=\"26.925\" xlink:href=\"#m352ffda50e\" y=\"243.394736\"/>\n      </g>\n     </g>\n     <g id=\"text_33\">\n      <!-- 20 -->\n      <g transform=\"translate(7.2 247.193954)scale(0.1 -0.1)\">\n       <use xlink:href=\"#DejaVuSans-50\"/>\n       <use x=\"63.623047\" xlink:href=\"#DejaVuSans-48\"/>\n      </g>\n     </g>\n    </g>\n    <g id=\"ytick_13\">\n     <g id=\"line2d_61\">\n      <path clip-path=\"url(#p866a1dbfe6)\" d=\"M 26.925 209.312162 \nL 212.925 209.312162 \n\" style=\"fill:none;stroke:#b0b0b0;stroke-linecap:square;stroke-width:0.8;\"/>\n     </g>\n     <g id=\"line2d_62\">\n      <g>\n       <use style=\"stroke:#000000;stroke-width:0.8;\" x=\"26.925\" xlink:href=\"#m352ffda50e\" y=\"209.312162\"/>\n      </g>\n     </g>\n     <g id=\"text_34\">\n      <!-- 40 -->\n      <g transform=\"translate(7.2 213.111381)scale(0.1 -0.1)\">\n       <use xlink:href=\"#DejaVuSans-52\"/>\n       <use x=\"63.623047\" xlink:href=\"#DejaVuSans-48\"/>\n      </g>\n     </g>\n    </g>\n    <g id=\"ytick_14\">\n     <g id=\"line2d_63\">\n      <path clip-path=\"url(#p866a1dbfe6)\" d=\"M 26.925 175.229589 \nL 212.925 175.229589 \n\" style=\"fill:none;stroke:#b0b0b0;stroke-linecap:square;stroke-width:0.8;\"/>\n     </g>\n     <g id=\"line2d_64\">\n      <g>\n       <use style=\"stroke:#000000;stroke-width:0.8;\" x=\"26.925\" xlink:href=\"#m352ffda50e\" y=\"175.229589\"/>\n      </g>\n     </g>\n     <g id=\"text_35\">\n      <!-- 60 -->\n      <g transform=\"translate(7.2 179.028808)scale(0.1 -0.1)\">\n       <use xlink:href=\"#DejaVuSans-54\"/>\n       <use x=\"63.623047\" xlink:href=\"#DejaVuSans-48\"/>\n      </g>\n     </g>\n    </g>\n   </g>\n   <g id=\"patch_58\">\n    <path d=\"M 26.925 277.477309 \nL 26.925 166.538533 \n\" style=\"fill:none;stroke:#000000;stroke-linecap:square;stroke-linejoin:miter;stroke-width:0.8;\"/>\n   </g>\n   <g id=\"patch_59\">\n    <path d=\"M 212.925 277.477309 \nL 212.925 166.538533 \n\" style=\"fill:none;stroke:#000000;stroke-linecap:square;stroke-linejoin:miter;stroke-width:0.8;\"/>\n   </g>\n   <g id=\"patch_60\">\n    <path d=\"M 26.925 277.477309 \nL 212.925 277.477309 \n\" style=\"fill:none;stroke:#000000;stroke-linecap:square;stroke-linejoin:miter;stroke-width:0.8;\"/>\n   </g>\n   <g id=\"patch_61\">\n    <path d=\"M 26.925 166.538533 \nL 212.925 166.538533 \n\" style=\"fill:none;stroke:#000000;stroke-linecap:square;stroke-linejoin:miter;stroke-width:0.8;\"/>\n   </g>\n   <g id=\"text_36\">\n    <!-- loudness -->\n    <defs>\n     <path d=\"M 30.609375 48.390625 \nQ 23.390625 48.390625 19.1875 42.75 \nQ 14.984375 37.109375 14.984375 27.296875 \nQ 14.984375 17.484375 19.15625 11.84375 \nQ 23.34375 6.203125 30.609375 6.203125 \nQ 37.796875 6.203125 41.984375 11.859375 \nQ 46.1875 17.53125 46.1875 27.296875 \nQ 46.1875 37.015625 41.984375 42.703125 \nQ 37.796875 48.390625 30.609375 48.390625 \nz\nM 30.609375 56 \nQ 42.328125 56 49.015625 48.375 \nQ 55.71875 40.765625 55.71875 27.296875 \nQ 55.71875 13.875 49.015625 6.21875 \nQ 42.328125 -1.421875 30.609375 -1.421875 \nQ 18.84375 -1.421875 12.171875 6.21875 \nQ 5.515625 13.875 5.515625 27.296875 \nQ 5.515625 40.765625 12.171875 48.375 \nQ 18.84375 56 30.609375 56 \nz\n\" id=\"DejaVuSans-111\"/>\n     <path d=\"M 8.5 21.578125 \nL 8.5 54.6875 \nL 17.484375 54.6875 \nL 17.484375 21.921875 \nQ 17.484375 14.15625 20.5 10.265625 \nQ 23.53125 6.390625 29.59375 6.390625 \nQ 36.859375 6.390625 41.078125 11.03125 \nQ 45.3125 15.671875 45.3125 23.6875 \nL 45.3125 54.6875 \nL 54.296875 54.6875 \nL 54.296875 0 \nL 45.3125 0 \nL 45.3125 8.40625 \nQ 42.046875 3.421875 37.71875 1 \nQ 33.40625 -1.421875 27.6875 -1.421875 \nQ 18.265625 -1.421875 13.375 4.4375 \nQ 8.5 10.296875 8.5 21.578125 \nz\nM 31.109375 56 \nz\n\" id=\"DejaVuSans-117\"/>\n     <path d=\"M 44.28125 53.078125 \nL 44.28125 44.578125 \nQ 40.484375 46.53125 36.375 47.5 \nQ 32.28125 48.484375 27.875 48.484375 \nQ 21.1875 48.484375 17.84375 46.4375 \nQ 14.5 44.390625 14.5 40.28125 \nQ 14.5 37.15625 16.890625 35.375 \nQ 19.28125 33.59375 26.515625 31.984375 \nL 29.59375 31.296875 \nQ 39.15625 29.25 43.1875 25.515625 \nQ 47.21875 21.78125 47.21875 15.09375 \nQ 47.21875 7.46875 41.1875 3.015625 \nQ 35.15625 -1.421875 24.609375 -1.421875 \nQ 20.21875 -1.421875 15.453125 -0.5625 \nQ 10.6875 0.296875 5.421875 2 \nL 5.421875 11.28125 \nQ 10.40625 8.6875 15.234375 7.390625 \nQ 20.0625 6.109375 24.8125 6.109375 \nQ 31.15625 6.109375 34.5625 8.28125 \nQ 37.984375 10.453125 37.984375 14.40625 \nQ 37.984375 18.0625 35.515625 20.015625 \nQ 33.0625 21.96875 24.703125 23.78125 \nL 21.578125 24.515625 \nQ 13.234375 26.265625 9.515625 29.90625 \nQ 5.8125 33.546875 5.8125 39.890625 \nQ 5.8125 47.609375 11.28125 51.796875 \nQ 16.75 56 26.8125 56 \nQ 31.78125 56 36.171875 55.265625 \nQ 40.578125 54.546875 44.28125 53.078125 \nz\n\" id=\"DejaVuSans-115\"/>\n    </defs>\n    <g transform=\"translate(93.229688 160.538533)scale(0.12 -0.12)\">\n     <use xlink:href=\"#DejaVuSans-108\"/>\n     <use x=\"27.783203\" xlink:href=\"#DejaVuSans-111\"/>\n     <use x=\"88.964844\" xlink:href=\"#DejaVuSans-117\"/>\n     <use x=\"152.34375\" xlink:href=\"#DejaVuSans-100\"/>\n     <use x=\"215.820312\" xlink:href=\"#DejaVuSans-110\"/>\n     <use x=\"279.199219\" xlink:href=\"#DejaVuSans-101\"/>\n     <use x=\"340.722656\" xlink:href=\"#DejaVuSans-115\"/>\n     <use x=\"392.822266\" xlink:href=\"#DejaVuSans-115\"/>\n    </g>\n   </g>\n  </g>\n  <g id=\"axes_5\">\n   <g id=\"patch_62\">\n    <path d=\"M 268.725 277.477309 \nL 454.725 277.477309 \nL 454.725 166.538533 \nL 268.725 166.538533 \nz\n\" style=\"fill:#ffffff;\"/>\n   </g>\n   <g id=\"patch_63\">\n    <path clip-path=\"url(#p9102a46406)\" d=\"M 277.179545 277.477309 \nL 294.088636 277.477309 \nL 294.088636 237.400904 \nL 277.179545 237.400904 \nz\n\" style=\"fill:#1f77b4;\"/>\n   </g>\n   <g id=\"patch_64\">\n    <path clip-path=\"url(#p9102a46406)\" d=\"M 294.088636 277.477309 \nL 310.997727 277.477309 \nL 310.997727 277.477309 \nL 294.088636 277.477309 \nz\n\" style=\"fill:#1f77b4;\"/>\n   </g>\n   <g id=\"patch_65\">\n    <path clip-path=\"url(#p9102a46406)\" d=\"M 310.997727 277.477309 \nL 327.906818 277.477309 \nL 327.906818 277.477309 \nL 310.997727 277.477309 \nz\n\" style=\"fill:#1f77b4;\"/>\n   </g>\n   <g id=\"patch_66\">\n    <path clip-path=\"url(#p9102a46406)\" d=\"M 327.906818 277.477309 \nL 344.815909 277.477309 \nL 344.815909 277.477309 \nL 327.906818 277.477309 \nz\n\" style=\"fill:#1f77b4;\"/>\n   </g>\n   <g id=\"patch_67\">\n    <path clip-path=\"url(#p9102a46406)\" d=\"M 344.815909 277.477309 \nL 361.725 277.477309 \nL 361.725 277.477309 \nL 344.815909 277.477309 \nz\n\" style=\"fill:#1f77b4;\"/>\n   </g>\n   <g id=\"patch_68\">\n    <path clip-path=\"url(#p9102a46406)\" d=\"M 361.725 277.477309 \nL 378.634091 277.477309 \nL 378.634091 277.477309 \nL 361.725 277.477309 \nz\n\" style=\"fill:#1f77b4;\"/>\n   </g>\n   <g id=\"patch_69\">\n    <path clip-path=\"url(#p9102a46406)\" d=\"M 378.634091 277.477309 \nL 395.543182 277.477309 \nL 395.543182 277.477309 \nL 378.634091 277.477309 \nz\n\" style=\"fill:#1f77b4;\"/>\n   </g>\n   <g id=\"patch_70\">\n    <path clip-path=\"url(#p9102a46406)\" d=\"M 395.543182 277.477309 \nL 412.452273 277.477309 \nL 412.452273 277.477309 \nL 395.543182 277.477309 \nz\n\" style=\"fill:#1f77b4;\"/>\n   </g>\n   <g id=\"patch_71\">\n    <path clip-path=\"url(#p9102a46406)\" d=\"M 412.452273 277.477309 \nL 429.361364 277.477309 \nL 429.361364 277.477309 \nL 412.452273 277.477309 \nz\n\" style=\"fill:#1f77b4;\"/>\n   </g>\n   <g id=\"patch_72\">\n    <path clip-path=\"url(#p9102a46406)\" d=\"M 429.361364 277.477309 \nL 446.270455 277.477309 \nL 446.270455 171.821332 \nL 429.361364 171.821332 \nz\n\" style=\"fill:#1f77b4;\"/>\n   </g>\n   <g id=\"matplotlib.axis_9\">\n    <g id=\"xtick_19\">\n     <g id=\"line2d_65\">\n      <path clip-path=\"url(#p9102a46406)\" d=\"M 277.179545 277.477309 \nL 277.179545 166.538533 \n\" style=\"fill:none;stroke:#b0b0b0;stroke-linecap:square;stroke-width:0.8;\"/>\n     </g>\n     <g id=\"line2d_66\">\n      <g>\n       <use style=\"stroke:#000000;stroke-width:0.8;\" x=\"277.179545\" xlink:href=\"#md0084b91dd\" y=\"277.477309\"/>\n      </g>\n     </g>\n     <g id=\"text_37\">\n      <!-- 0.0 -->\n      <g transform=\"translate(270.818295 290.556059)scale(0.08 -0.08)\">\n       <use xlink:href=\"#DejaVuSans-48\"/>\n       <use x=\"63.623047\" xlink:href=\"#DejaVuSans-46\"/>\n       <use x=\"95.410156\" xlink:href=\"#DejaVuSans-48\"/>\n      </g>\n     </g>\n    </g>\n    <g id=\"xtick_20\">\n     <g id=\"line2d_67\">\n      <path clip-path=\"url(#p9102a46406)\" d=\"M 310.997727 277.477309 \nL 310.997727 166.538533 \n\" style=\"fill:none;stroke:#b0b0b0;stroke-linecap:square;stroke-width:0.8;\"/>\n     </g>\n     <g id=\"line2d_68\">\n      <g>\n       <use style=\"stroke:#000000;stroke-width:0.8;\" x=\"310.997727\" xlink:href=\"#md0084b91dd\" y=\"277.477309\"/>\n      </g>\n     </g>\n     <g id=\"text_38\">\n      <!-- 0.2 -->\n      <g transform=\"translate(304.636477 290.556059)scale(0.08 -0.08)\">\n       <use xlink:href=\"#DejaVuSans-48\"/>\n       <use x=\"63.623047\" xlink:href=\"#DejaVuSans-46\"/>\n       <use x=\"95.410156\" xlink:href=\"#DejaVuSans-50\"/>\n      </g>\n     </g>\n    </g>\n    <g id=\"xtick_21\">\n     <g id=\"line2d_69\">\n      <path clip-path=\"url(#p9102a46406)\" d=\"M 344.815909 277.477309 \nL 344.815909 166.538533 \n\" style=\"fill:none;stroke:#b0b0b0;stroke-linecap:square;stroke-width:0.8;\"/>\n     </g>\n     <g id=\"line2d_70\">\n      <g>\n       <use style=\"stroke:#000000;stroke-width:0.8;\" x=\"344.815909\" xlink:href=\"#md0084b91dd\" y=\"277.477309\"/>\n      </g>\n     </g>\n     <g id=\"text_39\">\n      <!-- 0.4 -->\n      <g transform=\"translate(338.454659 290.556059)scale(0.08 -0.08)\">\n       <use xlink:href=\"#DejaVuSans-48\"/>\n       <use x=\"63.623047\" xlink:href=\"#DejaVuSans-46\"/>\n       <use x=\"95.410156\" xlink:href=\"#DejaVuSans-52\"/>\n      </g>\n     </g>\n    </g>\n    <g id=\"xtick_22\">\n     <g id=\"line2d_71\">\n      <path clip-path=\"url(#p9102a46406)\" d=\"M 378.634091 277.477309 \nL 378.634091 166.538533 \n\" style=\"fill:none;stroke:#b0b0b0;stroke-linecap:square;stroke-width:0.8;\"/>\n     </g>\n     <g id=\"line2d_72\">\n      <g>\n       <use style=\"stroke:#000000;stroke-width:0.8;\" x=\"378.634091\" xlink:href=\"#md0084b91dd\" y=\"277.477309\"/>\n      </g>\n     </g>\n     <g id=\"text_40\">\n      <!-- 0.6 -->\n      <g transform=\"translate(372.272841 290.556059)scale(0.08 -0.08)\">\n       <use xlink:href=\"#DejaVuSans-48\"/>\n       <use x=\"63.623047\" xlink:href=\"#DejaVuSans-46\"/>\n       <use x=\"95.410156\" xlink:href=\"#DejaVuSans-54\"/>\n      </g>\n     </g>\n    </g>\n    <g id=\"xtick_23\">\n     <g id=\"line2d_73\">\n      <path clip-path=\"url(#p9102a46406)\" d=\"M 412.452273 277.477309 \nL 412.452273 166.538533 \n\" style=\"fill:none;stroke:#b0b0b0;stroke-linecap:square;stroke-width:0.8;\"/>\n     </g>\n     <g id=\"line2d_74\">\n      <g>\n       <use style=\"stroke:#000000;stroke-width:0.8;\" x=\"412.452273\" xlink:href=\"#md0084b91dd\" y=\"277.477309\"/>\n      </g>\n     </g>\n     <g id=\"text_41\">\n      <!-- 0.8 -->\n      <g transform=\"translate(406.091023 290.556059)scale(0.08 -0.08)\">\n       <use xlink:href=\"#DejaVuSans-48\"/>\n       <use x=\"63.623047\" xlink:href=\"#DejaVuSans-46\"/>\n       <use x=\"95.410156\" xlink:href=\"#DejaVuSans-56\"/>\n      </g>\n     </g>\n    </g>\n    <g id=\"xtick_24\">\n     <g id=\"line2d_75\">\n      <path clip-path=\"url(#p9102a46406)\" d=\"M 446.270455 277.477309 \nL 446.270455 166.538533 \n\" style=\"fill:none;stroke:#b0b0b0;stroke-linecap:square;stroke-width:0.8;\"/>\n     </g>\n     <g id=\"line2d_76\">\n      <g>\n       <use style=\"stroke:#000000;stroke-width:0.8;\" x=\"446.270455\" xlink:href=\"#md0084b91dd\" y=\"277.477309\"/>\n      </g>\n     </g>\n     <g id=\"text_42\">\n      <!-- 1.0 -->\n      <g transform=\"translate(439.909205 290.556059)scale(0.08 -0.08)\">\n       <use xlink:href=\"#DejaVuSans-49\"/>\n       <use x=\"63.623047\" xlink:href=\"#DejaVuSans-46\"/>\n       <use x=\"95.410156\" xlink:href=\"#DejaVuSans-48\"/>\n      </g>\n     </g>\n    </g>\n   </g>\n   <g id=\"matplotlib.axis_10\">\n    <g id=\"ytick_15\">\n     <g id=\"line2d_77\">\n      <path clip-path=\"url(#p9102a46406)\" d=\"M 268.725 277.477309 \nL 454.725 277.477309 \n\" style=\"fill:none;stroke:#b0b0b0;stroke-linecap:square;stroke-width:0.8;\"/>\n     </g>\n     <g id=\"line2d_78\">\n      <g>\n       <use style=\"stroke:#000000;stroke-width:0.8;\" x=\"268.725\" xlink:href=\"#m352ffda50e\" y=\"277.477309\"/>\n      </g>\n     </g>\n     <g id=\"text_43\">\n      <!-- 0 -->\n      <g transform=\"translate(255.3625 281.276527)scale(0.1 -0.1)\">\n       <use xlink:href=\"#DejaVuSans-48\"/>\n      </g>\n     </g>\n    </g>\n    <g id=\"ytick_16\">\n     <g id=\"line2d_79\">\n      <path clip-path=\"url(#p9102a46406)\" d=\"M 268.725 241.044213 \nL 454.725 241.044213 \n\" style=\"fill:none;stroke:#b0b0b0;stroke-linecap:square;stroke-width:0.8;\"/>\n     </g>\n     <g id=\"line2d_80\">\n      <g>\n       <use style=\"stroke:#000000;stroke-width:0.8;\" x=\"268.725\" xlink:href=\"#m352ffda50e\" y=\"241.044213\"/>\n      </g>\n     </g>\n     <g id=\"text_44\">\n      <!-- 50 -->\n      <g transform=\"translate(249 244.843432)scale(0.1 -0.1)\">\n       <use xlink:href=\"#DejaVuSans-53\"/>\n       <use x=\"63.623047\" xlink:href=\"#DejaVuSans-48\"/>\n      </g>\n     </g>\n    </g>\n    <g id=\"ytick_17\">\n     <g id=\"line2d_81\">\n      <path clip-path=\"url(#p9102a46406)\" d=\"M 268.725 204.611118 \nL 454.725 204.611118 \n\" style=\"fill:none;stroke:#b0b0b0;stroke-linecap:square;stroke-width:0.8;\"/>\n     </g>\n     <g id=\"line2d_82\">\n      <g>\n       <use style=\"stroke:#000000;stroke-width:0.8;\" x=\"268.725\" xlink:href=\"#m352ffda50e\" y=\"204.611118\"/>\n      </g>\n     </g>\n     <g id=\"text_45\">\n      <!-- 100 -->\n      <g transform=\"translate(242.6375 208.410337)scale(0.1 -0.1)\">\n       <use xlink:href=\"#DejaVuSans-49\"/>\n       <use x=\"63.623047\" xlink:href=\"#DejaVuSans-48\"/>\n       <use x=\"127.246094\" xlink:href=\"#DejaVuSans-48\"/>\n      </g>\n     </g>\n    </g>\n    <g id=\"ytick_18\">\n     <g id=\"line2d_83\">\n      <path clip-path=\"url(#p9102a46406)\" d=\"M 268.725 168.178022 \nL 454.725 168.178022 \n\" style=\"fill:none;stroke:#b0b0b0;stroke-linecap:square;stroke-width:0.8;\"/>\n     </g>\n     <g id=\"line2d_84\">\n      <g>\n       <use style=\"stroke:#000000;stroke-width:0.8;\" x=\"268.725\" xlink:href=\"#m352ffda50e\" y=\"168.178022\"/>\n      </g>\n     </g>\n     <g id=\"text_46\">\n      <!-- 150 -->\n      <g transform=\"translate(242.6375 171.977241)scale(0.1 -0.1)\">\n       <use xlink:href=\"#DejaVuSans-49\"/>\n       <use x=\"63.623047\" xlink:href=\"#DejaVuSans-53\"/>\n       <use x=\"127.246094\" xlink:href=\"#DejaVuSans-48\"/>\n      </g>\n     </g>\n    </g>\n   </g>\n   <g id=\"patch_73\">\n    <path d=\"M 268.725 277.477309 \nL 268.725 166.538533 \n\" style=\"fill:none;stroke:#000000;stroke-linecap:square;stroke-linejoin:miter;stroke-width:0.8;\"/>\n   </g>\n   <g id=\"patch_74\">\n    <path d=\"M 454.725 277.477309 \nL 454.725 166.538533 \n\" style=\"fill:none;stroke:#000000;stroke-linecap:square;stroke-linejoin:miter;stroke-width:0.8;\"/>\n   </g>\n   <g id=\"patch_75\">\n    <path d=\"M 268.725 277.477309 \nL 454.725 277.477309 \n\" style=\"fill:none;stroke:#000000;stroke-linecap:square;stroke-linejoin:miter;stroke-width:0.8;\"/>\n   </g>\n   <g id=\"patch_76\">\n    <path d=\"M 268.725 166.538533 \nL 454.725 166.538533 \n\" style=\"fill:none;stroke:#000000;stroke-linecap:square;stroke-linejoin:miter;stroke-width:0.8;\"/>\n   </g>\n   <g id=\"text_47\">\n    <!-- mode -->\n    <defs>\n     <path d=\"M 52 44.1875 \nQ 55.375 50.25 60.0625 53.125 \nQ 64.75 56 71.09375 56 \nQ 79.640625 56 84.28125 50.015625 \nQ 88.921875 44.046875 88.921875 33.015625 \nL 88.921875 0 \nL 79.890625 0 \nL 79.890625 32.71875 \nQ 79.890625 40.578125 77.09375 44.375 \nQ 74.3125 48.1875 68.609375 48.1875 \nQ 61.625 48.1875 57.5625 43.546875 \nQ 53.515625 38.921875 53.515625 30.90625 \nL 53.515625 0 \nL 44.484375 0 \nL 44.484375 32.71875 \nQ 44.484375 40.625 41.703125 44.40625 \nQ 38.921875 48.1875 33.109375 48.1875 \nQ 26.21875 48.1875 22.15625 43.53125 \nQ 18.109375 38.875 18.109375 30.90625 \nL 18.109375 0 \nL 9.078125 0 \nL 9.078125 54.6875 \nL 18.109375 54.6875 \nL 18.109375 46.1875 \nQ 21.1875 51.21875 25.484375 53.609375 \nQ 29.78125 56 35.6875 56 \nQ 41.65625 56 45.828125 52.96875 \nQ 50 49.953125 52 44.1875 \nz\n\" id=\"DejaVuSans-109\"/>\n    </defs>\n    <g transform=\"translate(344.708438 160.538533)scale(0.12 -0.12)\">\n     <use xlink:href=\"#DejaVuSans-109\"/>\n     <use x=\"97.412109\" xlink:href=\"#DejaVuSans-111\"/>\n     <use x=\"158.59375\" xlink:href=\"#DejaVuSans-100\"/>\n     <use x=\"222.070312\" xlink:href=\"#DejaVuSans-101\"/>\n    </g>\n   </g>\n  </g>\n  <g id=\"axes_6\">\n   <g id=\"patch_77\">\n    <path d=\"M 510.525 277.477309 \nL 696.525 277.477309 \nL 696.525 166.538533 \nL 510.525 166.538533 \nz\n\" style=\"fill:#ffffff;\"/>\n   </g>\n   <g id=\"patch_78\">\n    <path clip-path=\"url(#p1f6d7283fe)\" d=\"M 518.979545 277.477309 \nL 535.888636 277.477309 \nL 535.888636 171.821332 \nL 518.979545 171.821332 \nz\n\" style=\"fill:#1f77b4;\"/>\n   </g>\n   <g id=\"patch_79\">\n    <path clip-path=\"url(#p1f6d7283fe)\" d=\"M 535.888636 277.477309 \nL 552.797727 277.477309 \nL 552.797727 256.633613 \nL 535.888636 256.633613 \nz\n\" style=\"fill:#1f77b4;\"/>\n   </g>\n   <g id=\"patch_80\">\n    <path clip-path=\"url(#p1f6d7283fe)\" d=\"M 552.797727 277.477309 \nL 569.706818 277.477309 \nL 569.706818 270.289827 \nL 552.797727 270.289827 \nz\n\" style=\"fill:#1f77b4;\"/>\n   </g>\n   <g id=\"patch_81\">\n    <path clip-path=\"url(#p1f6d7283fe)\" d=\"M 569.706818 277.477309 \nL 586.615909 277.477309 \nL 586.615909 275.321064 \nL 569.706818 275.321064 \nz\n\" style=\"fill:#1f77b4;\"/>\n   </g>\n   <g id=\"patch_82\">\n    <path clip-path=\"url(#p1f6d7283fe)\" d=\"M 586.615909 277.477309 \nL 603.525 277.477309 \nL 603.525 275.321064 \nL 586.615909 275.321064 \nz\n\" style=\"fill:#1f77b4;\"/>\n   </g>\n   <g id=\"patch_83\">\n    <path clip-path=\"url(#p1f6d7283fe)\" d=\"M 603.525 277.477309 \nL 620.434091 277.477309 \nL 620.434091 273.883568 \nL 603.525 273.883568 \nz\n\" style=\"fill:#1f77b4;\"/>\n   </g>\n   <g id=\"patch_84\">\n    <path clip-path=\"url(#p1f6d7283fe)\" d=\"M 620.434091 277.477309 \nL 637.343182 277.477309 \nL 637.343182 277.477309 \nL 620.434091 277.477309 \nz\n\" style=\"fill:#1f77b4;\"/>\n   </g>\n   <g id=\"patch_85\">\n    <path clip-path=\"url(#p1f6d7283fe)\" d=\"M 637.343182 277.477309 \nL 654.252273 277.477309 \nL 654.252273 276.039812 \nL 637.343182 276.039812 \nz\n\" style=\"fill:#1f77b4;\"/>\n   </g>\n   <g id=\"patch_86\">\n    <path clip-path=\"url(#p1f6d7283fe)\" d=\"M 654.252273 277.477309 \nL 671.161364 277.477309 \nL 671.161364 277.477309 \nL 654.252273 277.477309 \nz\n\" style=\"fill:#1f77b4;\"/>\n   </g>\n   <g id=\"patch_87\">\n    <path clip-path=\"url(#p1f6d7283fe)\" d=\"M 671.161364 277.477309 \nL 688.070455 277.477309 \nL 688.070455 276.758561 \nL 671.161364 276.758561 \nz\n\" style=\"fill:#1f77b4;\"/>\n   </g>\n   <g id=\"matplotlib.axis_11\">\n    <g id=\"xtick_25\">\n     <g id=\"line2d_85\">\n      <path clip-path=\"url(#p1f6d7283fe)\" d=\"M 563.146849 277.477309 \nL 563.146849 166.538533 \n\" style=\"fill:none;stroke:#b0b0b0;stroke-linecap:square;stroke-width:0.8;\"/>\n     </g>\n     <g id=\"line2d_86\">\n      <g>\n       <use style=\"stroke:#000000;stroke-width:0.8;\" x=\"563.146849\" xlink:href=\"#md0084b91dd\" y=\"277.477309\"/>\n      </g>\n     </g>\n     <g id=\"text_48\">\n      <!-- 0.1 -->\n      <g transform=\"translate(556.785599 290.556059)scale(0.08 -0.08)\">\n       <use xlink:href=\"#DejaVuSans-48\"/>\n       <use x=\"63.623047\" xlink:href=\"#DejaVuSans-46\"/>\n       <use x=\"95.410156\" xlink:href=\"#DejaVuSans-49\"/>\n      </g>\n     </g>\n    </g>\n    <g id=\"xtick_26\">\n     <g id=\"line2d_87\">\n      <path clip-path=\"url(#p1f6d7283fe)\" d=\"M 622.352349 277.477309 \nL 622.352349 166.538533 \n\" style=\"fill:none;stroke:#b0b0b0;stroke-linecap:square;stroke-width:0.8;\"/>\n     </g>\n     <g id=\"line2d_88\">\n      <g>\n       <use style=\"stroke:#000000;stroke-width:0.8;\" x=\"622.352349\" xlink:href=\"#md0084b91dd\" y=\"277.477309\"/>\n      </g>\n     </g>\n     <g id=\"text_49\">\n      <!-- 0.2 -->\n      <g transform=\"translate(615.991099 290.556059)scale(0.08 -0.08)\">\n       <use xlink:href=\"#DejaVuSans-48\"/>\n       <use x=\"63.623047\" xlink:href=\"#DejaVuSans-46\"/>\n       <use x=\"95.410156\" xlink:href=\"#DejaVuSans-50\"/>\n      </g>\n     </g>\n    </g>\n    <g id=\"xtick_27\">\n     <g id=\"line2d_89\">\n      <path clip-path=\"url(#p1f6d7283fe)\" d=\"M 681.55785 277.477309 \nL 681.55785 166.538533 \n\" style=\"fill:none;stroke:#b0b0b0;stroke-linecap:square;stroke-width:0.8;\"/>\n     </g>\n     <g id=\"line2d_90\">\n      <g>\n       <use style=\"stroke:#000000;stroke-width:0.8;\" x=\"681.55785\" xlink:href=\"#md0084b91dd\" y=\"277.477309\"/>\n      </g>\n     </g>\n     <g id=\"text_50\">\n      <!-- 0.3 -->\n      <g transform=\"translate(675.1966 290.556059)scale(0.08 -0.08)\">\n       <use xlink:href=\"#DejaVuSans-48\"/>\n       <use x=\"63.623047\" xlink:href=\"#DejaVuSans-46\"/>\n       <use x=\"95.410156\" xlink:href=\"#DejaVuSans-51\"/>\n      </g>\n     </g>\n    </g>\n   </g>\n   <g id=\"matplotlib.axis_12\">\n    <g id=\"ytick_19\">\n     <g id=\"line2d_91\">\n      <path clip-path=\"url(#p1f6d7283fe)\" d=\"M 510.525 277.477309 \nL 696.525 277.477309 \n\" style=\"fill:none;stroke:#b0b0b0;stroke-linecap:square;stroke-width:0.8;\"/>\n     </g>\n     <g id=\"line2d_92\">\n      <g>\n       <use style=\"stroke:#000000;stroke-width:0.8;\" x=\"510.525\" xlink:href=\"#m352ffda50e\" y=\"277.477309\"/>\n      </g>\n     </g>\n     <g id=\"text_51\">\n      <!-- 0 -->\n      <g transform=\"translate(497.1625 281.276527)scale(0.1 -0.1)\">\n       <use xlink:href=\"#DejaVuSans-48\"/>\n      </g>\n     </g>\n    </g>\n    <g id=\"ytick_20\">\n     <g id=\"line2d_93\">\n      <path clip-path=\"url(#p1f6d7283fe)\" d=\"M 510.525 241.539902 \nL 696.525 241.539902 \n\" style=\"fill:none;stroke:#b0b0b0;stroke-linecap:square;stroke-width:0.8;\"/>\n     </g>\n     <g id=\"line2d_94\">\n      <g>\n       <use style=\"stroke:#000000;stroke-width:0.8;\" x=\"510.525\" xlink:href=\"#m352ffda50e\" y=\"241.539902\"/>\n      </g>\n     </g>\n     <g id=\"text_52\">\n      <!-- 50 -->\n      <g transform=\"translate(490.8 245.33912)scale(0.1 -0.1)\">\n       <use xlink:href=\"#DejaVuSans-53\"/>\n       <use x=\"63.623047\" xlink:href=\"#DejaVuSans-48\"/>\n      </g>\n     </g>\n    </g>\n    <g id=\"ytick_21\">\n     <g id=\"line2d_95\">\n      <path clip-path=\"url(#p1f6d7283fe)\" d=\"M 510.525 205.602495 \nL 696.525 205.602495 \n\" style=\"fill:none;stroke:#b0b0b0;stroke-linecap:square;stroke-width:0.8;\"/>\n     </g>\n     <g id=\"line2d_96\">\n      <g>\n       <use style=\"stroke:#000000;stroke-width:0.8;\" x=\"510.525\" xlink:href=\"#m352ffda50e\" y=\"205.602495\"/>\n      </g>\n     </g>\n     <g id=\"text_53\">\n      <!-- 100 -->\n      <g transform=\"translate(484.4375 209.401713)scale(0.1 -0.1)\">\n       <use xlink:href=\"#DejaVuSans-49\"/>\n       <use x=\"63.623047\" xlink:href=\"#DejaVuSans-48\"/>\n       <use x=\"127.246094\" xlink:href=\"#DejaVuSans-48\"/>\n      </g>\n     </g>\n    </g>\n    <g id=\"ytick_22\">\n     <g id=\"line2d_97\">\n      <path clip-path=\"url(#p1f6d7283fe)\" d=\"M 510.525 169.665088 \nL 696.525 169.665088 \n\" style=\"fill:none;stroke:#b0b0b0;stroke-linecap:square;stroke-width:0.8;\"/>\n     </g>\n     <g id=\"line2d_98\">\n      <g>\n       <use style=\"stroke:#000000;stroke-width:0.8;\" x=\"510.525\" xlink:href=\"#m352ffda50e\" y=\"169.665088\"/>\n      </g>\n     </g>\n     <g id=\"text_54\">\n      <!-- 150 -->\n      <g transform=\"translate(484.4375 173.464306)scale(0.1 -0.1)\">\n       <use xlink:href=\"#DejaVuSans-49\"/>\n       <use x=\"63.623047\" xlink:href=\"#DejaVuSans-53\"/>\n       <use x=\"127.246094\" xlink:href=\"#DejaVuSans-48\"/>\n      </g>\n     </g>\n    </g>\n   </g>\n   <g id=\"patch_88\">\n    <path d=\"M 510.525 277.477309 \nL 510.525 166.538533 \n\" style=\"fill:none;stroke:#000000;stroke-linecap:square;stroke-linejoin:miter;stroke-width:0.8;\"/>\n   </g>\n   <g id=\"patch_89\">\n    <path d=\"M 696.525 277.477309 \nL 696.525 166.538533 \n\" style=\"fill:none;stroke:#000000;stroke-linecap:square;stroke-linejoin:miter;stroke-width:0.8;\"/>\n   </g>\n   <g id=\"patch_90\">\n    <path d=\"M 510.525 277.477309 \nL 696.525 277.477309 \n\" style=\"fill:none;stroke:#000000;stroke-linecap:square;stroke-linejoin:miter;stroke-width:0.8;\"/>\n   </g>\n   <g id=\"patch_91\">\n    <path d=\"M 510.525 166.538533 \nL 696.525 166.538533 \n\" style=\"fill:none;stroke:#000000;stroke-linecap:square;stroke-linejoin:miter;stroke-width:0.8;\"/>\n   </g>\n   <g id=\"text_55\">\n    <!-- speechiness -->\n    <defs>\n     <path d=\"M 18.109375 8.203125 \nL 18.109375 -20.796875 \nL 9.078125 -20.796875 \nL 9.078125 54.6875 \nL 18.109375 54.6875 \nL 18.109375 46.390625 \nQ 20.953125 51.265625 25.265625 53.625 \nQ 29.59375 56 35.59375 56 \nQ 45.5625 56 51.78125 48.09375 \nQ 58.015625 40.1875 58.015625 27.296875 \nQ 58.015625 14.40625 51.78125 6.484375 \nQ 45.5625 -1.421875 35.59375 -1.421875 \nQ 29.59375 -1.421875 25.265625 0.953125 \nQ 20.953125 3.328125 18.109375 8.203125 \nz\nM 48.6875 27.296875 \nQ 48.6875 37.203125 44.609375 42.84375 \nQ 40.53125 48.484375 33.40625 48.484375 \nQ 26.265625 48.484375 22.1875 42.84375 \nQ 18.109375 37.203125 18.109375 27.296875 \nQ 18.109375 17.390625 22.1875 11.75 \nQ 26.265625 6.109375 33.40625 6.109375 \nQ 40.53125 6.109375 44.609375 11.75 \nQ 48.6875 17.390625 48.6875 27.296875 \nz\n\" id=\"DejaVuSans-112\"/>\n     <path d=\"M 54.890625 33.015625 \nL 54.890625 0 \nL 45.90625 0 \nL 45.90625 32.71875 \nQ 45.90625 40.484375 42.875 44.328125 \nQ 39.84375 48.1875 33.796875 48.1875 \nQ 26.515625 48.1875 22.3125 43.546875 \nQ 18.109375 38.921875 18.109375 30.90625 \nL 18.109375 0 \nL 9.078125 0 \nL 9.078125 75.984375 \nL 18.109375 75.984375 \nL 18.109375 46.1875 \nQ 21.34375 51.125 25.703125 53.5625 \nQ 30.078125 56 35.796875 56 \nQ 45.21875 56 50.046875 50.171875 \nQ 54.890625 44.34375 54.890625 33.015625 \nz\n\" id=\"DejaVuSans-104\"/>\n    </defs>\n    <g transform=\"translate(566.6925 160.538533)scale(0.12 -0.12)\">\n     <use xlink:href=\"#DejaVuSans-115\"/>\n     <use x=\"52.099609\" xlink:href=\"#DejaVuSans-112\"/>\n     <use x=\"115.576172\" xlink:href=\"#DejaVuSans-101\"/>\n     <use x=\"177.099609\" xlink:href=\"#DejaVuSans-101\"/>\n     <use x=\"238.623047\" xlink:href=\"#DejaVuSans-99\"/>\n     <use x=\"293.603516\" xlink:href=\"#DejaVuSans-104\"/>\n     <use x=\"356.982422\" xlink:href=\"#DejaVuSans-105\"/>\n     <use x=\"384.765625\" xlink:href=\"#DejaVuSans-110\"/>\n     <use x=\"448.144531\" xlink:href=\"#DejaVuSans-101\"/>\n     <use x=\"509.667969\" xlink:href=\"#DejaVuSans-115\"/>\n     <use x=\"561.767578\" xlink:href=\"#DejaVuSans-115\"/>\n    </g>\n   </g>\n  </g>\n  <g id=\"axes_7\">\n   <g id=\"patch_92\">\n    <path d=\"M 26.925 421.697717 \nL 212.925 421.697717 \nL 212.925 310.758941 \nL 26.925 310.758941 \nz\n\" style=\"fill:#ffffff;\"/>\n   </g>\n   <g id=\"patch_93\">\n    <path clip-path=\"url(#p89c85b86eb)\" d=\"M 35.379545 421.697717 \nL 52.288636 421.697717 \nL 52.288636 353.461565 \nL 35.379545 353.461565 \nz\n\" style=\"fill:#1f77b4;\"/>\n   </g>\n   <g id=\"patch_94\">\n    <path clip-path=\"url(#p89c85b86eb)\" d=\"M 52.288636 421.697717 \nL 69.197727 421.697717 \nL 69.197727 386.479058 \nL 52.288636 386.479058 \nz\n\" style=\"fill:#1f77b4;\"/>\n   </g>\n   <g id=\"patch_95\">\n    <path clip-path=\"url(#p89c85b86eb)\" d=\"M 69.197727 421.697717 \nL 86.106818 421.697717 \nL 86.106818 390.88139 \nL 69.197727 390.88139 \nz\n\" style=\"fill:#1f77b4;\"/>\n   </g>\n   <g id=\"patch_96\">\n    <path clip-path=\"url(#p89c85b86eb)\" d=\"M 86.106818 421.697717 \nL 103.015909 421.697717 \nL 103.015909 401.887221 \nL 86.106818 401.887221 \nz\n\" style=\"fill:#1f77b4;\"/>\n   </g>\n   <g id=\"patch_97\">\n    <path clip-path=\"url(#p89c85b86eb)\" d=\"M 103.015909 421.697717 \nL 119.925 421.697717 \nL 119.925 404.088387 \nL 103.015909 404.088387 \nz\n\" style=\"fill:#1f77b4;\"/>\n   </g>\n   <g id=\"patch_98\">\n    <path clip-path=\"url(#p89c85b86eb)\" d=\"M 119.925 421.697717 \nL 136.834091 421.697717 \nL 136.834091 375.473227 \nL 119.925 375.473227 \nz\n\" style=\"fill:#1f77b4;\"/>\n   </g>\n   <g id=\"patch_99\">\n    <path clip-path=\"url(#p89c85b86eb)\" d=\"M 136.834091 421.697717 \nL 153.743182 421.697717 \nL 153.743182 397.484889 \nL 136.834091 397.484889 \nz\n\" style=\"fill:#1f77b4;\"/>\n   </g>\n   <g id=\"patch_100\">\n    <path clip-path=\"url(#p89c85b86eb)\" d=\"M 153.743182 421.697717 \nL 170.652273 421.697717 \nL 170.652273 373.272061 \nL 153.743182 373.272061 \nz\n\" style=\"fill:#1f77b4;\"/>\n   </g>\n   <g id=\"patch_101\">\n    <path clip-path=\"url(#p89c85b86eb)\" d=\"M 170.652273 421.697717 \nL 187.561364 421.697717 \nL 187.561364 377.674393 \nL 170.652273 377.674393 \nz\n\" style=\"fill:#1f77b4;\"/>\n   </g>\n   <g id=\"patch_102\">\n    <path clip-path=\"url(#p89c85b86eb)\" d=\"M 187.561364 421.697717 \nL 204.470455 421.697717 \nL 204.470455 316.04174 \nL 187.561364 316.04174 \nz\n\" style=\"fill:#1f77b4;\"/>\n   </g>\n   <g id=\"matplotlib.axis_13\">\n    <g id=\"xtick_28\">\n     <g id=\"line2d_99\">\n      <path clip-path=\"url(#p89c85b86eb)\" d=\"M 35.33998 421.697717 \nL 35.33998 310.758941 \n\" style=\"fill:none;stroke:#b0b0b0;stroke-linecap:square;stroke-width:0.8;\"/>\n     </g>\n     <g id=\"line2d_100\">\n      <g>\n       <use style=\"stroke:#000000;stroke-width:0.8;\" x=\"35.33998\" xlink:href=\"#md0084b91dd\" y=\"421.697717\"/>\n      </g>\n     </g>\n     <g id=\"text_56\">\n      <!-- 0.0 -->\n      <g transform=\"translate(28.97873 434.776467)scale(0.08 -0.08)\">\n       <use xlink:href=\"#DejaVuSans-48\"/>\n       <use x=\"63.623047\" xlink:href=\"#DejaVuSans-46\"/>\n       <use x=\"95.410156\" xlink:href=\"#DejaVuSans-48\"/>\n      </g>\n     </g>\n    </g>\n    <g id=\"xtick_29\">\n     <g id=\"line2d_101\">\n      <path clip-path=\"url(#p89c85b86eb)\" d=\"M 69.301923 421.697717 \nL 69.301923 310.758941 \n\" style=\"fill:none;stroke:#b0b0b0;stroke-linecap:square;stroke-width:0.8;\"/>\n     </g>\n     <g id=\"line2d_102\">\n      <g>\n       <use style=\"stroke:#000000;stroke-width:0.8;\" x=\"69.301923\" xlink:href=\"#md0084b91dd\" y=\"421.697717\"/>\n      </g>\n     </g>\n     <g id=\"text_57\">\n      <!-- 0.2 -->\n      <g transform=\"translate(62.940673 434.776467)scale(0.08 -0.08)\">\n       <use xlink:href=\"#DejaVuSans-48\"/>\n       <use x=\"63.623047\" xlink:href=\"#DejaVuSans-46\"/>\n       <use x=\"95.410156\" xlink:href=\"#DejaVuSans-50\"/>\n      </g>\n     </g>\n    </g>\n    <g id=\"xtick_30\">\n     <g id=\"line2d_103\">\n      <path clip-path=\"url(#p89c85b86eb)\" d=\"M 103.263865 421.697717 \nL 103.263865 310.758941 \n\" style=\"fill:none;stroke:#b0b0b0;stroke-linecap:square;stroke-width:0.8;\"/>\n     </g>\n     <g id=\"line2d_104\">\n      <g>\n       <use style=\"stroke:#000000;stroke-width:0.8;\" x=\"103.263865\" xlink:href=\"#md0084b91dd\" y=\"421.697717\"/>\n      </g>\n     </g>\n     <g id=\"text_58\">\n      <!-- 0.4 -->\n      <g transform=\"translate(96.902615 434.776467)scale(0.08 -0.08)\">\n       <use xlink:href=\"#DejaVuSans-48\"/>\n       <use x=\"63.623047\" xlink:href=\"#DejaVuSans-46\"/>\n       <use x=\"95.410156\" xlink:href=\"#DejaVuSans-52\"/>\n      </g>\n     </g>\n    </g>\n    <g id=\"xtick_31\">\n     <g id=\"line2d_105\">\n      <path clip-path=\"url(#p89c85b86eb)\" d=\"M 137.225808 421.697717 \nL 137.225808 310.758941 \n\" style=\"fill:none;stroke:#b0b0b0;stroke-linecap:square;stroke-width:0.8;\"/>\n     </g>\n     <g id=\"line2d_106\">\n      <g>\n       <use style=\"stroke:#000000;stroke-width:0.8;\" x=\"137.225808\" xlink:href=\"#md0084b91dd\" y=\"421.697717\"/>\n      </g>\n     </g>\n     <g id=\"text_59\">\n      <!-- 0.6 -->\n      <g transform=\"translate(130.864558 434.776467)scale(0.08 -0.08)\">\n       <use xlink:href=\"#DejaVuSans-48\"/>\n       <use x=\"63.623047\" xlink:href=\"#DejaVuSans-46\"/>\n       <use x=\"95.410156\" xlink:href=\"#DejaVuSans-54\"/>\n      </g>\n     </g>\n    </g>\n    <g id=\"xtick_32\">\n     <g id=\"line2d_107\">\n      <path clip-path=\"url(#p89c85b86eb)\" d=\"M 171.187751 421.697717 \nL 171.187751 310.758941 \n\" style=\"fill:none;stroke:#b0b0b0;stroke-linecap:square;stroke-width:0.8;\"/>\n     </g>\n     <g id=\"line2d_108\">\n      <g>\n       <use style=\"stroke:#000000;stroke-width:0.8;\" x=\"171.187751\" xlink:href=\"#md0084b91dd\" y=\"421.697717\"/>\n      </g>\n     </g>\n     <g id=\"text_60\">\n      <!-- 0.8 -->\n      <g transform=\"translate(164.826501 434.776467)scale(0.08 -0.08)\">\n       <use xlink:href=\"#DejaVuSans-48\"/>\n       <use x=\"63.623047\" xlink:href=\"#DejaVuSans-46\"/>\n       <use x=\"95.410156\" xlink:href=\"#DejaVuSans-56\"/>\n      </g>\n     </g>\n    </g>\n    <g id=\"xtick_33\">\n     <g id=\"line2d_109\">\n      <path clip-path=\"url(#p89c85b86eb)\" d=\"M 205.149693 421.697717 \nL 205.149693 310.758941 \n\" style=\"fill:none;stroke:#b0b0b0;stroke-linecap:square;stroke-width:0.8;\"/>\n     </g>\n     <g id=\"line2d_110\">\n      <g>\n       <use style=\"stroke:#000000;stroke-width:0.8;\" x=\"205.149693\" xlink:href=\"#md0084b91dd\" y=\"421.697717\"/>\n      </g>\n     </g>\n     <g id=\"text_61\">\n      <!-- 1.0 -->\n      <g transform=\"translate(198.788443 434.776467)scale(0.08 -0.08)\">\n       <use xlink:href=\"#DejaVuSans-49\"/>\n       <use x=\"63.623047\" xlink:href=\"#DejaVuSans-46\"/>\n       <use x=\"95.410156\" xlink:href=\"#DejaVuSans-48\"/>\n      </g>\n     </g>\n    </g>\n   </g>\n   <g id=\"matplotlib.axis_14\">\n    <g id=\"ytick_23\">\n     <g id=\"line2d_111\">\n      <path clip-path=\"url(#p89c85b86eb)\" d=\"M 26.925 421.697717 \nL 212.925 421.697717 \n\" style=\"fill:none;stroke:#b0b0b0;stroke-linecap:square;stroke-width:0.8;\"/>\n     </g>\n     <g id=\"line2d_112\">\n      <g>\n       <use style=\"stroke:#000000;stroke-width:0.8;\" x=\"26.925\" xlink:href=\"#m352ffda50e\" y=\"421.697717\"/>\n      </g>\n     </g>\n     <g id=\"text_62\">\n      <!-- 0 -->\n      <g transform=\"translate(13.5625 425.496936)scale(0.1 -0.1)\">\n       <use xlink:href=\"#DejaVuSans-48\"/>\n      </g>\n     </g>\n    </g>\n    <g id=\"ytick_24\">\n     <g id=\"line2d_113\">\n      <path clip-path=\"url(#p89c85b86eb)\" d=\"M 26.925 377.674393 \nL 212.925 377.674393 \n\" style=\"fill:none;stroke:#b0b0b0;stroke-linecap:square;stroke-width:0.8;\"/>\n     </g>\n     <g id=\"line2d_114\">\n      <g>\n       <use style=\"stroke:#000000;stroke-width:0.8;\" x=\"26.925\" xlink:href=\"#m352ffda50e\" y=\"377.674393\"/>\n      </g>\n     </g>\n     <g id=\"text_63\">\n      <!-- 20 -->\n      <g transform=\"translate(7.2 381.473612)scale(0.1 -0.1)\">\n       <use xlink:href=\"#DejaVuSans-50\"/>\n       <use x=\"63.623047\" xlink:href=\"#DejaVuSans-48\"/>\n      </g>\n     </g>\n    </g>\n    <g id=\"ytick_25\">\n     <g id=\"line2d_115\">\n      <path clip-path=\"url(#p89c85b86eb)\" d=\"M 26.925 333.65107 \nL 212.925 333.65107 \n\" style=\"fill:none;stroke:#b0b0b0;stroke-linecap:square;stroke-width:0.8;\"/>\n     </g>\n     <g id=\"line2d_116\">\n      <g>\n       <use style=\"stroke:#000000;stroke-width:0.8;\" x=\"26.925\" xlink:href=\"#m352ffda50e\" y=\"333.65107\"/>\n      </g>\n     </g>\n     <g id=\"text_64\">\n      <!-- 40 -->\n      <g transform=\"translate(7.2 337.450288)scale(0.1 -0.1)\">\n       <use xlink:href=\"#DejaVuSans-52\"/>\n       <use x=\"63.623047\" xlink:href=\"#DejaVuSans-48\"/>\n      </g>\n     </g>\n    </g>\n   </g>\n   <g id=\"patch_103\">\n    <path d=\"M 26.925 421.697717 \nL 26.925 310.758941 \n\" style=\"fill:none;stroke:#000000;stroke-linecap:square;stroke-linejoin:miter;stroke-width:0.8;\"/>\n   </g>\n   <g id=\"patch_104\">\n    <path d=\"M 212.925 421.697717 \nL 212.925 310.758941 \n\" style=\"fill:none;stroke:#000000;stroke-linecap:square;stroke-linejoin:miter;stroke-width:0.8;\"/>\n   </g>\n   <g id=\"patch_105\">\n    <path d=\"M 26.925 421.697717 \nL 212.925 421.697717 \n\" style=\"fill:none;stroke:#000000;stroke-linecap:square;stroke-linejoin:miter;stroke-width:0.8;\"/>\n   </g>\n   <g id=\"patch_106\">\n    <path d=\"M 26.925 310.758941 \nL 212.925 310.758941 \n\" style=\"fill:none;stroke:#000000;stroke-linecap:square;stroke-linejoin:miter;stroke-width:0.8;\"/>\n   </g>\n   <g id=\"text_65\">\n    <!-- acousticness -->\n    <g transform=\"translate(81.285938 304.758941)scale(0.12 -0.12)\">\n     <use xlink:href=\"#DejaVuSans-97\"/>\n     <use x=\"61.279297\" xlink:href=\"#DejaVuSans-99\"/>\n     <use x=\"116.259766\" xlink:href=\"#DejaVuSans-111\"/>\n     <use x=\"177.441406\" xlink:href=\"#DejaVuSans-117\"/>\n     <use x=\"240.820312\" xlink:href=\"#DejaVuSans-115\"/>\n     <use x=\"292.919922\" xlink:href=\"#DejaVuSans-116\"/>\n     <use x=\"332.128906\" xlink:href=\"#DejaVuSans-105\"/>\n     <use x=\"359.912109\" xlink:href=\"#DejaVuSans-99\"/>\n     <use x=\"414.892578\" xlink:href=\"#DejaVuSans-110\"/>\n     <use x=\"478.271484\" xlink:href=\"#DejaVuSans-101\"/>\n     <use x=\"539.794922\" xlink:href=\"#DejaVuSans-115\"/>\n     <use x=\"591.894531\" xlink:href=\"#DejaVuSans-115\"/>\n    </g>\n   </g>\n  </g>\n  <g id=\"axes_8\">\n   <g id=\"patch_107\">\n    <path d=\"M 268.725 421.697717 \nL 454.725 421.697717 \nL 454.725 310.758941 \nL 268.725 310.758941 \nz\n\" style=\"fill:#ffffff;\"/>\n   </g>\n   <g id=\"patch_108\">\n    <path clip-path=\"url(#p12fdba66bf)\" d=\"M 277.179545 421.697717 \nL 294.088636 421.697717 \nL 294.088636 316.04174 \nL 277.179545 316.04174 \nz\n\" style=\"fill:#1f77b4;\"/>\n   </g>\n   <g id=\"patch_109\">\n    <path clip-path=\"url(#p12fdba66bf)\" d=\"M 294.088636 421.697717 \nL 310.997727 421.697717 \nL 310.997727 418.029107 \nL 294.088636 418.029107 \nz\n\" style=\"fill:#1f77b4;\"/>\n   </g>\n   <g id=\"patch_110\">\n    <path clip-path=\"url(#p12fdba66bf)\" d=\"M 310.997727 421.697717 \nL 327.906818 421.697717 \nL 327.906818 418.029107 \nL 310.997727 418.029107 \nz\n\" style=\"fill:#1f77b4;\"/>\n   </g>\n   <g id=\"patch_111\">\n    <path clip-path=\"url(#p12fdba66bf)\" d=\"M 327.906818 421.697717 \nL 344.815909 421.697717 \nL 344.815909 418.762829 \nL 327.906818 418.762829 \nz\n\" style=\"fill:#1f77b4;\"/>\n   </g>\n   <g id=\"patch_112\">\n    <path clip-path=\"url(#p12fdba66bf)\" d=\"M 344.815909 421.697717 \nL 361.725 421.697717 \nL 361.725 419.496551 \nL 344.815909 419.496551 \nz\n\" style=\"fill:#1f77b4;\"/>\n   </g>\n   <g id=\"patch_113\">\n    <path clip-path=\"url(#p12fdba66bf)\" d=\"M 361.725 421.697717 \nL 378.634091 421.697717 \nL 378.634091 420.963995 \nL 361.725 420.963995 \nz\n\" style=\"fill:#1f77b4;\"/>\n   </g>\n   <g id=\"patch_114\">\n    <path clip-path=\"url(#p12fdba66bf)\" d=\"M 378.634091 421.697717 \nL 395.543182 421.697717 \nL 395.543182 418.029107 \nL 378.634091 418.029107 \nz\n\" style=\"fill:#1f77b4;\"/>\n   </g>\n   <g id=\"patch_115\">\n    <path clip-path=\"url(#p12fdba66bf)\" d=\"M 395.543182 421.697717 \nL 412.452273 421.697717 \nL 412.452273 419.496551 \nL 395.543182 419.496551 \nz\n\" style=\"fill:#1f77b4;\"/>\n   </g>\n   <g id=\"patch_116\">\n    <path clip-path=\"url(#p12fdba66bf)\" d=\"M 412.452273 421.697717 \nL 429.361364 421.697717 \nL 429.361364 417.295384 \nL 412.452273 417.295384 \nz\n\" style=\"fill:#1f77b4;\"/>\n   </g>\n   <g id=\"patch_117\">\n    <path clip-path=\"url(#p12fdba66bf)\" d=\"M 429.361364 421.697717 \nL 446.270455 421.697717 \nL 446.270455 404.088387 \nL 429.361364 404.088387 \nz\n\" style=\"fill:#1f77b4;\"/>\n   </g>\n   <g id=\"matplotlib.axis_15\">\n    <g id=\"xtick_34\">\n     <g id=\"line2d_117\">\n      <path clip-path=\"url(#p12fdba66bf)\" d=\"M 277.179545 421.697717 \nL 277.179545 310.758941 \n\" style=\"fill:none;stroke:#b0b0b0;stroke-linecap:square;stroke-width:0.8;\"/>\n     </g>\n     <g id=\"line2d_118\">\n      <g>\n       <use style=\"stroke:#000000;stroke-width:0.8;\" x=\"277.179545\" xlink:href=\"#md0084b91dd\" y=\"421.697717\"/>\n      </g>\n     </g>\n     <g id=\"text_66\">\n      <!-- 0.0 -->\n      <g transform=\"translate(270.818295 434.776467)scale(0.08 -0.08)\">\n       <use xlink:href=\"#DejaVuSans-48\"/>\n       <use x=\"63.623047\" xlink:href=\"#DejaVuSans-46\"/>\n       <use x=\"95.410156\" xlink:href=\"#DejaVuSans-48\"/>\n      </g>\n     </g>\n    </g>\n    <g id=\"xtick_35\">\n     <g id=\"line2d_119\">\n      <path clip-path=\"url(#p12fdba66bf)\" d=\"M 312.04365 421.697717 \nL 312.04365 310.758941 \n\" style=\"fill:none;stroke:#b0b0b0;stroke-linecap:square;stroke-width:0.8;\"/>\n     </g>\n     <g id=\"line2d_120\">\n      <g>\n       <use style=\"stroke:#000000;stroke-width:0.8;\" x=\"312.04365\" xlink:href=\"#md0084b91dd\" y=\"421.697717\"/>\n      </g>\n     </g>\n     <g id=\"text_67\">\n      <!-- 0.2 -->\n      <g transform=\"translate(305.6824 434.776467)scale(0.08 -0.08)\">\n       <use xlink:href=\"#DejaVuSans-48\"/>\n       <use x=\"63.623047\" xlink:href=\"#DejaVuSans-46\"/>\n       <use x=\"95.410156\" xlink:href=\"#DejaVuSans-50\"/>\n      </g>\n     </g>\n    </g>\n    <g id=\"xtick_36\">\n     <g id=\"line2d_121\">\n      <path clip-path=\"url(#p12fdba66bf)\" d=\"M 346.907755 421.697717 \nL 346.907755 310.758941 \n\" style=\"fill:none;stroke:#b0b0b0;stroke-linecap:square;stroke-width:0.8;\"/>\n     </g>\n     <g id=\"line2d_122\">\n      <g>\n       <use style=\"stroke:#000000;stroke-width:0.8;\" x=\"346.907755\" xlink:href=\"#md0084b91dd\" y=\"421.697717\"/>\n      </g>\n     </g>\n     <g id=\"text_68\">\n      <!-- 0.4 -->\n      <g transform=\"translate(340.546505 434.776467)scale(0.08 -0.08)\">\n       <use xlink:href=\"#DejaVuSans-48\"/>\n       <use x=\"63.623047\" xlink:href=\"#DejaVuSans-46\"/>\n       <use x=\"95.410156\" xlink:href=\"#DejaVuSans-52\"/>\n      </g>\n     </g>\n    </g>\n    <g id=\"xtick_37\">\n     <g id=\"line2d_123\">\n      <path clip-path=\"url(#p12fdba66bf)\" d=\"M 381.77186 421.697717 \nL 381.77186 310.758941 \n\" style=\"fill:none;stroke:#b0b0b0;stroke-linecap:square;stroke-width:0.8;\"/>\n     </g>\n     <g id=\"line2d_124\">\n      <g>\n       <use style=\"stroke:#000000;stroke-width:0.8;\" x=\"381.77186\" xlink:href=\"#md0084b91dd\" y=\"421.697717\"/>\n      </g>\n     </g>\n     <g id=\"text_69\">\n      <!-- 0.6 -->\n      <g transform=\"translate(375.41061 434.776467)scale(0.08 -0.08)\">\n       <use xlink:href=\"#DejaVuSans-48\"/>\n       <use x=\"63.623047\" xlink:href=\"#DejaVuSans-46\"/>\n       <use x=\"95.410156\" xlink:href=\"#DejaVuSans-54\"/>\n      </g>\n     </g>\n    </g>\n    <g id=\"xtick_38\">\n     <g id=\"line2d_125\">\n      <path clip-path=\"url(#p12fdba66bf)\" d=\"M 416.635965 421.697717 \nL 416.635965 310.758941 \n\" style=\"fill:none;stroke:#b0b0b0;stroke-linecap:square;stroke-width:0.8;\"/>\n     </g>\n     <g id=\"line2d_126\">\n      <g>\n       <use style=\"stroke:#000000;stroke-width:0.8;\" x=\"416.635965\" xlink:href=\"#md0084b91dd\" y=\"421.697717\"/>\n      </g>\n     </g>\n     <g id=\"text_70\">\n      <!-- 0.8 -->\n      <g transform=\"translate(410.274715 434.776467)scale(0.08 -0.08)\">\n       <use xlink:href=\"#DejaVuSans-48\"/>\n       <use x=\"63.623047\" xlink:href=\"#DejaVuSans-46\"/>\n       <use x=\"95.410156\" xlink:href=\"#DejaVuSans-56\"/>\n      </g>\n     </g>\n    </g>\n    <g id=\"xtick_39\">\n     <g id=\"line2d_127\">\n      <path clip-path=\"url(#p12fdba66bf)\" d=\"M 451.50007 421.697717 \nL 451.50007 310.758941 \n\" style=\"fill:none;stroke:#b0b0b0;stroke-linecap:square;stroke-width:0.8;\"/>\n     </g>\n     <g id=\"line2d_128\">\n      <g>\n       <use style=\"stroke:#000000;stroke-width:0.8;\" x=\"451.50007\" xlink:href=\"#md0084b91dd\" y=\"421.697717\"/>\n      </g>\n     </g>\n     <g id=\"text_71\">\n      <!-- 1.0 -->\n      <g transform=\"translate(445.13882 434.776467)scale(0.08 -0.08)\">\n       <use xlink:href=\"#DejaVuSans-49\"/>\n       <use x=\"63.623047\" xlink:href=\"#DejaVuSans-46\"/>\n       <use x=\"95.410156\" xlink:href=\"#DejaVuSans-48\"/>\n      </g>\n     </g>\n    </g>\n   </g>\n   <g id=\"matplotlib.axis_16\">\n    <g id=\"ytick_26\">\n     <g id=\"line2d_129\">\n      <path clip-path=\"url(#p12fdba66bf)\" d=\"M 268.725 421.697717 \nL 454.725 421.697717 \n\" style=\"fill:none;stroke:#b0b0b0;stroke-linecap:square;stroke-width:0.8;\"/>\n     </g>\n     <g id=\"line2d_130\">\n      <g>\n       <use style=\"stroke:#000000;stroke-width:0.8;\" x=\"268.725\" xlink:href=\"#m352ffda50e\" y=\"421.697717\"/>\n      </g>\n     </g>\n     <g id=\"text_72\">\n      <!-- 0 -->\n      <g transform=\"translate(255.3625 425.496936)scale(0.1 -0.1)\">\n       <use xlink:href=\"#DejaVuSans-48\"/>\n      </g>\n     </g>\n    </g>\n    <g id=\"ytick_27\">\n     <g id=\"line2d_131\">\n      <path clip-path=\"url(#p12fdba66bf)\" d=\"M 268.725 385.011614 \nL 454.725 385.011614 \n\" style=\"fill:none;stroke:#b0b0b0;stroke-linecap:square;stroke-width:0.8;\"/>\n     </g>\n     <g id=\"line2d_132\">\n      <g>\n       <use style=\"stroke:#000000;stroke-width:0.8;\" x=\"268.725\" xlink:href=\"#m352ffda50e\" y=\"385.011614\"/>\n      </g>\n     </g>\n     <g id=\"text_73\">\n      <!-- 50 -->\n      <g transform=\"translate(249 388.810833)scale(0.1 -0.1)\">\n       <use xlink:href=\"#DejaVuSans-53\"/>\n       <use x=\"63.623047\" xlink:href=\"#DejaVuSans-48\"/>\n      </g>\n     </g>\n    </g>\n    <g id=\"ytick_28\">\n     <g id=\"line2d_133\">\n      <path clip-path=\"url(#p12fdba66bf)\" d=\"M 268.725 348.325511 \nL 454.725 348.325511 \n\" style=\"fill:none;stroke:#b0b0b0;stroke-linecap:square;stroke-width:0.8;\"/>\n     </g>\n     <g id=\"line2d_134\">\n      <g>\n       <use style=\"stroke:#000000;stroke-width:0.8;\" x=\"268.725\" xlink:href=\"#m352ffda50e\" y=\"348.325511\"/>\n      </g>\n     </g>\n     <g id=\"text_74\">\n      <!-- 100 -->\n      <g transform=\"translate(242.6375 352.12473)scale(0.1 -0.1)\">\n       <use xlink:href=\"#DejaVuSans-49\"/>\n       <use x=\"63.623047\" xlink:href=\"#DejaVuSans-48\"/>\n       <use x=\"127.246094\" xlink:href=\"#DejaVuSans-48\"/>\n      </g>\n     </g>\n    </g>\n    <g id=\"ytick_29\">\n     <g id=\"line2d_135\">\n      <path clip-path=\"url(#p12fdba66bf)\" d=\"M 268.725 311.639408 \nL 454.725 311.639408 \n\" style=\"fill:none;stroke:#b0b0b0;stroke-linecap:square;stroke-width:0.8;\"/>\n     </g>\n     <g id=\"line2d_136\">\n      <g>\n       <use style=\"stroke:#000000;stroke-width:0.8;\" x=\"268.725\" xlink:href=\"#m352ffda50e\" y=\"311.639408\"/>\n      </g>\n     </g>\n     <g id=\"text_75\">\n      <!-- 150 -->\n      <g transform=\"translate(242.6375 315.438627)scale(0.1 -0.1)\">\n       <use xlink:href=\"#DejaVuSans-49\"/>\n       <use x=\"63.623047\" xlink:href=\"#DejaVuSans-53\"/>\n       <use x=\"127.246094\" xlink:href=\"#DejaVuSans-48\"/>\n      </g>\n     </g>\n    </g>\n   </g>\n   <g id=\"patch_118\">\n    <path d=\"M 268.725 421.697717 \nL 268.725 310.758941 \n\" style=\"fill:none;stroke:#000000;stroke-linecap:square;stroke-linejoin:miter;stroke-width:0.8;\"/>\n   </g>\n   <g id=\"patch_119\">\n    <path d=\"M 454.725 421.697717 \nL 454.725 310.758941 \n\" style=\"fill:none;stroke:#000000;stroke-linecap:square;stroke-linejoin:miter;stroke-width:0.8;\"/>\n   </g>\n   <g id=\"patch_120\">\n    <path d=\"M 268.725 421.697717 \nL 454.725 421.697717 \n\" style=\"fill:none;stroke:#000000;stroke-linecap:square;stroke-linejoin:miter;stroke-width:0.8;\"/>\n   </g>\n   <g id=\"patch_121\">\n    <path d=\"M 268.725 310.758941 \nL 454.725 310.758941 \n\" style=\"fill:none;stroke:#000000;stroke-linecap:square;stroke-linejoin:miter;stroke-width:0.8;\"/>\n   </g>\n   <g id=\"text_76\">\n    <!-- instrumentalness -->\n    <g transform=\"translate(309.728438 304.758941)scale(0.12 -0.12)\">\n     <use xlink:href=\"#DejaVuSans-105\"/>\n     <use x=\"27.783203\" xlink:href=\"#DejaVuSans-110\"/>\n     <use x=\"91.162109\" xlink:href=\"#DejaVuSans-115\"/>\n     <use x=\"143.261719\" xlink:href=\"#DejaVuSans-116\"/>\n     <use x=\"182.470703\" xlink:href=\"#DejaVuSans-114\"/>\n     <use x=\"223.583984\" xlink:href=\"#DejaVuSans-117\"/>\n     <use x=\"286.962891\" xlink:href=\"#DejaVuSans-109\"/>\n     <use x=\"384.375\" xlink:href=\"#DejaVuSans-101\"/>\n     <use x=\"445.898438\" xlink:href=\"#DejaVuSans-110\"/>\n     <use x=\"509.277344\" xlink:href=\"#DejaVuSans-116\"/>\n     <use x=\"548.486328\" xlink:href=\"#DejaVuSans-97\"/>\n     <use x=\"609.765625\" xlink:href=\"#DejaVuSans-108\"/>\n     <use x=\"637.548828\" xlink:href=\"#DejaVuSans-110\"/>\n     <use x=\"700.927734\" xlink:href=\"#DejaVuSans-101\"/>\n     <use x=\"762.451172\" xlink:href=\"#DejaVuSans-115\"/>\n     <use x=\"814.550781\" xlink:href=\"#DejaVuSans-115\"/>\n    </g>\n   </g>\n  </g>\n  <g id=\"axes_9\">\n   <g id=\"patch_122\">\n    <path d=\"M 510.525 421.697717 \nL 696.525 421.697717 \nL 696.525 310.758941 \nL 510.525 310.758941 \nz\n\" style=\"fill:#ffffff;\"/>\n   </g>\n   <g id=\"patch_123\">\n    <path clip-path=\"url(#p533b3a95d0)\" d=\"M 518.979545 421.697717 \nL 535.888636 421.697717 \nL 535.888636 316.04174 \nL 518.979545 316.04174 \nz\n\" style=\"fill:#1f77b4;\"/>\n   </g>\n   <g id=\"patch_124\">\n    <path clip-path=\"url(#p533b3a95d0)\" d=\"M 535.888636 421.697717 \nL 552.797727 421.697717 \nL 552.797727 390.242884 \nL 535.888636 390.242884 \nz\n\" style=\"fill:#1f77b4;\"/>\n   </g>\n   <g id=\"patch_125\">\n    <path clip-path=\"url(#p533b3a95d0)\" d=\"M 552.797727 421.697717 \nL 569.706818 421.697717 \nL 569.706818 412.019307 \nL 552.797727 412.019307 \nz\n\" style=\"fill:#1f77b4;\"/>\n   </g>\n   <g id=\"patch_126\">\n    <path clip-path=\"url(#p533b3a95d0)\" d=\"M 569.706818 421.697717 \nL 586.615909 421.697717 \nL 586.615909 412.019307 \nL 569.706818 412.019307 \nz\n\" style=\"fill:#1f77b4;\"/>\n   </g>\n   <g id=\"patch_127\">\n    <path clip-path=\"url(#p533b3a95d0)\" d=\"M 586.615909 421.697717 \nL 603.525 421.697717 \nL 603.525 420.891183 \nL 586.615909 420.891183 \nz\n\" style=\"fill:#1f77b4;\"/>\n   </g>\n   <g id=\"patch_128\">\n    <path clip-path=\"url(#p533b3a95d0)\" d=\"M 603.525 421.697717 \nL 620.434091 421.697717 \nL 620.434091 421.697717 \nL 603.525 421.697717 \nz\n\" style=\"fill:#1f77b4;\"/>\n   </g>\n   <g id=\"patch_129\">\n    <path clip-path=\"url(#p533b3a95d0)\" d=\"M 620.434091 421.697717 \nL 637.343182 421.697717 \nL 637.343182 420.084648 \nL 620.434091 420.084648 \nz\n\" style=\"fill:#1f77b4;\"/>\n   </g>\n   <g id=\"patch_130\">\n    <path clip-path=\"url(#p533b3a95d0)\" d=\"M 637.343182 421.697717 \nL 654.252273 421.697717 \nL 654.252273 420.891183 \nL 637.343182 420.891183 \nz\n\" style=\"fill:#1f77b4;\"/>\n   </g>\n   <g id=\"patch_131\">\n    <path clip-path=\"url(#p533b3a95d0)\" d=\"M 654.252273 421.697717 \nL 671.161364 421.697717 \nL 671.161364 420.891183 \nL 654.252273 420.891183 \nz\n\" style=\"fill:#1f77b4;\"/>\n   </g>\n   <g id=\"patch_132\">\n    <path clip-path=\"url(#p533b3a95d0)\" d=\"M 671.161364 421.697717 \nL 688.070455 421.697717 \nL 688.070455 420.891183 \nL 671.161364 420.891183 \nz\n\" style=\"fill:#1f77b4;\"/>\n   </g>\n   <g id=\"matplotlib.axis_17\">\n    <g id=\"xtick_40\">\n     <g id=\"line2d_137\">\n      <path clip-path=\"url(#p533b3a95d0)\" d=\"M 546.300227 421.697717 \nL 546.300227 310.758941 \n\" style=\"fill:none;stroke:#b0b0b0;stroke-linecap:square;stroke-width:0.8;\"/>\n     </g>\n     <g id=\"line2d_138\">\n      <g>\n       <use style=\"stroke:#000000;stroke-width:0.8;\" x=\"546.300227\" xlink:href=\"#md0084b91dd\" y=\"421.697717\"/>\n      </g>\n     </g>\n     <g id=\"text_77\">\n      <!-- 0.2 -->\n      <g transform=\"translate(539.938977 434.776467)scale(0.08 -0.08)\">\n       <use xlink:href=\"#DejaVuSans-48\"/>\n       <use x=\"63.623047\" xlink:href=\"#DejaVuSans-46\"/>\n       <use x=\"95.410156\" xlink:href=\"#DejaVuSans-50\"/>\n      </g>\n     </g>\n    </g>\n    <g id=\"xtick_41\">\n     <g id=\"line2d_139\">\n      <path clip-path=\"url(#p533b3a95d0)\" d=\"M 582.558597 421.697717 \nL 582.558597 310.758941 \n\" style=\"fill:none;stroke:#b0b0b0;stroke-linecap:square;stroke-width:0.8;\"/>\n     </g>\n     <g id=\"line2d_140\">\n      <g>\n       <use style=\"stroke:#000000;stroke-width:0.8;\" x=\"582.558597\" xlink:href=\"#md0084b91dd\" y=\"421.697717\"/>\n      </g>\n     </g>\n     <g id=\"text_78\">\n      <!-- 0.4 -->\n      <g transform=\"translate(576.197347 434.776467)scale(0.08 -0.08)\">\n       <use xlink:href=\"#DejaVuSans-48\"/>\n       <use x=\"63.623047\" xlink:href=\"#DejaVuSans-46\"/>\n       <use x=\"95.410156\" xlink:href=\"#DejaVuSans-52\"/>\n      </g>\n     </g>\n    </g>\n    <g id=\"xtick_42\">\n     <g id=\"line2d_141\">\n      <path clip-path=\"url(#p533b3a95d0)\" d=\"M 618.816968 421.697717 \nL 618.816968 310.758941 \n\" style=\"fill:none;stroke:#b0b0b0;stroke-linecap:square;stroke-width:0.8;\"/>\n     </g>\n     <g id=\"line2d_142\">\n      <g>\n       <use style=\"stroke:#000000;stroke-width:0.8;\" x=\"618.816968\" xlink:href=\"#md0084b91dd\" y=\"421.697717\"/>\n      </g>\n     </g>\n     <g id=\"text_79\">\n      <!-- 0.6 -->\n      <g transform=\"translate(612.455718 434.776467)scale(0.08 -0.08)\">\n       <use xlink:href=\"#DejaVuSans-48\"/>\n       <use x=\"63.623047\" xlink:href=\"#DejaVuSans-46\"/>\n       <use x=\"95.410156\" xlink:href=\"#DejaVuSans-54\"/>\n      </g>\n     </g>\n    </g>\n    <g id=\"xtick_43\">\n     <g id=\"line2d_143\">\n      <path clip-path=\"url(#p533b3a95d0)\" d=\"M 655.075338 421.697717 \nL 655.075338 310.758941 \n\" style=\"fill:none;stroke:#b0b0b0;stroke-linecap:square;stroke-width:0.8;\"/>\n     </g>\n     <g id=\"line2d_144\">\n      <g>\n       <use style=\"stroke:#000000;stroke-width:0.8;\" x=\"655.075338\" xlink:href=\"#md0084b91dd\" y=\"421.697717\"/>\n      </g>\n     </g>\n     <g id=\"text_80\">\n      <!-- 0.8 -->\n      <g transform=\"translate(648.714088 434.776467)scale(0.08 -0.08)\">\n       <use xlink:href=\"#DejaVuSans-48\"/>\n       <use x=\"63.623047\" xlink:href=\"#DejaVuSans-46\"/>\n       <use x=\"95.410156\" xlink:href=\"#DejaVuSans-56\"/>\n      </g>\n     </g>\n    </g>\n    <g id=\"xtick_44\">\n     <g id=\"line2d_145\">\n      <path clip-path=\"url(#p533b3a95d0)\" d=\"M 691.333708 421.697717 \nL 691.333708 310.758941 \n\" style=\"fill:none;stroke:#b0b0b0;stroke-linecap:square;stroke-width:0.8;\"/>\n     </g>\n     <g id=\"line2d_146\">\n      <g>\n       <use style=\"stroke:#000000;stroke-width:0.8;\" x=\"691.333708\" xlink:href=\"#md0084b91dd\" y=\"421.697717\"/>\n      </g>\n     </g>\n     <g id=\"text_81\">\n      <!-- 1.0 -->\n      <g transform=\"translate(684.972458 434.776467)scale(0.08 -0.08)\">\n       <use xlink:href=\"#DejaVuSans-49\"/>\n       <use x=\"63.623047\" xlink:href=\"#DejaVuSans-46\"/>\n       <use x=\"95.410156\" xlink:href=\"#DejaVuSans-48\"/>\n      </g>\n     </g>\n    </g>\n   </g>\n   <g id=\"matplotlib.axis_18\">\n    <g id=\"ytick_30\">\n     <g id=\"line2d_147\">\n      <path clip-path=\"url(#p533b3a95d0)\" d=\"M 510.525 421.697717 \nL 696.525 421.697717 \n\" style=\"fill:none;stroke:#b0b0b0;stroke-linecap:square;stroke-width:0.8;\"/>\n     </g>\n     <g id=\"line2d_148\">\n      <g>\n       <use style=\"stroke:#000000;stroke-width:0.8;\" x=\"510.525\" xlink:href=\"#m352ffda50e\" y=\"421.697717\"/>\n      </g>\n     </g>\n     <g id=\"text_82\">\n      <!-- 0 -->\n      <g transform=\"translate(497.1625 425.496936)scale(0.1 -0.1)\">\n       <use xlink:href=\"#DejaVuSans-48\"/>\n      </g>\n     </g>\n    </g>\n    <g id=\"ytick_31\">\n     <g id=\"line2d_149\">\n      <path clip-path=\"url(#p533b3a95d0)\" d=\"M 510.525 381.371008 \nL 696.525 381.371008 \n\" style=\"fill:none;stroke:#b0b0b0;stroke-linecap:square;stroke-width:0.8;\"/>\n     </g>\n     <g id=\"line2d_150\">\n      <g>\n       <use style=\"stroke:#000000;stroke-width:0.8;\" x=\"510.525\" xlink:href=\"#m352ffda50e\" y=\"381.371008\"/>\n      </g>\n     </g>\n     <g id=\"text_83\">\n      <!-- 50 -->\n      <g transform=\"translate(490.8 385.170227)scale(0.1 -0.1)\">\n       <use xlink:href=\"#DejaVuSans-53\"/>\n       <use x=\"63.623047\" xlink:href=\"#DejaVuSans-48\"/>\n      </g>\n     </g>\n    </g>\n    <g id=\"ytick_32\">\n     <g id=\"line2d_151\">\n      <path clip-path=\"url(#p533b3a95d0)\" d=\"M 510.525 341.0443 \nL 696.525 341.0443 \n\" style=\"fill:none;stroke:#b0b0b0;stroke-linecap:square;stroke-width:0.8;\"/>\n     </g>\n     <g id=\"line2d_152\">\n      <g>\n       <use style=\"stroke:#000000;stroke-width:0.8;\" x=\"510.525\" xlink:href=\"#m352ffda50e\" y=\"341.0443\"/>\n      </g>\n     </g>\n     <g id=\"text_84\">\n      <!-- 100 -->\n      <g transform=\"translate(484.4375 344.843518)scale(0.1 -0.1)\">\n       <use xlink:href=\"#DejaVuSans-49\"/>\n       <use x=\"63.623047\" xlink:href=\"#DejaVuSans-48\"/>\n       <use x=\"127.246094\" xlink:href=\"#DejaVuSans-48\"/>\n      </g>\n     </g>\n    </g>\n   </g>\n   <g id=\"patch_133\">\n    <path d=\"M 510.525 421.697717 \nL 510.525 310.758941 \n\" style=\"fill:none;stroke:#000000;stroke-linecap:square;stroke-linejoin:miter;stroke-width:0.8;\"/>\n   </g>\n   <g id=\"patch_134\">\n    <path d=\"M 696.525 421.697717 \nL 696.525 310.758941 \n\" style=\"fill:none;stroke:#000000;stroke-linecap:square;stroke-linejoin:miter;stroke-width:0.8;\"/>\n   </g>\n   <g id=\"patch_135\">\n    <path d=\"M 510.525 421.697717 \nL 696.525 421.697717 \n\" style=\"fill:none;stroke:#000000;stroke-linecap:square;stroke-linejoin:miter;stroke-width:0.8;\"/>\n   </g>\n   <g id=\"patch_136\">\n    <path d=\"M 510.525 310.758941 \nL 696.525 310.758941 \n\" style=\"fill:none;stroke:#000000;stroke-linecap:square;stroke-linejoin:miter;stroke-width:0.8;\"/>\n   </g>\n   <g id=\"text_85\">\n    <!-- liveness -->\n    <defs>\n     <path d=\"M 2.984375 54.6875 \nL 12.5 54.6875 \nL 29.59375 8.796875 \nL 46.6875 54.6875 \nL 56.203125 54.6875 \nL 35.6875 0 \nL 23.484375 0 \nz\n\" id=\"DejaVuSans-118\"/>\n    </defs>\n    <g transform=\"translate(579.2025 304.758941)scale(0.12 -0.12)\">\n     <use xlink:href=\"#DejaVuSans-108\"/>\n     <use x=\"27.783203\" xlink:href=\"#DejaVuSans-105\"/>\n     <use x=\"55.566406\" xlink:href=\"#DejaVuSans-118\"/>\n     <use x=\"114.746094\" xlink:href=\"#DejaVuSans-101\"/>\n     <use x=\"176.269531\" xlink:href=\"#DejaVuSans-110\"/>\n     <use x=\"239.648438\" xlink:href=\"#DejaVuSans-101\"/>\n     <use x=\"301.171875\" xlink:href=\"#DejaVuSans-115\"/>\n     <use x=\"353.271484\" xlink:href=\"#DejaVuSans-115\"/>\n    </g>\n   </g>\n  </g>\n  <g id=\"axes_10\">\n   <g id=\"patch_137\">\n    <path d=\"M 26.925 565.918125 \nL 212.925 565.918125 \nL 212.925 454.979349 \nL 26.925 454.979349 \nz\n\" style=\"fill:#ffffff;\"/>\n   </g>\n   <g id=\"patch_138\">\n    <path clip-path=\"url(#pbb56874881)\" d=\"M 35.379545 565.918125 \nL 52.288636 565.918125 \nL 52.288636 539.504131 \nL 35.379545 539.504131 \nz\n\" style=\"fill:#1f77b4;\"/>\n   </g>\n   <g id=\"patch_139\">\n    <path clip-path=\"url(#pbb56874881)\" d=\"M 52.288636 565.918125 \nL 69.197727 565.918125 \nL 69.197727 460.262148 \nL 52.288636 460.262148 \nz\n\" style=\"fill:#1f77b4;\"/>\n   </g>\n   <g id=\"patch_140\">\n    <path clip-path=\"url(#pbb56874881)\" d=\"M 69.197727 565.918125 \nL 86.106818 565.918125 \nL 86.106818 466.131925 \nL 69.197727 466.131925 \nz\n\" style=\"fill:#1f77b4;\"/>\n   </g>\n   <g id=\"patch_141\">\n    <path clip-path=\"url(#pbb56874881)\" d=\"M 86.106818 565.918125 \nL 103.015909 565.918125 \nL 103.015909 460.262148 \nL 86.106818 460.262148 \nz\n\" style=\"fill:#1f77b4;\"/>\n   </g>\n   <g id=\"patch_142\">\n    <path clip-path=\"url(#pbb56874881)\" d=\"M 103.015909 565.918125 \nL 119.925 565.918125 \nL 119.925 463.197037 \nL 103.015909 463.197037 \nz\n\" style=\"fill:#1f77b4;\"/>\n   </g>\n   <g id=\"patch_143\">\n    <path clip-path=\"url(#pbb56874881)\" d=\"M 119.925 565.918125 \nL 136.834091 565.918125 \nL 136.834091 501.350584 \nL 119.925 501.350584 \nz\n\" style=\"fill:#1f77b4;\"/>\n   </g>\n   <g id=\"patch_144\">\n    <path clip-path=\"url(#pbb56874881)\" d=\"M 136.834091 565.918125 \nL 153.743182 565.918125 \nL 153.743182 554.178572 \nL 136.834091 554.178572 \nz\n\" style=\"fill:#1f77b4;\"/>\n   </g>\n   <g id=\"patch_145\">\n    <path clip-path=\"url(#pbb56874881)\" d=\"M 153.743182 565.918125 \nL 170.652273 565.918125 \nL 170.652273 527.764578 \nL 153.743182 527.764578 \nz\n\" style=\"fill:#1f77b4;\"/>\n   </g>\n   <g id=\"patch_146\">\n    <path clip-path=\"url(#pbb56874881)\" d=\"M 170.652273 565.918125 \nL 187.561364 565.918125 \nL 187.561364 545.373907 \nL 170.652273 545.373907 \nz\n\" style=\"fill:#1f77b4;\"/>\n   </g>\n   <g id=\"patch_147\">\n    <path clip-path=\"url(#pbb56874881)\" d=\"M 187.561364 565.918125 \nL 204.470455 565.918125 \nL 204.470455 554.178572 \nL 187.561364 554.178572 \nz\n\" style=\"fill:#1f77b4;\"/>\n   </g>\n   <g id=\"matplotlib.axis_19\">\n    <g id=\"xtick_45\">\n     <g id=\"line2d_153\">\n      <path clip-path=\"url(#pbb56874881)\" d=\"M 80.902839 565.918125 \nL 80.902839 454.979349 \n\" style=\"fill:none;stroke:#b0b0b0;stroke-linecap:square;stroke-width:0.8;\"/>\n     </g>\n     <g id=\"line2d_154\">\n      <g>\n       <use style=\"stroke:#000000;stroke-width:0.8;\" x=\"80.902839\" xlink:href=\"#md0084b91dd\" y=\"565.918125\"/>\n      </g>\n     </g>\n     <g id=\"text_86\">\n      <!-- 100 -->\n      <g transform=\"translate(73.267839 578.996875)scale(0.08 -0.08)\">\n       <use xlink:href=\"#DejaVuSans-49\"/>\n       <use x=\"63.623047\" xlink:href=\"#DejaVuSans-48\"/>\n       <use x=\"127.246094\" xlink:href=\"#DejaVuSans-48\"/>\n      </g>\n     </g>\n    </g>\n    <g id=\"xtick_46\">\n     <g id=\"line2d_155\">\n      <path clip-path=\"url(#pbb56874881)\" d=\"M 140.014787 565.918125 \nL 140.014787 454.979349 \n\" style=\"fill:none;stroke:#b0b0b0;stroke-linecap:square;stroke-width:0.8;\"/>\n     </g>\n     <g id=\"line2d_156\">\n      <g>\n       <use style=\"stroke:#000000;stroke-width:0.8;\" x=\"140.014787\" xlink:href=\"#md0084b91dd\" y=\"565.918125\"/>\n      </g>\n     </g>\n     <g id=\"text_87\">\n      <!-- 150 -->\n      <g transform=\"translate(132.379787 578.996875)scale(0.08 -0.08)\">\n       <use xlink:href=\"#DejaVuSans-49\"/>\n       <use x=\"63.623047\" xlink:href=\"#DejaVuSans-53\"/>\n       <use x=\"127.246094\" xlink:href=\"#DejaVuSans-48\"/>\n      </g>\n     </g>\n    </g>\n    <g id=\"xtick_47\">\n     <g id=\"line2d_157\">\n      <path clip-path=\"url(#pbb56874881)\" d=\"M 199.126734 565.918125 \nL 199.126734 454.979349 \n\" style=\"fill:none;stroke:#b0b0b0;stroke-linecap:square;stroke-width:0.8;\"/>\n     </g>\n     <g id=\"line2d_158\">\n      <g>\n       <use style=\"stroke:#000000;stroke-width:0.8;\" x=\"199.126734\" xlink:href=\"#md0084b91dd\" y=\"565.918125\"/>\n      </g>\n     </g>\n     <g id=\"text_88\">\n      <!-- 200 -->\n      <g transform=\"translate(191.491734 578.996875)scale(0.08 -0.08)\">\n       <use xlink:href=\"#DejaVuSans-50\"/>\n       <use x=\"63.623047\" xlink:href=\"#DejaVuSans-48\"/>\n       <use x=\"127.246094\" xlink:href=\"#DejaVuSans-48\"/>\n      </g>\n     </g>\n    </g>\n   </g>\n   <g id=\"matplotlib.axis_20\">\n    <g id=\"ytick_33\">\n     <g id=\"line2d_159\">\n      <path clip-path=\"url(#pbb56874881)\" d=\"M 26.925 565.918125 \nL 212.925 565.918125 \n\" style=\"fill:none;stroke:#b0b0b0;stroke-linecap:square;stroke-width:0.8;\"/>\n     </g>\n     <g id=\"line2d_160\">\n      <g>\n       <use style=\"stroke:#000000;stroke-width:0.8;\" x=\"26.925\" xlink:href=\"#m352ffda50e\" y=\"565.918125\"/>\n      </g>\n     </g>\n     <g id=\"text_89\">\n      <!-- 0 -->\n      <g transform=\"translate(13.5625 569.717344)scale(0.1 -0.1)\">\n       <use xlink:href=\"#DejaVuSans-48\"/>\n      </g>\n     </g>\n    </g>\n    <g id=\"ytick_34\">\n     <g id=\"line2d_161\">\n      <path clip-path=\"url(#pbb56874881)\" d=\"M 26.925 536.569243 \nL 212.925 536.569243 \n\" style=\"fill:none;stroke:#b0b0b0;stroke-linecap:square;stroke-width:0.8;\"/>\n     </g>\n     <g id=\"line2d_162\">\n      <g>\n       <use style=\"stroke:#000000;stroke-width:0.8;\" x=\"26.925\" xlink:href=\"#m352ffda50e\" y=\"536.569243\"/>\n      </g>\n     </g>\n     <g id=\"text_90\">\n      <!-- 10 -->\n      <g transform=\"translate(7.2 540.368461)scale(0.1 -0.1)\">\n       <use xlink:href=\"#DejaVuSans-49\"/>\n       <use x=\"63.623047\" xlink:href=\"#DejaVuSans-48\"/>\n      </g>\n     </g>\n    </g>\n    <g id=\"ytick_35\">\n     <g id=\"line2d_163\">\n      <path clip-path=\"url(#pbb56874881)\" d=\"M 26.925 507.22036 \nL 212.925 507.22036 \n\" style=\"fill:none;stroke:#b0b0b0;stroke-linecap:square;stroke-width:0.8;\"/>\n     </g>\n     <g id=\"line2d_164\">\n      <g>\n       <use style=\"stroke:#000000;stroke-width:0.8;\" x=\"26.925\" xlink:href=\"#m352ffda50e\" y=\"507.22036\"/>\n      </g>\n     </g>\n     <g id=\"text_91\">\n      <!-- 20 -->\n      <g transform=\"translate(7.2 511.019579)scale(0.1 -0.1)\">\n       <use xlink:href=\"#DejaVuSans-50\"/>\n       <use x=\"63.623047\" xlink:href=\"#DejaVuSans-48\"/>\n      </g>\n     </g>\n    </g>\n    <g id=\"ytick_36\">\n     <g id=\"line2d_165\">\n      <path clip-path=\"url(#pbb56874881)\" d=\"M 26.925 477.871478 \nL 212.925 477.871478 \n\" style=\"fill:none;stroke:#b0b0b0;stroke-linecap:square;stroke-width:0.8;\"/>\n     </g>\n     <g id=\"line2d_166\">\n      <g>\n       <use style=\"stroke:#000000;stroke-width:0.8;\" x=\"26.925\" xlink:href=\"#m352ffda50e\" y=\"477.871478\"/>\n      </g>\n     </g>\n     <g id=\"text_92\">\n      <!-- 30 -->\n      <g transform=\"translate(7.2 481.670697)scale(0.1 -0.1)\">\n       <use xlink:href=\"#DejaVuSans-51\"/>\n       <use x=\"63.623047\" xlink:href=\"#DejaVuSans-48\"/>\n      </g>\n     </g>\n    </g>\n   </g>\n   <g id=\"patch_148\">\n    <path d=\"M 26.925 565.918125 \nL 26.925 454.979349 \n\" style=\"fill:none;stroke:#000000;stroke-linecap:square;stroke-linejoin:miter;stroke-width:0.8;\"/>\n   </g>\n   <g id=\"patch_149\">\n    <path d=\"M 212.925 565.918125 \nL 212.925 454.979349 \n\" style=\"fill:none;stroke:#000000;stroke-linecap:square;stroke-linejoin:miter;stroke-width:0.8;\"/>\n   </g>\n   <g id=\"patch_150\">\n    <path d=\"M 26.925 565.918125 \nL 212.925 565.918125 \n\" style=\"fill:none;stroke:#000000;stroke-linecap:square;stroke-linejoin:miter;stroke-width:0.8;\"/>\n   </g>\n   <g id=\"patch_151\">\n    <path d=\"M 26.925 454.979349 \nL 212.925 454.979349 \n\" style=\"fill:none;stroke:#000000;stroke-linecap:square;stroke-linejoin:miter;stroke-width:0.8;\"/>\n   </g>\n   <g id=\"text_93\">\n    <!-- tempo -->\n    <g transform=\"translate(100.55625 448.979349)scale(0.12 -0.12)\">\n     <use xlink:href=\"#DejaVuSans-116\"/>\n     <use x=\"39.208984\" xlink:href=\"#DejaVuSans-101\"/>\n     <use x=\"100.732422\" xlink:href=\"#DejaVuSans-109\"/>\n     <use x=\"198.144531\" xlink:href=\"#DejaVuSans-112\"/>\n     <use x=\"261.621094\" xlink:href=\"#DejaVuSans-111\"/>\n    </g>\n   </g>\n  </g>\n </g>\n <defs>\n  <clipPath id=\"p24ceb758eb\">\n   <rect height=\"110.938776\" width=\"186\" x=\"26.925\" y=\"22.318125\"/>\n  </clipPath>\n  <clipPath id=\"p3727b43dba\">\n   <rect height=\"110.938776\" width=\"186\" x=\"268.725\" y=\"22.318125\"/>\n  </clipPath>\n  <clipPath id=\"pd59cddd899\">\n   <rect height=\"110.938776\" width=\"186\" x=\"510.525\" y=\"22.318125\"/>\n  </clipPath>\n  <clipPath id=\"p866a1dbfe6\">\n   <rect height=\"110.938776\" width=\"186\" x=\"26.925\" y=\"166.538533\"/>\n  </clipPath>\n  <clipPath id=\"p9102a46406\">\n   <rect height=\"110.938776\" width=\"186\" x=\"268.725\" y=\"166.538533\"/>\n  </clipPath>\n  <clipPath id=\"p1f6d7283fe\">\n   <rect height=\"110.938776\" width=\"186\" x=\"510.525\" y=\"166.538533\"/>\n  </clipPath>\n  <clipPath id=\"p89c85b86eb\">\n   <rect height=\"110.938776\" width=\"186\" x=\"26.925\" y=\"310.758941\"/>\n  </clipPath>\n  <clipPath id=\"p12fdba66bf\">\n   <rect height=\"110.938776\" width=\"186\" x=\"268.725\" y=\"310.758941\"/>\n  </clipPath>\n  <clipPath id=\"p533b3a95d0\">\n   <rect height=\"110.938776\" width=\"186\" x=\"510.525\" y=\"310.758941\"/>\n  </clipPath>\n  <clipPath id=\"pbb56874881\">\n   <rect height=\"110.938776\" width=\"186\" x=\"26.925\" y=\"454.979349\"/>\n  </clipPath>\n </defs>\n</svg>\n",
      "text/plain": [
       "<Figure size 864x720 with 12 Axes>"
      ]
     },
     "metadata": {
      "needs_background": "light"
     },
     "output_type": "display_data"
    }
   ],
   "source": [
    "dataset.hist(xlabelsize=8, figsize=(12,10))"
   ]
  },
  {
   "cell_type": "code",
   "execution_count": 179,
   "metadata": {},
   "outputs": [
    {
     "data": {
      "text/plain": [
       "Index(['danceability', 'energy', 'key', 'loudness', 'mode', 'speechiness',\n",
       "       'acousticness', 'instrumentalness', 'liveness', 'tempo', 'track_uri',\n",
       "       'track_name'],\n",
       "      dtype='object')"
      ]
     },
     "execution_count": 179,
     "metadata": {},
     "output_type": "execute_result"
    }
   ],
   "source": [
    "dataset.columns"
   ]
  },
  {
   "cell_type": "code",
   "execution_count": 180,
   "metadata": {},
   "outputs": [],
   "source": [
    "data_to_ml = dataset.drop(columns = ['mode','key','speechiness','instrumentalness'])"
   ]
  },
  {
   "cell_type": "code",
   "execution_count": 181,
   "metadata": {},
   "outputs": [
    {
     "data": {
      "text/plain": [
       "Index(['danceability', 'energy', 'loudness', 'acousticness', 'liveness',\n",
       "       'tempo', 'track_uri', 'track_name'],\n",
       "      dtype='object')"
      ]
     },
     "execution_count": 181,
     "metadata": {},
     "output_type": "execute_result"
    }
   ],
   "source": [
    "data_to_ml.columns"
   ]
  },
  {
   "cell_type": "code",
   "execution_count": 184,
   "metadata": {},
   "outputs": [
    {
     "data": {
      "text/plain": [
       "(0.0, 6.0)"
      ]
     },
     "execution_count": 184,
     "metadata": {},
     "output_type": "execute_result"
    },
    {
     "data": {
      "image/png": "[encoded data removed]",
      "image/svg+xml": "<?xml version=\"1.0\" encoding=\"utf-8\" standalone=\"no\"?>\n<!DOCTYPE svg PUBLIC \"-//W3C//DTD SVG 1.1//EN\"\n  \"http://www.w3.org/Graphics/SVG/1.1/DTD/svg11.dtd\">\n<!-- Created with matplotlib (https://matplotlib.org/) -->\n<svg height=\"666.72pt\" version=\"1.1\" viewBox=\"0 0 664.136938 666.72\" width=\"664.136938pt\" xmlns=\"http://www.w3.org/2000/svg\" xmlns:xlink=\"http://www.w3.org/1999/xlink\">\n <defs>\n  <style type=\"text/css\">\n*{stroke-linecap:butt;stroke-linejoin:round;}\n  </style>\n </defs>\n <g id=\"figure_1\">\n  <g id=\"patch_1\">\n   <path d=\"M 0 666.72 \nL 664.136938 666.72 \nL 664.136938 0 \nL 0 0 \nz\n\" style=\"fill:none;\"/>\n  </g>\n  <g id=\"axes_1\">\n   <g id=\"patch_2\">\n    <path d=\"M 23.878125 601.2 \nL 559.558125 601.2 \nL 559.558125 65.52 \nL 23.878125 65.52 \nz\n\" style=\"fill:#ffffff;\"/>\n   </g>\n   <g id=\"QuadMesh_1\">\n    <path clip-path=\"url(#p249cd78eb1)\" d=\"M 23.878125 601.2 \nL 113.158125 601.2 \nL 113.158125 511.92 \nL 23.878125 511.92 \nL 23.878125 601.2 \n\" style=\"fill:#faebdd;stroke:#ffffff;\"/>\n    <path clip-path=\"url(#p249cd78eb1)\" d=\"M 113.158125 601.2 \nL 202.438125 601.2 \nL 202.438125 511.92 \nL 113.158125 511.92 \nL 113.158125 601.2 \n\" style=\"fill:#faebdd;stroke:#ffffff;\"/>\n    <path clip-path=\"url(#p249cd78eb1)\" d=\"M 202.438125 601.2 \nL 291.718125 601.2 \nL 291.718125 511.92 \nL 202.438125 511.92 \nL 202.438125 601.2 \n\" style=\"fill:#faebdd;stroke:#ffffff;\"/>\n    <path clip-path=\"url(#p249cd78eb1)\" d=\"M 291.718125 601.2 \nL 380.998125 601.2 \nL 380.998125 511.92 \nL 291.718125 511.92 \nL 291.718125 601.2 \n\" style=\"fill:#a6195a;stroke:#ffffff;\"/>\n    <path clip-path=\"url(#p249cd78eb1)\" d=\"M 380.998125 601.2 \nL 470.278125 601.2 \nL 470.278125 511.92 \nL 380.998125 511.92 \nL 380.998125 601.2 \n\" style=\"fill:#f6ab83;stroke:#ffffff;\"/>\n    <path clip-path=\"url(#p249cd78eb1)\" d=\"M 470.278125 601.2 \nL 559.558125 601.2 \nL 559.558125 511.92 \nL 470.278125 511.92 \nL 470.278125 601.2 \n\" style=\"fill:#ec4a3e;stroke:#ffffff;\"/>\n    <path clip-path=\"url(#p249cd78eb1)\" d=\"M 23.878125 511.92 \nL 113.158125 511.92 \nL 113.158125 422.64 \nL 23.878125 422.64 \nL 23.878125 511.92 \n\" style=\"fill:#faebdd;stroke:#ffffff;\"/>\n    <path clip-path=\"url(#p249cd78eb1)\" d=\"M 113.158125 511.92 \nL 202.438125 511.92 \nL 202.438125 422.64 \nL 113.158125 422.64 \nL 113.158125 511.92 \n\" style=\"fill:#faebdd;stroke:#ffffff;\"/>\n    <path clip-path=\"url(#p249cd78eb1)\" d=\"M 202.438125 511.92 \nL 291.718125 511.92 \nL 291.718125 422.64 \nL 202.438125 422.64 \nL 202.438125 511.92 \n\" style=\"fill:#faebdd;stroke:#ffffff;\"/>\n    <path clip-path=\"url(#p249cd78eb1)\" d=\"M 291.718125 511.92 \nL 380.998125 511.92 \nL 380.998125 422.64 \nL 291.718125 422.64 \nL 291.718125 511.92 \n\" style=\"fill:#03051a;stroke:#ffffff;\"/>\n    <path clip-path=\"url(#p249cd78eb1)\" d=\"M 380.998125 511.92 \nL 470.278125 511.92 \nL 470.278125 422.64 \nL 380.998125 422.64 \nL 380.998125 511.92 \n\" style=\"fill:#f8d1b8;stroke:#ffffff;\"/>\n    <path clip-path=\"url(#p249cd78eb1)\" d=\"M 470.278125 511.92 \nL 559.558125 511.92 \nL 559.558125 422.64 \nL 470.278125 422.64 \nL 470.278125 511.92 \n\" style=\"fill:#f6b995;stroke:#ffffff;\"/>\n    <path clip-path=\"url(#p249cd78eb1)\" d=\"M 23.878125 422.64 \nL 113.158125 422.64 \nL 113.158125 333.36 \nL 23.878125 333.36 \nL 23.878125 422.64 \n\" style=\"fill:#faebdd;stroke:#ffffff;\"/>\n    <path clip-path=\"url(#p249cd78eb1)\" d=\"M 113.158125 422.64 \nL 202.438125 422.64 \nL 202.438125 333.36 \nL 113.158125 333.36 \nL 113.158125 422.64 \n\" style=\"fill:#faebdd;stroke:#ffffff;\"/>\n    <path clip-path=\"url(#p249cd78eb1)\" d=\"M 202.438125 422.64 \nL 291.718125 422.64 \nL 291.718125 333.36 \nL 202.438125 333.36 \nL 202.438125 422.64 \n\" style=\"fill:#faebdd;stroke:#ffffff;\"/>\n    <path clip-path=\"url(#p249cd78eb1)\" d=\"M 291.718125 422.64 \nL 380.998125 422.64 \nL 380.998125 333.36 \nL 291.718125 333.36 \nL 291.718125 422.64 \n\" style=\"fill:#431c46;stroke:#ffffff;\"/>\n    <path clip-path=\"url(#p249cd78eb1)\" d=\"M 380.998125 422.64 \nL 470.278125 422.64 \nL 470.278125 333.36 \nL 380.998125 333.36 \nL 380.998125 422.64 \n\" style=\"fill:#f6b995;stroke:#ffffff;\"/>\n    <path clip-path=\"url(#p249cd78eb1)\" d=\"M 470.278125 422.64 \nL 559.558125 422.64 \nL 559.558125 333.36 \nL 470.278125 333.36 \nL 470.278125 422.64 \n\" style=\"fill:#f7c9aa;stroke:#ffffff;\"/>\n    <path clip-path=\"url(#p249cd78eb1)\" d=\"M 23.878125 333.36 \nL 113.158125 333.36 \nL 113.158125 244.08 \nL 23.878125 244.08 \nL 23.878125 333.36 \n\" style=\"fill:#a6195a;stroke:#ffffff;\"/>\n    <path clip-path=\"url(#p249cd78eb1)\" d=\"M 113.158125 333.36 \nL 202.438125 333.36 \nL 202.438125 244.08 \nL 113.158125 244.08 \nL 113.158125 333.36 \n\" style=\"fill:#03051a;stroke:#ffffff;\"/>\n    <path clip-path=\"url(#p249cd78eb1)\" d=\"M 202.438125 333.36 \nL 291.718125 333.36 \nL 291.718125 244.08 \nL 202.438125 244.08 \nL 202.438125 333.36 \n\" style=\"fill:#431c46;stroke:#ffffff;\"/>\n    <path clip-path=\"url(#p249cd78eb1)\" d=\"M 291.718125 333.36 \nL 380.998125 333.36 \nL 380.998125 244.08 \nL 291.718125 244.08 \nL 291.718125 333.36 \n\" style=\"fill:#faebdd;stroke:#ffffff;\"/>\n    <path clip-path=\"url(#p249cd78eb1)\" d=\"M 380.998125 333.36 \nL 470.278125 333.36 \nL 470.278125 244.08 \nL 380.998125 244.08 \nL 380.998125 333.36 \n\" style=\"fill:#e43841;stroke:#ffffff;\"/>\n    <path clip-path=\"url(#p249cd78eb1)\" d=\"M 470.278125 333.36 \nL 559.558125 333.36 \nL 559.558125 244.08 \nL 470.278125 244.08 \nL 470.278125 333.36 \n\" style=\"fill:#d5224a;stroke:#ffffff;\"/>\n    <path clip-path=\"url(#p249cd78eb1)\" d=\"M 23.878125 244.08 \nL 113.158125 244.08 \nL 113.158125 154.8 \nL 23.878125 154.8 \nL 23.878125 244.08 \n\" style=\"fill:#f6ab83;stroke:#ffffff;\"/>\n    <path clip-path=\"url(#p249cd78eb1)\" d=\"M 113.158125 244.08 \nL 202.438125 244.08 \nL 202.438125 154.8 \nL 113.158125 154.8 \nL 113.158125 244.08 \n\" style=\"fill:#f8d1b8;stroke:#ffffff;\"/>\n    <path clip-path=\"url(#p249cd78eb1)\" d=\"M 202.438125 244.08 \nL 291.718125 244.08 \nL 291.718125 154.8 \nL 202.438125 154.8 \nL 202.438125 244.08 \n\" style=\"fill:#f6b995;stroke:#ffffff;\"/>\n    <path clip-path=\"url(#p249cd78eb1)\" d=\"M 291.718125 244.08 \nL 380.998125 244.08 \nL 380.998125 154.8 \nL 291.718125 154.8 \nL 291.718125 244.08 \n\" style=\"fill:#e43841;stroke:#ffffff;\"/>\n    <path clip-path=\"url(#p249cd78eb1)\" d=\"M 380.998125 244.08 \nL 470.278125 244.08 \nL 470.278125 154.8 \nL 380.998125 154.8 \nL 380.998125 244.08 \n\" style=\"fill:#faebdd;stroke:#ffffff;\"/>\n    <path clip-path=\"url(#p249cd78eb1)\" d=\"M 470.278125 244.08 \nL 559.558125 244.08 \nL 559.558125 154.8 \nL 470.278125 154.8 \nL 470.278125 244.08 \n\" style=\"fill:#f5966c;stroke:#ffffff;\"/>\n    <path clip-path=\"url(#p249cd78eb1)\" d=\"M 23.878125 154.8 \nL 113.158125 154.8 \nL 113.158125 65.52 \nL 23.878125 65.52 \nL 23.878125 154.8 \n\" style=\"fill:#ec4a3e;stroke:#ffffff;\"/>\n    <path clip-path=\"url(#p249cd78eb1)\" d=\"M 113.158125 154.8 \nL 202.438125 154.8 \nL 202.438125 65.52 \nL 113.158125 65.52 \nL 113.158125 154.8 \n\" style=\"fill:#f6b995;stroke:#ffffff;\"/>\n    <path clip-path=\"url(#p249cd78eb1)\" d=\"M 202.438125 154.8 \nL 291.718125 154.8 \nL 291.718125 65.52 \nL 202.438125 65.52 \nL 202.438125 154.8 \n\" style=\"fill:#f7c9aa;stroke:#ffffff;\"/>\n    <path clip-path=\"url(#p249cd78eb1)\" d=\"M 291.718125 154.8 \nL 380.998125 154.8 \nL 380.998125 65.52 \nL 291.718125 65.52 \nL 291.718125 154.8 \n\" style=\"fill:#d5224a;stroke:#ffffff;\"/>\n    <path clip-path=\"url(#p249cd78eb1)\" d=\"M 380.998125 154.8 \nL 470.278125 154.8 \nL 470.278125 65.52 \nL 380.998125 65.52 \nL 380.998125 154.8 \n\" style=\"fill:#f5966c;stroke:#ffffff;\"/>\n    <path clip-path=\"url(#p249cd78eb1)\" d=\"M 470.278125 154.8 \nL 559.558125 154.8 \nL 559.558125 65.52 \nL 470.278125 65.52 \nL 470.278125 154.8 \n\" style=\"fill:#faebdd;stroke:#ffffff;\"/>\n   </g>\n   <g id=\"matplotlib.axis_1\">\n    <g id=\"xtick_1\">\n     <g id=\"line2d_1\">\n      <defs>\n       <path d=\"M 0 0 \nL 0 3.5 \n\" id=\"m52f9740946\" style=\"stroke:#000000;stroke-width:0.8;\"/>\n      </defs>\n      <g>\n       <use style=\"stroke:#000000;stroke-width:0.8;\" x=\"68.518125\" xlink:href=\"#m52f9740946\" y=\"601.2\"/>\n      </g>\n     </g>\n     <g id=\"text_1\">\n      <!-- danceability -->\n      <defs>\n       <path d=\"M 45.40625 46.390625 \nL 45.40625 75.984375 \nL 54.390625 75.984375 \nL 54.390625 0 \nL 45.40625 0 \nL 45.40625 8.203125 \nQ 42.578125 3.328125 38.25 0.953125 \nQ 33.9375 -1.421875 27.875 -1.421875 \nQ 17.96875 -1.421875 11.734375 6.484375 \nQ 5.515625 14.40625 5.515625 27.296875 \nQ 5.515625 40.1875 11.734375 48.09375 \nQ 17.96875 56 27.875 56 \nQ 33.9375 56 38.25 53.625 \nQ 42.578125 51.265625 45.40625 46.390625 \nz\nM 14.796875 27.296875 \nQ 14.796875 17.390625 18.875 11.75 \nQ 22.953125 6.109375 30.078125 6.109375 \nQ 37.203125 6.109375 41.296875 11.75 \nQ 45.40625 17.390625 45.40625 27.296875 \nQ 45.40625 37.203125 41.296875 42.84375 \nQ 37.203125 48.484375 30.078125 48.484375 \nQ 22.953125 48.484375 18.875 42.84375 \nQ 14.796875 37.203125 14.796875 27.296875 \nz\n\" id=\"DejaVuSans-100\"/>\n       <path d=\"M 34.28125 27.484375 \nQ 23.390625 27.484375 19.1875 25 \nQ 14.984375 22.515625 14.984375 16.5 \nQ 14.984375 11.71875 18.140625 8.90625 \nQ 21.296875 6.109375 26.703125 6.109375 \nQ 34.1875 6.109375 38.703125 11.40625 \nQ 43.21875 16.703125 43.21875 25.484375 \nL 43.21875 27.484375 \nz\nM 52.203125 31.203125 \nL 52.203125 0 \nL 43.21875 0 \nL 43.21875 8.296875 \nQ 40.140625 3.328125 35.546875 0.953125 \nQ 30.953125 -1.421875 24.3125 -1.421875 \nQ 15.921875 -1.421875 10.953125 3.296875 \nQ 6 8.015625 6 15.921875 \nQ 6 25.140625 12.171875 29.828125 \nQ 18.359375 34.515625 30.609375 34.515625 \nL 43.21875 34.515625 \nL 43.21875 35.40625 \nQ 43.21875 41.609375 39.140625 45 \nQ 35.0625 48.390625 27.6875 48.390625 \nQ 23 48.390625 18.546875 47.265625 \nQ 14.109375 46.140625 10.015625 43.890625 \nL 10.015625 52.203125 \nQ 14.9375 54.109375 19.578125 55.046875 \nQ 24.21875 56 28.609375 56 \nQ 40.484375 56 46.34375 49.84375 \nQ 52.203125 43.703125 52.203125 31.203125 \nz\n\" id=\"DejaVuSans-97\"/>\n       <path d=\"M 54.890625 33.015625 \nL 54.890625 0 \nL 45.90625 0 \nL 45.90625 32.71875 \nQ 45.90625 40.484375 42.875 44.328125 \nQ 39.84375 48.1875 33.796875 48.1875 \nQ 26.515625 48.1875 22.3125 43.546875 \nQ 18.109375 38.921875 18.109375 30.90625 \nL 18.109375 0 \nL 9.078125 0 \nL 9.078125 54.6875 \nL 18.109375 54.6875 \nL 18.109375 46.1875 \nQ 21.34375 51.125 25.703125 53.5625 \nQ 30.078125 56 35.796875 56 \nQ 45.21875 56 50.046875 50.171875 \nQ 54.890625 44.34375 54.890625 33.015625 \nz\n\" id=\"DejaVuSans-110\"/>\n       <path d=\"M 48.78125 52.59375 \nL 48.78125 44.1875 \nQ 44.96875 46.296875 41.140625 47.34375 \nQ 37.3125 48.390625 33.40625 48.390625 \nQ 24.65625 48.390625 19.8125 42.84375 \nQ 14.984375 37.3125 14.984375 27.296875 \nQ 14.984375 17.28125 19.8125 11.734375 \nQ 24.65625 6.203125 33.40625 6.203125 \nQ 37.3125 6.203125 41.140625 7.25 \nQ 44.96875 8.296875 48.78125 10.40625 \nL 48.78125 2.09375 \nQ 45.015625 0.34375 40.984375 -0.53125 \nQ 36.96875 -1.421875 32.421875 -1.421875 \nQ 20.0625 -1.421875 12.78125 6.34375 \nQ 5.515625 14.109375 5.515625 27.296875 \nQ 5.515625 40.671875 12.859375 48.328125 \nQ 20.21875 56 33.015625 56 \nQ 37.15625 56 41.109375 55.140625 \nQ 45.0625 54.296875 48.78125 52.59375 \nz\n\" id=\"DejaVuSans-99\"/>\n       <path d=\"M 56.203125 29.59375 \nL 56.203125 25.203125 \nL 14.890625 25.203125 \nQ 15.484375 15.921875 20.484375 11.0625 \nQ 25.484375 6.203125 34.421875 6.203125 \nQ 39.59375 6.203125 44.453125 7.46875 \nQ 49.3125 8.734375 54.109375 11.28125 \nL 54.109375 2.78125 \nQ 49.265625 0.734375 44.1875 -0.34375 \nQ 39.109375 -1.421875 33.890625 -1.421875 \nQ 20.796875 -1.421875 13.15625 6.1875 \nQ 5.515625 13.8125 5.515625 26.8125 \nQ 5.515625 40.234375 12.765625 48.109375 \nQ 20.015625 56 32.328125 56 \nQ 43.359375 56 49.78125 48.890625 \nQ 56.203125 41.796875 56.203125 29.59375 \nz\nM 47.21875 32.234375 \nQ 47.125 39.59375 43.09375 43.984375 \nQ 39.0625 48.390625 32.421875 48.390625 \nQ 24.90625 48.390625 20.390625 44.140625 \nQ 15.875 39.890625 15.1875 32.171875 \nz\n\" id=\"DejaVuSans-101\"/>\n       <path d=\"M 48.6875 27.296875 \nQ 48.6875 37.203125 44.609375 42.84375 \nQ 40.53125 48.484375 33.40625 48.484375 \nQ 26.265625 48.484375 22.1875 42.84375 \nQ 18.109375 37.203125 18.109375 27.296875 \nQ 18.109375 17.390625 22.1875 11.75 \nQ 26.265625 6.109375 33.40625 6.109375 \nQ 40.53125 6.109375 44.609375 11.75 \nQ 48.6875 17.390625 48.6875 27.296875 \nz\nM 18.109375 46.390625 \nQ 20.953125 51.265625 25.265625 53.625 \nQ 29.59375 56 35.59375 56 \nQ 45.5625 56 51.78125 48.09375 \nQ 58.015625 40.1875 58.015625 27.296875 \nQ 58.015625 14.40625 51.78125 6.484375 \nQ 45.5625 -1.421875 35.59375 -1.421875 \nQ 29.59375 -1.421875 25.265625 0.953125 \nQ 20.953125 3.328125 18.109375 8.203125 \nL 18.109375 0 \nL 9.078125 0 \nL 9.078125 75.984375 \nL 18.109375 75.984375 \nz\n\" id=\"DejaVuSans-98\"/>\n       <path d=\"M 9.421875 54.6875 \nL 18.40625 54.6875 \nL 18.40625 0 \nL 9.421875 0 \nz\nM 9.421875 75.984375 \nL 18.40625 75.984375 \nL 18.40625 64.59375 \nL 9.421875 64.59375 \nz\n\" id=\"DejaVuSans-105\"/>\n       <path d=\"M 9.421875 75.984375 \nL 18.40625 75.984375 \nL 18.40625 0 \nL 9.421875 0 \nz\n\" id=\"DejaVuSans-108\"/>\n       <path d=\"M 18.3125 70.21875 \nL 18.3125 54.6875 \nL 36.8125 54.6875 \nL 36.8125 47.703125 \nL 18.3125 47.703125 \nL 18.3125 18.015625 \nQ 18.3125 11.328125 20.140625 9.421875 \nQ 21.96875 7.515625 27.59375 7.515625 \nL 36.8125 7.515625 \nL 36.8125 0 \nL 27.59375 0 \nQ 17.1875 0 13.234375 3.875 \nQ 9.28125 7.765625 9.28125 18.015625 \nL 9.28125 47.703125 \nL 2.6875 47.703125 \nL 2.6875 54.6875 \nL 9.28125 54.6875 \nL 9.28125 70.21875 \nz\n\" id=\"DejaVuSans-116\"/>\n       <path d=\"M 32.171875 -5.078125 \nQ 28.375 -14.84375 24.75 -17.8125 \nQ 21.140625 -20.796875 15.09375 -20.796875 \nL 7.90625 -20.796875 \nL 7.90625 -13.28125 \nL 13.1875 -13.28125 \nQ 16.890625 -13.28125 18.9375 -11.515625 \nQ 21 -9.765625 23.484375 -3.21875 \nL 25.09375 0.875 \nL 2.984375 54.6875 \nL 12.5 54.6875 \nL 29.59375 11.921875 \nL 46.6875 54.6875 \nL 56.203125 54.6875 \nz\n\" id=\"DejaVuSans-121\"/>\n      </defs>\n      <g transform=\"translate(37.960313 615.798438)scale(0.1 -0.1)\">\n       <use xlink:href=\"#DejaVuSans-100\"/>\n       <use x=\"63.476562\" xlink:href=\"#DejaVuSans-97\"/>\n       <use x=\"124.755859\" xlink:href=\"#DejaVuSans-110\"/>\n       <use x=\"188.134766\" xlink:href=\"#DejaVuSans-99\"/>\n       <use x=\"243.115234\" xlink:href=\"#DejaVuSans-101\"/>\n       <use x=\"304.638672\" xlink:href=\"#DejaVuSans-97\"/>\n       <use x=\"365.917969\" xlink:href=\"#DejaVuSans-98\"/>\n       <use x=\"429.394531\" xlink:href=\"#DejaVuSans-105\"/>\n       <use x=\"457.177734\" xlink:href=\"#DejaVuSans-108\"/>\n       <use x=\"484.960938\" xlink:href=\"#DejaVuSans-105\"/>\n       <use x=\"512.744141\" xlink:href=\"#DejaVuSans-116\"/>\n       <use x=\"551.953125\" xlink:href=\"#DejaVuSans-121\"/>\n      </g>\n     </g>\n    </g>\n    <g id=\"xtick_2\">\n     <g id=\"line2d_2\">\n      <g>\n       <use style=\"stroke:#000000;stroke-width:0.8;\" x=\"157.798125\" xlink:href=\"#m52f9740946\" y=\"601.2\"/>\n      </g>\n     </g>\n     <g id=\"text_2\">\n      <!-- energy -->\n      <defs>\n       <path d=\"M 41.109375 46.296875 \nQ 39.59375 47.171875 37.8125 47.578125 \nQ 36.03125 48 33.890625 48 \nQ 26.265625 48 22.1875 43.046875 \nQ 18.109375 38.09375 18.109375 28.8125 \nL 18.109375 0 \nL 9.078125 0 \nL 9.078125 54.6875 \nL 18.109375 54.6875 \nL 18.109375 46.1875 \nQ 20.953125 51.171875 25.484375 53.578125 \nQ 30.03125 56 36.53125 56 \nQ 37.453125 56 38.578125 55.875 \nQ 39.703125 55.765625 41.0625 55.515625 \nz\n\" id=\"DejaVuSans-114\"/>\n       <path d=\"M 45.40625 27.984375 \nQ 45.40625 37.75 41.375 43.109375 \nQ 37.359375 48.484375 30.078125 48.484375 \nQ 22.859375 48.484375 18.828125 43.109375 \nQ 14.796875 37.75 14.796875 27.984375 \nQ 14.796875 18.265625 18.828125 12.890625 \nQ 22.859375 7.515625 30.078125 7.515625 \nQ 37.359375 7.515625 41.375 12.890625 \nQ 45.40625 18.265625 45.40625 27.984375 \nz\nM 54.390625 6.78125 \nQ 54.390625 -7.171875 48.1875 -13.984375 \nQ 42 -20.796875 29.203125 -20.796875 \nQ 24.46875 -20.796875 20.265625 -20.09375 \nQ 16.0625 -19.390625 12.109375 -17.921875 \nL 12.109375 -9.1875 \nQ 16.0625 -11.328125 19.921875 -12.34375 \nQ 23.78125 -13.375 27.78125 -13.375 \nQ 36.625 -13.375 41.015625 -8.765625 \nQ 45.40625 -4.15625 45.40625 5.171875 \nL 45.40625 9.625 \nQ 42.625 4.78125 38.28125 2.390625 \nQ 33.9375 0 27.875 0 \nQ 17.828125 0 11.671875 7.65625 \nQ 5.515625 15.328125 5.515625 27.984375 \nQ 5.515625 40.671875 11.671875 48.328125 \nQ 17.828125 56 27.875 56 \nQ 33.9375 56 38.28125 53.609375 \nQ 42.625 51.21875 45.40625 46.390625 \nL 45.40625 54.6875 \nL 54.390625 54.6875 \nz\n\" id=\"DejaVuSans-103\"/>\n      </defs>\n      <g transform=\"translate(140.374688 615.798438)scale(0.1 -0.1)\">\n       <use xlink:href=\"#DejaVuSans-101\"/>\n       <use x=\"61.523438\" xlink:href=\"#DejaVuSans-110\"/>\n       <use x=\"124.902344\" xlink:href=\"#DejaVuSans-101\"/>\n       <use x=\"186.425781\" xlink:href=\"#DejaVuSans-114\"/>\n       <use x=\"225.789062\" xlink:href=\"#DejaVuSans-103\"/>\n       <use x=\"289.265625\" xlink:href=\"#DejaVuSans-121\"/>\n      </g>\n     </g>\n    </g>\n    <g id=\"xtick_3\">\n     <g id=\"line2d_3\">\n      <g>\n       <use style=\"stroke:#000000;stroke-width:0.8;\" x=\"247.078125\" xlink:href=\"#m52f9740946\" y=\"601.2\"/>\n      </g>\n     </g>\n     <g id=\"text_3\">\n      <!-- loudness -->\n      <defs>\n       <path d=\"M 30.609375 48.390625 \nQ 23.390625 48.390625 19.1875 42.75 \nQ 14.984375 37.109375 14.984375 27.296875 \nQ 14.984375 17.484375 19.15625 11.84375 \nQ 23.34375 6.203125 30.609375 6.203125 \nQ 37.796875 6.203125 41.984375 11.859375 \nQ 46.1875 17.53125 46.1875 27.296875 \nQ 46.1875 37.015625 41.984375 42.703125 \nQ 37.796875 48.390625 30.609375 48.390625 \nz\nM 30.609375 56 \nQ 42.328125 56 49.015625 48.375 \nQ 55.71875 40.765625 55.71875 27.296875 \nQ 55.71875 13.875 49.015625 6.21875 \nQ 42.328125 -1.421875 30.609375 -1.421875 \nQ 18.84375 -1.421875 12.171875 6.21875 \nQ 5.515625 13.875 5.515625 27.296875 \nQ 5.515625 40.765625 12.171875 48.375 \nQ 18.84375 56 30.609375 56 \nz\n\" id=\"DejaVuSans-111\"/>\n       <path d=\"M 8.5 21.578125 \nL 8.5 54.6875 \nL 17.484375 54.6875 \nL 17.484375 21.921875 \nQ 17.484375 14.15625 20.5 10.265625 \nQ 23.53125 6.390625 29.59375 6.390625 \nQ 36.859375 6.390625 41.078125 11.03125 \nQ 45.3125 15.671875 45.3125 23.6875 \nL 45.3125 54.6875 \nL 54.296875 54.6875 \nL 54.296875 0 \nL 45.3125 0 \nL 45.3125 8.40625 \nQ 42.046875 3.421875 37.71875 1 \nQ 33.40625 -1.421875 27.6875 -1.421875 \nQ 18.265625 -1.421875 13.375 4.4375 \nQ 8.5 10.296875 8.5 21.578125 \nz\nM 31.109375 56 \nz\n\" id=\"DejaVuSans-117\"/>\n       <path d=\"M 44.28125 53.078125 \nL 44.28125 44.578125 \nQ 40.484375 46.53125 36.375 47.5 \nQ 32.28125 48.484375 27.875 48.484375 \nQ 21.1875 48.484375 17.84375 46.4375 \nQ 14.5 44.390625 14.5 40.28125 \nQ 14.5 37.15625 16.890625 35.375 \nQ 19.28125 33.59375 26.515625 31.984375 \nL 29.59375 31.296875 \nQ 39.15625 29.25 43.1875 25.515625 \nQ 47.21875 21.78125 47.21875 15.09375 \nQ 47.21875 7.46875 41.1875 3.015625 \nQ 35.15625 -1.421875 24.609375 -1.421875 \nQ 20.21875 -1.421875 15.453125 -0.5625 \nQ 10.6875 0.296875 5.421875 2 \nL 5.421875 11.28125 \nQ 10.40625 8.6875 15.234375 7.390625 \nQ 20.0625 6.109375 24.8125 6.109375 \nQ 31.15625 6.109375 34.5625 8.28125 \nQ 37.984375 10.453125 37.984375 14.40625 \nQ 37.984375 18.0625 35.515625 20.015625 \nQ 33.0625 21.96875 24.703125 23.78125 \nL 21.578125 24.515625 \nQ 13.234375 26.265625 9.515625 29.90625 \nQ 5.8125 33.546875 5.8125 39.890625 \nQ 5.8125 47.609375 11.28125 51.796875 \nQ 16.75 56 26.8125 56 \nQ 31.78125 56 36.171875 55.265625 \nQ 40.578125 54.546875 44.28125 53.078125 \nz\n\" id=\"DejaVuSans-115\"/>\n      </defs>\n      <g transform=\"translate(224.832031 615.798438)scale(0.1 -0.1)\">\n       <use xlink:href=\"#DejaVuSans-108\"/>\n       <use x=\"27.783203\" xlink:href=\"#DejaVuSans-111\"/>\n       <use x=\"88.964844\" xlink:href=\"#DejaVuSans-117\"/>\n       <use x=\"152.34375\" xlink:href=\"#DejaVuSans-100\"/>\n       <use x=\"215.820312\" xlink:href=\"#DejaVuSans-110\"/>\n       <use x=\"279.199219\" xlink:href=\"#DejaVuSans-101\"/>\n       <use x=\"340.722656\" xlink:href=\"#DejaVuSans-115\"/>\n       <use x=\"392.822266\" xlink:href=\"#DejaVuSans-115\"/>\n      </g>\n     </g>\n    </g>\n    <g id=\"xtick_4\">\n     <g id=\"line2d_4\">\n      <g>\n       <use style=\"stroke:#000000;stroke-width:0.8;\" x=\"336.358125\" xlink:href=\"#m52f9740946\" y=\"601.2\"/>\n      </g>\n     </g>\n     <g id=\"text_4\">\n      <!-- acousticness -->\n      <g transform=\"translate(304.158906 615.798438)scale(0.1 -0.1)\">\n       <use xlink:href=\"#DejaVuSans-97\"/>\n       <use x=\"61.279297\" xlink:href=\"#DejaVuSans-99\"/>\n       <use x=\"116.259766\" xlink:href=\"#DejaVuSans-111\"/>\n       <use x=\"177.441406\" xlink:href=\"#DejaVuSans-117\"/>\n       <use x=\"240.820312\" xlink:href=\"#DejaVuSans-115\"/>\n       <use x=\"292.919922\" xlink:href=\"#DejaVuSans-116\"/>\n       <use x=\"332.128906\" xlink:href=\"#DejaVuSans-105\"/>\n       <use x=\"359.912109\" xlink:href=\"#DejaVuSans-99\"/>\n       <use x=\"414.892578\" xlink:href=\"#DejaVuSans-110\"/>\n       <use x=\"478.271484\" xlink:href=\"#DejaVuSans-101\"/>\n       <use x=\"539.794922\" xlink:href=\"#DejaVuSans-115\"/>\n       <use x=\"591.894531\" xlink:href=\"#DejaVuSans-115\"/>\n      </g>\n     </g>\n    </g>\n    <g id=\"xtick_5\">\n     <g id=\"line2d_5\">\n      <g>\n       <use style=\"stroke:#000000;stroke-width:0.8;\" x=\"425.638125\" xlink:href=\"#m52f9740946\" y=\"601.2\"/>\n      </g>\n     </g>\n     <g id=\"text_5\">\n      <!-- liveness -->\n      <defs>\n       <path d=\"M 2.984375 54.6875 \nL 12.5 54.6875 \nL 29.59375 8.796875 \nL 46.6875 54.6875 \nL 56.203125 54.6875 \nL 35.6875 0 \nL 23.484375 0 \nz\n\" id=\"DejaVuSans-118\"/>\n      </defs>\n      <g transform=\"translate(405.369375 615.798438)scale(0.1 -0.1)\">\n       <use xlink:href=\"#DejaVuSans-108\"/>\n       <use x=\"27.783203\" xlink:href=\"#DejaVuSans-105\"/>\n       <use x=\"55.566406\" xlink:href=\"#DejaVuSans-118\"/>\n       <use x=\"114.746094\" xlink:href=\"#DejaVuSans-101\"/>\n       <use x=\"176.269531\" xlink:href=\"#DejaVuSans-110\"/>\n       <use x=\"239.648438\" xlink:href=\"#DejaVuSans-101\"/>\n       <use x=\"301.171875\" xlink:href=\"#DejaVuSans-115\"/>\n       <use x=\"353.271484\" xlink:href=\"#DejaVuSans-115\"/>\n      </g>\n     </g>\n    </g>\n    <g id=\"xtick_6\">\n     <g id=\"line2d_6\">\n      <g>\n       <use style=\"stroke:#000000;stroke-width:0.8;\" x=\"514.918125\" xlink:href=\"#m52f9740946\" y=\"601.2\"/>\n      </g>\n     </g>\n     <g id=\"text_6\">\n      <!-- tempo -->\n      <defs>\n       <path d=\"M 52 44.1875 \nQ 55.375 50.25 60.0625 53.125 \nQ 64.75 56 71.09375 56 \nQ 79.640625 56 84.28125 50.015625 \nQ 88.921875 44.046875 88.921875 33.015625 \nL 88.921875 0 \nL 79.890625 0 \nL 79.890625 32.71875 \nQ 79.890625 40.578125 77.09375 44.375 \nQ 74.3125 48.1875 68.609375 48.1875 \nQ 61.625 48.1875 57.5625 43.546875 \nQ 53.515625 38.921875 53.515625 30.90625 \nL 53.515625 0 \nL 44.484375 0 \nL 44.484375 32.71875 \nQ 44.484375 40.625 41.703125 44.40625 \nQ 38.921875 48.1875 33.109375 48.1875 \nQ 26.21875 48.1875 22.15625 43.53125 \nQ 18.109375 38.875 18.109375 30.90625 \nL 18.109375 0 \nL 9.078125 0 \nL 9.078125 54.6875 \nL 18.109375 54.6875 \nL 18.109375 46.1875 \nQ 21.1875 51.21875 25.484375 53.609375 \nQ 29.78125 56 35.6875 56 \nQ 41.65625 56 45.828125 52.96875 \nQ 50 49.953125 52 44.1875 \nz\n\" id=\"DejaVuSans-109\"/>\n       <path d=\"M 18.109375 8.203125 \nL 18.109375 -20.796875 \nL 9.078125 -20.796875 \nL 9.078125 54.6875 \nL 18.109375 54.6875 \nL 18.109375 46.390625 \nQ 20.953125 51.265625 25.265625 53.625 \nQ 29.59375 56 35.59375 56 \nQ 45.5625 56 51.78125 48.09375 \nQ 58.015625 40.1875 58.015625 27.296875 \nQ 58.015625 14.40625 51.78125 6.484375 \nQ 45.5625 -1.421875 35.59375 -1.421875 \nQ 29.59375 -1.421875 25.265625 0.953125 \nQ 20.953125 3.328125 18.109375 8.203125 \nz\nM 48.6875 27.296875 \nQ 48.6875 37.203125 44.609375 42.84375 \nQ 40.53125 48.484375 33.40625 48.484375 \nQ 26.265625 48.484375 22.1875 42.84375 \nQ 18.109375 37.203125 18.109375 27.296875 \nQ 18.109375 17.390625 22.1875 11.75 \nQ 26.265625 6.109375 33.40625 6.109375 \nQ 40.53125 6.109375 44.609375 11.75 \nQ 48.6875 17.390625 48.6875 27.296875 \nz\n\" id=\"DejaVuSans-112\"/>\n      </defs>\n      <g transform=\"translate(498.7775 615.798438)scale(0.1 -0.1)\">\n       <use xlink:href=\"#DejaVuSans-116\"/>\n       <use x=\"39.208984\" xlink:href=\"#DejaVuSans-101\"/>\n       <use x=\"100.732422\" xlink:href=\"#DejaVuSans-109\"/>\n       <use x=\"198.144531\" xlink:href=\"#DejaVuSans-112\"/>\n       <use x=\"261.621094\" xlink:href=\"#DejaVuSans-111\"/>\n      </g>\n     </g>\n    </g>\n   </g>\n   <g id=\"matplotlib.axis_2\">\n    <g id=\"ytick_1\">\n     <g id=\"line2d_7\">\n      <defs>\n       <path d=\"M 0 0 \nL -3.5 0 \n\" id=\"m1adaf3e9fc\" style=\"stroke:#000000;stroke-width:0.8;\"/>\n      </defs>\n      <g>\n       <use style=\"stroke:#000000;stroke-width:0.8;\" x=\"23.878125\" xlink:href=\"#m1adaf3e9fc\" y=\"556.56\"/>\n      </g>\n     </g>\n     <g id=\"text_7\">\n      <!-- danceability -->\n      <g transform=\"translate(14.798438 613.876406)rotate(-90)scale(0.1 -0.1)\">\n       <use xlink:href=\"#DejaVuSans-100\"/>\n       <use x=\"63.476562\" xlink:href=\"#DejaVuSans-97\"/>\n       <use x=\"124.755859\" xlink:href=\"#DejaVuSans-110\"/>\n       <use x=\"188.134766\" xlink:href=\"#DejaVuSans-99\"/>\n       <use x=\"243.115234\" xlink:href=\"#DejaVuSans-101\"/>\n       <use x=\"304.638672\" xlink:href=\"#DejaVuSans-97\"/>\n       <use x=\"365.917969\" xlink:href=\"#DejaVuSans-98\"/>\n       <use x=\"429.394531\" xlink:href=\"#DejaVuSans-105\"/>\n       <use x=\"457.177734\" xlink:href=\"#DejaVuSans-108\"/>\n       <use x=\"484.960938\" xlink:href=\"#DejaVuSans-105\"/>\n       <use x=\"512.744141\" xlink:href=\"#DejaVuSans-116\"/>\n       <use x=\"551.953125\" xlink:href=\"#DejaVuSans-121\"/>\n      </g>\n     </g>\n    </g>\n    <g id=\"ytick_2\">\n     <g id=\"line2d_8\">\n      <g>\n       <use style=\"stroke:#000000;stroke-width:0.8;\" x=\"23.878125\" xlink:href=\"#m1adaf3e9fc\" y=\"467.28\"/>\n      </g>\n     </g>\n     <g id=\"text_8\">\n      <!-- energy -->\n      <g transform=\"translate(14.798438 498.327656)rotate(-90)scale(0.1 -0.1)\">\n       <use xlink:href=\"#DejaVuSans-101\"/>\n       <use x=\"61.523438\" xlink:href=\"#DejaVuSans-110\"/>\n       <use x=\"124.902344\" xlink:href=\"#DejaVuSans-101\"/>\n       <use x=\"186.425781\" xlink:href=\"#DejaVuSans-114\"/>\n       <use x=\"225.789062\" xlink:href=\"#DejaVuSans-103\"/>\n       <use x=\"289.265625\" xlink:href=\"#DejaVuSans-121\"/>\n      </g>\n     </g>\n    </g>\n    <g id=\"ytick_3\">\n     <g id=\"line2d_9\">\n      <g>\n       <use style=\"stroke:#000000;stroke-width:0.8;\" x=\"23.878125\" xlink:href=\"#m1adaf3e9fc\" y=\"378\"/>\n      </g>\n     </g>\n     <g id=\"text_9\">\n      <!-- loudness -->\n      <g transform=\"translate(14.798438 418.692969)rotate(-90)scale(0.1 -0.1)\">\n       <use xlink:href=\"#DejaVuSans-108\"/>\n       <use x=\"27.783203\" xlink:href=\"#DejaVuSans-111\"/>\n       <use x=\"88.964844\" xlink:href=\"#DejaVuSans-117\"/>\n       <use x=\"152.34375\" xlink:href=\"#DejaVuSans-100\"/>\n       <use x=\"215.820312\" xlink:href=\"#DejaVuSans-110\"/>\n       <use x=\"279.199219\" xlink:href=\"#DejaVuSans-101\"/>\n       <use x=\"340.722656\" xlink:href=\"#DejaVuSans-115\"/>\n       <use x=\"392.822266\" xlink:href=\"#DejaVuSans-115\"/>\n      </g>\n     </g>\n    </g>\n    <g id=\"ytick_4\">\n     <g id=\"line2d_10\">\n      <g>\n       <use style=\"stroke:#000000;stroke-width:0.8;\" x=\"23.878125\" xlink:href=\"#m1adaf3e9fc\" y=\"288.72\"/>\n      </g>\n     </g>\n     <g id=\"text_10\">\n      <!-- acousticness -->\n      <g transform=\"translate(14.798438 349.319219)rotate(-90)scale(0.1 -0.1)\">\n       <use xlink:href=\"#DejaVuSans-97\"/>\n       <use x=\"61.279297\" xlink:href=\"#DejaVuSans-99\"/>\n       <use x=\"116.259766\" xlink:href=\"#DejaVuSans-111\"/>\n       <use x=\"177.441406\" xlink:href=\"#DejaVuSans-117\"/>\n       <use x=\"240.820312\" xlink:href=\"#DejaVuSans-115\"/>\n       <use x=\"292.919922\" xlink:href=\"#DejaVuSans-116\"/>\n       <use x=\"332.128906\" xlink:href=\"#DejaVuSans-105\"/>\n       <use x=\"359.912109\" xlink:href=\"#DejaVuSans-99\"/>\n       <use x=\"414.892578\" xlink:href=\"#DejaVuSans-110\"/>\n       <use x=\"478.271484\" xlink:href=\"#DejaVuSans-101\"/>\n       <use x=\"539.794922\" xlink:href=\"#DejaVuSans-115\"/>\n       <use x=\"591.894531\" xlink:href=\"#DejaVuSans-115\"/>\n      </g>\n     </g>\n    </g>\n    <g id=\"ytick_5\">\n     <g id=\"line2d_11\">\n      <g>\n       <use style=\"stroke:#000000;stroke-width:0.8;\" x=\"23.878125\" xlink:href=\"#m1adaf3e9fc\" y=\"199.44\"/>\n      </g>\n     </g>\n     <g id=\"text_11\">\n      <!-- liveness -->\n      <g transform=\"translate(14.798438 236.178281)rotate(-90)scale(0.1 -0.1)\">\n       <use xlink:href=\"#DejaVuSans-108\"/>\n       <use x=\"27.783203\" xlink:href=\"#DejaVuSans-105\"/>\n       <use x=\"55.566406\" xlink:href=\"#DejaVuSans-118\"/>\n       <use x=\"114.746094\" xlink:href=\"#DejaVuSans-101\"/>\n       <use x=\"176.269531\" xlink:href=\"#DejaVuSans-110\"/>\n       <use x=\"239.648438\" xlink:href=\"#DejaVuSans-101\"/>\n       <use x=\"301.171875\" xlink:href=\"#DejaVuSans-115\"/>\n       <use x=\"353.271484\" xlink:href=\"#DejaVuSans-115\"/>\n      </g>\n     </g>\n    </g>\n    <g id=\"ytick_6\">\n     <g id=\"line2d_12\">\n      <g>\n       <use style=\"stroke:#000000;stroke-width:0.8;\" x=\"23.878125\" xlink:href=\"#m1adaf3e9fc\" y=\"110.16\"/>\n      </g>\n     </g>\n     <g id=\"text_12\">\n      <!-- tempo -->\n      <g transform=\"translate(14.798438 138.642031)rotate(-90)scale(0.1 -0.1)\">\n       <use xlink:href=\"#DejaVuSans-116\"/>\n       <use x=\"39.208984\" xlink:href=\"#DejaVuSans-101\"/>\n       <use x=\"100.732422\" xlink:href=\"#DejaVuSans-109\"/>\n       <use x=\"198.144531\" xlink:href=\"#DejaVuSans-112\"/>\n       <use x=\"261.621094\" xlink:href=\"#DejaVuSans-111\"/>\n      </g>\n     </g>\n    </g>\n   </g>\n   <g id=\"text_13\">\n    <!-- 1 -->\n    <defs>\n     <path d=\"M 12.40625 8.296875 \nL 28.515625 8.296875 \nL 28.515625 63.921875 \nL 10.984375 60.40625 \nL 10.984375 69.390625 \nL 28.421875 72.90625 \nL 38.28125 72.90625 \nL 38.28125 8.296875 \nL 54.390625 8.296875 \nL 54.390625 0 \nL 12.40625 0 \nz\n\" id=\"DejaVuSans-49\"/>\n    </defs>\n    <g style=\"fill:#262626;\" transform=\"translate(65.336875 559.319375)scale(0.1 -0.1)\">\n     <use xlink:href=\"#DejaVuSans-49\"/>\n    </g>\n   </g>\n   <g id=\"text_14\">\n    <!-- 0.39 -->\n    <defs>\n     <path d=\"M 31.78125 66.40625 \nQ 24.171875 66.40625 20.328125 58.90625 \nQ 16.5 51.421875 16.5 36.375 \nQ 16.5 21.390625 20.328125 13.890625 \nQ 24.171875 6.390625 31.78125 6.390625 \nQ 39.453125 6.390625 43.28125 13.890625 \nQ 47.125 21.390625 47.125 36.375 \nQ 47.125 51.421875 43.28125 58.90625 \nQ 39.453125 66.40625 31.78125 66.40625 \nz\nM 31.78125 74.21875 \nQ 44.046875 74.21875 50.515625 64.515625 \nQ 56.984375 54.828125 56.984375 36.375 \nQ 56.984375 17.96875 50.515625 8.265625 \nQ 44.046875 -1.421875 31.78125 -1.421875 \nQ 19.53125 -1.421875 13.0625 8.265625 \nQ 6.59375 17.96875 6.59375 36.375 \nQ 6.59375 54.828125 13.0625 64.515625 \nQ 19.53125 74.21875 31.78125 74.21875 \nz\n\" id=\"DejaVuSans-48\"/>\n     <path d=\"M 10.6875 12.40625 \nL 21 12.40625 \nL 21 0 \nL 10.6875 0 \nz\n\" id=\"DejaVuSans-46\"/>\n     <path d=\"M 40.578125 39.3125 \nQ 47.65625 37.796875 51.625 33 \nQ 55.609375 28.21875 55.609375 21.1875 \nQ 55.609375 10.40625 48.1875 4.484375 \nQ 40.765625 -1.421875 27.09375 -1.421875 \nQ 22.515625 -1.421875 17.65625 -0.515625 \nQ 12.796875 0.390625 7.625 2.203125 \nL 7.625 11.71875 \nQ 11.71875 9.328125 16.59375 8.109375 \nQ 21.484375 6.890625 26.8125 6.890625 \nQ 36.078125 6.890625 40.9375 10.546875 \nQ 45.796875 14.203125 45.796875 21.1875 \nQ 45.796875 27.640625 41.28125 31.265625 \nQ 36.765625 34.90625 28.71875 34.90625 \nL 20.21875 34.90625 \nL 20.21875 43.015625 \nL 29.109375 43.015625 \nQ 36.375 43.015625 40.234375 45.921875 \nQ 44.09375 48.828125 44.09375 54.296875 \nQ 44.09375 59.90625 40.109375 62.90625 \nQ 36.140625 65.921875 28.71875 65.921875 \nQ 24.65625 65.921875 20.015625 65.03125 \nQ 15.375 64.15625 9.8125 62.3125 \nL 9.8125 71.09375 \nQ 15.4375 72.65625 20.34375 73.4375 \nQ 25.25 74.21875 29.59375 74.21875 \nQ 40.828125 74.21875 47.359375 69.109375 \nQ 53.90625 64.015625 53.90625 55.328125 \nQ 53.90625 49.265625 50.4375 45.09375 \nQ 46.96875 40.921875 40.578125 39.3125 \nz\n\" id=\"DejaVuSans-51\"/>\n     <path d=\"M 10.984375 1.515625 \nL 10.984375 10.5 \nQ 14.703125 8.734375 18.5 7.8125 \nQ 22.3125 6.890625 25.984375 6.890625 \nQ 35.75 6.890625 40.890625 13.453125 \nQ 46.046875 20.015625 46.78125 33.40625 \nQ 43.953125 29.203125 39.59375 26.953125 \nQ 35.25 24.703125 29.984375 24.703125 \nQ 19.046875 24.703125 12.671875 31.3125 \nQ 6.296875 37.9375 6.296875 49.421875 \nQ 6.296875 60.640625 12.9375 67.421875 \nQ 19.578125 74.21875 30.609375 74.21875 \nQ 43.265625 74.21875 49.921875 64.515625 \nQ 56.59375 54.828125 56.59375 36.375 \nQ 56.59375 19.140625 48.40625 8.859375 \nQ 40.234375 -1.421875 26.421875 -1.421875 \nQ 22.703125 -1.421875 18.890625 -0.6875 \nQ 15.09375 0.046875 10.984375 1.515625 \nz\nM 30.609375 32.421875 \nQ 37.25 32.421875 41.125 36.953125 \nQ 45.015625 41.5 45.015625 49.421875 \nQ 45.015625 57.28125 41.125 61.84375 \nQ 37.25 66.40625 30.609375 66.40625 \nQ 23.96875 66.40625 20.09375 61.84375 \nQ 16.21875 57.28125 16.21875 49.421875 \nQ 16.21875 41.5 20.09375 36.953125 \nQ 23.96875 32.421875 30.609375 32.421875 \nz\n\" id=\"DejaVuSans-57\"/>\n    </defs>\n    <g style=\"fill:#262626;\" transform=\"translate(146.665313 559.319375)scale(0.1 -0.1)\">\n     <use xlink:href=\"#DejaVuSans-48\"/>\n     <use x=\"63.623047\" xlink:href=\"#DejaVuSans-46\"/>\n     <use x=\"95.410156\" xlink:href=\"#DejaVuSans-51\"/>\n     <use x=\"159.033203\" xlink:href=\"#DejaVuSans-57\"/>\n    </g>\n   </g>\n   <g id=\"text_15\">\n    <!-- 0.42 -->\n    <defs>\n     <path d=\"M 37.796875 64.3125 \nL 12.890625 25.390625 \nL 37.796875 25.390625 \nz\nM 35.203125 72.90625 \nL 47.609375 72.90625 \nL 47.609375 25.390625 \nL 58.015625 25.390625 \nL 58.015625 17.1875 \nL 47.609375 17.1875 \nL 47.609375 0 \nL 37.796875 0 \nL 37.796875 17.1875 \nL 4.890625 17.1875 \nL 4.890625 26.703125 \nz\n\" id=\"DejaVuSans-52\"/>\n     <path d=\"M 19.1875 8.296875 \nL 53.609375 8.296875 \nL 53.609375 0 \nL 7.328125 0 \nL 7.328125 8.296875 \nQ 12.9375 14.109375 22.625 23.890625 \nQ 32.328125 33.6875 34.8125 36.53125 \nQ 39.546875 41.84375 41.421875 45.53125 \nQ 43.3125 49.21875 43.3125 52.78125 \nQ 43.3125 58.59375 39.234375 62.25 \nQ 35.15625 65.921875 28.609375 65.921875 \nQ 23.96875 65.921875 18.8125 64.3125 \nQ 13.671875 62.703125 7.8125 59.421875 \nL 7.8125 69.390625 \nQ 13.765625 71.78125 18.9375 73 \nQ 24.125 74.21875 28.421875 74.21875 \nQ 39.75 74.21875 46.484375 68.546875 \nQ 53.21875 62.890625 53.21875 53.421875 \nQ 53.21875 48.921875 51.53125 44.890625 \nQ 49.859375 40.875 45.40625 35.40625 \nQ 44.1875 33.984375 37.640625 27.21875 \nQ 31.109375 20.453125 19.1875 8.296875 \nz\n\" id=\"DejaVuSans-50\"/>\n    </defs>\n    <g style=\"fill:#262626;\" transform=\"translate(235.945312 559.319375)scale(0.1 -0.1)\">\n     <use xlink:href=\"#DejaVuSans-48\"/>\n     <use x=\"63.623047\" xlink:href=\"#DejaVuSans-46\"/>\n     <use x=\"95.410156\" xlink:href=\"#DejaVuSans-52\"/>\n     <use x=\"159.033203\" xlink:href=\"#DejaVuSans-50\"/>\n    </g>\n   </g>\n   <g id=\"text_16\">\n    <!-- -0.34 -->\n    <defs>\n     <path d=\"M 4.890625 31.390625 \nL 31.203125 31.390625 \nL 31.203125 23.390625 \nL 4.890625 23.390625 \nz\n\" id=\"DejaVuSans-45\"/>\n    </defs>\n    <g style=\"fill:#ffffff;\" transform=\"translate(323.421406 559.319375)scale(0.1 -0.1)\">\n     <use xlink:href=\"#DejaVuSans-45\"/>\n     <use x=\"36.083984\" xlink:href=\"#DejaVuSans-48\"/>\n     <use x=\"99.707031\" xlink:href=\"#DejaVuSans-46\"/>\n     <use x=\"131.494141\" xlink:href=\"#DejaVuSans-51\"/>\n     <use x=\"195.117188\" xlink:href=\"#DejaVuSans-52\"/>\n    </g>\n   </g>\n   <g id=\"text_17\">\n    <!-- 0.12 -->\n    <g style=\"fill:#262626;\" transform=\"translate(414.505313 559.319375)scale(0.1 -0.1)\">\n     <use xlink:href=\"#DejaVuSans-48\"/>\n     <use x=\"63.623047\" xlink:href=\"#DejaVuSans-46\"/>\n     <use x=\"95.410156\" xlink:href=\"#DejaVuSans-49\"/>\n     <use x=\"159.033203\" xlink:href=\"#DejaVuSans-50\"/>\n    </g>\n   </g>\n   <g id=\"text_18\">\n    <!-- -0.11 -->\n    <g style=\"fill:#ffffff;\" transform=\"translate(501.981406 559.319375)scale(0.1 -0.1)\">\n     <use xlink:href=\"#DejaVuSans-45\"/>\n     <use x=\"36.083984\" xlink:href=\"#DejaVuSans-48\"/>\n     <use x=\"99.707031\" xlink:href=\"#DejaVuSans-46\"/>\n     <use x=\"131.494141\" xlink:href=\"#DejaVuSans-49\"/>\n     <use x=\"195.117188\" xlink:href=\"#DejaVuSans-49\"/>\n    </g>\n   </g>\n   <g id=\"text_19\">\n    <!-- 0.39 -->\n    <g style=\"fill:#262626;\" transform=\"translate(57.385313 470.039375)scale(0.1 -0.1)\">\n     <use xlink:href=\"#DejaVuSans-48\"/>\n     <use x=\"63.623047\" xlink:href=\"#DejaVuSans-46\"/>\n     <use x=\"95.410156\" xlink:href=\"#DejaVuSans-51\"/>\n     <use x=\"159.033203\" xlink:href=\"#DejaVuSans-57\"/>\n    </g>\n   </g>\n   <g id=\"text_20\">\n    <!-- 1 -->\n    <g style=\"fill:#262626;\" transform=\"translate(154.616875 470.039375)scale(0.1 -0.1)\">\n     <use xlink:href=\"#DejaVuSans-49\"/>\n    </g>\n   </g>\n   <g id=\"text_21\">\n    <!-- 0.76 -->\n    <defs>\n     <path d=\"M 8.203125 72.90625 \nL 55.078125 72.90625 \nL 55.078125 68.703125 \nL 28.609375 0 \nL 18.3125 0 \nL 43.21875 64.59375 \nL 8.203125 64.59375 \nz\n\" id=\"DejaVuSans-55\"/>\n     <path d=\"M 33.015625 40.375 \nQ 26.375 40.375 22.484375 35.828125 \nQ 18.609375 31.296875 18.609375 23.390625 \nQ 18.609375 15.53125 22.484375 10.953125 \nQ 26.375 6.390625 33.015625 6.390625 \nQ 39.65625 6.390625 43.53125 10.953125 \nQ 47.40625 15.53125 47.40625 23.390625 \nQ 47.40625 31.296875 43.53125 35.828125 \nQ 39.65625 40.375 33.015625 40.375 \nz\nM 52.59375 71.296875 \nL 52.59375 62.3125 \nQ 48.875 64.0625 45.09375 64.984375 \nQ 41.3125 65.921875 37.59375 65.921875 \nQ 27.828125 65.921875 22.671875 59.328125 \nQ 17.53125 52.734375 16.796875 39.40625 \nQ 19.671875 43.65625 24.015625 45.921875 \nQ 28.375 48.1875 33.59375 48.1875 \nQ 44.578125 48.1875 50.953125 41.515625 \nQ 57.328125 34.859375 57.328125 23.390625 \nQ 57.328125 12.15625 50.6875 5.359375 \nQ 44.046875 -1.421875 33.015625 -1.421875 \nQ 20.359375 -1.421875 13.671875 8.265625 \nQ 6.984375 17.96875 6.984375 36.375 \nQ 6.984375 53.65625 15.1875 63.9375 \nQ 23.390625 74.21875 37.203125 74.21875 \nQ 40.921875 74.21875 44.703125 73.484375 \nQ 48.484375 72.75 52.59375 71.296875 \nz\n\" id=\"DejaVuSans-54\"/>\n    </defs>\n    <g style=\"fill:#262626;\" transform=\"translate(235.945312 470.039375)scale(0.1 -0.1)\">\n     <use xlink:href=\"#DejaVuSans-48\"/>\n     <use x=\"63.623047\" xlink:href=\"#DejaVuSans-46\"/>\n     <use x=\"95.410156\" xlink:href=\"#DejaVuSans-55\"/>\n     <use x=\"159.033203\" xlink:href=\"#DejaVuSans-54\"/>\n    </g>\n   </g>\n   <g id=\"text_22\">\n    <!-- -0.79 -->\n    <g style=\"fill:#ffffff;\" transform=\"translate(323.421406 470.039375)scale(0.1 -0.1)\">\n     <use xlink:href=\"#DejaVuSans-45\"/>\n     <use x=\"36.083984\" xlink:href=\"#DejaVuSans-48\"/>\n     <use x=\"99.707031\" xlink:href=\"#DejaVuSans-46\"/>\n     <use x=\"131.494141\" xlink:href=\"#DejaVuSans-55\"/>\n     <use x=\"195.117188\" xlink:href=\"#DejaVuSans-57\"/>\n    </g>\n   </g>\n   <g id=\"text_23\">\n    <!-- 0.22 -->\n    <g style=\"fill:#262626;\" transform=\"translate(414.505313 470.039375)scale(0.1 -0.1)\">\n     <use xlink:href=\"#DejaVuSans-48\"/>\n     <use x=\"63.623047\" xlink:href=\"#DejaVuSans-46\"/>\n     <use x=\"95.410156\" xlink:href=\"#DejaVuSans-50\"/>\n     <use x=\"159.033203\" xlink:href=\"#DejaVuSans-50\"/>\n    </g>\n   </g>\n   <g id=\"text_24\">\n    <!-- 0.16 -->\n    <g style=\"fill:#262626;\" transform=\"translate(503.785313 470.039375)scale(0.1 -0.1)\">\n     <use xlink:href=\"#DejaVuSans-48\"/>\n     <use x=\"63.623047\" xlink:href=\"#DejaVuSans-46\"/>\n     <use x=\"95.410156\" xlink:href=\"#DejaVuSans-49\"/>\n     <use x=\"159.033203\" xlink:href=\"#DejaVuSans-54\"/>\n    </g>\n   </g>\n   <g id=\"text_25\">\n    <!-- 0.42 -->\n    <g style=\"fill:#262626;\" transform=\"translate(57.385313 380.759375)scale(0.1 -0.1)\">\n     <use xlink:href=\"#DejaVuSans-48\"/>\n     <use x=\"63.623047\" xlink:href=\"#DejaVuSans-46\"/>\n     <use x=\"95.410156\" xlink:href=\"#DejaVuSans-52\"/>\n     <use x=\"159.033203\" xlink:href=\"#DejaVuSans-50\"/>\n    </g>\n   </g>\n   <g id=\"text_26\">\n    <!-- 0.76 -->\n    <g style=\"fill:#262626;\" transform=\"translate(146.665313 380.759375)scale(0.1 -0.1)\">\n     <use xlink:href=\"#DejaVuSans-48\"/>\n     <use x=\"63.623047\" xlink:href=\"#DejaVuSans-46\"/>\n     <use x=\"95.410156\" xlink:href=\"#DejaVuSans-55\"/>\n     <use x=\"159.033203\" xlink:href=\"#DejaVuSans-54\"/>\n    </g>\n   </g>\n   <g id=\"text_27\">\n    <!-- 1 -->\n    <g style=\"fill:#262626;\" transform=\"translate(243.896875 380.759375)scale(0.1 -0.1)\">\n     <use xlink:href=\"#DejaVuSans-49\"/>\n    </g>\n   </g>\n   <g id=\"text_28\">\n    <!-- -0.6 -->\n    <g style=\"fill:#ffffff;\" transform=\"translate(326.602656 380.759375)scale(0.1 -0.1)\">\n     <use xlink:href=\"#DejaVuSans-45\"/>\n     <use x=\"36.083984\" xlink:href=\"#DejaVuSans-48\"/>\n     <use x=\"99.707031\" xlink:href=\"#DejaVuSans-46\"/>\n     <use x=\"131.494141\" xlink:href=\"#DejaVuSans-54\"/>\n    </g>\n   </g>\n   <g id=\"text_29\">\n    <!-- 0.16 -->\n    <g style=\"fill:#262626;\" transform=\"translate(414.505313 380.759375)scale(0.1 -0.1)\">\n     <use xlink:href=\"#DejaVuSans-48\"/>\n     <use x=\"63.623047\" xlink:href=\"#DejaVuSans-46\"/>\n     <use x=\"95.410156\" xlink:href=\"#DejaVuSans-49\"/>\n     <use x=\"159.033203\" xlink:href=\"#DejaVuSans-54\"/>\n    </g>\n   </g>\n   <g id=\"text_30\">\n    <!-- 0.2 -->\n    <g style=\"fill:#262626;\" transform=\"translate(506.966563 380.759375)scale(0.1 -0.1)\">\n     <use xlink:href=\"#DejaVuSans-48\"/>\n     <use x=\"63.623047\" xlink:href=\"#DejaVuSans-46\"/>\n     <use x=\"95.410156\" xlink:href=\"#DejaVuSans-50\"/>\n    </g>\n   </g>\n   <g id=\"text_31\">\n    <!-- -0.34 -->\n    <g style=\"fill:#ffffff;\" transform=\"translate(55.581406 291.479375)scale(0.1 -0.1)\">\n     <use xlink:href=\"#DejaVuSans-45\"/>\n     <use x=\"36.083984\" xlink:href=\"#DejaVuSans-48\"/>\n     <use x=\"99.707031\" xlink:href=\"#DejaVuSans-46\"/>\n     <use x=\"131.494141\" xlink:href=\"#DejaVuSans-51\"/>\n     <use x=\"195.117188\" xlink:href=\"#DejaVuSans-52\"/>\n    </g>\n   </g>\n   <g id=\"text_32\">\n    <!-- -0.79 -->\n    <g style=\"fill:#ffffff;\" transform=\"translate(144.861406 291.479375)scale(0.1 -0.1)\">\n     <use xlink:href=\"#DejaVuSans-45\"/>\n     <use x=\"36.083984\" xlink:href=\"#DejaVuSans-48\"/>\n     <use x=\"99.707031\" xlink:href=\"#DejaVuSans-46\"/>\n     <use x=\"131.494141\" xlink:href=\"#DejaVuSans-55\"/>\n     <use x=\"195.117188\" xlink:href=\"#DejaVuSans-57\"/>\n    </g>\n   </g>\n   <g id=\"text_33\">\n    <!-- -0.6 -->\n    <g style=\"fill:#ffffff;\" transform=\"translate(237.322656 291.479375)scale(0.1 -0.1)\">\n     <use xlink:href=\"#DejaVuSans-45\"/>\n     <use x=\"36.083984\" xlink:href=\"#DejaVuSans-48\"/>\n     <use x=\"99.707031\" xlink:href=\"#DejaVuSans-46\"/>\n     <use x=\"131.494141\" xlink:href=\"#DejaVuSans-54\"/>\n    </g>\n   </g>\n   <g id=\"text_34\">\n    <!-- 1 -->\n    <g style=\"fill:#262626;\" transform=\"translate(333.176875 291.479375)scale(0.1 -0.1)\">\n     <use xlink:href=\"#DejaVuSans-49\"/>\n    </g>\n   </g>\n   <g id=\"text_35\">\n    <!-- -0.15 -->\n    <defs>\n     <path d=\"M 10.796875 72.90625 \nL 49.515625 72.90625 \nL 49.515625 64.59375 \nL 19.828125 64.59375 \nL 19.828125 46.734375 \nQ 21.96875 47.46875 24.109375 47.828125 \nQ 26.265625 48.1875 28.421875 48.1875 \nQ 40.625 48.1875 47.75 41.5 \nQ 54.890625 34.8125 54.890625 23.390625 \nQ 54.890625 11.625 47.5625 5.09375 \nQ 40.234375 -1.421875 26.90625 -1.421875 \nQ 22.3125 -1.421875 17.546875 -0.640625 \nQ 12.796875 0.140625 7.71875 1.703125 \nL 7.71875 11.625 \nQ 12.109375 9.234375 16.796875 8.0625 \nQ 21.484375 6.890625 26.703125 6.890625 \nQ 35.15625 6.890625 40.078125 11.328125 \nQ 45.015625 15.765625 45.015625 23.390625 \nQ 45.015625 31 40.078125 35.4375 \nQ 35.15625 39.890625 26.703125 39.890625 \nQ 22.75 39.890625 18.8125 39.015625 \nQ 14.890625 38.140625 10.796875 36.28125 \nz\n\" id=\"DejaVuSans-53\"/>\n    </defs>\n    <g style=\"fill:#ffffff;\" transform=\"translate(412.701406 291.479375)scale(0.1 -0.1)\">\n     <use xlink:href=\"#DejaVuSans-45\"/>\n     <use x=\"36.083984\" xlink:href=\"#DejaVuSans-48\"/>\n     <use x=\"99.707031\" xlink:href=\"#DejaVuSans-46\"/>\n     <use x=\"131.494141\" xlink:href=\"#DejaVuSans-49\"/>\n     <use x=\"195.117188\" xlink:href=\"#DejaVuSans-53\"/>\n    </g>\n   </g>\n   <g id=\"text_36\">\n    <!-- -0.21 -->\n    <g style=\"fill:#ffffff;\" transform=\"translate(501.981406 291.479375)scale(0.1 -0.1)\">\n     <use xlink:href=\"#DejaVuSans-45\"/>\n     <use x=\"36.083984\" xlink:href=\"#DejaVuSans-48\"/>\n     <use x=\"99.707031\" xlink:href=\"#DejaVuSans-46\"/>\n     <use x=\"131.494141\" xlink:href=\"#DejaVuSans-50\"/>\n     <use x=\"195.117188\" xlink:href=\"#DejaVuSans-49\"/>\n    </g>\n   </g>\n   <g id=\"text_37\">\n    <!-- 0.12 -->\n    <g style=\"fill:#262626;\" transform=\"translate(57.385313 202.199375)scale(0.1 -0.1)\">\n     <use xlink:href=\"#DejaVuSans-48\"/>\n     <use x=\"63.623047\" xlink:href=\"#DejaVuSans-46\"/>\n     <use x=\"95.410156\" xlink:href=\"#DejaVuSans-49\"/>\n     <use x=\"159.033203\" xlink:href=\"#DejaVuSans-50\"/>\n    </g>\n   </g>\n   <g id=\"text_38\">\n    <!-- 0.22 -->\n    <g style=\"fill:#262626;\" transform=\"translate(146.665313 202.199375)scale(0.1 -0.1)\">\n     <use xlink:href=\"#DejaVuSans-48\"/>\n     <use x=\"63.623047\" xlink:href=\"#DejaVuSans-46\"/>\n     <use x=\"95.410156\" xlink:href=\"#DejaVuSans-50\"/>\n     <use x=\"159.033203\" xlink:href=\"#DejaVuSans-50\"/>\n    </g>\n   </g>\n   <g id=\"text_39\">\n    <!-- 0.16 -->\n    <g style=\"fill:#262626;\" transform=\"translate(235.945312 202.199375)scale(0.1 -0.1)\">\n     <use xlink:href=\"#DejaVuSans-48\"/>\n     <use x=\"63.623047\" xlink:href=\"#DejaVuSans-46\"/>\n     <use x=\"95.410156\" xlink:href=\"#DejaVuSans-49\"/>\n     <use x=\"159.033203\" xlink:href=\"#DejaVuSans-54\"/>\n    </g>\n   </g>\n   <g id=\"text_40\">\n    <!-- -0.15 -->\n    <g style=\"fill:#ffffff;\" transform=\"translate(323.421406 202.199375)scale(0.1 -0.1)\">\n     <use xlink:href=\"#DejaVuSans-45\"/>\n     <use x=\"36.083984\" xlink:href=\"#DejaVuSans-48\"/>\n     <use x=\"99.707031\" xlink:href=\"#DejaVuSans-46\"/>\n     <use x=\"131.494141\" xlink:href=\"#DejaVuSans-49\"/>\n     <use x=\"195.117188\" xlink:href=\"#DejaVuSans-53\"/>\n    </g>\n   </g>\n   <g id=\"text_41\">\n    <!-- 1 -->\n    <g style=\"fill:#262626;\" transform=\"translate(422.456875 202.199375)scale(0.1 -0.1)\">\n     <use xlink:href=\"#DejaVuSans-49\"/>\n    </g>\n   </g>\n   <g id=\"text_42\">\n    <!-- 0.064 -->\n    <g style=\"fill:#262626;\" transform=\"translate(500.604063 202.199375)scale(0.1 -0.1)\">\n     <use xlink:href=\"#DejaVuSans-48\"/>\n     <use x=\"63.623047\" xlink:href=\"#DejaVuSans-46\"/>\n     <use x=\"95.410156\" xlink:href=\"#DejaVuSans-48\"/>\n     <use x=\"159.033203\" xlink:href=\"#DejaVuSans-54\"/>\n     <use x=\"222.65625\" xlink:href=\"#DejaVuSans-52\"/>\n    </g>\n   </g>\n   <g id=\"text_43\">\n    <!-- -0.11 -->\n    <g style=\"fill:#ffffff;\" transform=\"translate(55.581406 112.919375)scale(0.1 -0.1)\">\n     <use xlink:href=\"#DejaVuSans-45\"/>\n     <use x=\"36.083984\" xlink:href=\"#DejaVuSans-48\"/>\n     <use x=\"99.707031\" xlink:href=\"#DejaVuSans-46\"/>\n     <use x=\"131.494141\" xlink:href=\"#DejaVuSans-49\"/>\n     <use x=\"195.117188\" xlink:href=\"#DejaVuSans-49\"/>\n    </g>\n   </g>\n   <g id=\"text_44\">\n    <!-- 0.16 -->\n    <g style=\"fill:#262626;\" transform=\"translate(146.665313 112.919375)scale(0.1 -0.1)\">\n     <use xlink:href=\"#DejaVuSans-48\"/>\n     <use x=\"63.623047\" xlink:href=\"#DejaVuSans-46\"/>\n     <use x=\"95.410156\" xlink:href=\"#DejaVuSans-49\"/>\n     <use x=\"159.033203\" xlink:href=\"#DejaVuSans-54\"/>\n    </g>\n   </g>\n   <g id=\"text_45\">\n    <!-- 0.2 -->\n    <g style=\"fill:#262626;\" transform=\"translate(239.126563 112.919375)scale(0.1 -0.1)\">\n     <use xlink:href=\"#DejaVuSans-48\"/>\n     <use x=\"63.623047\" xlink:href=\"#DejaVuSans-46\"/>\n     <use x=\"95.410156\" xlink:href=\"#DejaVuSans-50\"/>\n    </g>\n   </g>\n   <g id=\"text_46\">\n    <!-- -0.21 -->\n    <g style=\"fill:#ffffff;\" transform=\"translate(323.421406 112.919375)scale(0.1 -0.1)\">\n     <use xlink:href=\"#DejaVuSans-45\"/>\n     <use x=\"36.083984\" xlink:href=\"#DejaVuSans-48\"/>\n     <use x=\"99.707031\" xlink:href=\"#DejaVuSans-46\"/>\n     <use x=\"131.494141\" xlink:href=\"#DejaVuSans-50\"/>\n     <use x=\"195.117188\" xlink:href=\"#DejaVuSans-49\"/>\n    </g>\n   </g>\n   <g id=\"text_47\">\n    <!-- 0.064 -->\n    <g style=\"fill:#262626;\" transform=\"translate(411.324063 112.919375)scale(0.1 -0.1)\">\n     <use xlink:href=\"#DejaVuSans-48\"/>\n     <use x=\"63.623047\" xlink:href=\"#DejaVuSans-46\"/>\n     <use x=\"95.410156\" xlink:href=\"#DejaVuSans-48\"/>\n     <use x=\"159.033203\" xlink:href=\"#DejaVuSans-54\"/>\n     <use x=\"222.65625\" xlink:href=\"#DejaVuSans-52\"/>\n    </g>\n   </g>\n   <g id=\"text_48\">\n    <!-- 1 -->\n    <g style=\"fill:#262626;\" transform=\"translate(511.736875 112.919375)scale(0.1 -0.1)\">\n     <use xlink:href=\"#DejaVuSans-49\"/>\n    </g>\n   </g>\n  </g>\n  <g id=\"axes_2\">\n   <g id=\"patch_3\">\n    <path clip-path=\"url(#pa14fd572ad)\" d=\"M 593.038125 659.52 \nL 593.038125 656.971875 \nL 593.038125 9.748125 \nL 593.038125 7.2 \nL 625.654125 7.2 \nL 625.654125 9.748125 \nL 625.654125 656.971875 \nL 625.654125 659.52 \nz\n\" style=\"fill:#ffffff;stroke:#ffffff;stroke-linejoin:miter;stroke-width:0.01;\"/>\n   </g>\n   <image height=\"653\" id=\"imageaedcf11322\" transform=\"scale(1 -1)translate(0 -653)\" width=\"33\" x=\"593\" xlink:href=\"data:image/png;base64,\niVBORw0KGgoAAAANSUhEUgAAACEAAAKNCAYAAACupQLTAAAABHNCSVQICAgIfAhkiAAAA+ZJREFUeJztncFVJDEQxcpNkQT55wmHRm9CsA5SBHr2968aBnbP1/fP71zmuS0wM7PntsFITkIhsefcv5BOAhQnoZDYM13HzBTMDwqJfbqOF4VEPQEFExQS1Tbs0xN9UUgUTKgxQSFRMKHGBIVEwYS2bVBINMBAIVFPQAMMFBIFEwomKCT2nPse9w2mzeqDQqLNCgomKCQKJigkeh1QMEEhUTChYIJComBCn0VBIdEPSaBggkKiYEKzAxQS9QQoJOoJKJigkOg6oL9+AoVEPxqANitQSNSY0FIDComCCTUmKCTWYGFwcEhU21BjgkKi2oYaExQS9QQ0O0AhUU9AswMUEjUm9ERBIVFPgEKinoC+fgKFRF8/QQMMFBINMCiYoJAomFAwQSHRjgkKiRZdKJigkKi2oVEOComCCc0OUEg0wKAnCgqJegJ6oqCQqCdAIVFPQD0BCol9rv+XZJqTuG0wkpNQSNSYUDBBIdEAg54oKCTqCWipAYVEPQEKiXoCOglQSFTbUGOCQqKegE4CFBJ7asyXggkKia4DFBJtVtBmBQqJegJ6oqCQqCdgn7mfTMVJKCTqCWh2gEKixoR9fu+/UcVJKCTqCVBI1BPQZgUKiTYr2FMwXxQSDTDoJEAhUU9AwQSFRMGEdkxQSOwj+PSjOAmFRD0BDTBQSOwR/GaP4ySeTuJFIdFP76BggkKixoSCCQqJFfz7zo6TUEjUE1BPgEKinoCeKCgk6gnYI/iKWHESCokaEwomKCQaYNDsAIXEHoGGQEEiUU9AAwwUEm1WUDBBIdF1QE8UFBIFE9oxQSHRjgkFExQSNSYoJHodsFNjvigkCiZ0EqCQ6DpgDRoCBYlEwYSCCQqJggkFExQSewR/l6c4CYVErwMKJigkCibsFMwXhUQ9AT1RUEjUE9ATBYVEwQSFRNcBewS/2aM4CYVEwYROAhQSO899j/sGUzA/KCRadKFggkJiR/D9032DKZgfFBJdBygk9rRZvRRMUEg0wKBggkKiz6JQMEEhUWNCwQSFRDsmFExQSNSYoJDodUA7Jigkdvqa+qVggkKi64BmBygk2qygJwoKib6wB4VEPQH1BCgkug7oww8oJAomNDtAIVEwoZMAhUQDDAomKCS6DlBItE9AwQSFRMGEggkKiYIJBRMUEl0H9ERBIVEwoWCCQqJggkKi1wEFExQSe87XbQfJSRTMfxQSXQc0O0AhUTChYIJCYudplM+MRKLXATUmKCQKJvThBxQS9QT0REEhUTChYIJCopUfCiYoJGpMUEjs6XW8FExQSFTb0CgHhUTBhBoTFBKNciiYoJCoMaFRDknAH3zQMNlaeXGEAAAAAElFTkSuQmCC\" y=\"-6\"/>\n   <g id=\"matplotlib.axis_3\"/>\n   <g id=\"matplotlib.axis_4\">\n    <g id=\"ytick_7\">\n     <g id=\"line2d_13\">\n      <defs>\n       <path d=\"M 0 0 \nL 3.5 0 \n\" id=\"m797a8afe4e\" style=\"stroke:#000000;stroke-width:0.8;\"/>\n      </defs>\n      <g>\n       <use style=\"stroke:#000000;stroke-width:0.8;\" x=\"625.654125\" xlink:href=\"#m797a8afe4e\" y=\"545.549613\"/>\n      </g>\n     </g>\n     <g id=\"text_49\">\n      <!-- −0.6 -->\n      <defs>\n       <path d=\"M 10.59375 35.5 \nL 73.1875 35.5 \nL 73.1875 27.203125 \nL 10.59375 27.203125 \nz\n\" id=\"DejaVuSans-8722\"/>\n      </defs>\n      <g transform=\"translate(632.654125 549.348831)scale(0.1 -0.1)\">\n       <use xlink:href=\"#DejaVuSans-8722\"/>\n       <use x=\"83.789062\" xlink:href=\"#DejaVuSans-48\"/>\n       <use x=\"147.412109\" xlink:href=\"#DejaVuSans-46\"/>\n       <use x=\"179.199219\" xlink:href=\"#DejaVuSans-54\"/>\n      </g>\n     </g>\n    </g>\n    <g id=\"ytick_8\">\n     <g id=\"line2d_14\">\n      <g>\n       <use style=\"stroke:#000000;stroke-width:0.8;\" x=\"625.654125\" xlink:href=\"#m797a8afe4e\" y=\"425.916365\"/>\n      </g>\n     </g>\n     <g id=\"text_50\">\n      <!-- −0.4 -->\n      <g transform=\"translate(632.654125 429.715584)scale(0.1 -0.1)\">\n       <use xlink:href=\"#DejaVuSans-8722\"/>\n       <use x=\"83.789062\" xlink:href=\"#DejaVuSans-48\"/>\n       <use x=\"147.412109\" xlink:href=\"#DejaVuSans-46\"/>\n       <use x=\"179.199219\" xlink:href=\"#DejaVuSans-52\"/>\n      </g>\n     </g>\n    </g>\n    <g id=\"ytick_9\">\n     <g id=\"line2d_15\">\n      <g>\n       <use style=\"stroke:#000000;stroke-width:0.8;\" x=\"625.654125\" xlink:href=\"#m797a8afe4e\" y=\"306.283118\"/>\n      </g>\n     </g>\n     <g id=\"text_51\">\n      <!-- −0.2 -->\n      <g transform=\"translate(632.654125 310.082337)scale(0.1 -0.1)\">\n       <use xlink:href=\"#DejaVuSans-8722\"/>\n       <use x=\"83.789062\" xlink:href=\"#DejaVuSans-48\"/>\n       <use x=\"147.412109\" xlink:href=\"#DejaVuSans-46\"/>\n       <use x=\"179.199219\" xlink:href=\"#DejaVuSans-50\"/>\n      </g>\n     </g>\n    </g>\n    <g id=\"ytick_10\">\n     <g id=\"line2d_16\">\n      <g>\n       <use style=\"stroke:#000000;stroke-width:0.8;\" x=\"625.654125\" xlink:href=\"#m797a8afe4e\" y=\"186.649871\"/>\n      </g>\n     </g>\n     <g id=\"text_52\">\n      <!-- 0.0 -->\n      <g transform=\"translate(632.654125 190.44909)scale(0.1 -0.1)\">\n       <use xlink:href=\"#DejaVuSans-48\"/>\n       <use x=\"63.623047\" xlink:href=\"#DejaVuSans-46\"/>\n       <use x=\"95.410156\" xlink:href=\"#DejaVuSans-48\"/>\n      </g>\n     </g>\n    </g>\n    <g id=\"ytick_11\">\n     <g id=\"line2d_17\">\n      <g>\n       <use style=\"stroke:#000000;stroke-width:0.8;\" x=\"625.654125\" xlink:href=\"#m797a8afe4e\" y=\"67.016624\"/>\n      </g>\n     </g>\n     <g id=\"text_53\">\n      <!-- 0.2 -->\n      <g transform=\"translate(632.654125 70.815842)scale(0.1 -0.1)\">\n       <use xlink:href=\"#DejaVuSans-48\"/>\n       <use x=\"63.623047\" xlink:href=\"#DejaVuSans-46\"/>\n       <use x=\"95.410156\" xlink:href=\"#DejaVuSans-50\"/>\n      </g>\n     </g>\n    </g>\n   </g>\n   <g id=\"patch_4\">\n    <path d=\"M 593.038125 659.52 \nL 593.038125 656.971875 \nL 593.038125 9.748125 \nL 593.038125 7.2 \nL 625.654125 7.2 \nL 625.654125 9.748125 \nL 625.654125 656.971875 \nL 625.654125 659.52 \nz\n\" style=\"fill:none;\"/>\n   </g>\n  </g>\n </g>\n <defs>\n  <clipPath id=\"p249cd78eb1\">\n   <rect height=\"535.68\" width=\"535.68\" x=\"23.878125\" y=\"65.52\"/>\n  </clipPath>\n  <clipPath id=\"pa14fd572ad\">\n   <rect height=\"652.32\" width=\"32.616\" x=\"593.038125\" y=\"7.2\"/>\n  </clipPath>\n </defs>\n</svg>\n",
      "text/plain": [
       "<Figure size 864x864 with 2 Axes>"
      ]
     },
     "metadata": {
      "needs_background": "light"
     },
     "output_type": "display_data"
    }
   ],
   "source": [
    "import seaborn as sns\n",
    "import matplotlib.pyplot as plt\n",
    "\n",
    "corrMatrix = data_to_ml.corr()\n",
    "\n",
    "fig, ax = plt.subplots(figsize=(12,12))\n",
    "sns.heatmap(corrMatrix, annot=True, linewidths=1, vmax=.3, square=True)\n",
    "\n",
    "ax.set_ylim(0,6)"
   ]
  },
  {
   "cell_type": "code",
   "execution_count": 198,
   "metadata": {},
   "outputs": [],
   "source": [
    "data_to_ml2 = data_to_ml[['tempo','danceability','acousticness']]"
   ]
  },
  {
   "cell_type": "code",
   "execution_count": 194,
   "metadata": {},
   "outputs": [
    {
     "data": {
      "text/html": [
       "<div>\n",
       "<style scoped>\n",
       "    .dataframe tbody tr th:only-of-type {\n",
       "        vertical-align: middle;\n",
       "    }\n",
       "\n",
       "    .dataframe tbody tr th {\n",
       "        vertical-align: top;\n",
       "    }\n",
       "\n",
       "    .dataframe thead th {\n",
       "        text-align: right;\n",
       "    }\n",
       "</style>\n",
       "<table border=\"1\" class=\"dataframe\">\n",
       "  <thead>\n",
       "    <tr style=\"text-align: right;\">\n",
       "      <th></th>\n",
       "      <th>tempo</th>\n",
       "      <th>liveness</th>\n",
       "      <th>danceability</th>\n",
       "    </tr>\n",
       "  </thead>\n",
       "  <tbody>\n",
       "    <tr>\n",
       "      <th>0</th>\n",
       "      <td>0.290395</td>\n",
       "      <td>0.069369</td>\n",
       "      <td>0.631738</td>\n",
       "    </tr>\n",
       "    <tr>\n",
       "      <th>1</th>\n",
       "      <td>0.324088</td>\n",
       "      <td>0.034309</td>\n",
       "      <td>0.271956</td>\n",
       "    </tr>\n",
       "    <tr>\n",
       "      <th>2</th>\n",
       "      <td>0.286563</td>\n",
       "      <td>0.127265</td>\n",
       "      <td>0.393095</td>\n",
       "    </tr>\n",
       "    <tr>\n",
       "      <th>3</th>\n",
       "      <td>0.253087</td>\n",
       "      <td>0.042350</td>\n",
       "      <td>0.431859</td>\n",
       "    </tr>\n",
       "    <tr>\n",
       "      <th>4</th>\n",
       "      <td>0.332093</td>\n",
       "      <td>0.449984</td>\n",
       "      <td>0.662023</td>\n",
       "    </tr>\n",
       "    <tr>\n",
       "      <th>...</th>\n",
       "      <td>...</td>\n",
       "      <td>...</td>\n",
       "      <td>...</td>\n",
       "    </tr>\n",
       "    <tr>\n",
       "      <th>195</th>\n",
       "      <td>0.429300</td>\n",
       "      <td>0.241986</td>\n",
       "      <td>0.641429</td>\n",
       "    </tr>\n",
       "    <tr>\n",
       "      <th>196</th>\n",
       "      <td>0.243536</td>\n",
       "      <td>0.020371</td>\n",
       "      <td>0.582071</td>\n",
       "    </tr>\n",
       "    <tr>\n",
       "      <th>197</th>\n",
       "      <td>0.771972</td>\n",
       "      <td>0.044709</td>\n",
       "      <td>0.804967</td>\n",
       "    </tr>\n",
       "    <tr>\n",
       "      <th>198</th>\n",
       "      <td>0.240837</td>\n",
       "      <td>0.060791</td>\n",
       "      <td>0.712901</td>\n",
       "    </tr>\n",
       "    <tr>\n",
       "      <th>199</th>\n",
       "      <td>0.409338</td>\n",
       "      <td>1.000000</td>\n",
       "      <td>0.689885</td>\n",
       "    </tr>\n",
       "  </tbody>\n",
       "</table>\n",
       "<p>200 rows × 3 columns</p>\n",
       "</div>"
      ],
      "text/plain": [
       "        tempo  liveness  danceability\n",
       "0    0.290395  0.069369      0.631738\n",
       "1    0.324088  0.034309      0.271956\n",
       "2    0.286563  0.127265      0.393095\n",
       "3    0.253087  0.042350      0.431859\n",
       "4    0.332093  0.449984      0.662023\n",
       "..        ...       ...           ...\n",
       "195  0.429300  0.241986      0.641429\n",
       "196  0.243536  0.020371      0.582071\n",
       "197  0.771972  0.044709      0.804967\n",
       "198  0.240837  0.060791      0.712901\n",
       "199  0.409338  1.000000      0.689885\n",
       "\n",
       "[200 rows x 3 columns]"
      ]
     },
     "execution_count": 194,
     "metadata": {},
     "output_type": "execute_result"
    }
   ],
   "source": [
    "from sklearn import preprocessing\n",
    "\n",
    "scaler = preprocessing.MinMaxScaler()\n",
    "\n",
    "data_to_ml2[data_to_ml2.columns] = scaler.fit_transform(data_to_ml2[data_to_ml2.columns])\n",
    "\n",
    "data_to_ml2"
   ]
  },
  {
   "cell_type": "code",
   "execution_count": 195,
   "metadata": {},
   "outputs": [],
   "source": [
    "# data wrangling\n",
    "import pandas as pd\n",
    "import numpy as np\n",
    "\n",
    "# visualization\n",
    "import matplotlib.pyplot as plt\n",
    "import plotly.express as px\n",
    "import plotly.graph_objects as go\n",
    "from plotly.subplots import make_subplots\n",
    "\n",
    "# for data preprocessing and clustering\n",
    "from sklearn.cluster import KMeans\n",
    "\n",
    "%matplotlib inline\n",
    "# to include graphs inline within the frontends next to code\n",
    "\n",
    "%config InlineBackend.figure_format='retina'\n",
    "#to enable retina (high resolution) plots\n",
    "\n",
    "pd.options.mode.chained_assignment = None\n",
    "# to bypass warnings in various dataframe assignments"
   ]
  },
  {
   "cell_type": "code",
   "execution_count": 197,
   "metadata": {},
   "outputs": [
    {
     "data": {
      "text/html": [
       "<div>\n",
       "<style scoped>\n",
       "    .dataframe tbody tr th:only-of-type {\n",
       "        vertical-align: middle;\n",
       "    }\n",
       "\n",
       "    .dataframe tbody tr th {\n",
       "        vertical-align: top;\n",
       "    }\n",
       "\n",
       "    .dataframe thead th {\n",
       "        text-align: right;\n",
       "    }\n",
       "</style>\n",
       "<table border=\"1\" class=\"dataframe\">\n",
       "  <thead>\n",
       "    <tr style=\"text-align: right;\">\n",
       "      <th></th>\n",
       "      <th>tempo</th>\n",
       "      <th>liveness</th>\n",
       "      <th>danceability</th>\n",
       "    </tr>\n",
       "  </thead>\n",
       "  <tbody>\n",
       "    <tr>\n",
       "      <th>0</th>\n",
       "      <td>0.290395</td>\n",
       "      <td>0.069369</td>\n",
       "      <td>0.631738</td>\n",
       "    </tr>\n",
       "    <tr>\n",
       "      <th>1</th>\n",
       "      <td>0.324088</td>\n",
       "      <td>0.034309</td>\n",
       "      <td>0.271956</td>\n",
       "    </tr>\n",
       "    <tr>\n",
       "      <th>2</th>\n",
       "      <td>0.286563</td>\n",
       "      <td>0.127265</td>\n",
       "      <td>0.393095</td>\n",
       "    </tr>\n",
       "    <tr>\n",
       "      <th>3</th>\n",
       "      <td>0.253087</td>\n",
       "      <td>0.042350</td>\n",
       "      <td>0.431859</td>\n",
       "    </tr>\n",
       "    <tr>\n",
       "      <th>4</th>\n",
       "      <td>0.332093</td>\n",
       "      <td>0.449984</td>\n",
       "      <td>0.662023</td>\n",
       "    </tr>\n",
       "    <tr>\n",
       "      <th>...</th>\n",
       "      <td>...</td>\n",
       "      <td>...</td>\n",
       "      <td>...</td>\n",
       "    </tr>\n",
       "    <tr>\n",
       "      <th>195</th>\n",
       "      <td>0.429300</td>\n",
       "      <td>0.241986</td>\n",
       "      <td>0.641429</td>\n",
       "    </tr>\n",
       "    <tr>\n",
       "      <th>196</th>\n",
       "      <td>0.243536</td>\n",
       "      <td>0.020371</td>\n",
       "      <td>0.582071</td>\n",
       "    </tr>\n",
       "    <tr>\n",
       "      <th>197</th>\n",
       "      <td>0.771972</td>\n",
       "      <td>0.044709</td>\n",
       "      <td>0.804967</td>\n",
       "    </tr>\n",
       "    <tr>\n",
       "      <th>198</th>\n",
       "      <td>0.240837</td>\n",
       "      <td>0.060791</td>\n",
       "      <td>0.712901</td>\n",
       "    </tr>\n",
       "    <tr>\n",
       "      <th>199</th>\n",
       "      <td>0.409338</td>\n",
       "      <td>1.000000</td>\n",
       "      <td>0.689885</td>\n",
       "    </tr>\n",
       "  </tbody>\n",
       "</table>\n",
       "<p>200 rows × 3 columns</p>\n",
       "</div>"
      ],
      "text/plain": [
       "        tempo  liveness  danceability\n",
       "0    0.290395  0.069369      0.631738\n",
       "1    0.324088  0.034309      0.271956\n",
       "2    0.286563  0.127265      0.393095\n",
       "3    0.253087  0.042350      0.431859\n",
       "4    0.332093  0.449984      0.662023\n",
       "..        ...       ...           ...\n",
       "195  0.429300  0.241986      0.641429\n",
       "196  0.243536  0.020371      0.582071\n",
       "197  0.771972  0.044709      0.804967\n",
       "198  0.240837  0.060791      0.712901\n",
       "199  0.409338  1.000000      0.689885\n",
       "\n",
       "[200 rows x 3 columns]"
      ]
     },
     "execution_count": 197,
     "metadata": {},
     "output_type": "execute_result"
    }
   ],
   "source": [
    "data_to_ml2"
   ]
  },
  {
   "cell_type": "code",
   "execution_count": 200,
   "metadata": {},
   "outputs": [
    {
     "data": {
      "application/vnd.plotly.v1+json": {
       "config": {
        "plotlyServerURL": "https://plot.ly"
       },
       "data": [
        {
         "hoverlabel": {
          "namelength": 0
         },
         "hovertemplate": "tempo=%{x}<br>danceability=%{y}<br>acousticness=%{z}",
         "legendgroup": "",
         "marker": {
          "color": "#636efa",
          "opacity": 0.8,
          "symbol": "circle"
         },
         "mode": "markers",
         "name": "",
         "scene": "scene",
         "showlegend": false,
         "type": "scatter3d",
         "x": [
          103.028,
          107.847,
          102.48,
          97.692,
          108.992,
          94.015,
          105.854,
          119.992,
          81.032,
          140.096,
          132.009,
          69.149,
          129.379,
          130.704,
          80.289,
          87.152,
          82.211,
          89.567,
          129.942,
          102.245,
          97.844,
          170.914,
          76.976,
          94.979,
          123.475,
          83.897,
          89.885,
          94.059,
          165.794,
          98.286,
          172.052,
          128.128,
          108.559,
          198.539,
          129.995,
          117.239,
          139.148,
          63.398,
          129.991,
          101.962,
          77.209,
          167.833,
          129.984,
          100.857,
          117.072,
          92.515,
          98.027,
          137.906,
          84.729,
          69.754,
          91.841,
          134.48,
          137.74,
          162.937,
          61.494,
          89.954,
          72.765,
          120.89,
          175.562,
          113.03,
          78.11,
          129.059,
          119.897,
          83.708,
          115.023,
          111.762,
          136.808,
          74.988,
          174.302,
          89.521,
          100.268,
          190.089,
          164.4,
          130.789,
          84.118,
          204.52,
          94.091,
          117.179,
          176.631,
          110.008,
          198.228,
          114.934,
          145.075,
          121.948,
          133.738,
          86.204,
          82.479,
          110.022,
          142.365,
          100.028,
          134.08,
          112.114,
          132.883,
          119.458,
          129.029,
          93.547,
          117.469,
          176.427,
          131.035,
          95.306,
          123.084,
          114.729,
          103.948,
          112.031,
          85.851,
          86.035,
          76.013,
          95.013,
          76.924,
          108.559,
          120.029,
          72.708,
          145.544,
          101.134,
          134.13,
          163.142,
          135.032,
          79.984,
          170.038,
          176.625,
          90.013,
          95.261,
          72.649,
          129.863,
          106.987,
          105.921,
          121.619,
          96.692,
          95.303,
          141.995,
          138.027,
          85.641,
          100.155,
          133.849,
          98.581,
          175.987,
          126.803,
          127.731,
          131.626,
          89.694,
          77.512,
          133.992,
          117.549,
          125.129,
          108.869,
          113.803,
          96.008,
          183.81,
          115.977,
          144.184,
          76.426,
          93.023,
          149.966,
          135.178,
          107.383,
          114.433,
          116.049,
          106.97,
          134.969,
          84.025,
          78.657,
          109.978,
          114.011,
          107.489,
          108.253,
          151.867,
          82.513,
          125.343,
          176.036,
          77.015,
          84.141,
          169.692,
          175.067,
          81.994,
          108.035,
          123.829,
          119.754,
          102.442,
          151.842,
          64.899,
          98.763,
          159.552,
          79.206,
          140.208,
          80.106,
          120.175,
          104.98,
          124.693,
          194.864,
          112.554,
          78.535,
          102.35,
          139.434,
          118.362,
          123.18,
          122.895,
          96.326,
          171.906,
          95.94,
          120.04
         ],
         "y": [
          0.619,
          0.322,
          0.422,
          0.454,
          0.644,
          0.517,
          0.791,
          0.765,
          0.577,
          0.462,
          0.554,
          0.387,
          0.208,
          0.682,
          0.456,
          0.0975,
          0.424,
          0.224,
          0.403,
          0.489,
          0.365,
          0.236,
          0.533,
          0.548,
          0.817,
          0.546,
          0.662,
          0.835,
          0.3,
          0.168,
          0.693,
          0.658,
          0.733,
          0.422,
          0.75,
          0.576,
          0.589,
          0.463,
          0.663,
          0.487,
          0.563,
          0.352,
          0.714,
          0.485,
          0.521,
          0.413,
          0.824,
          0.294,
          0.19,
          0.37,
          0.515,
          0.31,
          0.184,
          0.327,
          0.387,
          0.318,
          0.469,
          0.585,
          0.397,
          0.667,
          0.515,
          0.865,
          0.578,
          0.579,
          0.643,
          0.815,
          0.18,
          0.38,
          0.378,
          0.29,
          0.586,
          0.58,
          0.296,
          0.503,
          0.651,
          0.491,
          0.473,
          0.536,
          0.292,
          0.768,
          0.36,
          0.81,
          0.414,
          0.476,
          0.404,
          0.608,
          0.638,
          0.621,
          0.577,
          0.537,
          0.589,
          0.49,
          0.331,
          0.639,
          0.526,
          0.758,
          0.531,
          0.38,
          0.457,
          0.336,
          0.705,
          0.547,
          0.803,
          0.848,
          0.679,
          0.556,
          0.765,
          0.771,
          0.495,
          0.62,
          0.684,
          0.451,
          0.4,
          0.557,
          0.633,
          0.33,
          0.698,
          0.766,
          0.612,
          0.425,
          0.724,
          0.483,
          0.352,
          0.664,
          0.685,
          0.53,
          0.484,
          0.706,
          0.626,
          0.763,
          0.811,
          0.5,
          0.58,
          0.725,
          0.612,
          0.467,
          0.455,
          0.399,
          0.162,
          0.286,
          0.451,
          0.747,
          0.392,
          0.652,
          0.52,
          0.605,
          0.757,
          0.446,
          0.756,
          0.356,
          0.255,
          0.923,
          0.499,
          0.46,
          0.731,
          0.46,
          0.81,
          0.793,
          0.664,
          0.212,
          0.32,
          0.772,
          0.688,
          0.519,
          0.507,
          0.484,
          0.642,
          0.468,
          0.455,
          0.599,
          0.426,
          0.303,
          0.381,
          0.679,
          0.763,
          0.331,
          0.445,
          0.449,
          0.468,
          0.385,
          0.225,
          0.503,
          0.399,
          0.513,
          0.526,
          0.584,
          0.546,
          0.305,
          0.455,
          0.525,
          0.649,
          0.595,
          0.638,
          0.797,
          0.564,
          0.627,
          0.578,
          0.762,
          0.686,
          0.667
         ],
         "z": [
          0.555,
          0.984,
          0.887,
          0.906,
          0.174,
          0.0014,
          0.522,
          0.287,
          0.109,
          0.954,
          0.843,
          0.994,
          0.536,
          0.257,
          0.996,
          0.988,
          0.903,
          0.97,
          0.995,
          0.863,
          0.957,
          0.828,
          0.819,
          0.977,
          0.0427,
          0.815,
          0.16,
          0.101,
          0.342,
          0.911,
          0.162,
          0.689,
          0.00981,
          0.55,
          0.00331,
          0.95,
          0.703,
          0.799,
          0.43,
          0.604,
          0.913,
          0.473,
          0.726,
          0.765,
          0.253,
          0.791,
          0.692,
          0.99,
          0.808,
          0.99,
          0.0102,
          0.0726,
          0.496,
          0.0708,
          0.99,
          0.977,
          0.994,
          0.587,
          0.607,
          0.0123,
          0.916,
          0.548,
          0.937,
          0.85,
          0.214,
          0.00179,
          0.976,
          0.077,
          0.000452,
          0.563,
          0.206,
          0.071,
          0.329,
          0.811,
          0.759,
          0.89,
          0.00877,
          0.134,
          0.797,
          0.101,
          0.59,
          0.79,
          0.382,
          0.727,
          0.685,
          0.367,
          0.819,
          0.928,
          0.358,
          0.929,
          0.564,
          0.000671,
          0.993,
          0.872,
          0.983,
          0.148,
          0.934,
          0.569,
          0.0509,
          0.923,
          0.793,
          0.848,
          0.691,
          0.0831,
          0.172,
          0.592,
          0.711,
          0.634,
          0.95,
          0.899,
          0.319,
          0.961,
          0.779,
          0.918,
          0.221,
          0.000233,
          0.927,
          0.498,
          0.216,
          0.183,
          0.72,
          0.729,
          0.97,
          0.909,
          0.173,
          0.914,
          0.513,
          0.733,
          0.994,
          0.557,
          0.468,
          0.838,
          0.00151,
          0.843,
          0.59,
          0.525,
          0.901,
          0.291,
          0.932,
          0.978,
          0.994,
          0.0642,
          0.344,
          0.731,
          0.733,
          0.0303,
          0.736,
          0.427,
          0.0224,
          0.913,
          0.0577,
          0.52,
          0.0438,
          0.538,
          0.172,
          0.761,
          0.0378,
          0.0514,
          0.0854,
          0.963,
          0.648,
          0.764,
          0.3,
          0.00878,
          0.789,
          0.376,
          0.258,
          0.921,
          0.861,
          0.713,
          0.409,
          0.0539,
          0.292,
          0.545,
          0.542,
          0.981,
          0.643,
          0.969,
          0.459,
          0.993,
          0.873,
          0.99,
          0.864,
          0.251,
          0.707,
          0.55,
          0.023,
          0.639,
          0.735,
          0.538,
          0.249,
          0.179,
          0.252,
          0.213,
          0.139,
          0.624,
          0.0953,
          0.0134,
          0.182,
          0.123
         ]
        }
       ],
       "layout": {
        "legend": {
         "tracegroupgap": 0
        },
        "margin": {
         "t": 60
        },
        "scene": {
         "domain": {
          "x": [
           0,
           1
          ],
          "y": [
           0,
           1
          ]
         },
         "xaxis": {
          "title": {
           "text": "tempo"
          }
         },
         "yaxis": {
          "title": {
           "text": "danceability"
          }
         },
         "zaxis": {
          "title": {
           "text": "acousticness"
          }
         }
        },
        "template": {
         "data": {
          "bar": [
           {
            "error_x": {
             "color": "#2a3f5f"
            },
            "error_y": {
             "color": "#2a3f5f"
            },
            "marker": {
             "line": {
              "color": "#E5ECF6",
              "width": 0.5
             }
            },
            "type": "bar"
           }
          ],
          "barpolar": [
           {
            "marker": {
             "line": {
              "color": "#E5ECF6",
              "width": 0.5
             }
            },
            "type": "barpolar"
           }
          ],
          "carpet": [
           {
            "aaxis": {
             "endlinecolor": "#2a3f5f",
             "gridcolor": "white",
             "linecolor": "white",
             "minorgridcolor": "white",
             "startlinecolor": "#2a3f5f"
            },
            "baxis": {
             "endlinecolor": "#2a3f5f",
             "gridcolor": "white",
             "linecolor": "white",
             "minorgridcolor": "white",
             "startlinecolor": "#2a3f5f"
            },
            "type": "carpet"
           }
          ],
          "choropleth": [
           {
            "colorbar": {
             "outlinewidth": 0,
             "ticks": ""
            },
            "type": "choropleth"
           }
          ],
          "contour": [
           {
            "colorbar": {
             "outlinewidth": 0,
             "ticks": ""
            },
            "colorscale": [
             [
              0,
              "#0d0887"
             ],
             [
              0.1111111111111111,
              "#46039f"
             ],
             [
              0.2222222222222222,
              "#7201a8"
             ],
             [
              0.3333333333333333,
              "#9c179e"
             ],
             [
              0.4444444444444444,
              "#bd3786"
             ],
             [
              0.5555555555555556,
              "#d8576b"
             ],
             [
              0.6666666666666666,
              "#ed7953"
             ],
             [
              0.7777777777777778,
              "#fb9f3a"
             ],
             [
              0.8888888888888888,
              "#fdca26"
             ],
             [
              1,
              "#f0f921"
             ]
            ],
            "type": "contour"
           }
          ],
          "contourcarpet": [
           {
            "colorbar": {
             "outlinewidth": 0,
             "ticks": ""
            },
            "type": "contourcarpet"
           }
          ],
          "heatmap": [
           {
            "colorbar": {
             "outlinewidth": 0,
             "ticks": ""
            },
            "colorscale": [
             [
              0,
              "#0d0887"
             ],
             [
              0.1111111111111111,
              "#46039f"
             ],
             [
              0.2222222222222222,
              "#7201a8"
             ],
             [
              0.3333333333333333,
              "#9c179e"
             ],
             [
              0.4444444444444444,
              "#bd3786"
             ],
             [
              0.5555555555555556,
              "#d8576b"
             ],
             [
              0.6666666666666666,
              "#ed7953"
             ],
             [
              0.7777777777777778,
              "#fb9f3a"
             ],
             [
              0.8888888888888888,
              "#fdca26"
             ],
             [
              1,
              "#f0f921"
             ]
            ],
            "type": "heatmap"
           }
          ],
          "heatmapgl": [
           {
            "colorbar": {
             "outlinewidth": 0,
             "ticks": ""
            },
            "colorscale": [
             [
              0,
              "#0d0887"
             ],
             [
              0.1111111111111111,
              "#46039f"
             ],
             [
              0.2222222222222222,
              "#7201a8"
             ],
             [
              0.3333333333333333,
              "#9c179e"
             ],
             [
              0.4444444444444444,
              "#bd3786"
             ],
             [
              0.5555555555555556,
              "#d8576b"
             ],
             [
              0.6666666666666666,
              "#ed7953"
             ],
             [
              0.7777777777777778,
              "#fb9f3a"
             ],
             [
              0.8888888888888888,
              "#fdca26"
             ],
             [
              1,
              "#f0f921"
             ]
            ],
            "type": "heatmapgl"
           }
          ],
          "histogram": [
           {
            "marker": {
             "colorbar": {
              "outlinewidth": 0,
              "ticks": ""
             }
            },
            "type": "histogram"
           }
          ],
          "histogram2d": [
           {
            "colorbar": {
             "outlinewidth": 0,
             "ticks": ""
            },
            "colorscale": [
             [
              0,
              "#0d0887"
             ],
             [
              0.1111111111111111,
              "#46039f"
             ],
             [
              0.2222222222222222,
              "#7201a8"
             ],
             [
              0.3333333333333333,
              "#9c179e"
             ],
             [
              0.4444444444444444,
              "#bd3786"
             ],
             [
              0.5555555555555556,
              "#d8576b"
             ],
             [
              0.6666666666666666,
              "#ed7953"
             ],
             [
              0.7777777777777778,
              "#fb9f3a"
             ],
             [
              0.8888888888888888,
              "#fdca26"
             ],
             [
              1,
              "#f0f921"
             ]
            ],
            "type": "histogram2d"
           }
          ],
          "histogram2dcontour": [
           {
            "colorbar": {
             "outlinewidth": 0,
             "ticks": ""
            },
            "colorscale": [
             [
              0,
              "#0d0887"
             ],
             [
              0.1111111111111111,
              "#46039f"
             ],
             [
              0.2222222222222222,
              "#7201a8"
             ],
             [
              0.3333333333333333,
              "#9c179e"
             ],
             [
              0.4444444444444444,
              "#bd3786"
             ],
             [
              0.5555555555555556,
              "#d8576b"
             ],
             [
              0.6666666666666666,
              "#ed7953"
             ],
             [
              0.7777777777777778,
              "#fb9f3a"
             ],
             [
              0.8888888888888888,
              "#fdca26"
             ],
             [
              1,
              "#f0f921"
             ]
            ],
            "type": "histogram2dcontour"
           }
          ],
          "mesh3d": [
           {
            "colorbar": {
             "outlinewidth": 0,
             "ticks": ""
            },
            "type": "mesh3d"
           }
          ],
          "parcoords": [
           {
            "line": {
             "colorbar": {
              "outlinewidth": 0,
              "ticks": ""
             }
            },
            "type": "parcoords"
           }
          ],
          "pie": [
           {
            "automargin": true,
            "type": "pie"
           }
          ],
          "scatter": [
           {
            "marker": {
             "colorbar": {
              "outlinewidth": 0,
              "ticks": ""
             }
            },
            "type": "scatter"
           }
          ],
          "scatter3d": [
           {
            "line": {
             "colorbar": {
              "outlinewidth": 0,
              "ticks": ""
             }
            },
            "marker": {
             "colorbar": {
              "outlinewidth": 0,
              "ticks": ""
             }
            },
            "type": "scatter3d"
           }
          ],
          "scattercarpet": [
           {
            "marker": {
             "colorbar": {
              "outlinewidth": 0,
              "ticks": ""
             }
            },
            "type": "scattercarpet"
           }
          ],
          "scattergeo": [
           {
            "marker": {
             "colorbar": {
              "outlinewidth": 0,
              "ticks": ""
             }
            },
            "type": "scattergeo"
           }
          ],
          "scattergl": [
           {
            "marker": {
             "colorbar": {
              "outlinewidth": 0,
              "ticks": ""
             }
            },
            "type": "scattergl"
           }
          ],
          "scattermapbox": [
           {
            "marker": {
             "colorbar": {
              "outlinewidth": 0,
              "ticks": ""
             }
            },
            "type": "scattermapbox"
           }
          ],
          "scatterpolar": [
           {
            "marker": {
             "colorbar": {
              "outlinewidth": 0,
              "ticks": ""
             }
            },
            "type": "scatterpolar"
           }
          ],
          "scatterpolargl": [
           {
            "marker": {
             "colorbar": {
              "outlinewidth": 0,
              "ticks": ""
             }
            },
            "type": "scatterpolargl"
           }
          ],
          "scatterternary": [
           {
            "marker": {
             "colorbar": {
              "outlinewidth": 0,
              "ticks": ""
             }
            },
            "type": "scatterternary"
           }
          ],
          "surface": [
           {
            "colorbar": {
             "outlinewidth": 0,
             "ticks": ""
            },
            "colorscale": [
             [
              0,
              "#0d0887"
             ],
             [
              0.1111111111111111,
              "#46039f"
             ],
             [
              0.2222222222222222,
              "#7201a8"
             ],
             [
              0.3333333333333333,
              "#9c179e"
             ],
             [
              0.4444444444444444,
              "#bd3786"
             ],
             [
              0.5555555555555556,
              "#d8576b"
             ],
             [
              0.6666666666666666,
              "#ed7953"
             ],
             [
              0.7777777777777778,
              "#fb9f3a"
             ],
             [
              0.8888888888888888,
              "#fdca26"
             ],
             [
              1,
              "#f0f921"
             ]
            ],
            "type": "surface"
           }
          ],
          "table": [
           {
            "cells": {
             "fill": {
              "color": "#EBF0F8"
             },
             "line": {
              "color": "white"
             }
            },
            "header": {
             "fill": {
              "color": "#C8D4E3"
             },
             "line": {
              "color": "white"
             }
            },
            "type": "table"
           }
          ]
         },
         "layout": {
          "annotationdefaults": {
           "arrowcolor": "#2a3f5f",
           "arrowhead": 0,
           "arrowwidth": 1
          },
          "coloraxis": {
           "colorbar": {
            "outlinewidth": 0,
            "ticks": ""
           }
          },
          "colorscale": {
           "diverging": [
            [
             0,
             "#8e0152"
            ],
            [
             0.1,
             "#c51b7d"
            ],
            [
             0.2,
             "#de77ae"
            ],
            [
             0.3,
             "#f1b6da"
            ],
            [
             0.4,
             "#fde0ef"
            ],
            [
             0.5,
             "#f7f7f7"
            ],
            [
             0.6,
             "#e6f5d0"
            ],
            [
             0.7,
             "#b8e186"
            ],
            [
             0.8,
             "#7fbc41"
            ],
            [
             0.9,
             "#4d9221"
            ],
            [
             1,
             "#276419"
            ]
           ],
           "sequential": [
            [
             0,
             "#0d0887"
            ],
            [
             0.1111111111111111,
             "#46039f"
            ],
            [
             0.2222222222222222,
             "#7201a8"
            ],
            [
             0.3333333333333333,
             "#9c179e"
            ],
            [
             0.4444444444444444,
             "#bd3786"
            ],
            [
             0.5555555555555556,
             "#d8576b"
            ],
            [
             0.6666666666666666,
             "#ed7953"
            ],
            [
             0.7777777777777778,
             "#fb9f3a"
            ],
            [
             0.8888888888888888,
             "#fdca26"
            ],
            [
             1,
             "#f0f921"
            ]
           ],
           "sequentialminus": [
            [
             0,
             "#0d0887"
            ],
            [
             0.1111111111111111,
             "#46039f"
            ],
            [
             0.2222222222222222,
             "#7201a8"
            ],
            [
             0.3333333333333333,
             "#9c179e"
            ],
            [
             0.4444444444444444,
             "#bd3786"
            ],
            [
             0.5555555555555556,
             "#d8576b"
            ],
            [
             0.6666666666666666,
             "#ed7953"
            ],
            [
             0.7777777777777778,
             "#fb9f3a"
            ],
            [
             0.8888888888888888,
             "#fdca26"
            ],
            [
             1,
             "#f0f921"
            ]
           ]
          },
          "colorway": [
           "#636efa",
           "#EF553B",
           "#00cc96",
           "#ab63fa",
           "#FFA15A",
           "#19d3f3",
           "#FF6692",
           "#B6E880",
           "#FF97FF",
           "#FECB52"
          ],
          "font": {
           "color": "#2a3f5f"
          },
          "geo": {
           "bgcolor": "white",
           "lakecolor": "white",
           "landcolor": "#E5ECF6",
           "showlakes": true,
           "showland": true,
           "subunitcolor": "white"
          },
          "hoverlabel": {
           "align": "left"
          },
          "hovermode": "closest",
          "mapbox": {
           "style": "light"
          },
          "paper_bgcolor": "white",
          "plot_bgcolor": "#E5ECF6",
          "polar": {
           "angularaxis": {
            "gridcolor": "white",
            "linecolor": "white",
            "ticks": ""
           },
           "bgcolor": "#E5ECF6",
           "radialaxis": {
            "gridcolor": "white",
            "linecolor": "white",
            "ticks": ""
           }
          },
          "scene": {
           "xaxis": {
            "backgroundcolor": "#E5ECF6",
            "gridcolor": "white",
            "gridwidth": 2,
            "linecolor": "white",
            "showbackground": true,
            "ticks": "",
            "zerolinecolor": "white"
           },
           "yaxis": {
            "backgroundcolor": "#E5ECF6",
            "gridcolor": "white",
            "gridwidth": 2,
            "linecolor": "white",
            "showbackground": true,
            "ticks": "",
            "zerolinecolor": "white"
           },
           "zaxis": {
            "backgroundcolor": "#E5ECF6",
            "gridcolor": "white",
            "gridwidth": 2,
            "linecolor": "white",
            "showbackground": true,
            "ticks": "",
            "zerolinecolor": "white"
           }
          },
          "shapedefaults": {
           "line": {
            "color": "#2a3f5f"
           }
          },
          "ternary": {
           "aaxis": {
            "gridcolor": "white",
            "linecolor": "white",
            "ticks": ""
           },
           "baxis": {
            "gridcolor": "white",
            "linecolor": "white",
            "ticks": ""
           },
           "bgcolor": "#E5ECF6",
           "caxis": {
            "gridcolor": "white",
            "linecolor": "white",
            "ticks": ""
           }
          },
          "title": {
           "x": 0.05
          },
          "xaxis": {
           "automargin": true,
           "gridcolor": "white",
           "linecolor": "white",
           "ticks": "",
           "title": {
            "standoff": 15
           },
           "zerolinecolor": "white",
           "zerolinewidth": 2
          },
          "yaxis": {
           "automargin": true,
           "gridcolor": "white",
           "linecolor": "white",
           "ticks": "",
           "title": {
            "standoff": 15
           },
           "zerolinecolor": "white",
           "zerolinewidth": 2
          }
         }
        }
       }
      }
     },
     "metadata": {},
     "output_type": "display_data"
    }
   ],
   "source": [
    "import plotly.express as px\n",
    "fig = px.scatter_3d(data_to_ml2,\n",
    "                    x='tempo',\n",
    "                    y='danceability',\n",
    "                    z='acousticness',\n",
    "                    #color = 'demand_level',\n",
    "                    opacity=0.8,\n",
    "                    size_max=5)\n",
    "fig.show()"
   ]
  },
  {
   "cell_type": "code",
   "execution_count": 203,
   "metadata": {},
   "outputs": [
    {
     "data": {
      "image/png": "[encoded data removed]",
      "text/plain": [
       "<Figure size 576x288 with 1 Axes>"
      ]
     },
     "metadata": {
      "image/png": {
       "height": 261,
       "width": 519
      },
      "needs_background": "light"
     },
     "output_type": "display_data"
    }
   ],
   "source": [
    "from sklearn.cluster import KMeans\n",
    "\n",
    "wcss = []\n",
    "for k in range(1,11):\n",
    "    kmeans = KMeans(n_clusters=k, init=\"k-means++\")\n",
    "    kmeans.fit(data_to_ml2)\n",
    "    wcss.append(kmeans.inertia_)\n",
    "plt.figure(figsize=(8,4))    \n",
    "plt.grid()\n",
    "plt.plot(range(1,11),wcss, linewidth=2, color=\"red\", marker =\"8\")\n",
    "plt.xlabel(\"K Value\")\n",
    "plt.xticks(np.arange(1,11,1))\n",
    "plt.ylabel(\"WCSS\")\n",
    "plt.show()"
   ]
  },
  {
   "cell_type": "code",
   "execution_count": 217,
   "metadata": {},
   "outputs": [],
   "source": [
    "km = KMeans(n_clusters = 3,\n",
    "            init='k-means++', \n",
    "            max_iter=300, \n",
    "            random_state=42)\n",
    "\n",
    "result = km.fit(data_to_ml2)\n",
    "\n",
    "clusters = km.fit_predict(data_to_ml2)\n",
    "data_to_ml2[\"label\"] = clusters"
   ]
  },
  {
   "cell_type": "code",
   "execution_count": 218,
   "metadata": {},
   "outputs": [],
   "source": [
    "labeled_data = data_to_ml2.merge(dataset['track_name'], left_index = True, right_index = True)"
   ]
  },
  {
   "cell_type": "code",
   "execution_count": 219,
   "metadata": {},
   "outputs": [
    {
     "data": {
      "text/html": [
       "<div>\n",
       "<style scoped>\n",
       "    .dataframe tbody tr th:only-of-type {\n",
       "        vertical-align: middle;\n",
       "    }\n",
       "\n",
       "    .dataframe tbody tr th {\n",
       "        vertical-align: top;\n",
       "    }\n",
       "\n",
       "    .dataframe thead th {\n",
       "        text-align: right;\n",
       "    }\n",
       "</style>\n",
       "<table border=\"1\" class=\"dataframe\">\n",
       "  <thead>\n",
       "    <tr style=\"text-align: right;\">\n",
       "      <th></th>\n",
       "      <th>tempo</th>\n",
       "      <th>danceability</th>\n",
       "      <th>acousticness</th>\n",
       "    </tr>\n",
       "    <tr>\n",
       "      <th>label</th>\n",
       "      <th></th>\n",
       "      <th></th>\n",
       "      <th></th>\n",
       "    </tr>\n",
       "  </thead>\n",
       "  <tbody>\n",
       "    <tr>\n",
       "      <th>0</th>\n",
       "      <td>173.879357</td>\n",
       "      <td>0.431929</td>\n",
       "      <td>0.409092</td>\n",
       "    </tr>\n",
       "    <tr>\n",
       "      <th>1</th>\n",
       "      <td>123.450043</td>\n",
       "      <td>0.577359</td>\n",
       "      <td>0.517809</td>\n",
       "    </tr>\n",
       "    <tr>\n",
       "      <th>2</th>\n",
       "      <td>87.851487</td>\n",
       "      <td>0.514656</td>\n",
       "      <td>0.655874</td>\n",
       "    </tr>\n",
       "  </tbody>\n",
       "</table>\n",
       "</div>"
      ],
      "text/plain": [
       "            tempo  danceability  acousticness\n",
       "label                                        \n",
       "0      173.879357      0.431929      0.409092\n",
       "1      123.450043      0.577359      0.517809\n",
       "2       87.851487      0.514656      0.655874"
      ]
     },
     "execution_count": 219,
     "metadata": {},
     "output_type": "execute_result"
    }
   ],
   "source": [
    "labeled_data.groupby('label').mean()"
   ]
  },
  {
   "cell_type": "code",
   "execution_count": 213,
   "metadata": {},
   "outputs": [
    {
     "data": {
      "text/html": [
       "<div>\n",
       "<style scoped>\n",
       "    .dataframe tbody tr th:only-of-type {\n",
       "        vertical-align: middle;\n",
       "    }\n",
       "\n",
       "    .dataframe tbody tr th {\n",
       "        vertical-align: top;\n",
       "    }\n",
       "\n",
       "    .dataframe thead th {\n",
       "        text-align: right;\n",
       "    }\n",
       "</style>\n",
       "<table border=\"1\" class=\"dataframe\">\n",
       "  <thead>\n",
       "    <tr style=\"text-align: right;\">\n",
       "      <th></th>\n",
       "      <th>tempo</th>\n",
       "      <th>danceability</th>\n",
       "      <th>acousticness</th>\n",
       "      <th>label</th>\n",
       "      <th>track_name</th>\n",
       "    </tr>\n",
       "  </thead>\n",
       "  <tbody>\n",
       "    <tr>\n",
       "      <th>0</th>\n",
       "      <td>103.028</td>\n",
       "      <td>0.6190</td>\n",
       "      <td>0.55500</td>\n",
       "      <td>2</td>\n",
       "      <td>Freedom</td>\n",
       "    </tr>\n",
       "    <tr>\n",
       "      <th>2</th>\n",
       "      <td>102.480</td>\n",
       "      <td>0.4220</td>\n",
       "      <td>0.88700</td>\n",
       "      <td>2</td>\n",
       "      <td>Unchained Melody</td>\n",
       "    </tr>\n",
       "    <tr>\n",
       "      <th>3</th>\n",
       "      <td>97.692</td>\n",
       "      <td>0.4540</td>\n",
       "      <td>0.90600</td>\n",
       "      <td>2</td>\n",
       "      <td>City Of Stars - From \"La La Land\" Soundtrack</td>\n",
       "    </tr>\n",
       "    <tr>\n",
       "      <th>5</th>\n",
       "      <td>94.015</td>\n",
       "      <td>0.5170</td>\n",
       "      <td>0.00140</td>\n",
       "      <td>2</td>\n",
       "      <td>Everybody's Changing</td>\n",
       "    </tr>\n",
       "    <tr>\n",
       "      <th>8</th>\n",
       "      <td>81.032</td>\n",
       "      <td>0.5770</td>\n",
       "      <td>0.10900</td>\n",
       "      <td>2</td>\n",
       "      <td>Superman</td>\n",
       "    </tr>\n",
       "    <tr>\n",
       "      <th>11</th>\n",
       "      <td>69.149</td>\n",
       "      <td>0.3870</td>\n",
       "      <td>0.99400</td>\n",
       "      <td>2</td>\n",
       "      <td>Debussy: Suite bergamasque, CD 82, L. 75: III....</td>\n",
       "    </tr>\n",
       "    <tr>\n",
       "      <th>14</th>\n",
       "      <td>80.289</td>\n",
       "      <td>0.4560</td>\n",
       "      <td>0.99600</td>\n",
       "      <td>2</td>\n",
       "      <td>Satie: 3 Gymnopédies: No. 2, Lent et triste</td>\n",
       "    </tr>\n",
       "    <tr>\n",
       "      <th>15</th>\n",
       "      <td>87.152</td>\n",
       "      <td>0.0975</td>\n",
       "      <td>0.98800</td>\n",
       "      <td>2</td>\n",
       "      <td>Einaudi: Una mattina</td>\n",
       "    </tr>\n",
       "    <tr>\n",
       "      <th>16</th>\n",
       "      <td>82.211</td>\n",
       "      <td>0.4240</td>\n",
       "      <td>0.90300</td>\n",
       "      <td>2</td>\n",
       "      <td>Perpetuum Mobile</td>\n",
       "    </tr>\n",
       "    <tr>\n",
       "      <th>17</th>\n",
       "      <td>89.567</td>\n",
       "      <td>0.2240</td>\n",
       "      <td>0.97000</td>\n",
       "      <td>2</td>\n",
       "      <td>Flower duet from Lakme - Remasterisé en 1987</td>\n",
       "    </tr>\n",
       "    <tr>\n",
       "      <th>19</th>\n",
       "      <td>102.245</td>\n",
       "      <td>0.4890</td>\n",
       "      <td>0.86300</td>\n",
       "      <td>2</td>\n",
       "      <td>April Come She Will</td>\n",
       "    </tr>\n",
       "    <tr>\n",
       "      <th>20</th>\n",
       "      <td>97.844</td>\n",
       "      <td>0.3650</td>\n",
       "      <td>0.95700</td>\n",
       "      <td>2</td>\n",
       "      <td>2 Nights, a Whisper</td>\n",
       "    </tr>\n",
       "    <tr>\n",
       "      <th>22</th>\n",
       "      <td>76.976</td>\n",
       "      <td>0.5330</td>\n",
       "      <td>0.81900</td>\n",
       "      <td>2</td>\n",
       "      <td>Imagine (Glee Cast Version)</td>\n",
       "    </tr>\n",
       "    <tr>\n",
       "      <th>23</th>\n",
       "      <td>94.979</td>\n",
       "      <td>0.5480</td>\n",
       "      <td>0.97700</td>\n",
       "      <td>2</td>\n",
       "      <td>La Luna (Bonus Track)</td>\n",
       "    </tr>\n",
       "    <tr>\n",
       "      <th>25</th>\n",
       "      <td>83.897</td>\n",
       "      <td>0.5460</td>\n",
       "      <td>0.81500</td>\n",
       "      <td>2</td>\n",
       "      <td>Lo-fi Bossa Girl</td>\n",
       "    </tr>\n",
       "    <tr>\n",
       "      <th>26</th>\n",
       "      <td>89.885</td>\n",
       "      <td>0.6620</td>\n",
       "      <td>0.16000</td>\n",
       "      <td>2</td>\n",
       "      <td>Don't Lie</td>\n",
       "    </tr>\n",
       "    <tr>\n",
       "      <th>27</th>\n",
       "      <td>94.059</td>\n",
       "      <td>0.8350</td>\n",
       "      <td>0.10100</td>\n",
       "      <td>2</td>\n",
       "      <td>Where Is The Love?</td>\n",
       "    </tr>\n",
       "    <tr>\n",
       "      <th>29</th>\n",
       "      <td>98.286</td>\n",
       "      <td>0.1680</td>\n",
       "      <td>0.91100</td>\n",
       "      <td>2</td>\n",
       "      <td>Nessun Dorma</td>\n",
       "    </tr>\n",
       "    <tr>\n",
       "      <th>37</th>\n",
       "      <td>63.398</td>\n",
       "      <td>0.4630</td>\n",
       "      <td>0.79900</td>\n",
       "      <td>2</td>\n",
       "      <td>Summertime Daydream</td>\n",
       "    </tr>\n",
       "    <tr>\n",
       "      <th>39</th>\n",
       "      <td>101.962</td>\n",
       "      <td>0.4870</td>\n",
       "      <td>0.60400</td>\n",
       "      <td>2</td>\n",
       "      <td>On brûlera</td>\n",
       "    </tr>\n",
       "    <tr>\n",
       "      <th>40</th>\n",
       "      <td>77.209</td>\n",
       "      <td>0.5630</td>\n",
       "      <td>0.91300</td>\n",
       "      <td>2</td>\n",
       "      <td>Preciso Me Encontrar</td>\n",
       "    </tr>\n",
       "    <tr>\n",
       "      <th>43</th>\n",
       "      <td>100.857</td>\n",
       "      <td>0.4850</td>\n",
       "      <td>0.76500</td>\n",
       "      <td>2</td>\n",
       "      <td>Day 5: For Carol</td>\n",
       "    </tr>\n",
       "    <tr>\n",
       "      <th>45</th>\n",
       "      <td>92.515</td>\n",
       "      <td>0.4130</td>\n",
       "      <td>0.79100</td>\n",
       "      <td>2</td>\n",
       "      <td>Dream A Little Dream Of Me - With Introduction</td>\n",
       "    </tr>\n",
       "    <tr>\n",
       "      <th>46</th>\n",
       "      <td>98.027</td>\n",
       "      <td>0.8240</td>\n",
       "      <td>0.69200</td>\n",
       "      <td>2</td>\n",
       "      <td>Dance Monkey</td>\n",
       "    </tr>\n",
       "    <tr>\n",
       "      <th>48</th>\n",
       "      <td>84.729</td>\n",
       "      <td>0.1900</td>\n",
       "      <td>0.80800</td>\n",
       "      <td>2</td>\n",
       "      <td>Haar</td>\n",
       "    </tr>\n",
       "    <tr>\n",
       "      <th>49</th>\n",
       "      <td>69.754</td>\n",
       "      <td>0.3700</td>\n",
       "      <td>0.99000</td>\n",
       "      <td>2</td>\n",
       "      <td>Suite bergamasque, L. 75: III. Clair de lune</td>\n",
       "    </tr>\n",
       "    <tr>\n",
       "      <th>50</th>\n",
       "      <td>91.841</td>\n",
       "      <td>0.5150</td>\n",
       "      <td>0.01020</td>\n",
       "      <td>2</td>\n",
       "      <td>Creep</td>\n",
       "    </tr>\n",
       "    <tr>\n",
       "      <th>54</th>\n",
       "      <td>61.494</td>\n",
       "      <td>0.3870</td>\n",
       "      <td>0.99000</td>\n",
       "      <td>2</td>\n",
       "      <td>Nocturne en mi bémol majeur opus 9 n°2: Ballad...</td>\n",
       "    </tr>\n",
       "    <tr>\n",
       "      <th>55</th>\n",
       "      <td>89.954</td>\n",
       "      <td>0.3180</td>\n",
       "      <td>0.97700</td>\n",
       "      <td>2</td>\n",
       "      <td>Saint- Saëns: Introduction and Rondo Capriccio...</td>\n",
       "    </tr>\n",
       "    <tr>\n",
       "      <th>56</th>\n",
       "      <td>72.765</td>\n",
       "      <td>0.4690</td>\n",
       "      <td>0.99400</td>\n",
       "      <td>2</td>\n",
       "      <td>Gymnopédie No. 1</td>\n",
       "    </tr>\n",
       "    <tr>\n",
       "      <th>60</th>\n",
       "      <td>78.110</td>\n",
       "      <td>0.5150</td>\n",
       "      <td>0.91600</td>\n",
       "      <td>2</td>\n",
       "      <td>Dream A Little Dream Of Me</td>\n",
       "    </tr>\n",
       "    <tr>\n",
       "      <th>63</th>\n",
       "      <td>83.708</td>\n",
       "      <td>0.5790</td>\n",
       "      <td>0.85000</td>\n",
       "      <td>2</td>\n",
       "      <td>Runaround Sue</td>\n",
       "    </tr>\n",
       "    <tr>\n",
       "      <th>67</th>\n",
       "      <td>74.988</td>\n",
       "      <td>0.3800</td>\n",
       "      <td>0.07700</td>\n",
       "      <td>2</td>\n",
       "      <td>Stop Crying Your Heart Out</td>\n",
       "    </tr>\n",
       "    <tr>\n",
       "      <th>69</th>\n",
       "      <td>89.521</td>\n",
       "      <td>0.2900</td>\n",
       "      <td>0.56300</td>\n",
       "      <td>2</td>\n",
       "      <td>Always on My Mind - with The Royal Philharmoni...</td>\n",
       "    </tr>\n",
       "    <tr>\n",
       "      <th>70</th>\n",
       "      <td>100.268</td>\n",
       "      <td>0.5860</td>\n",
       "      <td>0.20600</td>\n",
       "      <td>2</td>\n",
       "      <td>Get Up And Get Down</td>\n",
       "    </tr>\n",
       "    <tr>\n",
       "      <th>74</th>\n",
       "      <td>84.118</td>\n",
       "      <td>0.6510</td>\n",
       "      <td>0.75900</td>\n",
       "      <td>2</td>\n",
       "      <td>Carry Me</td>\n",
       "    </tr>\n",
       "    <tr>\n",
       "      <th>76</th>\n",
       "      <td>94.091</td>\n",
       "      <td>0.4730</td>\n",
       "      <td>0.00877</td>\n",
       "      <td>2</td>\n",
       "      <td>My Friend</td>\n",
       "    </tr>\n",
       "    <tr>\n",
       "      <th>85</th>\n",
       "      <td>86.204</td>\n",
       "      <td>0.6080</td>\n",
       "      <td>0.36700</td>\n",
       "      <td>2</td>\n",
       "      <td>Into the Mystic - 2013 Remaster</td>\n",
       "    </tr>\n",
       "    <tr>\n",
       "      <th>86</th>\n",
       "      <td>82.479</td>\n",
       "      <td>0.6380</td>\n",
       "      <td>0.81900</td>\n",
       "      <td>2</td>\n",
       "      <td>Pink Moon</td>\n",
       "    </tr>\n",
       "    <tr>\n",
       "      <th>89</th>\n",
       "      <td>100.028</td>\n",
       "      <td>0.5370</td>\n",
       "      <td>0.92900</td>\n",
       "      <td>2</td>\n",
       "      <td>Lest We Forget (blood)</td>\n",
       "    </tr>\n",
       "    <tr>\n",
       "      <th>95</th>\n",
       "      <td>93.547</td>\n",
       "      <td>0.7580</td>\n",
       "      <td>0.14800</td>\n",
       "      <td>2</td>\n",
       "      <td>Королева</td>\n",
       "    </tr>\n",
       "    <tr>\n",
       "      <th>99</th>\n",
       "      <td>95.306</td>\n",
       "      <td>0.3360</td>\n",
       "      <td>0.92300</td>\n",
       "      <td>2</td>\n",
       "      <td>Violin Concerto in D Major, Op. 35, TH 59: I. ...</td>\n",
       "    </tr>\n",
       "    <tr>\n",
       "      <th>102</th>\n",
       "      <td>103.948</td>\n",
       "      <td>0.8030</td>\n",
       "      <td>0.69100</td>\n",
       "      <td>2</td>\n",
       "      <td>Funeral Singers</td>\n",
       "    </tr>\n",
       "    <tr>\n",
       "      <th>104</th>\n",
       "      <td>85.851</td>\n",
       "      <td>0.6790</td>\n",
       "      <td>0.17200</td>\n",
       "      <td>2</td>\n",
       "      <td>Rich Girl</td>\n",
       "    </tr>\n",
       "    <tr>\n",
       "      <th>105</th>\n",
       "      <td>86.035</td>\n",
       "      <td>0.5560</td>\n",
       "      <td>0.59200</td>\n",
       "      <td>2</td>\n",
       "      <td>Grows Old</td>\n",
       "    </tr>\n",
       "    <tr>\n",
       "      <th>106</th>\n",
       "      <td>76.013</td>\n",
       "      <td>0.7650</td>\n",
       "      <td>0.71100</td>\n",
       "      <td>2</td>\n",
       "      <td>Don't Dream It's Over - Recorded at Sound Stag...</td>\n",
       "    </tr>\n",
       "    <tr>\n",
       "      <th>107</th>\n",
       "      <td>95.013</td>\n",
       "      <td>0.7710</td>\n",
       "      <td>0.63400</td>\n",
       "      <td>2</td>\n",
       "      <td>Моё море</td>\n",
       "    </tr>\n",
       "    <tr>\n",
       "      <th>108</th>\n",
       "      <td>76.924</td>\n",
       "      <td>0.4950</td>\n",
       "      <td>0.95000</td>\n",
       "      <td>2</td>\n",
       "      <td>Insensatez</td>\n",
       "    </tr>\n",
       "    <tr>\n",
       "      <th>111</th>\n",
       "      <td>72.708</td>\n",
       "      <td>0.4510</td>\n",
       "      <td>0.96100</td>\n",
       "      <td>2</td>\n",
       "      <td>A Whiter Shade Of Pale - Recorded at Spotify S...</td>\n",
       "    </tr>\n",
       "    <tr>\n",
       "      <th>113</th>\n",
       "      <td>101.134</td>\n",
       "      <td>0.5570</td>\n",
       "      <td>0.91800</td>\n",
       "      <td>2</td>\n",
       "      <td>The Way I Feel Inside</td>\n",
       "    </tr>\n",
       "  </tbody>\n",
       "</table>\n",
       "</div>"
      ],
      "text/plain": [
       "       tempo  danceability  acousticness  label  \\\n",
       "0    103.028        0.6190       0.55500      2   \n",
       "2    102.480        0.4220       0.88700      2   \n",
       "3     97.692        0.4540       0.90600      2   \n",
       "5     94.015        0.5170       0.00140      2   \n",
       "8     81.032        0.5770       0.10900      2   \n",
       "11    69.149        0.3870       0.99400      2   \n",
       "14    80.289        0.4560       0.99600      2   \n",
       "15    87.152        0.0975       0.98800      2   \n",
       "16    82.211        0.4240       0.90300      2   \n",
       "17    89.567        0.2240       0.97000      2   \n",
       "19   102.245        0.4890       0.86300      2   \n",
       "20    97.844        0.3650       0.95700      2   \n",
       "22    76.976        0.5330       0.81900      2   \n",
       "23    94.979        0.5480       0.97700      2   \n",
       "25    83.897        0.5460       0.81500      2   \n",
       "26    89.885        0.6620       0.16000      2   \n",
       "27    94.059        0.8350       0.10100      2   \n",
       "29    98.286        0.1680       0.91100      2   \n",
       "37    63.398        0.4630       0.79900      2   \n",
       "39   101.962        0.4870       0.60400      2   \n",
       "40    77.209        0.5630       0.91300      2   \n",
       "43   100.857        0.4850       0.76500      2   \n",
       "45    92.515        0.4130       0.79100      2   \n",
       "46    98.027        0.8240       0.69200      2   \n",
       "48    84.729        0.1900       0.80800      2   \n",
       "49    69.754        0.3700       0.99000      2   \n",
       "50    91.841        0.5150       0.01020      2   \n",
       "54    61.494        0.3870       0.99000      2   \n",
       "55    89.954        0.3180       0.97700      2   \n",
       "56    72.765        0.4690       0.99400      2   \n",
       "60    78.110        0.5150       0.91600      2   \n",
       "63    83.708        0.5790       0.85000      2   \n",
       "67    74.988        0.3800       0.07700      2   \n",
       "69    89.521        0.2900       0.56300      2   \n",
       "70   100.268        0.5860       0.20600      2   \n",
       "74    84.118        0.6510       0.75900      2   \n",
       "76    94.091        0.4730       0.00877      2   \n",
       "85    86.204        0.6080       0.36700      2   \n",
       "86    82.479        0.6380       0.81900      2   \n",
       "89   100.028        0.5370       0.92900      2   \n",
       "95    93.547        0.7580       0.14800      2   \n",
       "99    95.306        0.3360       0.92300      2   \n",
       "102  103.948        0.8030       0.69100      2   \n",
       "104   85.851        0.6790       0.17200      2   \n",
       "105   86.035        0.5560       0.59200      2   \n",
       "106   76.013        0.7650       0.71100      2   \n",
       "107   95.013        0.7710       0.63400      2   \n",
       "108   76.924        0.4950       0.95000      2   \n",
       "111   72.708        0.4510       0.96100      2   \n",
       "113  101.134        0.5570       0.91800      2   \n",
       "\n",
       "                                            track_name  \n",
       "0                                              Freedom  \n",
       "2                                     Unchained Melody  \n",
       "3         City Of Stars - From \"La La Land\" Soundtrack  \n",
       "5                                 Everybody's Changing  \n",
       "8                                             Superman  \n",
       "11   Debussy: Suite bergamasque, CD 82, L. 75: III....  \n",
       "14         Satie: 3 Gymnopédies: No. 2, Lent et triste  \n",
       "15                                Einaudi: Una mattina  \n",
       "16                                    Perpetuum Mobile  \n",
       "17        Flower duet from Lakme - Remasterisé en 1987  \n",
       "19                                 April Come She Will  \n",
       "20                                 2 Nights, a Whisper  \n",
       "22                         Imagine (Glee Cast Version)  \n",
       "23                               La Luna (Bonus Track)  \n",
       "25                                    Lo-fi Bossa Girl  \n",
       "26                                           Don't Lie  \n",
       "27                                  Where Is The Love?  \n",
       "29                                        Nessun Dorma  \n",
       "37                                 Summertime Daydream  \n",
       "39                                          On brûlera  \n",
       "40                                Preciso Me Encontrar  \n",
       "43                                    Day 5: For Carol  \n",
       "45      Dream A Little Dream Of Me - With Introduction  \n",
       "46                                        Dance Monkey  \n",
       "48                                                Haar  \n",
       "49        Suite bergamasque, L. 75: III. Clair de lune  \n",
       "50                                               Creep  \n",
       "54   Nocturne en mi bémol majeur opus 9 n°2: Ballad...  \n",
       "55   Saint- Saëns: Introduction and Rondo Capriccio...  \n",
       "56                                    Gymnopédie No. 1  \n",
       "60                          Dream A Little Dream Of Me  \n",
       "63                                       Runaround Sue  \n",
       "67                          Stop Crying Your Heart Out  \n",
       "69   Always on My Mind - with The Royal Philharmoni...  \n",
       "70                                 Get Up And Get Down  \n",
       "74                                            Carry Me  \n",
       "76                                           My Friend  \n",
       "85                     Into the Mystic - 2013 Remaster  \n",
       "86                                           Pink Moon  \n",
       "89                              Lest We Forget (blood)  \n",
       "95                                            Королева  \n",
       "99   Violin Concerto in D Major, Op. 35, TH 59: I. ...  \n",
       "102                                    Funeral Singers  \n",
       "104                                          Rich Girl  \n",
       "105                                          Grows Old  \n",
       "106  Don't Dream It's Over - Recorded at Sound Stag...  \n",
       "107                                           Моё море  \n",
       "108                                         Insensatez  \n",
       "111  A Whiter Shade Of Pale - Recorded at Spotify S...  \n",
       "113                              The Way I Feel Inside  "
      ]
     },
     "execution_count": 213,
     "metadata": {},
     "output_type": "execute_result"
    }
   ],
   "source": [
    "labeled_data[labeled_data['label'] == 2].head(50)"
   ]
  },
  {
   "cell_type": "code",
   "execution_count": 220,
   "metadata": {},
   "outputs": [
    {
     "data": {
      "application/vnd.plotly.v1+json": {
       "config": {
        "plotlyServerURL": "https://plot.ly"
       },
       "data": [
        {
         "hoverlabel": {
          "namelength": 0
         },
         "hovertemplate": "tempo=%{x}<br>danceability=%{y}<br>acousticness=%{z}<br>label=%{marker.color}",
         "legendgroup": "",
         "marker": {
          "color": [
           2,
           1,
           2,
           2,
           1,
           2,
           1,
           1,
           2,
           1,
           1,
           2,
           1,
           1,
           2,
           2,
           2,
           2,
           1,
           2,
           2,
           0,
           2,
           2,
           1,
           2,
           2,
           2,
           0,
           2,
           0,
           1,
           1,
           0,
           1,
           1,
           1,
           2,
           1,
           2,
           2,
           0,
           1,
           2,
           1,
           2,
           2,
           1,
           2,
           2,
           2,
           1,
           1,
           0,
           2,
           2,
           2,
           1,
           0,
           1,
           2,
           1,
           1,
           2,
           1,
           1,
           1,
           2,
           0,
           2,
           2,
           0,
           0,
           1,
           2,
           0,
           2,
           1,
           0,
           1,
           0,
           1,
           1,
           1,
           1,
           2,
           2,
           1,
           1,
           2,
           1,
           1,
           1,
           1,
           1,
           2,
           1,
           0,
           1,
           2,
           1,
           1,
           2,
           1,
           2,
           2,
           2,
           2,
           2,
           1,
           1,
           2,
           1,
           2,
           1,
           0,
           1,
           2,
           0,
           0,
           2,
           2,
           2,
           1,
           1,
           1,
           1,
           2,
           2,
           1,
           1,
           2,
           2,
           1,
           2,
           0,
           1,
           1,
           1,
           2,
           2,
           1,
           1,
           1,
           1,
           1,
           2,
           0,
           1,
           1,
           2,
           2,
           0,
           1,
           1,
           1,
           1,
           1,
           1,
           2,
           2,
           1,
           1,
           1,
           1,
           0,
           2,
           1,
           0,
           2,
           2,
           0,
           0,
           2,
           1,
           1,
           1,
           2,
           0,
           2,
           2,
           0,
           2,
           1,
           2,
           1,
           2,
           1,
           0,
           1,
           2,
           2,
           1,
           1,
           1,
           1,
           2,
           0,
           2,
           1
          ],
          "coloraxis": "coloraxis",
          "opacity": 0.8,
          "symbol": "circle"
         },
         "mode": "markers",
         "name": "",
         "scene": "scene",
         "showlegend": false,
         "type": "scatter3d",
         "x": [
          103.028,
          107.847,
          102.48,
          97.692,
          108.992,
          94.015,
          105.854,
          119.992,
          81.032,
          140.096,
          132.009,
          69.149,
          129.379,
          130.704,
          80.289,
          87.152,
          82.211,
          89.567,
          129.942,
          102.245,
          97.844,
          170.914,
          76.976,
          94.979,
          123.475,
          83.897,
          89.885,
          94.059,
          165.794,
          98.286,
          172.052,
          128.128,
          108.559,
          198.539,
          129.995,
          117.239,
          139.148,
          63.398,
          129.991,
          101.962,
          77.209,
          167.833,
          129.984,
          100.857,
          117.072,
          92.515,
          98.027,
          137.906,
          84.729,
          69.754,
          91.841,
          134.48,
          137.74,
          162.937,
          61.494,
          89.954,
          72.765,
          120.89,
          175.562,
          113.03,
          78.11,
          129.059,
          119.897,
          83.708,
          115.023,
          111.762,
          136.808,
          74.988,
          174.302,
          89.521,
          100.268,
          190.089,
          164.4,
          130.789,
          84.118,
          204.52,
          94.091,
          117.179,
          176.631,
          110.008,
          198.228,
          114.934,
          145.075,
          121.948,
          133.738,
          86.204,
          82.479,
          110.022,
          142.365,
          100.028,
          134.08,
          112.114,
          132.883,
          119.458,
          129.029,
          93.547,
          117.469,
          176.427,
          131.035,
          95.306,
          123.084,
          114.729,
          103.948,
          112.031,
          85.851,
          86.035,
          76.013,
          95.013,
          76.924,
          108.559,
          120.029,
          72.708,
          145.544,
          101.134,
          134.13,
          163.142,
          135.032,
          79.984,
          170.038,
          176.625,
          90.013,
          95.261,
          72.649,
          129.863,
          106.987,
          105.921,
          121.619,
          96.692,
          95.303,
          141.995,
          138.027,
          85.641,
          100.155,
          133.849,
          98.581,
          175.987,
          126.803,
          127.731,
          131.626,
          89.694,
          77.512,
          133.992,
          117.549,
          125.129,
          108.869,
          113.803,
          96.008,
          183.81,
          115.977,
          144.184,
          76.426,
          93.023,
          149.966,
          135.178,
          107.383,
          114.433,
          116.049,
          106.97,
          134.969,
          84.025,
          78.657,
          109.978,
          114.011,
          107.489,
          108.253,
          151.867,
          82.513,
          125.343,
          176.036,
          77.015,
          84.141,
          169.692,
          175.067,
          81.994,
          108.035,
          123.829,
          119.754,
          102.442,
          151.842,
          64.899,
          98.763,
          159.552,
          79.206,
          140.208,
          80.106,
          120.175,
          104.98,
          124.693,
          194.864,
          112.554,
          78.535,
          102.35,
          139.434,
          118.362,
          123.18,
          122.895,
          96.326,
          171.906,
          95.94,
          120.04
         ],
         "y": [
          0.619,
          0.322,
          0.422,
          0.454,
          0.644,
          0.517,
          0.791,
          0.765,
          0.577,
          0.462,
          0.554,
          0.387,
          0.208,
          0.682,
          0.456,
          0.0975,
          0.424,
          0.224,
          0.403,
          0.489,
          0.365,
          0.236,
          0.533,
          0.548,
          0.817,
          0.546,
          0.662,
          0.835,
          0.3,
          0.168,
          0.693,
          0.658,
          0.733,
          0.422,
          0.75,
          0.576,
          0.589,
          0.463,
          0.663,
          0.487,
          0.563,
          0.352,
          0.714,
          0.485,
          0.521,
          0.413,
          0.824,
          0.294,
          0.19,
          0.37,
          0.515,
          0.31,
          0.184,
          0.327,
          0.387,
          0.318,
          0.469,
          0.585,
          0.397,
          0.667,
          0.515,
          0.865,
          0.578,
          0.579,
          0.643,
          0.815,
          0.18,
          0.38,
          0.378,
          0.29,
          0.586,
          0.58,
          0.296,
          0.503,
          0.651,
          0.491,
          0.473,
          0.536,
          0.292,
          0.768,
          0.36,
          0.81,
          0.414,
          0.476,
          0.404,
          0.608,
          0.638,
          0.621,
          0.577,
          0.537,
          0.589,
          0.49,
          0.331,
          0.639,
          0.526,
          0.758,
          0.531,
          0.38,
          0.457,
          0.336,
          0.705,
          0.547,
          0.803,
          0.848,
          0.679,
          0.556,
          0.765,
          0.771,
          0.495,
          0.62,
          0.684,
          0.451,
          0.4,
          0.557,
          0.633,
          0.33,
          0.698,
          0.766,
          0.612,
          0.425,
          0.724,
          0.483,
          0.352,
          0.664,
          0.685,
          0.53,
          0.484,
          0.706,
          0.626,
          0.763,
          0.811,
          0.5,
          0.58,
          0.725,
          0.612,
          0.467,
          0.455,
          0.399,
          0.162,
          0.286,
          0.451,
          0.747,
          0.392,
          0.652,
          0.52,
          0.605,
          0.757,
          0.446,
          0.756,
          0.356,
          0.255,
          0.923,
          0.499,
          0.46,
          0.731,
          0.46,
          0.81,
          0.793,
          0.664,
          0.212,
          0.32,
          0.772,
          0.688,
          0.519,
          0.507,
          0.484,
          0.642,
          0.468,
          0.455,
          0.599,
          0.426,
          0.303,
          0.381,
          0.679,
          0.763,
          0.331,
          0.445,
          0.449,
          0.468,
          0.385,
          0.225,
          0.503,
          0.399,
          0.513,
          0.526,
          0.584,
          0.546,
          0.305,
          0.455,
          0.525,
          0.649,
          0.595,
          0.638,
          0.797,
          0.564,
          0.627,
          0.578,
          0.762,
          0.686,
          0.667
         ],
         "z": [
          0.555,
          0.984,
          0.887,
          0.906,
          0.174,
          0.0014,
          0.522,
          0.287,
          0.109,
          0.954,
          0.843,
          0.994,
          0.536,
          0.257,
          0.996,
          0.988,
          0.903,
          0.97,
          0.995,
          0.863,
          0.957,
          0.828,
          0.819,
          0.977,
          0.0427,
          0.815,
          0.16,
          0.101,
          0.342,
          0.911,
          0.162,
          0.689,
          0.00981,
          0.55,
          0.00331,
          0.95,
          0.703,
          0.799,
          0.43,
          0.604,
          0.913,
          0.473,
          0.726,
          0.765,
          0.253,
          0.791,
          0.692,
          0.99,
          0.808,
          0.99,
          0.0102,
          0.0726,
          0.496,
          0.0708,
          0.99,
          0.977,
          0.994,
          0.587,
          0.607,
          0.0123,
          0.916,
          0.548,
          0.937,
          0.85,
          0.214,
          0.00179,
          0.976,
          0.077,
          0.000452,
          0.563,
          0.206,
          0.071,
          0.329,
          0.811,
          0.759,
          0.89,
          0.00877,
          0.134,
          0.797,
          0.101,
          0.59,
          0.79,
          0.382,
          0.727,
          0.685,
          0.367,
          0.819,
          0.928,
          0.358,
          0.929,
          0.564,
          0.000671,
          0.993,
          0.872,
          0.983,
          0.148,
          0.934,
          0.569,
          0.0509,
          0.923,
          0.793,
          0.848,
          0.691,
          0.0831,
          0.172,
          0.592,
          0.711,
          0.634,
          0.95,
          0.899,
          0.319,
          0.961,
          0.779,
          0.918,
          0.221,
          0.000233,
          0.927,
          0.498,
          0.216,
          0.183,
          0.72,
          0.729,
          0.97,
          0.909,
          0.173,
          0.914,
          0.513,
          0.733,
          0.994,
          0.557,
          0.468,
          0.838,
          0.00151,
          0.843,
          0.59,
          0.525,
          0.901,
          0.291,
          0.932,
          0.978,
          0.994,
          0.0642,
          0.344,
          0.731,
          0.733,
          0.0303,
          0.736,
          0.427,
          0.0224,
          0.913,
          0.0577,
          0.52,
          0.0438,
          0.538,
          0.172,
          0.761,
          0.0378,
          0.0514,
          0.0854,
          0.963,
          0.648,
          0.764,
          0.3,
          0.00878,
          0.789,
          0.376,
          0.258,
          0.921,
          0.861,
          0.713,
          0.409,
          0.0539,
          0.292,
          0.545,
          0.542,
          0.981,
          0.643,
          0.969,
          0.459,
          0.993,
          0.873,
          0.99,
          0.864,
          0.251,
          0.707,
          0.55,
          0.023,
          0.639,
          0.735,
          0.538,
          0.249,
          0.179,
          0.252,
          0.213,
          0.139,
          0.624,
          0.0953,
          0.0134,
          0.182,
          0.123
         ]
        }
       ],
       "layout": {
        "coloraxis": {
         "colorbar": {
          "title": {
           "text": "label"
          }
         },
         "colorscale": [
          [
           0,
           "#0d0887"
          ],
          [
           0.1111111111111111,
           "#46039f"
          ],
          [
           0.2222222222222222,
           "#7201a8"
          ],
          [
           0.3333333333333333,
           "#9c179e"
          ],
          [
           0.4444444444444444,
           "#bd3786"
          ],
          [
           0.5555555555555556,
           "#d8576b"
          ],
          [
           0.6666666666666666,
           "#ed7953"
          ],
          [
           0.7777777777777778,
           "#fb9f3a"
          ],
          [
           0.8888888888888888,
           "#fdca26"
          ],
          [
           1,
           "#f0f921"
          ]
         ]
        },
        "legend": {
         "tracegroupgap": 0
        },
        "margin": {
         "t": 60
        },
        "scene": {
         "domain": {
          "x": [
           0,
           1
          ],
          "y": [
           0,
           1
          ]
         },
         "xaxis": {
          "title": {
           "text": "tempo"
          }
         },
         "yaxis": {
          "title": {
           "text": "danceability"
          }
         },
         "zaxis": {
          "title": {
           "text": "acousticness"
          }
         }
        },
        "template": {
         "data": {
          "bar": [
           {
            "error_x": {
             "color": "#2a3f5f"
            },
            "error_y": {
             "color": "#2a3f5f"
            },
            "marker": {
             "line": {
              "color": "#E5ECF6",
              "width": 0.5
             }
            },
            "type": "bar"
           }
          ],
          "barpolar": [
           {
            "marker": {
             "line": {
              "color": "#E5ECF6",
              "width": 0.5
             }
            },
            "type": "barpolar"
           }
          ],
          "carpet": [
           {
            "aaxis": {
             "endlinecolor": "#2a3f5f",
             "gridcolor": "white",
             "linecolor": "white",
             "minorgridcolor": "white",
             "startlinecolor": "#2a3f5f"
            },
            "baxis": {
             "endlinecolor": "#2a3f5f",
             "gridcolor": "white",
             "linecolor": "white",
             "minorgridcolor": "white",
             "startlinecolor": "#2a3f5f"
            },
            "type": "carpet"
           }
          ],
          "choropleth": [
           {
            "colorbar": {
             "outlinewidth": 0,
             "ticks": ""
            },
            "type": "choropleth"
           }
          ],
          "contour": [
           {
            "colorbar": {
             "outlinewidth": 0,
             "ticks": ""
            },
            "colorscale": [
             [
              0,
              "#0d0887"
             ],
             [
              0.1111111111111111,
              "#46039f"
             ],
             [
              0.2222222222222222,
              "#7201a8"
             ],
             [
              0.3333333333333333,
              "#9c179e"
             ],
             [
              0.4444444444444444,
              "#bd3786"
             ],
             [
              0.5555555555555556,
              "#d8576b"
             ],
             [
              0.6666666666666666,
              "#ed7953"
             ],
             [
              0.7777777777777778,
              "#fb9f3a"
             ],
             [
              0.8888888888888888,
              "#fdca26"
             ],
             [
              1,
              "#f0f921"
             ]
            ],
            "type": "contour"
           }
          ],
          "contourcarpet": [
           {
            "colorbar": {
             "outlinewidth": 0,
             "ticks": ""
            },
            "type": "contourcarpet"
           }
          ],
          "heatmap": [
           {
            "colorbar": {
             "outlinewidth": 0,
             "ticks": ""
            },
            "colorscale": [
             [
              0,
              "#0d0887"
             ],
             [
              0.1111111111111111,
              "#46039f"
             ],
             [
              0.2222222222222222,
              "#7201a8"
             ],
             [
              0.3333333333333333,
              "#9c179e"
             ],
             [
              0.4444444444444444,
              "#bd3786"
             ],
             [
              0.5555555555555556,
              "#d8576b"
             ],
             [
              0.6666666666666666,
              "#ed7953"
             ],
             [
              0.7777777777777778,
              "#fb9f3a"
             ],
             [
              0.8888888888888888,
              "#fdca26"
             ],
             [
              1,
              "#f0f921"
             ]
            ],
            "type": "heatmap"
           }
          ],
          "heatmapgl": [
           {
            "colorbar": {
             "outlinewidth": 0,
             "ticks": ""
            },
            "colorscale": [
             [
              0,
              "#0d0887"
             ],
             [
              0.1111111111111111,
              "#46039f"
             ],
             [
              0.2222222222222222,
              "#7201a8"
             ],
             [
              0.3333333333333333,
              "#9c179e"
             ],
             [
              0.4444444444444444,
              "#bd3786"
             ],
             [
              0.5555555555555556,
              "#d8576b"
             ],
             [
              0.6666666666666666,
              "#ed7953"
             ],
             [
              0.7777777777777778,
              "#fb9f3a"
             ],
             [
              0.8888888888888888,
              "#fdca26"
             ],
             [
              1,
              "#f0f921"
             ]
            ],
            "type": "heatmapgl"
           }
          ],
          "histogram": [
           {
            "marker": {
             "colorbar": {
              "outlinewidth": 0,
              "ticks": ""
             }
            },
            "type": "histogram"
           }
          ],
          "histogram2d": [
           {
            "colorbar": {
             "outlinewidth": 0,
             "ticks": ""
            },
            "colorscale": [
             [
              0,
              "#0d0887"
             ],
             [
              0.1111111111111111,
              "#46039f"
             ],
             [
              0.2222222222222222,
              "#7201a8"
             ],
             [
              0.3333333333333333,
              "#9c179e"
             ],
             [
              0.4444444444444444,
              "#bd3786"
             ],
             [
              0.5555555555555556,
              "#d8576b"
             ],
             [
              0.6666666666666666,
              "#ed7953"
             ],
             [
              0.7777777777777778,
              "#fb9f3a"
             ],
             [
              0.8888888888888888,
              "#fdca26"
             ],
             [
              1,
              "#f0f921"
             ]
            ],
            "type": "histogram2d"
           }
          ],
          "histogram2dcontour": [
           {
            "colorbar": {
             "outlinewidth": 0,
             "ticks": ""
            },
            "colorscale": [
             [
              0,
              "#0d0887"
             ],
             [
              0.1111111111111111,
              "#46039f"
             ],
             [
              0.2222222222222222,
              "#7201a8"
             ],
             [
              0.3333333333333333,
              "#9c179e"
             ],
             [
              0.4444444444444444,
              "#bd3786"
             ],
             [
              0.5555555555555556,
              "#d8576b"
             ],
             [
              0.6666666666666666,
              "#ed7953"
             ],
             [
              0.7777777777777778,
              "#fb9f3a"
             ],
             [
              0.8888888888888888,
              "#fdca26"
             ],
             [
              1,
              "#f0f921"
             ]
            ],
            "type": "histogram2dcontour"
           }
          ],
          "mesh3d": [
           {
            "colorbar": {
             "outlinewidth": 0,
             "ticks": ""
            },
            "type": "mesh3d"
           }
          ],
          "parcoords": [
           {
            "line": {
             "colorbar": {
              "outlinewidth": 0,
              "ticks": ""
             }
            },
            "type": "parcoords"
           }
          ],
          "pie": [
           {
            "automargin": true,
            "type": "pie"
           }
          ],
          "scatter": [
           {
            "marker": {
             "colorbar": {
              "outlinewidth": 0,
              "ticks": ""
             }
            },
            "type": "scatter"
           }
          ],
          "scatter3d": [
           {
            "line": {
             "colorbar": {
              "outlinewidth": 0,
              "ticks": ""
             }
            },
            "marker": {
             "colorbar": {
              "outlinewidth": 0,
              "ticks": ""
             }
            },
            "type": "scatter3d"
           }
          ],
          "scattercarpet": [
           {
            "marker": {
             "colorbar": {
              "outlinewidth": 0,
              "ticks": ""
             }
            },
            "type": "scattercarpet"
           }
          ],
          "scattergeo": [
           {
            "marker": {
             "colorbar": {
              "outlinewidth": 0,
              "ticks": ""
             }
            },
            "type": "scattergeo"
           }
          ],
          "scattergl": [
           {
            "marker": {
             "colorbar": {
              "outlinewidth": 0,
              "ticks": ""
             }
            },
            "type": "scattergl"
           }
          ],
          "scattermapbox": [
           {
            "marker": {
             "colorbar": {
              "outlinewidth": 0,
              "ticks": ""
             }
            },
            "type": "scattermapbox"
           }
          ],
          "scatterpolar": [
           {
            "marker": {
             "colorbar": {
              "outlinewidth": 0,
              "ticks": ""
             }
            },
            "type": "scatterpolar"
           }
          ],
          "scatterpolargl": [
           {
            "marker": {
             "colorbar": {
              "outlinewidth": 0,
              "ticks": ""
             }
            },
            "type": "scatterpolargl"
           }
          ],
          "scatterternary": [
           {
            "marker": {
             "colorbar": {
              "outlinewidth": 0,
              "ticks": ""
             }
            },
            "type": "scatterternary"
           }
          ],
          "surface": [
           {
            "colorbar": {
             "outlinewidth": 0,
             "ticks": ""
            },
            "colorscale": [
             [
              0,
              "#0d0887"
             ],
             [
              0.1111111111111111,
              "#46039f"
             ],
             [
              0.2222222222222222,
              "#7201a8"
             ],
             [
              0.3333333333333333,
              "#9c179e"
             ],
             [
              0.4444444444444444,
              "#bd3786"
             ],
             [
              0.5555555555555556,
              "#d8576b"
             ],
             [
              0.6666666666666666,
              "#ed7953"
             ],
             [
              0.7777777777777778,
              "#fb9f3a"
             ],
             [
              0.8888888888888888,
              "#fdca26"
             ],
             [
              1,
              "#f0f921"
             ]
            ],
            "type": "surface"
           }
          ],
          "table": [
           {
            "cells": {
             "fill": {
              "color": "#EBF0F8"
             },
             "line": {
              "color": "white"
             }
            },
            "header": {
             "fill": {
              "color": "#C8D4E3"
             },
             "line": {
              "color": "white"
             }
            },
            "type": "table"
           }
          ]
         },
         "layout": {
          "annotationdefaults": {
           "arrowcolor": "#2a3f5f",
           "arrowhead": 0,
           "arrowwidth": 1
          },
          "coloraxis": {
           "colorbar": {
            "outlinewidth": 0,
            "ticks": ""
           }
          },
          "colorscale": {
           "diverging": [
            [
             0,
             "#8e0152"
            ],
            [
             0.1,
             "#c51b7d"
            ],
            [
             0.2,
             "#de77ae"
            ],
            [
             0.3,
             "#f1b6da"
            ],
            [
             0.4,
             "#fde0ef"
            ],
            [
             0.5,
             "#f7f7f7"
            ],
            [
             0.6,
             "#e6f5d0"
            ],
            [
             0.7,
             "#b8e186"
            ],
            [
             0.8,
             "#7fbc41"
            ],
            [
             0.9,
             "#4d9221"
            ],
            [
             1,
             "#276419"
            ]
           ],
           "sequential": [
            [
             0,
             "#0d0887"
            ],
            [
             0.1111111111111111,
             "#46039f"
            ],
            [
             0.2222222222222222,
             "#7201a8"
            ],
            [
             0.3333333333333333,
             "#9c179e"
            ],
            [
             0.4444444444444444,
             "#bd3786"
            ],
            [
             0.5555555555555556,
             "#d8576b"
            ],
            [
             0.6666666666666666,
             "#ed7953"
            ],
            [
             0.7777777777777778,
             "#fb9f3a"
            ],
            [
             0.8888888888888888,
             "#fdca26"
            ],
            [
             1,
             "#f0f921"
            ]
           ],
           "sequentialminus": [
            [
             0,
             "#0d0887"
            ],
            [
             0.1111111111111111,
             "#46039f"
            ],
            [
             0.2222222222222222,
             "#7201a8"
            ],
            [
             0.3333333333333333,
             "#9c179e"
            ],
            [
             0.4444444444444444,
             "#bd3786"
            ],
            [
             0.5555555555555556,
             "#d8576b"
            ],
            [
             0.6666666666666666,
             "#ed7953"
            ],
            [
             0.7777777777777778,
             "#fb9f3a"
            ],
            [
             0.8888888888888888,
             "#fdca26"
            ],
            [
             1,
             "#f0f921"
            ]
           ]
          },
          "colorway": [
           "#636efa",
           "#EF553B",
           "#00cc96",
           "#ab63fa",
           "#FFA15A",
           "#19d3f3",
           "#FF6692",
           "#B6E880",
           "#FF97FF",
           "#FECB52"
          ],
          "font": {
           "color": "#2a3f5f"
          },
          "geo": {
           "bgcolor": "white",
           "lakecolor": "white",
           "landcolor": "#E5ECF6",
           "showlakes": true,
           "showland": true,
           "subunitcolor": "white"
          },
          "hoverlabel": {
           "align": "left"
          },
          "hovermode": "closest",
          "mapbox": {
           "style": "light"
          },
          "paper_bgcolor": "white",
          "plot_bgcolor": "#E5ECF6",
          "polar": {
           "angularaxis": {
            "gridcolor": "white",
            "linecolor": "white",
            "ticks": ""
           },
           "bgcolor": "#E5ECF6",
           "radialaxis": {
            "gridcolor": "white",
            "linecolor": "white",
            "ticks": ""
           }
          },
          "scene": {
           "xaxis": {
            "backgroundcolor": "#E5ECF6",
            "gridcolor": "white",
            "gridwidth": 2,
            "linecolor": "white",
            "showbackground": true,
            "ticks": "",
            "zerolinecolor": "white"
           },
           "yaxis": {
            "backgroundcolor": "#E5ECF6",
            "gridcolor": "white",
            "gridwidth": 2,
            "linecolor": "white",
            "showbackground": true,
            "ticks": "",
            "zerolinecolor": "white"
           },
           "zaxis": {
            "backgroundcolor": "#E5ECF6",
            "gridcolor": "white",
            "gridwidth": 2,
            "linecolor": "white",
            "showbackground": true,
            "ticks": "",
            "zerolinecolor": "white"
           }
          },
          "shapedefaults": {
           "line": {
            "color": "#2a3f5f"
           }
          },
          "ternary": {
           "aaxis": {
            "gridcolor": "white",
            "linecolor": "white",
            "ticks": ""
           },
           "baxis": {
            "gridcolor": "white",
            "linecolor": "white",
            "ticks": ""
           },
           "bgcolor": "#E5ECF6",
           "caxis": {
            "gridcolor": "white",
            "linecolor": "white",
            "ticks": ""
           }
          },
          "title": {
           "x": 0.05
          },
          "xaxis": {
           "automargin": true,
           "gridcolor": "white",
           "linecolor": "white",
           "ticks": "",
           "title": {
            "standoff": 15
           },
           "zerolinecolor": "white",
           "zerolinewidth": 2
          },
          "yaxis": {
           "automargin": true,
           "gridcolor": "white",
           "linecolor": "white",
           "ticks": "",
           "title": {
            "standoff": 15
           },
           "zerolinecolor": "white",
           "zerolinewidth": 2
          }
         }
        }
       }
      }
     },
     "metadata": {},
     "output_type": "display_data"
    }
   ],
   "source": [
    "import plotly.express as px\n",
    "fig = px.scatter_3d(data_to_ml2,\n",
    "                    x='tempo',\n",
    "                    y='danceability',\n",
    "                    z='acousticness',\n",
    "                    color = 'label',\n",
    "                    opacity=0.8,\n",
    "                    size_max=5)\n",
    "fig.show()"
   ]
  },
  {
   "cell_type": "code",
   "execution_count": 158,
   "metadata": {
    "scrolled": false
   },
   "outputs": [
    {
     "data": {
      "text/plain": [
       "label\n",
       "0    20\n",
       "1    21\n",
       "2    23\n",
       "3    30\n",
       "4     6\n",
       "Name: label, dtype: int64"
      ]
     },
     "execution_count": 158,
     "metadata": {},
     "output_type": "execute_result"
    }
   ],
   "source": [
    "labeled_data.groupby('label').label.count()"
   ]
  },
  {
   "cell_type": "code",
   "execution_count": 144,
   "metadata": {
    "scrolled": true
   },
   "outputs": [
    {
     "data": {
      "text/html": [
       "<div>\n",
       "<style scoped>\n",
       "    .dataframe tbody tr th:only-of-type {\n",
       "        vertical-align: middle;\n",
       "    }\n",
       "\n",
       "    .dataframe tbody tr th {\n",
       "        vertical-align: top;\n",
       "    }\n",
       "\n",
       "    .dataframe thead th {\n",
       "        text-align: right;\n",
       "    }\n",
       "</style>\n",
       "<table border=\"1\" class=\"dataframe\">\n",
       "  <thead>\n",
       "    <tr style=\"text-align: right;\">\n",
       "      <th></th>\n",
       "      <th>danceability</th>\n",
       "      <th>energy</th>\n",
       "      <th>key</th>\n",
       "      <th>loudness</th>\n",
       "      <th>mode</th>\n",
       "      <th>speechiness</th>\n",
       "      <th>acousticness</th>\n",
       "      <th>instrumentalness</th>\n",
       "      <th>liveness</th>\n",
       "      <th>valence</th>\n",
       "      <th>tempo</th>\n",
       "    </tr>\n",
       "    <tr>\n",
       "      <th>label</th>\n",
       "      <th></th>\n",
       "      <th></th>\n",
       "      <th></th>\n",
       "      <th></th>\n",
       "      <th></th>\n",
       "      <th></th>\n",
       "      <th></th>\n",
       "      <th></th>\n",
       "      <th></th>\n",
       "      <th></th>\n",
       "      <th></th>\n",
       "    </tr>\n",
       "  </thead>\n",
       "  <tbody>\n",
       "    <tr>\n",
       "      <td>0</td>\n",
       "      <td>0.559550</td>\n",
       "      <td>0.662857</td>\n",
       "      <td>0.063636</td>\n",
       "      <td>0.834322</td>\n",
       "      <td>1.000000</td>\n",
       "      <td>0.073589</td>\n",
       "      <td>0.379226</td>\n",
       "      <td>0.014572</td>\n",
       "      <td>0.160073</td>\n",
       "      <td>0.587305</td>\n",
       "      <td>0.457331</td>\n",
       "    </tr>\n",
       "    <tr>\n",
       "      <td>1</td>\n",
       "      <td>0.643539</td>\n",
       "      <td>0.724510</td>\n",
       "      <td>0.675325</td>\n",
       "      <td>0.826901</td>\n",
       "      <td>1.000000</td>\n",
       "      <td>0.132885</td>\n",
       "      <td>0.197166</td>\n",
       "      <td>0.041316</td>\n",
       "      <td>0.106719</td>\n",
       "      <td>0.516384</td>\n",
       "      <td>0.482555</td>\n",
       "    </tr>\n",
       "    <tr>\n",
       "      <td>2</td>\n",
       "      <td>0.636811</td>\n",
       "      <td>0.498910</td>\n",
       "      <td>0.557312</td>\n",
       "      <td>0.737539</td>\n",
       "      <td>0.000000</td>\n",
       "      <td>0.185321</td>\n",
       "      <td>0.482431</td>\n",
       "      <td>0.000390</td>\n",
       "      <td>0.136914</td>\n",
       "      <td>0.445645</td>\n",
       "      <td>0.393417</td>\n",
       "    </tr>\n",
       "    <tr>\n",
       "      <td>3</td>\n",
       "      <td>0.489677</td>\n",
       "      <td>0.301854</td>\n",
       "      <td>0.536364</td>\n",
       "      <td>0.653334</td>\n",
       "      <td>1.000000</td>\n",
       "      <td>0.074026</td>\n",
       "      <td>0.659232</td>\n",
       "      <td>0.017131</td>\n",
       "      <td>0.112957</td>\n",
       "      <td>0.267461</td>\n",
       "      <td>0.403320</td>\n",
       "    </tr>\n",
       "    <tr>\n",
       "      <td>4</td>\n",
       "      <td>0.202137</td>\n",
       "      <td>0.084556</td>\n",
       "      <td>0.287879</td>\n",
       "      <td>0.253095</td>\n",
       "      <td>0.666667</td>\n",
       "      <td>0.080693</td>\n",
       "      <td>0.965425</td>\n",
       "      <td>0.940527</td>\n",
       "      <td>0.098848</td>\n",
       "      <td>0.127498</td>\n",
       "      <td>0.368126</td>\n",
       "    </tr>\n",
       "  </tbody>\n",
       "</table>\n",
       "</div>"
      ],
      "text/plain": [
       "       danceability    energy       key  loudness      mode  speechiness  \\\n",
       "label                                                                      \n",
       "0          0.559550  0.662857  0.063636  0.834322  1.000000     0.073589   \n",
       "1          0.643539  0.724510  0.675325  0.826901  1.000000     0.132885   \n",
       "2          0.636811  0.498910  0.557312  0.737539  0.000000     0.185321   \n",
       "3          0.489677  0.301854  0.536364  0.653334  1.000000     0.074026   \n",
       "4          0.202137  0.084556  0.287879  0.253095  0.666667     0.080693   \n",
       "\n",
       "       acousticness  instrumentalness  liveness   valence     tempo  \n",
       "label                                                                \n",
       "0          0.379226          0.014572  0.160073  0.587305  0.457331  \n",
       "1          0.197166          0.041316  0.106719  0.516384  0.482555  \n",
       "2          0.482431          0.000390  0.136914  0.445645  0.393417  \n",
       "3          0.659232          0.017131  0.112957  0.267461  0.403320  \n",
       "4          0.965425          0.940527  0.098848  0.127498  0.368126  "
      ]
     },
     "execution_count": 144,
     "metadata": {},
     "output_type": "execute_result"
    }
   ],
   "source": [
    "clustering = labeled_data.drop(columns = 'id', axis = 1)\\\n",
    "    .groupby('label') \\\n",
    "    .agg('mean')\n",
    "\n",
    "clustering"
   ]
  },
  {
   "cell_type": "code",
   "execution_count": 86,
   "metadata": {},
   "outputs": [],
   "source": [
    "two_d_data = labeled_data[['danceability','instrumentalness']]"
   ]
  },
  {
   "cell_type": "code",
   "execution_count": 140,
   "metadata": {},
   "outputs": [
    {
     "data": {
      "text/plain": [
       "<bound method SeriesGroupBy.count of <pandas.core.groupby.generic.SeriesGroupBy object at 0x1a20f0aa90>>"
      ]
     },
     "execution_count": 140,
     "metadata": {},
     "output_type": "execute_result"
    }
   ],
   "source": [
    "grouping"
   ]
  },
  {
   "cell_type": "code",
   "execution_count": 93,
   "metadata": {},
   "outputs": [
    {
     "data": {
      "text/plain": [
       "<matplotlib.axes._subplots.AxesSubplot at 0x1a1f9ab5d0>"
      ]
     },
     "execution_count": 93,
     "metadata": {},
     "output_type": "execute_result"
    },
    {
     "data": {
      "image/png": "[encoded data removed]",
      "text/plain": [
       "<Figure size 432x288 with 1 Axes>"
      ]
     },
     "metadata": {
      "image/png": {
       "height": 261,
       "width": 385
      },
      "needs_background": "light"
     },
     "output_type": "display_data"
    }
   ],
   "source": [
    "two_d_data.plot(kind='scatter', x='danceability',y='instrumentalness')"
   ]
  },
  {
   "cell_type": "code",
   "execution_count": 66,
   "metadata": {},
   "outputs": [],
   "source": [
    "# Applying MeanShift Clusterng to the dataset\n",
    "\n",
    "from sklearn.cluster import MeanShift\n",
    "from sklearn.datasets.samples_generator import make_blobs\n",
    "from matplotlib import pyplot as plt\n",
    "from mpl_toolkits.mplot3d import Axes3D\n",
    "\n",
    "ms = MeanShift()\n",
    "model = ms.fit(data)\n",
    "cluster_centers = ms.cluster_centers_"
   ]
  },
  {
   "cell_type": "code",
   "execution_count": 63,
   "metadata": {},
   "outputs": [
    {
     "data": {
      "text/plain": [
       "array([[ 5.78180000e-01,  5.00884000e-01, -9.87558000e+00,\n",
       "         4.21480000e-02,  4.55933800e-01,  4.91945782e-02,\n",
       "         1.74984000e-01,  4.17200000e-01,  1.20507820e+02,\n",
       "         2.76000000e+00],\n",
       "       [ 5.06696970e-01,  4.52381818e-01, -9.86333333e+00,\n",
       "         4.84151515e-02,  5.25584242e-01,  6.45793127e-02,\n",
       "         1.45803030e-01,  3.62233333e-01,  8.77656364e+01,\n",
       "         1.45454545e+00],\n",
       "       [ 4.50600000e-01,  4.60300000e-01, -8.33000000e+00,\n",
       "         8.76300000e-02,  5.54890000e-01,  1.41988000e-04,\n",
       "         2.58750000e-01,  4.97340000e-01,  1.75439200e+02,\n",
       "         2.60000000e+00]])"
      ]
     },
     "execution_count": 63,
     "metadata": {},
     "output_type": "execute_result"
    }
   ],
   "source": [
    "cluster_centers"
   ]
  },
  {
   "cell_type": "code",
   "execution_count": 64,
   "metadata": {},
   "outputs": [],
   "source": [
    "ms_clusters = ms.fit_predict(data)"
   ]
  },
  {
   "cell_type": "code",
   "execution_count": 67,
   "metadata": {},
   "outputs": [
    {
     "data": {
      "text/plain": [
       "MeanShift(bandwidth=None, bin_seeding=False, cluster_all=True, min_bin_freq=1,\n",
       "          n_jobs=None, seeds=None)"
      ]
     },
     "execution_count": 67,
     "metadata": {},
     "output_type": "execute_result"
    }
   ],
   "source": [
    "model"
   ]
  },
  {
   "cell_type": "code",
   "execution_count": null,
   "metadata": {},
   "outputs": [],
   "source": []
  }
 ],
 "metadata": {
  "interpreter": {
   "hash": "40d3a090f54c6569ab1632332b64b2c03c39dcf918b08424e98f38b5ae0af88f"
  },
  "kernelspec": {
   "display_name": "Python 3.7.4 64-bit ('base': conda)",
   "name": "python3"
  },
  "language_info": {
   "codemirror_mode": {
    "name": "ipython",
    "version": 3
   },
   "file_extension": ".py",
   "mimetype": "text/x-python",
   "name": "python",
   "nbconvert_exporter": "python",
   "pygments_lexer": "ipython3",
   "version": "3.7.4"
  }
 },
 "nbformat": 4,
 "nbformat_minor": 2
}
